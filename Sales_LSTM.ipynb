{
  "nbformat": 4,
  "nbformat_minor": 0,
  "metadata": {
    "colab": {
      "name": "Sales LSTM",
      "provenance": [],
      "collapsed_sections": []
    },
    "kernelspec": {
      "name": "python3",
      "display_name": "Python 3"
    },
    "accelerator": "GPU"
  },
  "cells": [
    {
      "cell_type": "markdown",
      "metadata": {
        "id": "JZvCM4sBFCkN",
        "colab_type": "text"
      },
      "source": [
        "#Sales Forecasting in a Logistic Company: A Deep Learning Approach"
      ]
    },
    {
      "cell_type": "markdown",
      "metadata": {
        "id": "thufs7Z_Lea0",
        "colab_type": "text"
      },
      "source": [
        "This project aims to predict the daily demand of sales of a Brazilian Logistic Company. We use the information of the last 5 days of sales, for estimate the next daily sales. The data includes 60 days of the company operations. Also, it includes various features as the date and the sub classification of sales (non-urgent, urgent, type A, type B, type C)."
      ]
    },
    {
      "cell_type": "markdown",
      "metadata": {
        "id": "n2CGaj3JLiC5",
        "colab_type": "text"
      },
      "source": [
        "For modeling this phenomenon, we use Artificial Neural Networks (ANN). Specifically, we use a Multi-Layer Perceptron (MLP) as a baseline model. On the other hand, we use a Long Short-Term Memory (LSTM) Neural Network for trying to beating the performance of the baseline. The former Neural Network is very useful when we dealing with temporal data such as this dataset."
      ]
    },
    {
      "cell_type": "markdown",
      "metadata": {
        "id": "yfM5LsJgLkhi",
        "colab_type": "text"
      },
      "source": [
        "Sales Forecasting is a typical operation management problem. Traditional approaches (time series forecasting) might include Econometrics and Statistical models such as SMA, ARIMA etc. Although in real application these techniques work fairly well, it is worth exploring new approaches such the present, in order to improve the accuracy of the forecasting and enhancing the operational planning. "
      ]
    },
    {
      "cell_type": "markdown",
      "metadata": {
        "id": "qiXTziUXNr0F",
        "colab_type": "text"
      },
      "source": [
        "###Content:\n",
        "###1. Getting started\n",
        "###2. Function for split the squences\n",
        "###3. Data exploration\n",
        "###4. Artificial Neural Networks (ANN)\n",
        "###5. Long Short-Term Memory (LSTM) Neural Networks"
      ]
    },
    {
      "cell_type": "markdown",
      "metadata": {
        "id": "cz6ttSnzBqvo",
        "colab_type": "text"
      },
      "source": [
        "#1. Getting started"
      ]
    },
    {
      "cell_type": "code",
      "metadata": {
        "id": "CQEd5hwOFAHO",
        "colab_type": "code",
        "colab": {}
      },
      "source": [
        "#Libraries\n",
        "\n",
        "#Data wrangling\n",
        "import pandas as pd\n",
        "import numpy as np\n",
        "\n",
        "#Visualization\n",
        "import matplotlib.pyplot as plt\n",
        "\n",
        "#Preprocessing\n",
        "from sklearn.model_selection import train_test_split\n",
        "from sklearn.preprocessing import StandardScaler"
      ],
      "execution_count": 0,
      "outputs": []
    },
    {
      "cell_type": "code",
      "metadata": {
        "id": "E9A-nZeJ2Nqw",
        "colab_type": "code",
        "outputId": "06259f5a-a61e-4772-dbe8-0a031ac6920a",
        "colab": {
          "base_uri": "https://localhost:8080/",
          "height": 153
        }
      },
      "source": [
        "#Upgrading Keras\n",
        "pip install -U keras"
      ],
      "execution_count": 2,
      "outputs": [
        {
          "output_type": "stream",
          "text": [
            "Requirement already up-to-date: keras in /usr/local/lib/python3.6/dist-packages (2.3.1)\n",
            "Requirement already satisfied, skipping upgrade: keras-preprocessing>=1.0.5 in /usr/local/lib/python3.6/dist-packages (from keras) (1.1.0)\n",
            "Requirement already satisfied, skipping upgrade: scipy>=0.14 in /usr/local/lib/python3.6/dist-packages (from keras) (1.4.1)\n",
            "Requirement already satisfied, skipping upgrade: six>=1.9.0 in /usr/local/lib/python3.6/dist-packages (from keras) (1.12.0)\n",
            "Requirement already satisfied, skipping upgrade: keras-applications>=1.0.6 in /usr/local/lib/python3.6/dist-packages (from keras) (1.0.8)\n",
            "Requirement already satisfied, skipping upgrade: numpy>=1.9.1 in /usr/local/lib/python3.6/dist-packages (from keras) (1.18.3)\n",
            "Requirement already satisfied, skipping upgrade: pyyaml in /usr/local/lib/python3.6/dist-packages (from keras) (3.13)\n",
            "Requirement already satisfied, skipping upgrade: h5py in /usr/local/lib/python3.6/dist-packages (from keras) (2.10.0)\n"
          ],
          "name": "stdout"
        }
      ]
    },
    {
      "cell_type": "code",
      "metadata": {
        "id": "A7nu65mI2Pkf",
        "colab_type": "code",
        "outputId": "f39015c5-8544-4b7a-b054-005bf7093ca8",
        "colab": {
          "base_uri": "https://localhost:8080/",
          "height": 34
        }
      },
      "source": [
        "#Keras models \n",
        "from keras.models import Sequential\n",
        "from keras.layers import Dense\n",
        "from keras.layers import Dropout\n",
        "from keras.layers import Flatten\n",
        "from keras.utils import plot_model\n",
        "from keras.utils import model_to_dot\n",
        "from keras.layers import LSTM"
      ],
      "execution_count": 3,
      "outputs": [
        {
          "output_type": "stream",
          "text": [
            "Using TensorFlow backend.\n"
          ],
          "name": "stderr"
        }
      ]
    },
    {
      "cell_type": "code",
      "metadata": {
        "id": "G-ju48B6FpCB",
        "colab_type": "code",
        "colab": {}
      },
      "source": [
        "#Displaying images in the notebook \n",
        "from IPython.display import Image "
      ],
      "execution_count": 0,
      "outputs": []
    },
    {
      "cell_type": "markdown",
      "metadata": {
        "id": "6oQOQThlBugP",
        "colab_type": "text"
      },
      "source": [
        "#2. Function for split the sequences"
      ]
    },
    {
      "cell_type": "code",
      "metadata": {
        "id": "LOKU_rnM2Rzf",
        "colab_type": "code",
        "colab": {}
      },
      "source": [
        "# This function is used for split a univariate sequence into samples\n",
        "def split_sequence(sequence, n_steps):\n",
        "\n",
        "\tX, y = list(), list()\n",
        " \n",
        "\tfor i in range(len(sequence)):\n",
        "\t\tend_ix = i + n_steps\n",
        "\n",
        "\t\tif end_ix > len(sequence)-1:\n",
        "\t\t\tbreak\n",
        "\t\t\t\n",
        "\t\tseq_x, seq_y = sequence[i:end_ix], sequence[end_ix]\n",
        "\t\tX.append(seq_x)\n",
        "\t\ty.append(seq_y)\n",
        "\t\n",
        "\treturn np.array(X), np.array(y)"
      ],
      "execution_count": 0,
      "outputs": []
    },
    {
      "cell_type": "markdown",
      "metadata": {
        "id": "8SH_2v_YB0d-",
        "colab_type": "text"
      },
      "source": [
        "#3. Data exploration"
      ]
    },
    {
      "cell_type": "code",
      "metadata": {
        "id": "7SFYeVG92ST_",
        "colab_type": "code",
        "colab": {}
      },
      "source": [
        "#Importing the dataset\n",
        "url_dataset = \"https://raw.githubusercontent.com/Dedox-tech/Dataset/master/sales%20forecasting_final.csv\""
      ],
      "execution_count": 0,
      "outputs": []
    },
    {
      "cell_type": "code",
      "metadata": {
        "id": "Oy7XvtWWJrkx",
        "colab_type": "code",
        "colab": {}
      },
      "source": [
        "#Reading the dataset\n",
        "dataset = pd.read_csv(url_dataset, sep = \",\", header = None, names = [\"Month\", \"Week\", \"Day\", \"Non-Urgent\", \"Urgent\", \"Type A\", \"Type B\", \"Type C\", \"Fiscal\", \"Traffic Controller\", \"Banking 1\", \"Banking 2\", \"Banking 3\", \"Sales\"])"
      ],
      "execution_count": 0,
      "outputs": []
    },
    {
      "cell_type": "code",
      "metadata": {
        "id": "0USeg9Fv2een",
        "colab_type": "code",
        "outputId": "4bc129b9-1bb7-4b3e-eb81-13dde5623d6c",
        "colab": {
          "base_uri": "https://localhost:8080/",
          "height": 204
        }
      },
      "source": [
        "#Showing the dataset\n",
        "dataset.head()"
      ],
      "execution_count": 8,
      "outputs": [
        {
          "output_type": "execute_result",
          "data": {
            "text/html": [
              "<div>\n",
              "<style scoped>\n",
              "    .dataframe tbody tr th:only-of-type {\n",
              "        vertical-align: middle;\n",
              "    }\n",
              "\n",
              "    .dataframe tbody tr th {\n",
              "        vertical-align: top;\n",
              "    }\n",
              "\n",
              "    .dataframe thead th {\n",
              "        text-align: right;\n",
              "    }\n",
              "</style>\n",
              "<table border=\"1\" class=\"dataframe\">\n",
              "  <thead>\n",
              "    <tr style=\"text-align: right;\">\n",
              "      <th></th>\n",
              "      <th>Month</th>\n",
              "      <th>Week</th>\n",
              "      <th>Day</th>\n",
              "      <th>Non-Urgent</th>\n",
              "      <th>Urgent</th>\n",
              "      <th>Type A</th>\n",
              "      <th>Type B</th>\n",
              "      <th>Type C</th>\n",
              "      <th>Fiscal</th>\n",
              "      <th>Traffic Controller</th>\n",
              "      <th>Banking 1</th>\n",
              "      <th>Banking 2</th>\n",
              "      <th>Banking 3</th>\n",
              "      <th>Sales</th>\n",
              "    </tr>\n",
              "  </thead>\n",
              "  <tbody>\n",
              "    <tr>\n",
              "      <th>0</th>\n",
              "      <td>1.0</td>\n",
              "      <td>1</td>\n",
              "      <td>4</td>\n",
              "      <td>316307</td>\n",
              "      <td>223270</td>\n",
              "      <td>61543</td>\n",
              "      <td>175586</td>\n",
              "      <td>302448</td>\n",
              "      <td>0</td>\n",
              "      <td>65556</td>\n",
              "      <td>44914</td>\n",
              "      <td>188411</td>\n",
              "      <td>14793</td>\n",
              "      <td>539577</td>\n",
              "    </tr>\n",
              "    <tr>\n",
              "      <th>1</th>\n",
              "      <td>1.0</td>\n",
              "      <td>1</td>\n",
              "      <td>5</td>\n",
              "      <td>128633</td>\n",
              "      <td>96042</td>\n",
              "      <td>38058</td>\n",
              "      <td>56037</td>\n",
              "      <td>130580</td>\n",
              "      <td>0</td>\n",
              "      <td>40419</td>\n",
              "      <td>21399</td>\n",
              "      <td>89461</td>\n",
              "      <td>7679</td>\n",
              "      <td>224675</td>\n",
              "    </tr>\n",
              "    <tr>\n",
              "      <th>2</th>\n",
              "      <td>1.0</td>\n",
              "      <td>1</td>\n",
              "      <td>6</td>\n",
              "      <td>43651</td>\n",
              "      <td>84375</td>\n",
              "      <td>21826</td>\n",
              "      <td>25125</td>\n",
              "      <td>82461</td>\n",
              "      <td>1386</td>\n",
              "      <td>11992</td>\n",
              "      <td>3452</td>\n",
              "      <td>21305</td>\n",
              "      <td>14947</td>\n",
              "      <td>129412</td>\n",
              "    </tr>\n",
              "    <tr>\n",
              "      <th>3</th>\n",
              "      <td>1.0</td>\n",
              "      <td>2</td>\n",
              "      <td>2</td>\n",
              "      <td>171297</td>\n",
              "      <td>127667</td>\n",
              "      <td>41542</td>\n",
              "      <td>113294</td>\n",
              "      <td>162284</td>\n",
              "      <td>18156</td>\n",
              "      <td>49971</td>\n",
              "      <td>33703</td>\n",
              "      <td>69054</td>\n",
              "      <td>18423</td>\n",
              "      <td>317120</td>\n",
              "    </tr>\n",
              "    <tr>\n",
              "      <th>4</th>\n",
              "      <td>1.0</td>\n",
              "      <td>2</td>\n",
              "      <td>3</td>\n",
              "      <td>90532</td>\n",
              "      <td>113526</td>\n",
              "      <td>37679</td>\n",
              "      <td>56618</td>\n",
              "      <td>116220</td>\n",
              "      <td>6459</td>\n",
              "      <td>48534</td>\n",
              "      <td>19646</td>\n",
              "      <td>16411</td>\n",
              "      <td>20257</td>\n",
              "      <td>210517</td>\n",
              "    </tr>\n",
              "  </tbody>\n",
              "</table>\n",
              "</div>"
            ],
            "text/plain": [
              "   Month  Week  Day  Non-Urgent  ...  Banking 1  Banking 2  Banking 3   Sales\n",
              "0    1.0     1    4      316307  ...      44914     188411      14793  539577\n",
              "1    1.0     1    5      128633  ...      21399      89461       7679  224675\n",
              "2    1.0     1    6       43651  ...       3452      21305      14947  129412\n",
              "3    1.0     2    2      171297  ...      33703      69054      18423  317120\n",
              "4    1.0     2    3       90532  ...      19646      16411      20257  210517\n",
              "\n",
              "[5 rows x 14 columns]"
            ]
          },
          "metadata": {
            "tags": []
          },
          "execution_count": 8
        }
      ]
    },
    {
      "cell_type": "code",
      "metadata": {
        "id": "SBwSFYOn2rzG",
        "colab_type": "code",
        "outputId": "7ac890b7-aa19-40e6-8cc6-d4ad39aeae1e",
        "colab": {
          "base_uri": "https://localhost:8080/",
          "height": 353
        }
      },
      "source": [
        "#Plotting the target\n",
        "dataset[\"Sales\"].plot(kind=\"line\", color = \"blue\", figsize = (5,5), title = \"Real Daily Sales\")"
      ],
      "execution_count": 9,
      "outputs": [
        {
          "output_type": "execute_result",
          "data": {
            "text/plain": [
              "<matplotlib.axes._subplots.AxesSubplot at 0x7fd054cb51d0>"
            ]
          },
          "metadata": {
            "tags": []
          },
          "execution_count": 9
        },
        {
          "output_type": "display_data",
          "data": {
            "image/png": "[encoded data removed]",
            "text/plain": [
              "<Figure size 360x360 with 1 Axes>"
            ]
          },
          "metadata": {
            "tags": [],
            "needs_background": "light"
          }
        }
      ]
    },
    {
      "cell_type": "markdown",
      "metadata": {
        "id": "dh-a_I4QB5_r",
        "colab_type": "text"
      },
      "source": [
        "#4. Artificial Neural Networks (ANN)"
      ]
    },
    {
      "cell_type": "markdown",
      "metadata": {
        "id": "0xgsxfH8CEp3",
        "colab_type": "text"
      },
      "source": [
        "#4.1 Preprocessing"
      ]
    },
    {
      "cell_type": "code",
      "metadata": {
        "id": "kUDdc_Dp-p5_",
        "colab_type": "code",
        "colab": {}
      },
      "source": [
        "#Input of the function\n",
        "sequence_MLP = dataset[\"Sales\"]\n",
        "\n",
        "#Input of the function\n",
        "steps_MLP = 5\n",
        "\n",
        "#Spliting the sequence in the right format\n",
        "X_MLP, y_MLP = split_sequence(sequence = sequence_MLP, n_steps = steps_MLP)"
      ],
      "execution_count": 0,
      "outputs": []
    },
    {
      "cell_type": "code",
      "metadata": {
        "id": "NbepuZsG-qAR",
        "colab_type": "code",
        "colab": {}
      },
      "source": [
        "#Splitting the dataset in training and test\n",
        "X_train_MLP = X_MLP[:45,:]\n",
        "X_test_MLP = X_MLP[45:,:]"
      ],
      "execution_count": 0,
      "outputs": []
    },
    {
      "cell_type": "code",
      "metadata": {
        "id": "rXfhW7RJ-qDp",
        "colab_type": "code",
        "colab": {}
      },
      "source": [
        "#Splitting the dataset in training and test\n",
        "y_train_MLP = y_MLP[:45]\n",
        "y_test_MLP = y_MLP[45:]"
      ],
      "execution_count": 0,
      "outputs": []
    },
    {
      "cell_type": "code",
      "metadata": {
        "id": "2grH2Uuk-qJs",
        "colab_type": "code",
        "colab": {}
      },
      "source": [
        "#Scaler for standarzing with mean and bias\n",
        "scaler_MLP = StandardScaler()"
      ],
      "execution_count": 0,
      "outputs": []
    },
    {
      "cell_type": "code",
      "metadata": {
        "id": "TeUc2rh__VSL",
        "colab_type": "code",
        "outputId": "8782323c-d3a8-4337-c157-62699469e98a",
        "colab": {
          "base_uri": "https://localhost:8080/",
          "height": 34
        }
      },
      "source": [
        "#Using just the training set\n",
        "scaler_MLP.fit(X_train_MLP)"
      ],
      "execution_count": 14,
      "outputs": [
        {
          "output_type": "execute_result",
          "data": {
            "text/plain": [
              "StandardScaler(copy=True, with_mean=True, with_std=True)"
            ]
          },
          "metadata": {
            "tags": []
          },
          "execution_count": 14
        }
      ]
    },
    {
      "cell_type": "code",
      "metadata": {
        "id": "sjQaCVEK_VYw",
        "colab_type": "code",
        "colab": {}
      },
      "source": [
        "#Applying the transformation in training and test set\n",
        "X_train_MLP = scaler_MLP.transform(X_train_MLP)\n",
        "X_test_MLP  = scaler_MLP.transform(X_test_MLP)"
      ],
      "execution_count": 0,
      "outputs": []
    },
    {
      "cell_type": "code",
      "metadata": {
        "id": "IwBDPnAU_Vhv",
        "colab_type": "code",
        "colab": {}
      },
      "source": [
        "#Reshaping in: (samples, timesteps, features)\n",
        "X_train_MLP = X_train_MLP.reshape(45,5,1)\n",
        "X_test_MLP = X_test_MLP.reshape(10,5,1)"
      ],
      "execution_count": 0,
      "outputs": []
    },
    {
      "cell_type": "markdown",
      "metadata": {
        "id": "hLngZmp7CK1O",
        "colab_type": "text"
      },
      "source": [
        "#4.2 Modeling: Multi-Layer Perceptron (MLP)"
      ]
    },
    {
      "cell_type": "code",
      "metadata": {
        "id": "XxD6HrLR-qM9",
        "colab_type": "code",
        "colab": {}
      },
      "source": [
        "#Multi-Layer perceptron model\n",
        "model_MLP = Sequential()\n",
        "model_MLP.add(Dense(200, activation=\"relu\", input_shape=(5,1)))\n",
        "model_MLP.add(Dense(200, activation=\"relu\"))\n",
        "model_MLP.add(Flatten())\n",
        "model_MLP.add(Dense(1))"
      ],
      "execution_count": 0,
      "outputs": []
    },
    {
      "cell_type": "code",
      "metadata": {
        "id": "9HbfCBKzFf0P",
        "colab_type": "code",
        "outputId": "dbe7d6d0-0895-4cd7-80e5-94a17edf1c72",
        "colab": {
          "base_uri": "https://localhost:8080/",
          "height": 533
        }
      },
      "source": [
        "#Plotting the MLP\n",
        "plot_model(model_MLP, to_file=\"MLP.png\", expand_nested=False, rankdir=\"TB\", show_shapes=True) "
      ],
      "execution_count": 18,
      "outputs": [
        {
          "output_type": "execute_result",
          "data": {
            "image/png": "[encoded data removed]",
            "text/plain": [
              "<IPython.core.display.Image object>"
            ]
          },
          "metadata": {
            "tags": []
          },
          "execution_count": 18
        }
      ]
    },
    {
      "cell_type": "code",
      "metadata": {
        "id": "MokRpulQ-qTO",
        "colab_type": "code",
        "colab": {}
      },
      "source": [
        "#Compiling the MLP\n",
        "model_MLP.compile(optimizer=\"rmsprop\", loss=\"mean_squared_logarithmic_error\", metrics=[\"mae\"])"
      ],
      "execution_count": 0,
      "outputs": []
    },
    {
      "cell_type": "code",
      "metadata": {
        "id": "hPQiFluK-qcM",
        "colab_type": "code",
        "colab": {
          "base_uri": "https://localhost:8080/",
          "height": 1000
        },
        "outputId": "f0354557-ef54-4237-cc03-c4c059c710a5"
      },
      "source": [
        "#Fitting the MLP with the training data\n",
        "history_MLP = model_MLP.fit(X_train_MLP, y_train_MLP, epochs=200, batch_size = 1, verbose=1)"
      ],
      "execution_count": 20,
      "outputs": [
        {
          "output_type": "stream",
          "text": [
            "Epoch 1/200\n",
            "45/45 [==============================] - 0s 10ms/step - loss: 128.9080 - mae: 308266.5000\n",
            "Epoch 2/200\n",
            "45/45 [==============================] - 0s 3ms/step - loss: 87.5040 - mae: 308242.0312\n",
            "Epoch 3/200\n",
            "45/45 [==============================] - 0s 3ms/step - loss: 64.5710 - mae: 308168.8125\n",
            "Epoch 4/200\n",
            "45/45 [==============================] - 0s 2ms/step - loss: 49.8665 - mae: 308004.4688\n",
            "Epoch 5/200\n",
            "45/45 [==============================] - 0s 2ms/step - loss: 39.6970 - mae: 307708.6250\n",
            "Epoch 6/200\n",
            "45/45 [==============================] - 0s 2ms/step - loss: 32.2604 - mae: 307228.5938\n",
            "Epoch 7/200\n",
            "45/45 [==============================] - 0s 2ms/step - loss: 26.5988 - mae: 306515.1875\n",
            "Epoch 8/200\n",
            "45/45 [==============================] - 0s 2ms/step - loss: 22.1630 - mae: 305530.1875\n",
            "Epoch 9/200\n",
            "45/45 [==============================] - 0s 2ms/step - loss: 18.6038 - mae: 304205.5000\n",
            "Epoch 10/200\n",
            "45/45 [==============================] - 0s 3ms/step - loss: 15.6996 - mae: 302506.3438\n",
            "Epoch 11/200\n",
            "45/45 [==============================] - 0s 3ms/step - loss: 13.2960 - mae: 300368.5625\n",
            "Epoch 12/200\n",
            "45/45 [==============================] - 0s 3ms/step - loss: 11.2827 - mae: 297752.1875\n",
            "Epoch 13/200\n",
            "45/45 [==============================] - 0s 2ms/step - loss: 9.5929 - mae: 294596.6562\n",
            "Epoch 14/200\n",
            "45/45 [==============================] - 0s 2ms/step - loss: 8.1537 - mae: 290870.2188\n",
            "Epoch 15/200\n",
            "45/45 [==============================] - 0s 2ms/step - loss: 6.9329 - mae: 286475.3750\n",
            "Epoch 16/200\n",
            "45/45 [==============================] - 0s 2ms/step - loss: 5.8792 - mae: 281397.7812\n",
            "Epoch 17/200\n",
            "45/45 [==============================] - 0s 2ms/step - loss: 4.9831 - mae: 275611.9688\n",
            "Epoch 18/200\n",
            "45/45 [==============================] - 0s 3ms/step - loss: 4.2041 - mae: 269067.0938\n",
            "Epoch 19/200\n",
            "45/45 [==============================] - 0s 2ms/step - loss: 3.5322 - mae: 261666.7188\n",
            "Epoch 20/200\n",
            "45/45 [==============================] - 0s 3ms/step - loss: 2.9560 - mae: 253423.0469\n",
            "Epoch 21/200\n",
            "45/45 [==============================] - 0s 3ms/step - loss: 2.4578 - mae: 244228.6406\n",
            "Epoch 22/200\n",
            "45/45 [==============================] - 0s 2ms/step - loss: 2.0264 - mae: 234178.9375\n",
            "Epoch 23/200\n",
            "45/45 [==============================] - 0s 2ms/step - loss: 1.6545 - mae: 223244.1719\n",
            "Epoch 24/200\n",
            "45/45 [==============================] - 0s 3ms/step - loss: 1.3379 - mae: 211173.4219\n",
            "Epoch 25/200\n",
            "45/45 [==============================] - 0s 2ms/step - loss: 1.0784 - mae: 198148.1094\n",
            "Epoch 26/200\n",
            "45/45 [==============================] - 0s 3ms/step - loss: 0.8512 - mae: 184324.8594\n",
            "Epoch 27/200\n",
            "45/45 [==============================] - 0s 2ms/step - loss: 0.6611 - mae: 169352.3438\n",
            "Epoch 28/200\n",
            "45/45 [==============================] - 0s 2ms/step - loss: 0.5111 - mae: 153517.7344\n",
            "Epoch 29/200\n",
            "45/45 [==============================] - 0s 2ms/step - loss: 0.3843 - mae: 137160.5156\n",
            "Epoch 30/200\n",
            "45/45 [==============================] - 0s 2ms/step - loss: 0.2889 - mae: 120375.1250\n",
            "Epoch 31/200\n",
            "45/45 [==============================] - 0s 2ms/step - loss: 0.2136 - mae: 103953.8438\n",
            "Epoch 32/200\n",
            "45/45 [==============================] - 0s 2ms/step - loss: 0.1603 - mae: 88880.7812\n",
            "Epoch 33/200\n",
            "45/45 [==============================] - 0s 2ms/step - loss: 0.1247 - mae: 77468.1719\n",
            "Epoch 34/200\n",
            "45/45 [==============================] - 0s 3ms/step - loss: 0.1017 - mae: 72111.8594\n",
            "Epoch 35/200\n",
            "45/45 [==============================] - 0s 2ms/step - loss: 0.0872 - mae: 69366.1406\n",
            "Epoch 36/200\n",
            "45/45 [==============================] - 0s 3ms/step - loss: 0.0788 - mae: 67648.5312\n",
            "Epoch 37/200\n",
            "45/45 [==============================] - 0s 2ms/step - loss: 0.0739 - mae: 67249.5000\n",
            "Epoch 38/200\n",
            "45/45 [==============================] - 0s 3ms/step - loss: 0.0712 - mae: 66594.7656\n",
            "Epoch 39/200\n",
            "45/45 [==============================] - 0s 3ms/step - loss: 0.0691 - mae: 66139.6719\n",
            "Epoch 40/200\n",
            "45/45 [==============================] - 0s 3ms/step - loss: 0.0676 - mae: 66060.5469\n",
            "Epoch 41/200\n",
            "45/45 [==============================] - 0s 2ms/step - loss: 0.0665 - mae: 65810.8125\n",
            "Epoch 42/200\n",
            "45/45 [==============================] - 0s 2ms/step - loss: 0.0656 - mae: 65518.5781\n",
            "Epoch 43/200\n",
            "45/45 [==============================] - 0s 2ms/step - loss: 0.0649 - mae: 65076.2109\n",
            "Epoch 44/200\n",
            "45/45 [==============================] - 0s 2ms/step - loss: 0.0643 - mae: 64776.2539\n",
            "Epoch 45/200\n",
            "45/45 [==============================] - 0s 2ms/step - loss: 0.0636 - mae: 64461.8789\n",
            "Epoch 46/200\n",
            "45/45 [==============================] - 0s 3ms/step - loss: 0.0632 - mae: 64144.9180\n",
            "Epoch 47/200\n",
            "45/45 [==============================] - 0s 3ms/step - loss: 0.0627 - mae: 63771.8555\n",
            "Epoch 48/200\n",
            "45/45 [==============================] - 0s 2ms/step - loss: 0.0623 - mae: 63629.8281\n",
            "Epoch 49/200\n",
            "45/45 [==============================] - 0s 2ms/step - loss: 0.0619 - mae: 63378.9492\n",
            "Epoch 50/200\n",
            "45/45 [==============================] - 0s 2ms/step - loss: 0.0615 - mae: 63152.2266\n",
            "Epoch 51/200\n",
            "45/45 [==============================] - 0s 2ms/step - loss: 0.0612 - mae: 62897.5000\n",
            "Epoch 52/200\n",
            "45/45 [==============================] - 0s 3ms/step - loss: 0.0607 - mae: 62700.2734\n",
            "Epoch 53/200\n",
            "45/45 [==============================] - 0s 3ms/step - loss: 0.0608 - mae: 62641.8945\n",
            "Epoch 54/200\n",
            "45/45 [==============================] - 0s 2ms/step - loss: 0.0605 - mae: 62452.8008\n",
            "Epoch 55/200\n",
            "45/45 [==============================] - 0s 2ms/step - loss: 0.0602 - mae: 62300.7539\n",
            "Epoch 56/200\n",
            "45/45 [==============================] - 0s 3ms/step - loss: 0.0599 - mae: 62265.6680\n",
            "Epoch 57/200\n",
            "45/45 [==============================] - 0s 2ms/step - loss: 0.0597 - mae: 62217.6445\n",
            "Epoch 58/200\n",
            "45/45 [==============================] - 0s 2ms/step - loss: 0.0599 - mae: 61602.3125\n",
            "Epoch 59/200\n",
            "45/45 [==============================] - 0s 2ms/step - loss: 0.0594 - mae: 62001.8672\n",
            "Epoch 60/200\n",
            "45/45 [==============================] - 0s 2ms/step - loss: 0.0594 - mae: 61623.2461\n",
            "Epoch 61/200\n",
            "45/45 [==============================] - 0s 2ms/step - loss: 0.0593 - mae: 61717.2773\n",
            "Epoch 62/200\n",
            "45/45 [==============================] - 0s 2ms/step - loss: 0.0589 - mae: 61677.5430\n",
            "Epoch 63/200\n",
            "45/45 [==============================] - 0s 2ms/step - loss: 0.0592 - mae: 61358.6680\n",
            "Epoch 64/200\n",
            "45/45 [==============================] - 0s 3ms/step - loss: 0.0588 - mae: 61522.7461\n",
            "Epoch 65/200\n",
            "45/45 [==============================] - 0s 3ms/step - loss: 0.0590 - mae: 61209.4102\n",
            "Epoch 66/200\n",
            "45/45 [==============================] - 0s 3ms/step - loss: 0.0589 - mae: 60855.1328\n",
            "Epoch 67/200\n",
            "45/45 [==============================] - 0s 3ms/step - loss: 0.0586 - mae: 61276.6953\n",
            "Epoch 68/200\n",
            "45/45 [==============================] - 0s 3ms/step - loss: 0.0586 - mae: 61272.7109\n",
            "Epoch 69/200\n",
            "45/45 [==============================] - 0s 2ms/step - loss: 0.0585 - mae: 61297.3047\n",
            "Epoch 70/200\n",
            "45/45 [==============================] - 0s 2ms/step - loss: 0.0583 - mae: 61257.5820\n",
            "Epoch 71/200\n",
            "45/45 [==============================] - 0s 2ms/step - loss: 0.0580 - mae: 61319.8164\n",
            "Epoch 72/200\n",
            "45/45 [==============================] - 0s 3ms/step - loss: 0.0583 - mae: 61061.1445\n",
            "Epoch 73/200\n",
            "45/45 [==============================] - 0s 3ms/step - loss: 0.0582 - mae: 61116.8555\n",
            "Epoch 74/200\n",
            "45/45 [==============================] - 0s 3ms/step - loss: 0.0583 - mae: 60849.3164\n",
            "Epoch 75/200\n",
            "45/45 [==============================] - 0s 2ms/step - loss: 0.0582 - mae: 60771.6406\n",
            "Epoch 76/200\n",
            "45/45 [==============================] - 0s 2ms/step - loss: 0.0581 - mae: 60865.5547\n",
            "Epoch 77/200\n",
            "45/45 [==============================] - 0s 2ms/step - loss: 0.0580 - mae: 60957.3008\n",
            "Epoch 78/200\n",
            "45/45 [==============================] - 0s 2ms/step - loss: 0.0580 - mae: 60997.4883\n",
            "Epoch 79/200\n",
            "45/45 [==============================] - 0s 2ms/step - loss: 0.0578 - mae: 60968.5508\n",
            "Epoch 80/200\n",
            "45/45 [==============================] - 0s 2ms/step - loss: 0.0578 - mae: 61026.6953\n",
            "Epoch 81/200\n",
            "45/45 [==============================] - 0s 3ms/step - loss: 0.0579 - mae: 60754.5625\n",
            "Epoch 82/200\n",
            "45/45 [==============================] - 0s 2ms/step - loss: 0.0578 - mae: 61031.9297\n",
            "Epoch 83/200\n",
            "45/45 [==============================] - 0s 3ms/step - loss: 0.0578 - mae: 60730.5547\n",
            "Epoch 84/200\n",
            "45/45 [==============================] - 0s 3ms/step - loss: 0.0581 - mae: 60275.7109\n",
            "Epoch 85/200\n",
            "45/45 [==============================] - 0s 2ms/step - loss: 0.0578 - mae: 61025.7734\n",
            "Epoch 86/200\n",
            "45/45 [==============================] - 0s 2ms/step - loss: 0.0577 - mae: 61089.8281\n",
            "Epoch 87/200\n",
            "45/45 [==============================] - 0s 2ms/step - loss: 0.0577 - mae: 60915.4453\n",
            "Epoch 88/200\n",
            "45/45 [==============================] - 0s 2ms/step - loss: 0.0576 - mae: 61117.7148\n",
            "Epoch 89/200\n",
            "45/45 [==============================] - 0s 3ms/step - loss: 0.0577 - mae: 61048.5039\n",
            "Epoch 90/200\n",
            "45/45 [==============================] - 0s 2ms/step - loss: 0.0576 - mae: 61233.3125\n",
            "Epoch 91/200\n",
            "45/45 [==============================] - 0s 2ms/step - loss: 0.0577 - mae: 60799.1094\n",
            "Epoch 92/200\n",
            "45/45 [==============================] - 0s 2ms/step - loss: 0.0577 - mae: 60859.1016\n",
            "Epoch 93/200\n",
            "45/45 [==============================] - 0s 3ms/step - loss: 0.0576 - mae: 60519.2344\n",
            "Epoch 94/200\n",
            "45/45 [==============================] - 0s 2ms/step - loss: 0.0575 - mae: 60447.9883\n",
            "Epoch 95/200\n",
            "45/45 [==============================] - 0s 2ms/step - loss: 0.0574 - mae: 60767.3125\n",
            "Epoch 96/200\n",
            "45/45 [==============================] - 0s 2ms/step - loss: 0.0575 - mae: 61255.0039\n",
            "Epoch 97/200\n",
            "45/45 [==============================] - 0s 2ms/step - loss: 0.0575 - mae: 60931.0664\n",
            "Epoch 98/200\n",
            "45/45 [==============================] - 0s 2ms/step - loss: 0.0574 - mae: 61419.9766\n",
            "Epoch 99/200\n",
            "45/45 [==============================] - 0s 2ms/step - loss: 0.0575 - mae: 61247.0352\n",
            "Epoch 100/200\n",
            "45/45 [==============================] - 0s 2ms/step - loss: 0.0574 - mae: 61136.8672\n",
            "Epoch 101/200\n",
            "45/45 [==============================] - 0s 2ms/step - loss: 0.0575 - mae: 61058.8555\n",
            "Epoch 102/200\n",
            "45/45 [==============================] - 0s 2ms/step - loss: 0.0574 - mae: 61153.1719\n",
            "Epoch 103/200\n",
            "45/45 [==============================] - 0s 2ms/step - loss: 0.0575 - mae: 60870.5820\n",
            "Epoch 104/200\n",
            "45/45 [==============================] - 0s 3ms/step - loss: 0.0575 - mae: 60659.6680\n",
            "Epoch 105/200\n",
            "45/45 [==============================] - 0s 2ms/step - loss: 0.0573 - mae: 60968.7891\n",
            "Epoch 106/200\n",
            "45/45 [==============================] - 0s 2ms/step - loss: 0.0573 - mae: 61073.8125\n",
            "Epoch 107/200\n",
            "45/45 [==============================] - 0s 3ms/step - loss: 0.0575 - mae: 60638.0352\n",
            "Epoch 108/200\n",
            "45/45 [==============================] - 0s 2ms/step - loss: 0.0575 - mae: 60538.9219\n",
            "Epoch 109/200\n",
            "45/45 [==============================] - 0s 2ms/step - loss: 0.0574 - mae: 60664.2773\n",
            "Epoch 110/200\n",
            "45/45 [==============================] - 0s 2ms/step - loss: 0.0574 - mae: 60864.7109\n",
            "Epoch 111/200\n",
            "45/45 [==============================] - 0s 2ms/step - loss: 0.0573 - mae: 61008.6172\n",
            "Epoch 112/200\n",
            "45/45 [==============================] - 0s 3ms/step - loss: 0.0574 - mae: 60778.2461\n",
            "Epoch 113/200\n",
            "45/45 [==============================] - 0s 2ms/step - loss: 0.0573 - mae: 61013.0117\n",
            "Epoch 114/200\n",
            "45/45 [==============================] - 0s 2ms/step - loss: 0.0573 - mae: 61054.7617\n",
            "Epoch 115/200\n",
            "45/45 [==============================] - 0s 2ms/step - loss: 0.0573 - mae: 60727.7109\n",
            "Epoch 116/200\n",
            "45/45 [==============================] - 0s 2ms/step - loss: 0.0573 - mae: 60787.3672\n",
            "Epoch 117/200\n",
            "45/45 [==============================] - 0s 2ms/step - loss: 0.0572 - mae: 60652.5352\n",
            "Epoch 118/200\n",
            "45/45 [==============================] - 0s 2ms/step - loss: 0.0577 - mae: 60483.0273\n",
            "Epoch 119/200\n",
            "45/45 [==============================] - 0s 2ms/step - loss: 0.0573 - mae: 60582.0625\n",
            "Epoch 120/200\n",
            "45/45 [==============================] - 0s 2ms/step - loss: 0.0574 - mae: 60412.9766\n",
            "Epoch 121/200\n",
            "45/45 [==============================] - 0s 3ms/step - loss: 0.0575 - mae: 60063.1875\n",
            "Epoch 122/200\n",
            "45/45 [==============================] - 0s 2ms/step - loss: 0.0572 - mae: 60709.4492\n",
            "Epoch 123/200\n",
            "45/45 [==============================] - 0s 2ms/step - loss: 0.0572 - mae: 60870.4766\n",
            "Epoch 124/200\n",
            "45/45 [==============================] - 0s 2ms/step - loss: 0.0572 - mae: 61074.6484\n",
            "Epoch 125/200\n",
            "45/45 [==============================] - 0s 2ms/step - loss: 0.0571 - mae: 60923.6094\n",
            "Epoch 126/200\n",
            "45/45 [==============================] - 0s 3ms/step - loss: 0.0572 - mae: 61022.8008\n",
            "Epoch 127/200\n",
            "45/45 [==============================] - 0s 3ms/step - loss: 0.0572 - mae: 60690.8945\n",
            "Epoch 128/200\n",
            "45/45 [==============================] - 0s 2ms/step - loss: 0.0572 - mae: 60578.6602\n",
            "Epoch 129/200\n",
            "45/45 [==============================] - 0s 2ms/step - loss: 0.0571 - mae: 61069.6562\n",
            "Epoch 130/200\n",
            "45/45 [==============================] - 0s 3ms/step - loss: 0.0571 - mae: 61000.5391\n",
            "Epoch 131/200\n",
            "45/45 [==============================] - 0s 2ms/step - loss: 0.0573 - mae: 60468.7539\n",
            "Epoch 132/200\n",
            "45/45 [==============================] - 0s 2ms/step - loss: 0.0572 - mae: 60654.6875\n",
            "Epoch 133/200\n",
            "45/45 [==============================] - 0s 2ms/step - loss: 0.0572 - mae: 60641.5820\n",
            "Epoch 134/200\n",
            "45/45 [==============================] - 0s 2ms/step - loss: 0.0573 - mae: 60486.7656\n",
            "Epoch 135/200\n",
            "45/45 [==============================] - 0s 2ms/step - loss: 0.0570 - mae: 60801.5117\n",
            "Epoch 136/200\n",
            "45/45 [==============================] - 0s 2ms/step - loss: 0.0571 - mae: 61029.3984\n",
            "Epoch 137/200\n",
            "45/45 [==============================] - 0s 2ms/step - loss: 0.0571 - mae: 60587.1211\n",
            "Epoch 138/200\n",
            "45/45 [==============================] - 0s 2ms/step - loss: 0.0570 - mae: 60913.0352\n",
            "Epoch 139/200\n",
            "45/45 [==============================] - 0s 3ms/step - loss: 0.0570 - mae: 60785.5664\n",
            "Epoch 140/200\n",
            "45/45 [==============================] - 0s 2ms/step - loss: 0.0571 - mae: 60801.2148\n",
            "Epoch 141/200\n",
            "45/45 [==============================] - 0s 2ms/step - loss: 0.0570 - mae: 60787.1172\n",
            "Epoch 142/200\n",
            "45/45 [==============================] - 0s 2ms/step - loss: 0.0571 - mae: 60830.5273\n",
            "Epoch 143/200\n",
            "45/45 [==============================] - 0s 2ms/step - loss: 0.0570 - mae: 60549.8984\n",
            "Epoch 144/200\n",
            "45/45 [==============================] - 0s 2ms/step - loss: 0.0570 - mae: 60775.8672\n",
            "Epoch 145/200\n",
            "45/45 [==============================] - 0s 2ms/step - loss: 0.0569 - mae: 60844.3438\n",
            "Epoch 146/200\n",
            "45/45 [==============================] - 0s 2ms/step - loss: 0.0570 - mae: 60801.9961\n",
            "Epoch 147/200\n",
            "45/45 [==============================] - 0s 2ms/step - loss: 0.0569 - mae: 60851.6992\n",
            "Epoch 148/200\n",
            "45/45 [==============================] - 0s 3ms/step - loss: 0.0570 - mae: 60398.0234\n",
            "Epoch 149/200\n",
            "45/45 [==============================] - 0s 3ms/step - loss: 0.0569 - mae: 60837.7500\n",
            "Epoch 150/200\n",
            "45/45 [==============================] - 0s 2ms/step - loss: 0.0570 - mae: 60504.7852\n",
            "Epoch 151/200\n",
            "45/45 [==============================] - 0s 2ms/step - loss: 0.0569 - mae: 60769.6680\n",
            "Epoch 152/200\n",
            "45/45 [==============================] - 0s 2ms/step - loss: 0.0570 - mae: 60447.1602\n",
            "Epoch 153/200\n",
            "45/45 [==============================] - 0s 2ms/step - loss: 0.0567 - mae: 60909.9961\n",
            "Epoch 154/200\n",
            "45/45 [==============================] - 0s 2ms/step - loss: 0.0570 - mae: 60652.5156\n",
            "Epoch 155/200\n",
            "45/45 [==============================] - 0s 2ms/step - loss: 0.0570 - mae: 60370.0234\n",
            "Epoch 156/200\n",
            "45/45 [==============================] - 0s 2ms/step - loss: 0.0569 - mae: 60628.4844\n",
            "Epoch 157/200\n",
            "45/45 [==============================] - 0s 2ms/step - loss: 0.0570 - mae: 60605.7773\n",
            "Epoch 158/200\n",
            "45/45 [==============================] - 0s 3ms/step - loss: 0.0569 - mae: 60543.1875\n",
            "Epoch 159/200\n",
            "45/45 [==============================] - 0s 2ms/step - loss: 0.0569 - mae: 60772.3594\n",
            "Epoch 160/200\n",
            "45/45 [==============================] - 0s 2ms/step - loss: 0.0569 - mae: 60575.3398\n",
            "Epoch 161/200\n",
            "45/45 [==============================] - 0s 3ms/step - loss: 0.0569 - mae: 60345.5547\n",
            "Epoch 162/200\n",
            "45/45 [==============================] - 0s 2ms/step - loss: 0.0568 - mae: 60698.6484\n",
            "Epoch 163/200\n",
            "45/45 [==============================] - 0s 3ms/step - loss: 0.0568 - mae: 60781.4961\n",
            "Epoch 164/200\n",
            "45/45 [==============================] - 0s 2ms/step - loss: 0.0569 - mae: 60509.0234\n",
            "Epoch 165/200\n",
            "45/45 [==============================] - 0s 2ms/step - loss: 0.0569 - mae: 60488.4609\n",
            "Epoch 166/200\n",
            "45/45 [==============================] - 0s 2ms/step - loss: 0.0570 - mae: 60258.8945\n",
            "Epoch 167/200\n",
            "45/45 [==============================] - 0s 3ms/step - loss: 0.0568 - mae: 60164.1797\n",
            "Epoch 168/200\n",
            "45/45 [==============================] - 0s 2ms/step - loss: 0.0569 - mae: 60523.1172\n",
            "Epoch 169/200\n",
            "45/45 [==============================] - 0s 2ms/step - loss: 0.0568 - mae: 60531.6211\n",
            "Epoch 170/200\n",
            "45/45 [==============================] - 0s 2ms/step - loss: 0.0567 - mae: 60925.3789\n",
            "Epoch 171/200\n",
            "45/45 [==============================] - 0s 2ms/step - loss: 0.0565 - mae: 61040.0664\n",
            "Epoch 172/200\n",
            "45/45 [==============================] - 0s 2ms/step - loss: 0.0568 - mae: 60728.2344\n",
            "Epoch 173/200\n",
            "45/45 [==============================] - 0s 2ms/step - loss: 0.0568 - mae: 60536.5000\n",
            "Epoch 174/200\n",
            "45/45 [==============================] - 0s 2ms/step - loss: 0.0569 - mae: 60392.7461\n",
            "Epoch 175/200\n",
            "45/45 [==============================] - 0s 3ms/step - loss: 0.0567 - mae: 60199.8984\n",
            "Epoch 176/200\n",
            "45/45 [==============================] - 0s 3ms/step - loss: 0.0567 - mae: 60561.0156\n",
            "Epoch 177/200\n",
            "45/45 [==============================] - 0s 3ms/step - loss: 0.0569 - mae: 60213.3438\n",
            "Epoch 178/200\n",
            "45/45 [==============================] - 0s 3ms/step - loss: 0.0566 - mae: 60829.5547\n",
            "Epoch 179/200\n",
            "45/45 [==============================] - 0s 2ms/step - loss: 0.0568 - mae: 60676.1172\n",
            "Epoch 180/200\n",
            "45/45 [==============================] - 0s 3ms/step - loss: 0.0568 - mae: 60337.0820\n",
            "Epoch 181/200\n",
            "45/45 [==============================] - 0s 3ms/step - loss: 0.0567 - mae: 60446.3594\n",
            "Epoch 182/200\n",
            "45/45 [==============================] - 0s 3ms/step - loss: 0.0566 - mae: 60372.9727\n",
            "Epoch 183/200\n",
            "45/45 [==============================] - 0s 3ms/step - loss: 0.0566 - mae: 60795.3203\n",
            "Epoch 184/200\n",
            "45/45 [==============================] - 0s 3ms/step - loss: 0.0567 - mae: 60770.9375\n",
            "Epoch 185/200\n",
            "45/45 [==============================] - 0s 3ms/step - loss: 0.0566 - mae: 60781.4180\n",
            "Epoch 186/200\n",
            "45/45 [==============================] - 0s 3ms/step - loss: 0.0566 - mae: 60714.8945\n",
            "Epoch 187/200\n",
            "45/45 [==============================] - 0s 3ms/step - loss: 0.0567 - mae: 60389.7617\n",
            "Epoch 188/200\n",
            "45/45 [==============================] - 0s 3ms/step - loss: 0.0566 - mae: 60649.5039\n",
            "Epoch 189/200\n",
            "45/45 [==============================] - 0s 3ms/step - loss: 0.0568 - mae: 60341.1992\n",
            "Epoch 190/200\n",
            "45/45 [==============================] - 0s 3ms/step - loss: 0.0567 - mae: 60455.4766\n",
            "Epoch 191/200\n",
            "45/45 [==============================] - 0s 3ms/step - loss: 0.0566 - mae: 60548.2266\n",
            "Epoch 192/200\n",
            "45/45 [==============================] - 0s 3ms/step - loss: 0.0567 - mae: 60443.3281\n",
            "Epoch 193/200\n",
            "45/45 [==============================] - 0s 3ms/step - loss: 0.0566 - mae: 60607.0703\n",
            "Epoch 194/200\n",
            "45/45 [==============================] - 0s 3ms/step - loss: 0.0565 - mae: 60514.7773\n",
            "Epoch 195/200\n",
            "45/45 [==============================] - 0s 3ms/step - loss: 0.0566 - mae: 60662.1016\n",
            "Epoch 196/200\n",
            "45/45 [==============================] - 0s 3ms/step - loss: 0.0573 - mae: 59836.3438\n",
            "Epoch 197/200\n",
            "45/45 [==============================] - 0s 3ms/step - loss: 0.0567 - mae: 60268.9883\n",
            "Epoch 198/200\n",
            "45/45 [==============================] - 0s 3ms/step - loss: 0.0566 - mae: 60499.5352\n",
            "Epoch 199/200\n",
            "45/45 [==============================] - 0s 2ms/step - loss: 0.0565 - mae: 60468.8594\n",
            "Epoch 200/200\n",
            "45/45 [==============================] - 0s 2ms/step - loss: 0.0566 - mae: 60385.9492\n"
          ],
          "name": "stdout"
        }
      ]
    },
    {
      "cell_type": "code",
      "metadata": {
        "id": "uuDBgVWE-qgR",
        "colab_type": "code",
        "outputId": "f1e05b23-4451-4a55-8c87-8ec4705eb1d6",
        "colab": {
          "base_uri": "https://localhost:8080/",
          "height": 289
        }
      },
      "source": [
        "#Showing the parameters computed\n",
        "model_MLP.summary()"
      ],
      "execution_count": 21,
      "outputs": [
        {
          "output_type": "stream",
          "text": [
            "Model: \"sequential_1\"\n",
            "_________________________________________________________________\n",
            "Layer (type)                 Output Shape              Param #   \n",
            "=================================================================\n",
            "dense_1 (Dense)              (None, 5, 200)            400       \n",
            "_________________________________________________________________\n",
            "dense_2 (Dense)              (None, 5, 200)            40200     \n",
            "_________________________________________________________________\n",
            "flatten_1 (Flatten)          (None, 1000)              0         \n",
            "_________________________________________________________________\n",
            "dense_3 (Dense)              (None, 1)                 1001      \n",
            "=================================================================\n",
            "Total params: 41,601\n",
            "Trainable params: 41,601\n",
            "Non-trainable params: 0\n",
            "_________________________________________________________________\n"
          ],
          "name": "stdout"
        }
      ]
    },
    {
      "cell_type": "markdown",
      "metadata": {
        "id": "EH-SrvVwCSpQ",
        "colab_type": "text"
      },
      "source": [
        "#4.3 Results"
      ]
    },
    {
      "cell_type": "code",
      "metadata": {
        "id": "f6ZY6H0e-ql4",
        "colab_type": "code",
        "outputId": "bf134cc8-836d-42fa-f414-1ddf9a565f8a",
        "colab": {
          "base_uri": "https://localhost:8080/",
          "height": 391
        }
      },
      "source": [
        "#Get the accuracy scores\n",
        "score_MLP = model_MLP.evaluate(X_test_MLP, y_test_MLP)\n",
        "print(\"\\n\")\n",
        "print(\"The scores are: \")\n",
        "print(score_MLP)\n",
        "print(\"\\n\")\n",
        "\n",
        "#Get the names of the metrics\n",
        "names_MLP = model_MLP.metrics_names\n",
        "print(\"The name of the previous scores are: \")\n",
        "print(names_MLP)\n",
        "print(\"\\n\")\n",
        "\n",
        "#Get the predictions\n",
        "prediction_MLP = model_MLP.predict(X_test_MLP)\n",
        "print(\"Predictions of the model: \")\n",
        "print(prediction_MLP)"
      ],
      "execution_count": 22,
      "outputs": [
        {
          "output_type": "stream",
          "text": [
            "\r10/10 [==============================] - 0s 2ms/step\n",
            "\n",
            "\n",
            "The scores are: \n",
            "[0.045528262853622437, 44918.67578125]\n",
            "\n",
            "\n",
            "The name of the previous scores are: \n",
            "['loss', 'mae']\n",
            "\n",
            "\n",
            "Predictions of the model: \n",
            "[[285724.62]\n",
            " [285668.06]\n",
            " [285950.5 ]\n",
            " [285214.3 ]\n",
            " [283848.03]\n",
            " [283378.72]\n",
            " [283118.97]\n",
            " [283290.84]\n",
            " [284209.75]\n",
            " [285163.25]]\n"
          ],
          "name": "stdout"
        }
      ]
    },
    {
      "cell_type": "code",
      "metadata": {
        "id": "WA7B6uJr-qtW",
        "colab_type": "code",
        "outputId": "7438b772-f44d-4695-f66b-5df5ec3c8f25",
        "colab": {
          "base_uri": "https://localhost:8080/",
          "height": 353
        }
      },
      "source": [
        "#Plotting the real sales \n",
        "real_MLP = pd.DataFrame(data = y_test_MLP)\n",
        "real_MLP.plot(kind = \"line\", color = \"red\", title = \"Real values\", figsize = (5,5))"
      ],
      "execution_count": 23,
      "outputs": [
        {
          "output_type": "execute_result",
          "data": {
            "text/plain": [
              "<matplotlib.axes._subplots.AxesSubplot at 0x7fd040259eb8>"
            ]
          },
          "metadata": {
            "tags": []
          },
          "execution_count": 23
        },
        {
          "output_type": "display_data",
          "data": {
            "image/png": "[encoded data removed]",
            "text/plain": [
              "<Figure size 360x360 with 1 Axes>"
            ]
          },
          "metadata": {
            "tags": [],
            "needs_background": "light"
          }
        }
      ]
    },
    {
      "cell_type": "code",
      "metadata": {
        "id": "nTcs2Imf-qG-",
        "colab_type": "code",
        "outputId": "4ebc714f-c4ed-403f-d465-4f4e69d4ffba",
        "colab": {
          "base_uri": "https://localhost:8080/",
          "height": 353
        }
      },
      "source": [
        "#Plotting the predicted sales\n",
        "predicted_MLP = pd.DataFrame(data = prediction_MLP)\n",
        "predicted_MLP.plot(kind = \"line\", color = \"red\", title = \"Predicted values\", figsize = (5,5))"
      ],
      "execution_count": 24,
      "outputs": [
        {
          "output_type": "execute_result",
          "data": {
            "text/plain": [
              "<matplotlib.axes._subplots.AxesSubplot at 0x7fd0401e3630>"
            ]
          },
          "metadata": {
            "tags": []
          },
          "execution_count": 24
        },
        {
          "output_type": "display_data",
          "data": {
            "image/png": "[encoded data removed]",
            "text/plain": [
              "<Figure size 360x360 with 1 Axes>"
            ]
          },
          "metadata": {
            "tags": [],
            "needs_background": "light"
          }
        }
      ]
    },
    {
      "cell_type": "markdown",
      "metadata": {
        "id": "1BRdiMb8CWXW",
        "colab_type": "text"
      },
      "source": [
        "#5. Long Short-Term Memory (LSTM) Neural Networks"
      ]
    },
    {
      "cell_type": "markdown",
      "metadata": {
        "id": "BEgD6JXvCnAY",
        "colab_type": "text"
      },
      "source": [
        "#5.1 Preprocessing"
      ]
    },
    {
      "cell_type": "code",
      "metadata": {
        "id": "wIqOZbVC3G_m",
        "colab_type": "code",
        "colab": {}
      },
      "source": [
        "#Input of the function\n",
        "sequence_LSTM = dataset[\"Sales\"]\n",
        "\n",
        "#Input of the function\n",
        "steps_LSTM = 5\n",
        "\n",
        "#Spliting the sequence in the right format\n",
        "X_LSTM, y_LSTM = split_sequence(sequence = sequence_LSTM, n_steps = steps_LSTM)"
      ],
      "execution_count": 0,
      "outputs": []
    },
    {
      "cell_type": "code",
      "metadata": {
        "id": "q8w-oYvh3utz",
        "colab_type": "code",
        "colab": {}
      },
      "source": [
        "#Splitting the dataset in training and test\n",
        "X_train_LSTM = X_LSTM[:45,:]\n",
        "X_test_LSTM = X_LSTM[45:,:]"
      ],
      "execution_count": 0,
      "outputs": []
    },
    {
      "cell_type": "code",
      "metadata": {
        "id": "HTOzJOSTIvRb",
        "colab_type": "code",
        "colab": {}
      },
      "source": [
        "#Splitting the dataset in training and test\n",
        "y_train_LSTM = y_LSTM[:45]\n",
        "y_test_LSTM = y_LSTM[45:]"
      ],
      "execution_count": 0,
      "outputs": []
    },
    {
      "cell_type": "code",
      "metadata": {
        "id": "sh3RM9j7t5ab",
        "colab_type": "code",
        "colab": {}
      },
      "source": [
        "#Scaler for standarzing with mean and bias\n",
        "scaler_LSTM = StandardScaler()"
      ],
      "execution_count": 0,
      "outputs": []
    },
    {
      "cell_type": "code",
      "metadata": {
        "id": "Pn_Eh1vTvElG",
        "colab_type": "code",
        "outputId": "8766350f-66cc-4b55-f04b-448af4cebd8c",
        "colab": {
          "base_uri": "https://localhost:8080/",
          "height": 34
        }
      },
      "source": [
        "#Using just the training set\n",
        "scaler_LSTM.fit(X_train_LSTM)"
      ],
      "execution_count": 29,
      "outputs": [
        {
          "output_type": "execute_result",
          "data": {
            "text/plain": [
              "StandardScaler(copy=True, with_mean=True, with_std=True)"
            ]
          },
          "metadata": {
            "tags": []
          },
          "execution_count": 29
        }
      ]
    },
    {
      "cell_type": "code",
      "metadata": {
        "id": "t70p8n5wt8d0",
        "colab_type": "code",
        "colab": {}
      },
      "source": [
        "#Applying the transformation in training and test set\n",
        "X_train_LSTM = scaler_LSTM.transform(X_train_LSTM)\n",
        "X_test_LSTM  = scaler_LSTM.transform(X_test_LSTM)"
      ],
      "execution_count": 0,
      "outputs": []
    },
    {
      "cell_type": "code",
      "metadata": {
        "id": "hXpNRjBT307b",
        "colab_type": "code",
        "colab": {}
      },
      "source": [
        "#Reshaping in: (samples, timesteps, features)\n",
        "X_train_LSTM = X_train_LSTM.reshape(45,5,1)\n",
        "X_test_LSTM = X_test_LSTM.reshape(10,5,1)"
      ],
      "execution_count": 0,
      "outputs": []
    },
    {
      "cell_type": "markdown",
      "metadata": {
        "id": "rZ0_FkANEoCO",
        "colab_type": "text"
      },
      "source": [
        "#5.2 Modeling: LSTM Neural Networks"
      ]
    },
    {
      "cell_type": "code",
      "metadata": {
        "id": "JdUo4f7r35lF",
        "colab_type": "code",
        "colab": {}
      },
      "source": [
        "#LSTM model\n",
        "model_LSTM = Sequential()\n",
        "model_LSTM.add(LSTM(100, activation=\"relu\", return_sequences=True, input_shape = (5,1)))\n",
        "model_LSTM.add(LSTM(60, activation=\"relu\", return_sequences=True, input_shape = (5,1)))\n",
        "model_LSTM.add(LSTM(30, activation=\"relu\", return_sequences=True, input_shape = (5,1)))\n",
        "model_LSTM.add(LSTM(15, activation=\"relu\", return_sequences=False, input_shape = (5,1)))\n",
        "model_LSTM.add(Dense(1))"
      ],
      "execution_count": 0,
      "outputs": []
    },
    {
      "cell_type": "code",
      "metadata": {
        "id": "FH0NTfu3F03z",
        "colab_type": "code",
        "outputId": "27487042-2264-4bc5-d8aa-d18280699a18",
        "colab": {
          "base_uri": "https://localhost:8080/",
          "height": 644
        }
      },
      "source": [
        "#Plotting the LSTM\n",
        "plot_model(model_LSTM, to_file=\"LSTM.png\", expand_nested=False, rankdir=\"TB\", show_shapes=True) "
      ],
      "execution_count": 33,
      "outputs": [
        {
          "output_type": "execute_result",
          "data": {
            "image/png": "[encoded data removed]",
            "text/plain": [
              "<IPython.core.display.Image object>"
            ]
          },
          "metadata": {
            "tags": []
          },
          "execution_count": 33
        }
      ]
    },
    {
      "cell_type": "code",
      "metadata": {
        "id": "t2L0wEtWsKXh",
        "colab_type": "code",
        "colab": {}
      },
      "source": [
        "#Compiling the LSTM\n",
        "model_LSTM.compile(optimizer=\"rmsprop\", loss=\"mean_squared_logarithmic_error\", metrics=[\"mae\"])"
      ],
      "execution_count": 0,
      "outputs": []
    },
    {
      "cell_type": "code",
      "metadata": {
        "id": "TN7KLc3AsPxZ",
        "colab_type": "code",
        "colab": {
          "base_uri": "https://localhost:8080/",
          "height": 1000
        },
        "outputId": "95918fa3-f038-4e91-e210-3df16e2d6218"
      },
      "source": [
        "#Fitting the MLP with the training data\n",
        "history_LSTM = model_LSTM.fit(X_train_LSTM, y_train_LSTM, epochs=400, batch_size = 1, verbose=1)"
      ],
      "execution_count": 35,
      "outputs": [
        {
          "output_type": "stream",
          "text": [
            "Epoch 1/400\n",
            "45/45 [==============================] - 3s 56ms/step - loss: 108.4070 - mae: 308163.4688\n",
            "Epoch 2/400\n",
            "45/45 [==============================] - 2s 37ms/step - loss: 18.5685 - mae: 300038.1250\n",
            "Epoch 3/400\n",
            "45/45 [==============================] - 2s 37ms/step - loss: 2.0030 - mae: 201952.3125\n",
            "Epoch 4/400\n",
            "45/45 [==============================] - 2s 37ms/step - loss: 0.1452 - mae: 97017.4688\n",
            "Epoch 5/400\n",
            "45/45 [==============================] - 2s 37ms/step - loss: 0.1449 - mae: 98110.0547\n",
            "Epoch 6/400\n",
            "45/45 [==============================] - 2s 36ms/step - loss: 0.1232 - mae: 88607.9297\n",
            "Epoch 7/400\n",
            "45/45 [==============================] - 2s 36ms/step - loss: 0.1148 - mae: 86432.9297\n",
            "Epoch 8/400\n",
            "45/45 [==============================] - 2s 37ms/step - loss: 0.1087 - mae: 83783.6797\n",
            "Epoch 9/400\n",
            "45/45 [==============================] - 2s 37ms/step - loss: 0.0977 - mae: 78002.3125\n",
            "Epoch 10/400\n",
            "45/45 [==============================] - 2s 37ms/step - loss: 0.0954 - mae: 78671.5703\n",
            "Epoch 11/400\n",
            "45/45 [==============================] - 2s 37ms/step - loss: 0.0872 - mae: 77572.2812\n",
            "Epoch 12/400\n",
            "45/45 [==============================] - 2s 38ms/step - loss: 0.0917 - mae: 75241.7578\n",
            "Epoch 13/400\n",
            "45/45 [==============================] - 2s 35ms/step - loss: 0.0788 - mae: 72957.3516\n",
            "Epoch 14/400\n",
            "45/45 [==============================] - 2s 37ms/step - loss: 0.0783 - mae: 73078.9922\n",
            "Epoch 15/400\n",
            "45/45 [==============================] - 2s 36ms/step - loss: 0.0695 - mae: 64953.2461\n",
            "Epoch 16/400\n",
            "45/45 [==============================] - 2s 37ms/step - loss: 0.0809 - mae: 70990.3984\n",
            "Epoch 17/400\n",
            "45/45 [==============================] - 2s 37ms/step - loss: 0.0701 - mae: 65128.0234\n",
            "Epoch 18/400\n",
            "45/45 [==============================] - 2s 37ms/step - loss: 0.0754 - mae: 69663.3125\n",
            "Epoch 19/400\n",
            "45/45 [==============================] - 2s 36ms/step - loss: 0.0727 - mae: 72901.4922\n",
            "Epoch 20/400\n",
            "45/45 [==============================] - 2s 37ms/step - loss: 0.0644 - mae: 62039.0234\n",
            "Epoch 21/400\n",
            "45/45 [==============================] - 2s 38ms/step - loss: 0.0738 - mae: 69802.9297\n",
            "Epoch 22/400\n",
            "45/45 [==============================] - 2s 36ms/step - loss: 0.0716 - mae: 67335.6094\n",
            "Epoch 23/400\n",
            "45/45 [==============================] - 2s 37ms/step - loss: 0.0705 - mae: 67143.2266\n",
            "Epoch 24/400\n",
            "45/45 [==============================] - 2s 37ms/step - loss: 0.0703 - mae: 66472.0859\n",
            "Epoch 25/400\n",
            "45/45 [==============================] - 2s 36ms/step - loss: 0.0750 - mae: 71499.6719\n",
            "Epoch 26/400\n",
            "45/45 [==============================] - 2s 37ms/step - loss: 0.0712 - mae: 67071.2969\n",
            "Epoch 27/400\n",
            "45/45 [==============================] - 2s 36ms/step - loss: 0.0649 - mae: 67112.3750\n",
            "Epoch 28/400\n",
            "45/45 [==============================] - 2s 36ms/step - loss: 0.0682 - mae: 65112.9102\n",
            "Epoch 29/400\n",
            "45/45 [==============================] - 2s 38ms/step - loss: 0.0713 - mae: 66509.0703\n",
            "Epoch 30/400\n",
            "45/45 [==============================] - 2s 38ms/step - loss: 0.0659 - mae: 65590.3906\n",
            "Epoch 31/400\n",
            "45/45 [==============================] - 2s 36ms/step - loss: 0.0675 - mae: 69764.2422\n",
            "Epoch 32/400\n",
            "45/45 [==============================] - 2s 35ms/step - loss: 0.0695 - mae: 70324.4688\n",
            "Epoch 33/400\n",
            "45/45 [==============================] - 2s 37ms/step - loss: 0.0649 - mae: 67534.6953\n",
            "Epoch 34/400\n",
            "45/45 [==============================] - 2s 36ms/step - loss: 0.0686 - mae: 68672.2422\n",
            "Epoch 35/400\n",
            "45/45 [==============================] - 2s 36ms/step - loss: 0.0699 - mae: 67474.2344\n",
            "Epoch 36/400\n",
            "45/45 [==============================] - 2s 36ms/step - loss: 0.0703 - mae: 65828.8594\n",
            "Epoch 37/400\n",
            "45/45 [==============================] - 2s 36ms/step - loss: 0.0692 - mae: 65478.3906\n",
            "Epoch 38/400\n",
            "45/45 [==============================] - 2s 36ms/step - loss: 0.0688 - mae: 68339.5469\n",
            "Epoch 39/400\n",
            "45/45 [==============================] - 2s 37ms/step - loss: 0.0723 - mae: 67068.3750\n",
            "Epoch 40/400\n",
            "45/45 [==============================] - 2s 37ms/step - loss: 0.0688 - mae: 65483.8438\n",
            "Epoch 41/400\n",
            "45/45 [==============================] - 2s 36ms/step - loss: 0.0687 - mae: 67004.5469\n",
            "Epoch 42/400\n",
            "45/45 [==============================] - 2s 36ms/step - loss: 0.0686 - mae: 66744.4922\n",
            "Epoch 43/400\n",
            "45/45 [==============================] - 2s 36ms/step - loss: 0.0668 - mae: 67264.8594\n",
            "Epoch 44/400\n",
            "45/45 [==============================] - 2s 36ms/step - loss: 0.0643 - mae: 66104.9922\n",
            "Epoch 45/400\n",
            "45/45 [==============================] - 2s 36ms/step - loss: 0.0632 - mae: 63128.0234\n",
            "Epoch 46/400\n",
            "45/45 [==============================] - 2s 37ms/step - loss: 0.0666 - mae: 65794.3750\n",
            "Epoch 47/400\n",
            "45/45 [==============================] - 2s 37ms/step - loss: 0.0626 - mae: 59885.2148\n",
            "Epoch 48/400\n",
            "45/45 [==============================] - 2s 36ms/step - loss: 0.0667 - mae: 67343.8047\n",
            "Epoch 49/400\n",
            "45/45 [==============================] - 2s 36ms/step - loss: 0.0655 - mae: 65146.7070\n",
            "Epoch 50/400\n",
            "45/45 [==============================] - 2s 37ms/step - loss: 0.0677 - mae: 69283.8359\n",
            "Epoch 51/400\n",
            "45/45 [==============================] - 2s 37ms/step - loss: 0.0650 - mae: 62672.2148\n",
            "Epoch 52/400\n",
            "45/45 [==============================] - 2s 37ms/step - loss: 0.0626 - mae: 62703.0547\n",
            "Epoch 53/400\n",
            "45/45 [==============================] - 2s 38ms/step - loss: 0.0602 - mae: 63121.3906\n",
            "Epoch 54/400\n",
            "45/45 [==============================] - 2s 35ms/step - loss: 0.0713 - mae: 68877.3438\n",
            "Epoch 55/400\n",
            "45/45 [==============================] - 2s 37ms/step - loss: 0.0685 - mae: 66502.9453\n",
            "Epoch 56/400\n",
            "45/45 [==============================] - 2s 36ms/step - loss: 0.0650 - mae: 62289.5352\n",
            "Epoch 57/400\n",
            "45/45 [==============================] - 2s 36ms/step - loss: 0.0629 - mae: 61094.9648\n",
            "Epoch 58/400\n",
            "45/45 [==============================] - 2s 36ms/step - loss: 0.0654 - mae: 68443.5703\n",
            "Epoch 59/400\n",
            "45/45 [==============================] - 2s 37ms/step - loss: 0.0700 - mae: 69100.0469\n",
            "Epoch 60/400\n",
            "45/45 [==============================] - 2s 36ms/step - loss: 0.0665 - mae: 67317.6016\n",
            "Epoch 61/400\n",
            "45/45 [==============================] - 2s 36ms/step - loss: 0.0629 - mae: 66405.5234\n",
            "Epoch 62/400\n",
            "45/45 [==============================] - 2s 37ms/step - loss: 0.0683 - mae: 66032.8359\n",
            "Epoch 63/400\n",
            "45/45 [==============================] - 2s 37ms/step - loss: 0.0679 - mae: 65486.4219\n",
            "Epoch 64/400\n",
            "45/45 [==============================] - 2s 37ms/step - loss: 0.0663 - mae: 66231.6094\n",
            "Epoch 65/400\n",
            "45/45 [==============================] - 2s 36ms/step - loss: 0.0681 - mae: 67077.2969\n",
            "Epoch 66/400\n",
            "45/45 [==============================] - 2s 37ms/step - loss: 0.0661 - mae: 67054.2891\n",
            "Epoch 67/400\n",
            "45/45 [==============================] - 2s 36ms/step - loss: 0.0670 - mae: 67450.7031\n",
            "Epoch 68/400\n",
            "45/45 [==============================] - 2s 37ms/step - loss: 0.0677 - mae: 67825.3203\n",
            "Epoch 69/400\n",
            "45/45 [==============================] - 2s 36ms/step - loss: 0.0638 - mae: 65125.3711\n",
            "Epoch 70/400\n",
            "45/45 [==============================] - 2s 37ms/step - loss: 0.0677 - mae: 68526.0703\n",
            "Epoch 71/400\n",
            "45/45 [==============================] - 2s 37ms/step - loss: 0.0666 - mae: 68093.5781\n",
            "Epoch 72/400\n",
            "45/45 [==============================] - 2s 37ms/step - loss: 0.0706 - mae: 66839.4375\n",
            "Epoch 73/400\n",
            "45/45 [==============================] - 2s 35ms/step - loss: 0.0604 - mae: 62695.3516\n",
            "Epoch 74/400\n",
            "45/45 [==============================] - 2s 37ms/step - loss: 0.0554 - mae: 60643.6797\n",
            "Epoch 75/400\n",
            "45/45 [==============================] - 2s 37ms/step - loss: 0.0660 - mae: 66100.0156\n",
            "Epoch 76/400\n",
            "45/45 [==============================] - 2s 36ms/step - loss: 0.0631 - mae: 64771.3008\n",
            "Epoch 77/400\n",
            "45/45 [==============================] - 2s 37ms/step - loss: 0.0634 - mae: 66060.2969\n",
            "Epoch 78/400\n",
            "45/45 [==============================] - 2s 35ms/step - loss: 0.0627 - mae: 66885.4297\n",
            "Epoch 79/400\n",
            "45/45 [==============================] - 2s 35ms/step - loss: 0.0690 - mae: 66512.1953\n",
            "Epoch 80/400\n",
            "45/45 [==============================] - 2s 37ms/step - loss: 0.0671 - mae: 67623.9297\n",
            "Epoch 81/400\n",
            "45/45 [==============================] - 2s 35ms/step - loss: 0.0657 - mae: 67003.9688\n",
            "Epoch 82/400\n",
            "45/45 [==============================] - 2s 37ms/step - loss: 0.0668 - mae: 69584.4141\n",
            "Epoch 83/400\n",
            "45/45 [==============================] - 2s 38ms/step - loss: 0.0562 - mae: 62522.3516\n",
            "Epoch 84/400\n",
            "45/45 [==============================] - 2s 36ms/step - loss: 0.0724 - mae: 68578.9453\n",
            "Epoch 85/400\n",
            "45/45 [==============================] - 2s 37ms/step - loss: 0.0655 - mae: 63923.7617\n",
            "Epoch 86/400\n",
            "45/45 [==============================] - 2s 36ms/step - loss: 0.0638 - mae: 61836.9844\n",
            "Epoch 87/400\n",
            "45/45 [==============================] - 2s 36ms/step - loss: 0.0616 - mae: 63884.5352\n",
            "Epoch 88/400\n",
            "45/45 [==============================] - 2s 36ms/step - loss: 0.0635 - mae: 66402.7422\n",
            "Epoch 89/400\n",
            "45/45 [==============================] - 2s 36ms/step - loss: 0.0613 - mae: 60505.0664\n",
            "Epoch 90/400\n",
            "45/45 [==============================] - 2s 37ms/step - loss: 0.0648 - mae: 64647.2109\n",
            "Epoch 91/400\n",
            "45/45 [==============================] - 2s 36ms/step - loss: 0.0667 - mae: 65316.1953\n",
            "Epoch 92/400\n",
            "45/45 [==============================] - 2s 36ms/step - loss: 0.0610 - mae: 66285.7969\n",
            "Epoch 93/400\n",
            "45/45 [==============================] - 2s 36ms/step - loss: 0.0621 - mae: 63559.8789\n",
            "Epoch 94/400\n",
            "45/45 [==============================] - 2s 36ms/step - loss: 0.0687 - mae: 66387.2812\n",
            "Epoch 95/400\n",
            "45/45 [==============================] - 2s 36ms/step - loss: 0.0691 - mae: 64987.9570\n",
            "Epoch 96/400\n",
            "45/45 [==============================] - 2s 37ms/step - loss: 0.0666 - mae: 65418.2930\n",
            "Epoch 97/400\n",
            "45/45 [==============================] - 2s 36ms/step - loss: 0.0668 - mae: 65800.8359\n",
            "Epoch 98/400\n",
            "45/45 [==============================] - 2s 36ms/step - loss: 0.0683 - mae: 65423.6992\n",
            "Epoch 99/400\n",
            "45/45 [==============================] - 2s 36ms/step - loss: 0.0632 - mae: 62433.5156\n",
            "Epoch 100/400\n",
            "45/45 [==============================] - 2s 37ms/step - loss: 0.0691 - mae: 65820.1641\n",
            "Epoch 101/400\n",
            "45/45 [==============================] - 2s 36ms/step - loss: 0.0639 - mae: 66749.4922\n",
            "Epoch 102/400\n",
            "45/45 [==============================] - 2s 38ms/step - loss: 0.0657 - mae: 64847.7891\n",
            "Epoch 103/400\n",
            "45/45 [==============================] - 2s 37ms/step - loss: 0.0706 - mae: 68869.3125\n",
            "Epoch 104/400\n",
            "45/45 [==============================] - 2s 36ms/step - loss: 0.0655 - mae: 66004.5234\n",
            "Epoch 105/400\n",
            "45/45 [==============================] - 2s 36ms/step - loss: 0.0633 - mae: 61663.5234\n",
            "Epoch 106/400\n",
            "45/45 [==============================] - 2s 36ms/step - loss: 0.0618 - mae: 64591.7344\n",
            "Epoch 107/400\n",
            "45/45 [==============================] - 2s 37ms/step - loss: 0.0617 - mae: 68123.6250\n",
            "Epoch 108/400\n",
            "45/45 [==============================] - 2s 38ms/step - loss: 0.0692 - mae: 69250.2031\n",
            "Epoch 109/400\n",
            "45/45 [==============================] - 2s 37ms/step - loss: 0.0649 - mae: 65378.4336\n",
            "Epoch 110/400\n",
            "45/45 [==============================] - 2s 37ms/step - loss: 0.0632 - mae: 62395.5117\n",
            "Epoch 111/400\n",
            "45/45 [==============================] - 2s 39ms/step - loss: 0.0638 - mae: 66412.7891\n",
            "Epoch 112/400\n",
            "45/45 [==============================] - 2s 37ms/step - loss: 0.0667 - mae: 65007.9102\n",
            "Epoch 113/400\n",
            "45/45 [==============================] - 2s 36ms/step - loss: 0.0636 - mae: 65450.3281\n",
            "Epoch 114/400\n",
            "45/45 [==============================] - 2s 37ms/step - loss: 0.0646 - mae: 65377.6172\n",
            "Epoch 115/400\n",
            "45/45 [==============================] - 2s 37ms/step - loss: 0.0626 - mae: 61498.4609\n",
            "Epoch 116/400\n",
            "45/45 [==============================] - 2s 37ms/step - loss: 0.0611 - mae: 60220.2656\n",
            "Epoch 117/400\n",
            "45/45 [==============================] - 2s 36ms/step - loss: 0.0636 - mae: 62073.8906\n",
            "Epoch 118/400\n",
            "45/45 [==============================] - 2s 36ms/step - loss: 0.0698 - mae: 68381.0156\n",
            "Epoch 119/400\n",
            "45/45 [==============================] - 2s 36ms/step - loss: 0.0624 - mae: 62741.0781\n",
            "Epoch 120/400\n",
            "45/45 [==============================] - 2s 36ms/step - loss: 0.0665 - mae: 67646.5391\n",
            "Epoch 121/400\n",
            "45/45 [==============================] - 2s 37ms/step - loss: 0.0674 - mae: 69218.4531\n",
            "Epoch 122/400\n",
            "45/45 [==============================] - 2s 37ms/step - loss: 0.0639 - mae: 64056.1953\n",
            "Epoch 123/400\n",
            "45/45 [==============================] - 2s 37ms/step - loss: 0.0663 - mae: 65660.2578\n",
            "Epoch 124/400\n",
            "45/45 [==============================] - 2s 36ms/step - loss: 0.0638 - mae: 63108.0781\n",
            "Epoch 125/400\n",
            "45/45 [==============================] - 2s 35ms/step - loss: 0.0677 - mae: 67250.1484\n",
            "Epoch 126/400\n",
            "45/45 [==============================] - 2s 36ms/step - loss: 0.0658 - mae: 67204.3906\n",
            "Epoch 127/400\n",
            "45/45 [==============================] - 2s 37ms/step - loss: 0.0664 - mae: 64669.6680\n",
            "Epoch 128/400\n",
            "45/45 [==============================] - 2s 37ms/step - loss: 0.0708 - mae: 69147.4922\n",
            "Epoch 129/400\n",
            "45/45 [==============================] - 2s 36ms/step - loss: 0.0658 - mae: 63663.4609\n",
            "Epoch 130/400\n",
            "45/45 [==============================] - 2s 37ms/step - loss: 0.0645 - mae: 65362.6094\n",
            "Epoch 131/400\n",
            "45/45 [==============================] - 2s 37ms/step - loss: 0.0640 - mae: 65445.5664\n",
            "Epoch 132/400\n",
            "45/45 [==============================] - 2s 37ms/step - loss: 0.0624 - mae: 63152.1719\n",
            "Epoch 133/400\n",
            "45/45 [==============================] - 2s 36ms/step - loss: 0.0686 - mae: 68076.3750\n",
            "Epoch 134/400\n",
            "45/45 [==============================] - 2s 36ms/step - loss: 0.0644 - mae: 68632.9297\n",
            "Epoch 135/400\n",
            "45/45 [==============================] - 2s 37ms/step - loss: 0.0576 - mae: 64155.9297\n",
            "Epoch 136/400\n",
            "45/45 [==============================] - 2s 38ms/step - loss: 0.0688 - mae: 66394.2031\n",
            "Epoch 137/400\n",
            "45/45 [==============================] - 2s 37ms/step - loss: 0.0653 - mae: 65700.2578\n",
            "Epoch 138/400\n",
            "45/45 [==============================] - 2s 37ms/step - loss: 0.0576 - mae: 60720.6680\n",
            "Epoch 139/400\n",
            "45/45 [==============================] - 2s 36ms/step - loss: 0.0654 - mae: 66871.9922\n",
            "Epoch 140/400\n",
            "45/45 [==============================] - 2s 36ms/step - loss: 0.0684 - mae: 67207.5156\n",
            "Epoch 141/400\n",
            "45/45 [==============================] - 2s 35ms/step - loss: 0.0668 - mae: 62399.0898\n",
            "Epoch 142/400\n",
            "45/45 [==============================] - 2s 37ms/step - loss: 0.0580 - mae: 59737.9883\n",
            "Epoch 143/400\n",
            "45/45 [==============================] - 2s 37ms/step - loss: 0.0643 - mae: 64494.2539\n",
            "Epoch 144/400\n",
            "45/45 [==============================] - 2s 36ms/step - loss: 0.0668 - mae: 65071.2930\n",
            "Epoch 145/400\n",
            "45/45 [==============================] - 2s 36ms/step - loss: 0.0666 - mae: 64400.7383\n",
            "Epoch 146/400\n",
            "45/45 [==============================] - 2s 37ms/step - loss: 0.0662 - mae: 63927.0781\n",
            "Epoch 147/400\n",
            "45/45 [==============================] - 2s 37ms/step - loss: 0.0640 - mae: 62135.4961\n",
            "Epoch 148/400\n",
            "45/45 [==============================] - 2s 36ms/step - loss: 0.0659 - mae: 66079.6016\n",
            "Epoch 149/400\n",
            "45/45 [==============================] - 2s 36ms/step - loss: 0.0684 - mae: 69291.4688\n",
            "Epoch 150/400\n",
            "45/45 [==============================] - 2s 38ms/step - loss: 0.0672 - mae: 62652.8203\n",
            "Epoch 151/400\n",
            "45/45 [==============================] - 2s 36ms/step - loss: 0.0672 - mae: 64265.6055\n",
            "Epoch 152/400\n",
            "45/45 [==============================] - 2s 37ms/step - loss: 0.0654 - mae: 67741.9531\n",
            "Epoch 153/400\n",
            "45/45 [==============================] - 2s 36ms/step - loss: 0.0662 - mae: 65107.9375\n",
            "Epoch 154/400\n",
            "45/45 [==============================] - 2s 36ms/step - loss: 0.0609 - mae: 63331.5234\n",
            "Epoch 155/400\n",
            "45/45 [==============================] - 2s 36ms/step - loss: 0.0690 - mae: 66927.2109\n",
            "Epoch 156/400\n",
            "45/45 [==============================] - 2s 36ms/step - loss: 0.0655 - mae: 65542.1641\n",
            "Epoch 157/400\n",
            "45/45 [==============================] - 2s 36ms/step - loss: 0.0668 - mae: 66144.3906\n",
            "Epoch 158/400\n",
            "45/45 [==============================] - 2s 37ms/step - loss: 0.0660 - mae: 64713.5430\n",
            "Epoch 159/400\n",
            "45/45 [==============================] - 2s 35ms/step - loss: 0.0642 - mae: 60587.8594\n",
            "Epoch 160/400\n",
            "45/45 [==============================] - 2s 37ms/step - loss: 0.0665 - mae: 67678.4297\n",
            "Epoch 161/400\n",
            "45/45 [==============================] - 2s 36ms/step - loss: 0.0644 - mae: 65143.7383\n",
            "Epoch 162/400\n",
            "45/45 [==============================] - 2s 37ms/step - loss: 0.0671 - mae: 66318.3203\n",
            "Epoch 163/400\n",
            "45/45 [==============================] - 2s 38ms/step - loss: 0.0667 - mae: 69675.6094\n",
            "Epoch 164/400\n",
            "45/45 [==============================] - 2s 39ms/step - loss: 0.0536 - mae: 58877.6094\n",
            "Epoch 165/400\n",
            "45/45 [==============================] - 2s 37ms/step - loss: 0.0668 - mae: 65252.4492\n",
            "Epoch 166/400\n",
            "45/45 [==============================] - 2s 36ms/step - loss: 0.0626 - mae: 62057.1719\n",
            "Epoch 167/400\n",
            "45/45 [==============================] - 2s 37ms/step - loss: 0.0641 - mae: 64676.7266\n",
            "Epoch 168/400\n",
            "45/45 [==============================] - 2s 36ms/step - loss: 0.0670 - mae: 62951.9219\n",
            "Epoch 169/400\n",
            "45/45 [==============================] - 2s 36ms/step - loss: 0.0627 - mae: 64561.8320\n",
            "Epoch 170/400\n",
            "45/45 [==============================] - 2s 38ms/step - loss: 0.0609 - mae: 66055.3203\n",
            "Epoch 171/400\n",
            "45/45 [==============================] - 2s 37ms/step - loss: 0.0647 - mae: 62521.4570\n",
            "Epoch 172/400\n",
            "45/45 [==============================] - 2s 35ms/step - loss: 0.0623 - mae: 62224.4766\n",
            "Epoch 173/400\n",
            "45/45 [==============================] - 2s 36ms/step - loss: 0.0682 - mae: 64130.0234\n",
            "Epoch 174/400\n",
            "45/45 [==============================] - 2s 38ms/step - loss: 0.0614 - mae: 61725.6875\n",
            "Epoch 175/400\n",
            "45/45 [==============================] - 2s 38ms/step - loss: 0.0628 - mae: 62265.8008\n",
            "Epoch 176/400\n",
            "45/45 [==============================] - 2s 37ms/step - loss: 0.0711 - mae: 70831.9922\n",
            "Epoch 177/400\n",
            "45/45 [==============================] - 2s 36ms/step - loss: 0.0622 - mae: 66134.7031\n",
            "Epoch 178/400\n",
            "45/45 [==============================] - 2s 35ms/step - loss: 0.0587 - mae: 63440.7148\n",
            "Epoch 179/400\n",
            "45/45 [==============================] - 2s 36ms/step - loss: 0.0674 - mae: 67600.7578\n",
            "Epoch 180/400\n",
            "45/45 [==============================] - 2s 37ms/step - loss: 0.0674 - mae: 65127.1406\n",
            "Epoch 181/400\n",
            "45/45 [==============================] - 2s 35ms/step - loss: 0.0660 - mae: 68162.2031\n",
            "Epoch 182/400\n",
            "45/45 [==============================] - 2s 38ms/step - loss: 0.0642 - mae: 64561.1094\n",
            "Epoch 183/400\n",
            "45/45 [==============================] - 2s 36ms/step - loss: 0.0672 - mae: 67048.1562\n",
            "Epoch 184/400\n",
            "45/45 [==============================] - 2s 37ms/step - loss: 0.0664 - mae: 66990.8594\n",
            "Epoch 185/400\n",
            "45/45 [==============================] - 2s 37ms/step - loss: 0.0617 - mae: 62562.7539\n",
            "Epoch 186/400\n",
            "45/45 [==============================] - 2s 37ms/step - loss: 0.0686 - mae: 67902.0625\n",
            "Epoch 187/400\n",
            "45/45 [==============================] - 2s 36ms/step - loss: 0.0594 - mae: 62509.9219\n",
            "Epoch 188/400\n",
            "45/45 [==============================] - 2s 36ms/step - loss: 0.0618 - mae: 62312.8789\n",
            "Epoch 189/400\n",
            "45/45 [==============================] - 2s 37ms/step - loss: 0.0676 - mae: 65855.8906\n",
            "Epoch 190/400\n",
            "45/45 [==============================] - 2s 36ms/step - loss: 0.0676 - mae: 65978.2500\n",
            "Epoch 191/400\n",
            "45/45 [==============================] - 2s 38ms/step - loss: 0.0664 - mae: 65222.5625\n",
            "Epoch 192/400\n",
            "45/45 [==============================] - 2s 36ms/step - loss: 0.0646 - mae: 65887.2969\n",
            "Epoch 193/400\n",
            "45/45 [==============================] - 2s 37ms/step - loss: 0.0601 - mae: 59882.1992\n",
            "Epoch 194/400\n",
            "45/45 [==============================] - 2s 37ms/step - loss: 0.0634 - mae: 65238.9648\n",
            "Epoch 195/400\n",
            "45/45 [==============================] - 2s 36ms/step - loss: 0.0628 - mae: 63392.5938\n",
            "Epoch 196/400\n",
            "45/45 [==============================] - 2s 38ms/step - loss: 0.0630 - mae: 63828.1875\n",
            "Epoch 197/400\n",
            "45/45 [==============================] - 2s 36ms/step - loss: 0.0677 - mae: 65861.2188\n",
            "Epoch 198/400\n",
            "45/45 [==============================] - 2s 37ms/step - loss: 0.0631 - mae: 67669.3750\n",
            "Epoch 199/400\n",
            "45/45 [==============================] - 2s 38ms/step - loss: 0.0535 - mae: 57711.3555\n",
            "Epoch 200/400\n",
            "45/45 [==============================] - 2s 37ms/step - loss: 0.0632 - mae: 63636.6562\n",
            "Epoch 201/400\n",
            "45/45 [==============================] - 2s 36ms/step - loss: 0.0669 - mae: 66799.9609\n",
            "Epoch 202/400\n",
            "45/45 [==============================] - 2s 36ms/step - loss: 0.0654 - mae: 61667.3125\n",
            "Epoch 203/400\n",
            "45/45 [==============================] - 2s 36ms/step - loss: 0.0622 - mae: 63888.9492\n",
            "Epoch 204/400\n",
            "45/45 [==============================] - 2s 36ms/step - loss: 0.0609 - mae: 64364.1172\n",
            "Epoch 205/400\n",
            "45/45 [==============================] - 2s 37ms/step - loss: 0.0652 - mae: 67792.3984\n",
            "Epoch 206/400\n",
            "45/45 [==============================] - 2s 36ms/step - loss: 0.0619 - mae: 60323.2461\n",
            "Epoch 207/400\n",
            "45/45 [==============================] - 2s 37ms/step - loss: 0.0663 - mae: 66968.6797\n",
            "Epoch 208/400\n",
            "45/45 [==============================] - 2s 37ms/step - loss: 0.0541 - mae: 57048.7383\n",
            "Epoch 209/400\n",
            "45/45 [==============================] - 2s 36ms/step - loss: 0.0631 - mae: 65103.0820\n",
            "Epoch 210/400\n",
            "45/45 [==============================] - 2s 37ms/step - loss: 0.0663 - mae: 65480.8516\n",
            "Epoch 211/400\n",
            "45/45 [==============================] - 2s 38ms/step - loss: 0.0584 - mae: 60576.4219\n",
            "Epoch 212/400\n",
            "45/45 [==============================] - 2s 36ms/step - loss: 0.0719 - mae: 70088.3281\n",
            "Epoch 213/400\n",
            "45/45 [==============================] - 2s 36ms/step - loss: 0.0662 - mae: 66882.2578\n",
            "Epoch 214/400\n",
            "45/45 [==============================] - 2s 38ms/step - loss: 0.0655 - mae: 65639.3906\n",
            "Epoch 215/400\n",
            "45/45 [==============================] - 2s 36ms/step - loss: 0.0667 - mae: 66875.2500\n",
            "Epoch 216/400\n",
            "45/45 [==============================] - 2s 36ms/step - loss: 0.0693 - mae: 67762.3750\n",
            "Epoch 217/400\n",
            "45/45 [==============================] - 2s 36ms/step - loss: 0.0636 - mae: 64482.2500\n",
            "Epoch 218/400\n",
            "45/45 [==============================] - 2s 37ms/step - loss: 0.0652 - mae: 67534.4141\n",
            "Epoch 219/400\n",
            "45/45 [==============================] - 2s 37ms/step - loss: 0.0649 - mae: 64637.5352\n",
            "Epoch 220/400\n",
            "45/45 [==============================] - 2s 38ms/step - loss: 0.0558 - mae: 57784.2773\n",
            "Epoch 221/400\n",
            "45/45 [==============================] - 2s 37ms/step - loss: 0.0674 - mae: 66254.5312\n",
            "Epoch 222/400\n",
            "45/45 [==============================] - 2s 36ms/step - loss: 0.0624 - mae: 64759.3320\n",
            "Epoch 223/400\n",
            "45/45 [==============================] - 2s 36ms/step - loss: 0.0662 - mae: 67420.3594\n",
            "Epoch 224/400\n",
            "45/45 [==============================] - 2s 37ms/step - loss: 0.0606 - mae: 63577.8164\n",
            "Epoch 225/400\n",
            "45/45 [==============================] - 2s 36ms/step - loss: 0.0692 - mae: 69001.5938\n",
            "Epoch 226/400\n",
            "45/45 [==============================] - 2s 35ms/step - loss: 0.0681 - mae: 64028.1836\n",
            "Epoch 227/400\n",
            "45/45 [==============================] - 2s 37ms/step - loss: 0.0631 - mae: 64734.8711\n",
            "Epoch 228/400\n",
            "45/45 [==============================] - 2s 37ms/step - loss: 0.0661 - mae: 65349.2266\n",
            "Epoch 229/400\n",
            "45/45 [==============================] - 2s 38ms/step - loss: 0.0670 - mae: 68260.2422\n",
            "Epoch 230/400\n",
            "45/45 [==============================] - 2s 38ms/step - loss: 0.0689 - mae: 65148.3047\n",
            "Epoch 231/400\n",
            "45/45 [==============================] - 2s 36ms/step - loss: 0.0671 - mae: 64040.9062\n",
            "Epoch 232/400\n",
            "45/45 [==============================] - 2s 35ms/step - loss: 0.0613 - mae: 65036.8828\n",
            "Epoch 233/400\n",
            "45/45 [==============================] - 2s 37ms/step - loss: 0.0672 - mae: 66035.2188\n",
            "Epoch 234/400\n",
            "45/45 [==============================] - 2s 38ms/step - loss: 0.0672 - mae: 67948.9219\n",
            "Epoch 235/400\n",
            "45/45 [==============================] - 2s 37ms/step - loss: 0.0633 - mae: 63405.1797\n",
            "Epoch 236/400\n",
            "45/45 [==============================] - 2s 37ms/step - loss: 0.0682 - mae: 65570.6406\n",
            "Epoch 237/400\n",
            "45/45 [==============================] - 2s 37ms/step - loss: 0.0573 - mae: 59195.3008\n",
            "Epoch 238/400\n",
            "45/45 [==============================] - 2s 36ms/step - loss: 0.0668 - mae: 66238.3750\n",
            "Epoch 239/400\n",
            "45/45 [==============================] - 2s 36ms/step - loss: 0.0682 - mae: 66342.4844\n",
            "Epoch 240/400\n",
            "45/45 [==============================] - 2s 37ms/step - loss: 0.0633 - mae: 64232.7500\n",
            "Epoch 241/400\n",
            "45/45 [==============================] - 2s 36ms/step - loss: 0.0604 - mae: 61490.8516\n",
            "Epoch 242/400\n",
            "45/45 [==============================] - 2s 36ms/step - loss: 0.0688 - mae: 67503.5859\n",
            "Epoch 243/400\n",
            "45/45 [==============================] - 2s 37ms/step - loss: 0.0598 - mae: 64449.5547\n",
            "Epoch 244/400\n",
            "45/45 [==============================] - 2s 36ms/step - loss: 0.0670 - mae: 63321.6562\n",
            "Epoch 245/400\n",
            "45/45 [==============================] - 2s 38ms/step - loss: 0.0638 - mae: 65010.9570\n",
            "Epoch 246/400\n",
            "45/45 [==============================] - 2s 37ms/step - loss: 0.0679 - mae: 69290.1406\n",
            "Epoch 247/400\n",
            "45/45 [==============================] - 2s 37ms/step - loss: 0.0646 - mae: 64868.9570\n",
            "Epoch 248/400\n",
            "45/45 [==============================] - 2s 36ms/step - loss: 0.0654 - mae: 63994.5234\n",
            "Epoch 249/400\n",
            "45/45 [==============================] - 2s 36ms/step - loss: 0.0614 - mae: 60842.6211\n",
            "Epoch 250/400\n",
            "45/45 [==============================] - 2s 37ms/step - loss: 0.0670 - mae: 66647.2969\n",
            "Epoch 251/400\n",
            "45/45 [==============================] - 2s 38ms/step - loss: 0.0721 - mae: 69111.4297\n",
            "Epoch 252/400\n",
            "45/45 [==============================] - 2s 37ms/step - loss: 0.0580 - mae: 58323.2773\n",
            "Epoch 253/400\n",
            "45/45 [==============================] - 2s 36ms/step - loss: 0.0623 - mae: 64273.6836\n",
            "Epoch 254/400\n",
            "45/45 [==============================] - 2s 37ms/step - loss: 0.0599 - mae: 63235.2344\n",
            "Epoch 255/400\n",
            "45/45 [==============================] - 2s 37ms/step - loss: 0.0483 - mae: 51704.8672\n",
            "Epoch 256/400\n",
            "45/45 [==============================] - 2s 37ms/step - loss: 0.0662 - mae: 66627.1875\n",
            "Epoch 257/400\n",
            "45/45 [==============================] - 2s 36ms/step - loss: 0.0704 - mae: 66962.8594\n",
            "Epoch 258/400\n",
            "45/45 [==============================] - 2s 37ms/step - loss: 0.0651 - mae: 66863.0234\n",
            "Epoch 259/400\n",
            "45/45 [==============================] - 2s 36ms/step - loss: 0.0604 - mae: 60178.3320\n",
            "Epoch 260/400\n",
            "45/45 [==============================] - 2s 38ms/step - loss: 0.0668 - mae: 63151.3984\n",
            "Epoch 261/400\n",
            "45/45 [==============================] - 2s 36ms/step - loss: 0.0654 - mae: 62981.9609\n",
            "Epoch 262/400\n",
            "45/45 [==============================] - 2s 37ms/step - loss: 0.0632 - mae: 64094.6875\n",
            "Epoch 263/400\n",
            "45/45 [==============================] - 2s 37ms/step - loss: 0.0621 - mae: 62644.6445\n",
            "Epoch 264/400\n",
            "45/45 [==============================] - 2s 36ms/step - loss: 0.0632 - mae: 63270.1094\n",
            "Epoch 265/400\n",
            "45/45 [==============================] - 2s 36ms/step - loss: 0.0663 - mae: 64583.1875\n",
            "Epoch 266/400\n",
            "45/45 [==============================] - 2s 37ms/step - loss: 0.0669 - mae: 68131.0938\n",
            "Epoch 267/400\n",
            "45/45 [==============================] - 2s 37ms/step - loss: 0.0618 - mae: 64025.2148\n",
            "Epoch 268/400\n",
            "45/45 [==============================] - 2s 37ms/step - loss: 0.0641 - mae: 65177.3125\n",
            "Epoch 269/400\n",
            "45/45 [==============================] - 2s 37ms/step - loss: 0.0695 - mae: 67138.7188\n",
            "Epoch 270/400\n",
            "45/45 [==============================] - 2s 37ms/step - loss: 0.0628 - mae: 65837.0078\n",
            "Epoch 271/400\n",
            "45/45 [==============================] - 2s 38ms/step - loss: 0.0667 - mae: 66256.2578\n",
            "Epoch 272/400\n",
            "45/45 [==============================] - 2s 37ms/step - loss: 0.0566 - mae: 60021.6836\n",
            "Epoch 273/400\n",
            "45/45 [==============================] - 2s 37ms/step - loss: 0.0667 - mae: 67569.9922\n",
            "Epoch 274/400\n",
            "45/45 [==============================] - 2s 37ms/step - loss: 0.0669 - mae: 65996.1406\n",
            "Epoch 275/400\n",
            "45/45 [==============================] - 2s 37ms/step - loss: 0.0668 - mae: 64135.3984\n",
            "Epoch 276/400\n",
            "45/45 [==============================] - 2s 37ms/step - loss: 0.0653 - mae: 63354.6562\n",
            "Epoch 277/400\n",
            "45/45 [==============================] - 2s 37ms/step - loss: 0.0641 - mae: 62780.4219\n",
            "Epoch 278/400\n",
            "45/45 [==============================] - 2s 37ms/step - loss: 0.0613 - mae: 65353.7383\n",
            "Epoch 279/400\n",
            "45/45 [==============================] - 2s 37ms/step - loss: 0.0609 - mae: 62215.7461\n",
            "Epoch 280/400\n",
            "45/45 [==============================] - 2s 37ms/step - loss: 0.0639 - mae: 63701.7266\n",
            "Epoch 281/400\n",
            "45/45 [==============================] - 2s 36ms/step - loss: 0.0656 - mae: 65363.4766\n",
            "Epoch 282/400\n",
            "45/45 [==============================] - 2s 37ms/step - loss: 0.0677 - mae: 67903.6172\n",
            "Epoch 283/400\n",
            "45/45 [==============================] - 2s 36ms/step - loss: 0.0629 - mae: 64881.9180\n",
            "Epoch 284/400\n",
            "45/45 [==============================] - 2s 37ms/step - loss: 0.0684 - mae: 66915.5781\n",
            "Epoch 285/400\n",
            "45/45 [==============================] - 2s 37ms/step - loss: 0.0619 - mae: 66501.9766\n",
            "Epoch 286/400\n",
            "45/45 [==============================] - 2s 37ms/step - loss: 0.0697 - mae: 67398.6953\n",
            "Epoch 287/400\n",
            "45/45 [==============================] - 2s 37ms/step - loss: 0.0637 - mae: 62155.8711\n",
            "Epoch 288/400\n",
            "45/45 [==============================] - 2s 37ms/step - loss: 0.0664 - mae: 65546.6016\n",
            "Epoch 289/400\n",
            "45/45 [==============================] - 2s 37ms/step - loss: 0.0695 - mae: 66944.0391\n",
            "Epoch 290/400\n",
            "45/45 [==============================] - 2s 36ms/step - loss: 0.0654 - mae: 67252.6797\n",
            "Epoch 291/400\n",
            "45/45 [==============================] - 2s 36ms/step - loss: 0.0642 - mae: 65619.6406\n",
            "Epoch 292/400\n",
            "45/45 [==============================] - 2s 37ms/step - loss: 0.0616 - mae: 63890.4219\n",
            "Epoch 293/400\n",
            "45/45 [==============================] - 2s 36ms/step - loss: 0.0580 - mae: 63224.6719\n",
            "Epoch 294/400\n",
            "45/45 [==============================] - 2s 37ms/step - loss: 0.0619 - mae: 62624.6172\n",
            "Epoch 295/400\n",
            "45/45 [==============================] - 2s 36ms/step - loss: 0.0669 - mae: 66813.7344\n",
            "Epoch 296/400\n",
            "45/45 [==============================] - 2s 36ms/step - loss: 0.0548 - mae: 62643.3438\n",
            "Epoch 297/400\n",
            "45/45 [==============================] - 2s 37ms/step - loss: 0.0597 - mae: 61871.7891\n",
            "Epoch 298/400\n",
            "45/45 [==============================] - 2s 36ms/step - loss: 0.0581 - mae: 62024.4336\n",
            "Epoch 299/400\n",
            "45/45 [==============================] - 2s 37ms/step - loss: 0.0647 - mae: 64975.0938\n",
            "Epoch 300/400\n",
            "45/45 [==============================] - 2s 37ms/step - loss: 0.0683 - mae: 70704.7969\n",
            "Epoch 301/400\n",
            "45/45 [==============================] - 2s 37ms/step - loss: 0.0624 - mae: 63028.3984\n",
            "Epoch 302/400\n",
            "45/45 [==============================] - 2s 36ms/step - loss: 0.0603 - mae: 63919.2461\n",
            "Epoch 303/400\n",
            "45/45 [==============================] - 2s 37ms/step - loss: 0.0670 - mae: 66035.7031\n",
            "Epoch 304/400\n",
            "45/45 [==============================] - 2s 36ms/step - loss: 0.0633 - mae: 64747.1875\n",
            "Epoch 305/400\n",
            "45/45 [==============================] - 2s 37ms/step - loss: 0.0670 - mae: 65555.0547\n",
            "Epoch 306/400\n",
            "45/45 [==============================] - 2s 36ms/step - loss: 0.0663 - mae: 62482.3789\n",
            "Epoch 307/400\n",
            "45/45 [==============================] - 2s 36ms/step - loss: 0.0620 - mae: 63605.8984\n",
            "Epoch 308/400\n",
            "45/45 [==============================] - 2s 38ms/step - loss: 0.0578 - mae: 60656.7852\n",
            "Epoch 309/400\n",
            "45/45 [==============================] - 2s 37ms/step - loss: 0.0679 - mae: 65527.1836\n",
            "Epoch 310/400\n",
            "45/45 [==============================] - 2s 36ms/step - loss: 0.0671 - mae: 67455.2891\n",
            "Epoch 311/400\n",
            "45/45 [==============================] - 2s 36ms/step - loss: 0.0599 - mae: 59631.4883\n",
            "Epoch 312/400\n",
            "45/45 [==============================] - 2s 37ms/step - loss: 0.0679 - mae: 64109.6875\n",
            "Epoch 313/400\n",
            "45/45 [==============================] - 2s 37ms/step - loss: 0.0640 - mae: 67330.9922\n",
            "Epoch 314/400\n",
            "45/45 [==============================] - 2s 37ms/step - loss: 0.0589 - mae: 63107.1602\n",
            "Epoch 315/400\n",
            "45/45 [==============================] - 2s 36ms/step - loss: 0.0687 - mae: 66433.5078\n",
            "Epoch 316/400\n",
            "45/45 [==============================] - 2s 37ms/step - loss: 0.0594 - mae: 61852.4219\n",
            "Epoch 317/400\n",
            "45/45 [==============================] - 2s 36ms/step - loss: 0.0676 - mae: 64546.1562\n",
            "Epoch 318/400\n",
            "45/45 [==============================] - 2s 37ms/step - loss: 0.0655 - mae: 63931.0938\n",
            "Epoch 319/400\n",
            "45/45 [==============================] - 2s 36ms/step - loss: 0.0615 - mae: 62642.5000\n",
            "Epoch 320/400\n",
            "45/45 [==============================] - 2s 38ms/step - loss: 0.0669 - mae: 67540.5938\n",
            "Epoch 321/400\n",
            "45/45 [==============================] - 2s 37ms/step - loss: 0.0592 - mae: 62623.2109\n",
            "Epoch 322/400\n",
            "45/45 [==============================] - 2s 37ms/step - loss: 0.0617 - mae: 60547.5039\n",
            "Epoch 323/400\n",
            "45/45 [==============================] - 2s 36ms/step - loss: 0.0653 - mae: 66438.5156\n",
            "Epoch 324/400\n",
            "45/45 [==============================] - 2s 37ms/step - loss: 0.0665 - mae: 64174.7539\n",
            "Epoch 325/400\n",
            "45/45 [==============================] - 2s 36ms/step - loss: 0.0608 - mae: 62408.2773\n",
            "Epoch 326/400\n",
            "45/45 [==============================] - 2s 37ms/step - loss: 0.0666 - mae: 64881.3281\n",
            "Epoch 327/400\n",
            "45/45 [==============================] - 2s 37ms/step - loss: 0.0669 - mae: 67173.6016\n",
            "Epoch 328/400\n",
            "45/45 [==============================] - 2s 36ms/step - loss: 0.0648 - mae: 65209.2461\n",
            "Epoch 329/400\n",
            "45/45 [==============================] - 2s 36ms/step - loss: 0.0614 - mae: 61442.6680\n",
            "Epoch 330/400\n",
            "45/45 [==============================] - 2s 36ms/step - loss: 0.0626 - mae: 62490.2500\n",
            "Epoch 331/400\n",
            "45/45 [==============================] - 2s 37ms/step - loss: 0.0527 - mae: 58311.7148\n",
            "Epoch 332/400\n",
            "45/45 [==============================] - 2s 38ms/step - loss: 0.0612 - mae: 63410.9453\n",
            "Epoch 333/400\n",
            "45/45 [==============================] - 2s 36ms/step - loss: 0.0672 - mae: 66231.3438\n",
            "Epoch 334/400\n",
            "45/45 [==============================] - 2s 37ms/step - loss: 0.0654 - mae: 65189.6562\n",
            "Epoch 335/400\n",
            "45/45 [==============================] - 2s 37ms/step - loss: 0.0650 - mae: 63323.9062\n",
            "Epoch 336/400\n",
            "45/45 [==============================] - 2s 36ms/step - loss: 0.0588 - mae: 62793.1562\n",
            "Epoch 337/400\n",
            "45/45 [==============================] - 2s 38ms/step - loss: 0.0641 - mae: 65448.6445\n",
            "Epoch 338/400\n",
            "45/45 [==============================] - 2s 36ms/step - loss: 0.0640 - mae: 66329.0078\n",
            "Epoch 339/400\n",
            "45/45 [==============================] - 2s 37ms/step - loss: 0.0576 - mae: 59174.2227\n",
            "Epoch 340/400\n",
            "45/45 [==============================] - 2s 37ms/step - loss: 0.0669 - mae: 66665.0469\n",
            "Epoch 341/400\n",
            "45/45 [==============================] - 2s 37ms/step - loss: 0.0670 - mae: 66584.1953\n",
            "Epoch 342/400\n",
            "45/45 [==============================] - 2s 37ms/step - loss: 0.0652 - mae: 64413.1289\n",
            "Epoch 343/400\n",
            "45/45 [==============================] - 2s 37ms/step - loss: 0.0597 - mae: 59163.1836\n",
            "Epoch 344/400\n",
            "45/45 [==============================] - 2s 36ms/step - loss: 0.0629 - mae: 66143.3047\n",
            "Epoch 345/400\n",
            "45/45 [==============================] - 2s 37ms/step - loss: 0.0638 - mae: 66378.6797\n",
            "Epoch 346/400\n",
            "45/45 [==============================] - 2s 37ms/step - loss: 0.0612 - mae: 61056.2109\n",
            "Epoch 347/400\n",
            "45/45 [==============================] - 2s 36ms/step - loss: 0.0639 - mae: 65455.5781\n",
            "Epoch 348/400\n",
            "45/45 [==============================] - 2s 37ms/step - loss: 0.0615 - mae: 64884.7500\n",
            "Epoch 349/400\n",
            "45/45 [==============================] - 2s 36ms/step - loss: 0.0637 - mae: 64439.0430\n",
            "Epoch 350/400\n",
            "45/45 [==============================] - 2s 37ms/step - loss: 0.0554 - mae: 61469.5156\n",
            "Epoch 351/400\n",
            "45/45 [==============================] - 2s 37ms/step - loss: 0.0698 - mae: 70009.3672\n",
            "Epoch 352/400\n",
            "45/45 [==============================] - 2s 36ms/step - loss: 0.0608 - mae: 60429.2461\n",
            "Epoch 353/400\n",
            "45/45 [==============================] - 2s 36ms/step - loss: 0.0656 - mae: 63774.6094\n",
            "Epoch 354/400\n",
            "45/45 [==============================] - 2s 36ms/step - loss: 0.0606 - mae: 60315.1172\n",
            "Epoch 355/400\n",
            "45/45 [==============================] - 2s 36ms/step - loss: 0.0677 - mae: 67293.4531\n",
            "Epoch 356/400\n",
            "45/45 [==============================] - 2s 37ms/step - loss: 0.0631 - mae: 65398.2617\n",
            "Epoch 357/400\n",
            "45/45 [==============================] - 2s 37ms/step - loss: 0.0617 - mae: 62813.9570\n",
            "Epoch 358/400\n",
            "45/45 [==============================] - 2s 37ms/step - loss: 0.0648 - mae: 66739.3359\n",
            "Epoch 359/400\n",
            "45/45 [==============================] - 2s 37ms/step - loss: 0.0642 - mae: 63924.2930\n",
            "Epoch 360/400\n",
            "45/45 [==============================] - 2s 37ms/step - loss: 0.0645 - mae: 65305.4609\n",
            "Epoch 361/400\n",
            "45/45 [==============================] - 2s 36ms/step - loss: 0.0665 - mae: 68163.4297\n",
            "Epoch 362/400\n",
            "45/45 [==============================] - 2s 36ms/step - loss: 0.0667 - mae: 64531.5117\n",
            "Epoch 363/400\n",
            "45/45 [==============================] - 2s 37ms/step - loss: 0.0660 - mae: 65446.0039\n",
            "Epoch 364/400\n",
            "45/45 [==============================] - 2s 36ms/step - loss: 0.0618 - mae: 60889.4102\n",
            "Epoch 365/400\n",
            "45/45 [==============================] - 2s 36ms/step - loss: 0.0575 - mae: 60952.5234\n",
            "Epoch 366/400\n",
            "45/45 [==============================] - 2s 36ms/step - loss: 0.0652 - mae: 66272.9766\n",
            "Epoch 367/400\n",
            "45/45 [==============================] - 2s 36ms/step - loss: 0.0601 - mae: 63676.3672\n",
            "Epoch 368/400\n",
            "45/45 [==============================] - 2s 38ms/step - loss: 0.0631 - mae: 66667.9297\n",
            "Epoch 369/400\n",
            "45/45 [==============================] - 2s 37ms/step - loss: 0.0639 - mae: 67300.2969\n",
            "Epoch 370/400\n",
            "45/45 [==============================] - 2s 37ms/step - loss: 0.0622 - mae: 63909.8828\n",
            "Epoch 371/400\n",
            "45/45 [==============================] - 2s 37ms/step - loss: 0.0641 - mae: 66288.8594\n",
            "Epoch 372/400\n",
            "45/45 [==============================] - 2s 38ms/step - loss: 0.0640 - mae: 65463.1406\n",
            "Epoch 373/400\n",
            "45/45 [==============================] - 2s 38ms/step - loss: 0.0616 - mae: 63982.4961\n",
            "Epoch 374/400\n",
            "45/45 [==============================] - 2s 36ms/step - loss: 0.0594 - mae: 60600.5273\n",
            "Epoch 375/400\n",
            "45/45 [==============================] - 2s 37ms/step - loss: 0.0656 - mae: 63893.1602\n",
            "Epoch 376/400\n",
            "45/45 [==============================] - 2s 40ms/step - loss: 0.0559 - mae: 57734.9375\n",
            "Epoch 377/400\n",
            "45/45 [==============================] - 2s 37ms/step - loss: 0.0610 - mae: 66140.7188\n",
            "Epoch 378/400\n",
            "45/45 [==============================] - 2s 38ms/step - loss: 0.0663 - mae: 64623.0508\n",
            "Epoch 379/400\n",
            "45/45 [==============================] - 2s 39ms/step - loss: 0.0661 - mae: 63667.3047\n",
            "Epoch 380/400\n",
            "45/45 [==============================] - 2s 37ms/step - loss: 0.0624 - mae: 64918.1797\n",
            "Epoch 381/400\n",
            "45/45 [==============================] - 2s 37ms/step - loss: 0.0670 - mae: 65789.5078\n",
            "Epoch 382/400\n",
            "45/45 [==============================] - 2s 38ms/step - loss: 0.0609 - mae: 65525.1875\n",
            "Epoch 383/400\n",
            "45/45 [==============================] - 2s 37ms/step - loss: 0.0609 - mae: 60397.2266\n",
            "Epoch 384/400\n",
            "45/45 [==============================] - 2s 36ms/step - loss: 0.0645 - mae: 65106.7383\n",
            "Epoch 385/400\n",
            "45/45 [==============================] - 2s 35ms/step - loss: 0.0641 - mae: 65833.0000\n",
            "Epoch 386/400\n",
            "45/45 [==============================] - 2s 37ms/step - loss: 0.0608 - mae: 63383.2383\n",
            "Epoch 387/400\n",
            "45/45 [==============================] - 2s 38ms/step - loss: 0.0698 - mae: 67283.8594\n",
            "Epoch 388/400\n",
            "45/45 [==============================] - 2s 37ms/step - loss: 0.0649 - mae: 65305.5117\n",
            "Epoch 389/400\n",
            "45/45 [==============================] - 2s 36ms/step - loss: 0.0643 - mae: 66105.1484\n",
            "Epoch 390/400\n",
            "45/45 [==============================] - 2s 36ms/step - loss: 0.0637 - mae: 64009.5039\n",
            "Epoch 391/400\n",
            "45/45 [==============================] - 2s 36ms/step - loss: 0.0606 - mae: 64945.0625\n",
            "Epoch 392/400\n",
            "45/45 [==============================] - 2s 37ms/step - loss: 0.0642 - mae: 67959.7969\n",
            "Epoch 393/400\n",
            "45/45 [==============================] - 2s 37ms/step - loss: 0.0647 - mae: 64946.5156\n",
            "Epoch 394/400\n",
            "45/45 [==============================] - 2s 37ms/step - loss: 0.0617 - mae: 63562.3555\n",
            "Epoch 395/400\n",
            "45/45 [==============================] - 2s 35ms/step - loss: 0.0651 - mae: 67296.5156\n",
            "Epoch 396/400\n",
            "45/45 [==============================] - 2s 37ms/step - loss: 0.0580 - mae: 58965.9336\n",
            "Epoch 397/400\n",
            "45/45 [==============================] - 2s 37ms/step - loss: 0.0594 - mae: 60181.6602\n",
            "Epoch 398/400\n",
            "45/45 [==============================] - 2s 36ms/step - loss: 0.0663 - mae: 65435.8828\n",
            "Epoch 399/400\n",
            "45/45 [==============================] - 2s 36ms/step - loss: 0.0635 - mae: 64811.4648\n",
            "Epoch 400/400\n",
            "45/45 [==============================] - 2s 36ms/step - loss: 0.0608 - mae: 62837.6211\n"
          ],
          "name": "stdout"
        }
      ]
    },
    {
      "cell_type": "code",
      "metadata": {
        "id": "akKwyqeZ4ADM",
        "colab_type": "code",
        "outputId": "048f9ad0-9079-43b7-f271-1246e6cd320f",
        "colab": {
          "base_uri": "https://localhost:8080/",
          "height": 323
        }
      },
      "source": [
        "#Showing the parameters computed\n",
        "model_LSTM.summary()"
      ],
      "execution_count": 36,
      "outputs": [
        {
          "output_type": "stream",
          "text": [
            "Model: \"sequential_2\"\n",
            "_________________________________________________________________\n",
            "Layer (type)                 Output Shape              Param #   \n",
            "=================================================================\n",
            "lstm_1 (LSTM)                (None, 5, 100)            40800     \n",
            "_________________________________________________________________\n",
            "lstm_2 (LSTM)                (None, 5, 60)             38640     \n",
            "_________________________________________________________________\n",
            "lstm_3 (LSTM)                (None, 5, 30)             10920     \n",
            "_________________________________________________________________\n",
            "lstm_4 (LSTM)                (None, 15)                2760      \n",
            "_________________________________________________________________\n",
            "dense_4 (Dense)              (None, 1)                 16        \n",
            "=================================================================\n",
            "Total params: 93,136\n",
            "Trainable params: 93,136\n",
            "Non-trainable params: 0\n",
            "_________________________________________________________________\n"
          ],
          "name": "stdout"
        }
      ]
    },
    {
      "cell_type": "markdown",
      "metadata": {
        "id": "D5AFEztoEhxh",
        "colab_type": "text"
      },
      "source": [
        "#5.3 Results"
      ]
    },
    {
      "cell_type": "code",
      "metadata": {
        "id": "Vn7sEaB0MAEp",
        "colab_type": "code",
        "outputId": "652271c1-6880-4805-8dc2-2778e3ebbb08",
        "colab": {
          "base_uri": "https://localhost:8080/",
          "height": 391
        }
      },
      "source": [
        "#Get the accuracy scores\n",
        "score_LSTM = model_LSTM.evaluate(X_test_LSTM, y_test_LSTM)\n",
        "print(\"\\n\")\n",
        "print(\"The scores are: \")\n",
        "print(score_LSTM)\n",
        "print(\"\\n\")\n",
        "\n",
        "#Get the names of the metrics\n",
        "names_LSTM = model_LSTM.metrics_names\n",
        "print(\"The name of the previous scores are: \")\n",
        "print(names_LSTM)\n",
        "print(\"\\n\")\n",
        "\n",
        "#Get the predictions\n",
        "prediction_LSTM = model_LSTM.predict(X_test_LSTM)\n",
        "print(\"Predictions of the model: \")\n",
        "print(prediction_LSTM)"
      ],
      "execution_count": 37,
      "outputs": [
        {
          "output_type": "stream",
          "text": [
            "\r10/10 [==============================] - 0s 15ms/step\n",
            "\n",
            "\n",
            "The scores are: \n",
            "[0.06594711542129517, 56142.36328125]\n",
            "\n",
            "\n",
            "The name of the previous scores are: \n",
            "['loss', 'mae']\n",
            "\n",
            "\n",
            "Predictions of the model: \n",
            "[[296264.97]\n",
            " [278334.28]\n",
            " [313872.47]\n",
            " [300721.66]\n",
            " [299607.75]\n",
            " [294944.47]\n",
            " [262718.88]\n",
            " [249050.33]\n",
            " [256896.22]\n",
            " [284629.7 ]]\n"
          ],
          "name": "stdout"
        }
      ]
    },
    {
      "cell_type": "code",
      "metadata": {
        "id": "pAQdxjUWXHdU",
        "colab_type": "code",
        "outputId": "bd12d66a-217f-4a5f-d4d6-46633d8bf6bf",
        "colab": {
          "base_uri": "https://localhost:8080/",
          "height": 353
        }
      },
      "source": [
        "#Plotting the real sales \n",
        "real_LSTM = pd.DataFrame(data = y_test_LSTM)\n",
        "real_LSTM.plot(kind = \"line\", color = \"green\", title = \"Real values\", figsize = (5,5))"
      ],
      "execution_count": 38,
      "outputs": [
        {
          "output_type": "execute_result",
          "data": {
            "text/plain": [
              "<matplotlib.axes._subplots.AxesSubplot at 0x7fcfe0130e48>"
            ]
          },
          "metadata": {
            "tags": []
          },
          "execution_count": 38
        },
        {
          "output_type": "display_data",
          "data": {
            "image/png": "[encoded data removed]",
            "text/plain": [
              "<Figure size 360x360 with 1 Axes>"
            ]
          },
          "metadata": {
            "tags": [],
            "needs_background": "light"
          }
        }
      ]
    },
    {
      "cell_type": "code",
      "metadata": {
        "id": "LjPo8Dfr6NT2",
        "colab_type": "code",
        "outputId": "370bb028-066d-4403-8345-f91590a75fab",
        "colab": {
          "base_uri": "https://localhost:8080/",
          "height": 353
        }
      },
      "source": [
        "#Plotting the real sales \n",
        "predicted_LSTM = pd.DataFrame(data = prediction_LSTM)\n",
        "predicted_LSTM.plot(kind = \"line\", color = \"green\", title = \"Predicted values\", figsize = (5,5))"
      ],
      "execution_count": 39,
      "outputs": [
        {
          "output_type": "execute_result",
          "data": {
            "text/plain": [
              "<matplotlib.axes._subplots.AxesSubplot at 0x7fcfe0039240>"
            ]
          },
          "metadata": {
            "tags": []
          },
          "execution_count": 39
        },
        {
          "output_type": "display_data",
          "data": {
            "image/png": "[encoded data removed]",
            "text/plain": [
              "<Figure size 360x360 with 1 Axes>"
            ]
          },
          "metadata": {
            "tags": [],
            "needs_background": "light"
          }
        }
      ]
    }
  ]
}