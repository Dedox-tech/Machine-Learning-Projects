{
  "nbformat": 4,
  "nbformat_minor": 0,
  "metadata": {
    "colab": {
      "name": "Summarize Maintenance",
      "provenance": [],
      "collapsed_sections": []
    },
    "kernelspec": {
      "name": "python3",
      "display_name": "Python 3"
    },
    "accelerator": "GPU"
  },
  "cells": [
    {
      "cell_type": "markdown",
      "metadata": {
        "id": "SZPSaY8zA-Fm",
        "colab_type": "text"
      },
      "source": [
        "#Predictive Maintenance on Hydraulic Systems"
      ]
    },
    {
      "cell_type": "markdown",
      "metadata": {
        "id": "o8T-04Y8MdgG",
        "colab_type": "text"
      },
      "source": [
        "The objective of this project is to predict if a petroleum-based Hydraulic System will fail in a time window given or will not fail. The system has 5 components but in this work we just examined three of them (cooler, pump and flag). Essensiatilly, this is a predictive maintenance problem framed as a multi-class classification task. Therefore, we used a Deep Learning approach for handle the situation."
      ]
    },
    {
      "cell_type": "markdown",
      "metadata": {
        "id": "5PXlV97kMdwT",
        "colab_type": "text"
      },
      "source": [
        "As a methodology, we use Artificial Neural Networks (ANN). Specifically, we use Convolutional Neural Networks (CNN) for predicting this part. Since these are three targets (condition monitoring of the pump, condition monitoring of the cooler, condition monitoring of the flag), we utilize the same Neural Network architecture and finally trained three different models."
      ]
    },
    {
      "cell_type": "markdown",
      "metadata": {
        "id": "6OYE0veuMd6c",
        "colab_type": "text"
      },
      "source": [
        "The rate of implementation of predictive maintenance in manufacturing plants is increasing extremely worldwide. Recently companies seem to understand that Machine Learning systems could give better maintenance schedules that simples fixed rules. This fact could lead to relevant reductions in operational costs, so the impact in the business is rather evident. "
      ]
    },
    {
      "cell_type": "markdown",
      "metadata": {
        "id": "jNsSVEuWMkUf",
        "colab_type": "text"
      },
      "source": [
        "###Content:\n",
        "###1. Defining the functions\n",
        "###2. Condition monitoring of the pump\n",
        "###3. Condition monitoring of the cooler\n",
        "###4. Condition monitoring of the flag"
      ]
    },
    {
      "cell_type": "code",
      "metadata": {
        "id": "MIb8atBoA6bx",
        "colab_type": "code",
        "colab": {}
      },
      "source": [
        "#Libraries\n",
        "\n",
        "#Data wrangling\n",
        "import pandas as pd\n",
        "import numpy as np\n",
        "\n",
        "#Data visualization\n",
        "import matplotlib.pyplot as plt\n",
        "\n",
        "#SkLearn core and algorithms\n",
        "from sklearn.model_selection import train_test_split\n",
        "from sklearn.preprocessing import StandardScaler\n",
        "from sklearn.preprocessing import LabelEncoder\n",
        "from sklearn.metrics import classification_report\n",
        "from sklearn.metrics import confusion_matrix"
      ],
      "execution_count": 0,
      "outputs": []
    },
    {
      "cell_type": "code",
      "metadata": {
        "id": "-VVLsGmO6DR7",
        "colab_type": "code",
        "outputId": "c40bb21d-4a89-410d-c6d1-79022a98575c",
        "colab": {
          "base_uri": "https://localhost:8080/",
          "height": 153
        }
      },
      "source": [
        "#Upgrading Keras\n",
        "pip install -U keras"
      ],
      "execution_count": 2,
      "outputs": [
        {
          "output_type": "stream",
          "text": [
            "Requirement already up-to-date: keras in /usr/local/lib/python3.6/dist-packages (2.3.1)\n",
            "Requirement already satisfied, skipping upgrade: numpy>=1.9.1 in /usr/local/lib/python3.6/dist-packages (from keras) (1.18.3)\n",
            "Requirement already satisfied, skipping upgrade: keras-preprocessing>=1.0.5 in /usr/local/lib/python3.6/dist-packages (from keras) (1.1.0)\n",
            "Requirement already satisfied, skipping upgrade: keras-applications>=1.0.6 in /usr/local/lib/python3.6/dist-packages (from keras) (1.0.8)\n",
            "Requirement already satisfied, skipping upgrade: pyyaml in /usr/local/lib/python3.6/dist-packages (from keras) (3.13)\n",
            "Requirement already satisfied, skipping upgrade: six>=1.9.0 in /usr/local/lib/python3.6/dist-packages (from keras) (1.12.0)\n",
            "Requirement already satisfied, skipping upgrade: scipy>=0.14 in /usr/local/lib/python3.6/dist-packages (from keras) (1.4.1)\n",
            "Requirement already satisfied, skipping upgrade: h5py in /usr/local/lib/python3.6/dist-packages (from keras) (2.10.0)\n"
          ],
          "name": "stdout"
        }
      ]
    },
    {
      "cell_type": "code",
      "metadata": {
        "id": "7wE7EoRh6FER",
        "colab_type": "code",
        "outputId": "1f471c96-57e6-446e-997a-989268bb98f1",
        "colab": {
          "base_uri": "https://localhost:8080/",
          "height": 34
        }
      },
      "source": [
        "#Keras models \n",
        "from keras.models import Sequential\n",
        "from keras.layers import Dense, Dropout\n",
        "from keras.layers import Embedding\n",
        "from keras.layers import Conv1D, GlobalAveragePooling1D, MaxPooling1D\n",
        "from keras.utils import to_categorical\n",
        "from keras.utils import plot_model\n",
        "from keras.utils import model_to_dot"
      ],
      "execution_count": 3,
      "outputs": [
        {
          "output_type": "stream",
          "text": [
            "Using TensorFlow backend.\n"
          ],
          "name": "stderr"
        }
      ]
    },
    {
      "cell_type": "code",
      "metadata": {
        "id": "Tc7yNYny6GWh",
        "colab_type": "code",
        "colab": {}
      },
      "source": [
        "#Displaying images in the notebook \n",
        "from IPython.display import Image "
      ],
      "execution_count": 0,
      "outputs": []
    },
    {
      "cell_type": "code",
      "metadata": {
        "id": "S_ncd_3w6G36",
        "colab_type": "code",
        "colab": {}
      },
      "source": [
        "#Importing the target of the dataset\n",
        "url_target = \"https://raw.githubusercontent.com/Dedox-tech/Dataset/master/profile.txt\""
      ],
      "execution_count": 0,
      "outputs": []
    },
    {
      "cell_type": "code",
      "metadata": {
        "id": "8JHJ02nB7IxQ",
        "colab_type": "code",
        "colab": {}
      },
      "source": [
        "#Reading the dataset\n",
        "target = pd.read_csv(url_target, sep=\"\\t\", header=None, names=[\"Cooler\",\"Valve\",\"Pump\",\"Accumulator\",\"Flag\"])"
      ],
      "execution_count": 0,
      "outputs": []
    },
    {
      "cell_type": "code",
      "metadata": {
        "id": "Dhvvk-LV7Kp2",
        "colab_type": "code",
        "outputId": "f90b5a0c-79d2-4acf-a6a9-ff28a0ec9cf8",
        "colab": {
          "base_uri": "https://localhost:8080/",
          "height": 204
        }
      },
      "source": [
        "#Showing the first 5 rows of the dataset\n",
        "target.head()"
      ],
      "execution_count": 7,
      "outputs": [
        {
          "output_type": "execute_result",
          "data": {
            "text/html": [
              "<div>\n",
              "<style scoped>\n",
              "    .dataframe tbody tr th:only-of-type {\n",
              "        vertical-align: middle;\n",
              "    }\n",
              "\n",
              "    .dataframe tbody tr th {\n",
              "        vertical-align: top;\n",
              "    }\n",
              "\n",
              "    .dataframe thead th {\n",
              "        text-align: right;\n",
              "    }\n",
              "</style>\n",
              "<table border=\"1\" class=\"dataframe\">\n",
              "  <thead>\n",
              "    <tr style=\"text-align: right;\">\n",
              "      <th></th>\n",
              "      <th>Cooler</th>\n",
              "      <th>Valve</th>\n",
              "      <th>Pump</th>\n",
              "      <th>Accumulator</th>\n",
              "      <th>Flag</th>\n",
              "    </tr>\n",
              "  </thead>\n",
              "  <tbody>\n",
              "    <tr>\n",
              "      <th>0</th>\n",
              "      <td>3</td>\n",
              "      <td>100</td>\n",
              "      <td>0</td>\n",
              "      <td>130</td>\n",
              "      <td>1</td>\n",
              "    </tr>\n",
              "    <tr>\n",
              "      <th>1</th>\n",
              "      <td>3</td>\n",
              "      <td>100</td>\n",
              "      <td>0</td>\n",
              "      <td>130</td>\n",
              "      <td>1</td>\n",
              "    </tr>\n",
              "    <tr>\n",
              "      <th>2</th>\n",
              "      <td>3</td>\n",
              "      <td>100</td>\n",
              "      <td>0</td>\n",
              "      <td>130</td>\n",
              "      <td>1</td>\n",
              "    </tr>\n",
              "    <tr>\n",
              "      <th>3</th>\n",
              "      <td>3</td>\n",
              "      <td>100</td>\n",
              "      <td>0</td>\n",
              "      <td>130</td>\n",
              "      <td>1</td>\n",
              "    </tr>\n",
              "    <tr>\n",
              "      <th>4</th>\n",
              "      <td>3</td>\n",
              "      <td>100</td>\n",
              "      <td>0</td>\n",
              "      <td>130</td>\n",
              "      <td>1</td>\n",
              "    </tr>\n",
              "  </tbody>\n",
              "</table>\n",
              "</div>"
            ],
            "text/plain": [
              "   Cooler  Valve  Pump  Accumulator  Flag\n",
              "0       3    100     0          130     1\n",
              "1       3    100     0          130     1\n",
              "2       3    100     0          130     1\n",
              "3       3    100     0          130     1\n",
              "4       3    100     0          130     1"
            ]
          },
          "metadata": {
            "tags": []
          },
          "execution_count": 7
        }
      ]
    },
    {
      "cell_type": "code",
      "metadata": {
        "id": "Hiu09aVq7LAd",
        "colab_type": "code",
        "outputId": "c4bb16f4-0c0f-45bd-cec9-b50f67f501b8",
        "colab": {
          "base_uri": "https://localhost:8080/",
          "height": 221
        }
      },
      "source": [
        "#Showing info about the dataset\n",
        "target.info()"
      ],
      "execution_count": 8,
      "outputs": [
        {
          "output_type": "stream",
          "text": [
            "<class 'pandas.core.frame.DataFrame'>\n",
            "RangeIndex: 2205 entries, 0 to 2204\n",
            "Data columns (total 5 columns):\n",
            " #   Column       Non-Null Count  Dtype\n",
            "---  ------       --------------  -----\n",
            " 0   Cooler       2205 non-null   int64\n",
            " 1   Valve        2205 non-null   int64\n",
            " 2   Pump         2205 non-null   int64\n",
            " 3   Accumulator  2205 non-null   int64\n",
            " 4   Flag         2205 non-null   int64\n",
            "dtypes: int64(5)\n",
            "memory usage: 86.3 KB\n"
          ],
          "name": "stdout"
        }
      ]
    },
    {
      "cell_type": "markdown",
      "metadata": {
        "id": "mvI5gYN_7kK8",
        "colab_type": "text"
      },
      "source": [
        "#1. Defining the functions"
      ]
    },
    {
      "cell_type": "markdown",
      "metadata": {
        "id": "rm0BAleyRzPs",
        "colab_type": "text"
      },
      "source": [
        "#1.1 Functions for preprocessing"
      ]
    },
    {
      "cell_type": "code",
      "metadata": {
        "id": "FYIiRtaSSHDa",
        "colab_type": "code",
        "colab": {}
      },
      "source": [
        "#Defining the preprocessing steps\n",
        "\n",
        "def do_preprocessing (X, y, features, timesteps):\n",
        "\n",
        "  X_numpy_reshaped = X.sort_index().values.reshape(-1,features,timesteps).transpose(0,2,1)\n",
        "\n",
        "  X_train, X_test, y_train, y_test = train_test_split(X_numpy_reshaped, y, random_state = 0, test_size=0.20)\n",
        "\n",
        "  scaler = StandardScaler()\n",
        "\n",
        "  X_train_processed = scaler.fit_transform(X_train.reshape(-1, X_train.shape[-1])).reshape(X_train.shape)\n",
        "  X_test_processed = scaler.transform(X_test.reshape(-1, X_test.shape[-1])).reshape(X_test.shape)\n",
        "\n",
        "  label_encoder = LabelEncoder()\n",
        "\n",
        "  y_train_encoded = label_encoder.fit_transform(y_train)\n",
        "  y_test_encoded = label_encoder.fit_transform(y_test)\n",
        "\n",
        "  y_train_processed = to_categorical(y_train_encoded)\n",
        "  y_test_processed = to_categorical(y_test_encoded)\n",
        "\n",
        "  return X_train_processed, X_test_processed, y_train_processed, y_test_processed"
      ],
      "execution_count": 0,
      "outputs": []
    },
    {
      "cell_type": "markdown",
      "metadata": {
        "id": "SN3ubBTVdE5-",
        "colab_type": "text"
      },
      "source": [
        "#1.2 Functions associated with the models"
      ]
    },
    {
      "cell_type": "code",
      "metadata": {
        "id": "MVvgGQOq7yUz",
        "colab_type": "code",
        "colab": {}
      },
      "source": [
        "#Defining the neural network model\n",
        "\n",
        "def neural_network (input_shape, class_numbers):\n",
        "\n",
        "  conv_net = Sequential()\n",
        "  conv_net.add(Conv1D(100, 6, activation=\"relu\", input_shape = input_shape))\n",
        "  conv_net.add(Conv1D(100, 6, activation=\"relu\"))\n",
        "  conv_net.add(MaxPooling1D(3))\n",
        "  conv_net.add(Conv1D(160, 6, activation=\"relu\"))\n",
        "  conv_net.add(Conv1D(160, 6, activation=\"relu\"))\n",
        "  conv_net.add(GlobalAveragePooling1D())\n",
        "  conv_net.add(Dropout(0.5))\n",
        "  conv_net.add(Dense(class_numbers, activation=\"softmax\"))\n",
        "\n",
        "  return conv_net"
      ],
      "execution_count": 0,
      "outputs": []
    },
    {
      "cell_type": "code",
      "metadata": {
        "id": "oTHH_c9zb_JR",
        "colab_type": "code",
        "colab": {}
      },
      "source": [
        "#Plot the neural network architecture\n",
        "\n",
        "def plot_neural_network (conv_net, name):\n",
        "\n",
        "  plot_model(conv_net, to_file=name, expand_nested=False, rankdir=\"TB\", show_shapes=True) \n",
        "\n",
        "  return Image(name)"
      ],
      "execution_count": 0,
      "outputs": []
    },
    {
      "cell_type": "code",
      "metadata": {
        "id": "U4-BTwEqb8Na",
        "colab_type": "code",
        "colab": {}
      },
      "source": [
        "#Compile and Fitting the neural network\n",
        "#Note that the output of the function is a tuple which contains the values of loss and accuracy\n",
        "\n",
        "def processing_neural_network (conv_net, X_train, y_train):\n",
        "\n",
        "  conv_net.compile(loss= \"categorical_crossentropy\", optimizer=\"adam\", metrics=[\"accuracy\"])\n",
        "  \n",
        "  history = conv_net.fit(x = X_train, y = y_train, epochs = 10, validation_split = 0.2)\n",
        "\n",
        "  loss_test = history.history[\"val_loss\"]\n",
        "  loss_train = history.history[\"loss\"]\n",
        "\n",
        "  accuracy_test = history.history[\"val_accuracy\"]\n",
        "  accuracy_train = history.history[\"accuracy\"]\n",
        "\n",
        "  return loss_test, loss_train, accuracy_test, accuracy_train"
      ],
      "execution_count": 0,
      "outputs": []
    },
    {
      "cell_type": "markdown",
      "metadata": {
        "id": "d9LeRv7wdMsm",
        "colab_type": "text"
      },
      "source": [
        "#1.3 Complementary functions "
      ]
    },
    {
      "cell_type": "code",
      "metadata": {
        "colab_type": "code",
        "id": "loQK87Z30L0B",
        "colab": {}
      },
      "source": [
        "#Getting Epochs\n",
        "\n",
        "def get_epochs (epochs_number):\n",
        "\n",
        "  epochs = []\n",
        "\n",
        "  while epochs_number > 0:\n",
        "\n",
        "    epochs.append(epochs_number)\n",
        "    epochs_number = epochs_number - 1\n",
        "\n",
        "  epochs.reverse()\n",
        "\n",
        "  return epochs"
      ],
      "execution_count": 0,
      "outputs": []
    },
    {
      "cell_type": "code",
      "metadata": {
        "id": "eA0Q_6cX70mM",
        "colab_type": "code",
        "colab": {}
      },
      "source": [
        "#Defining the way of plot loss curve\n",
        "\n",
        "def plot_loss_curve (loss, epochs, color, title):\n",
        "\n",
        "  data_loss = {\"Loss\": loss , \"Epochs\": epochs}\n",
        "  plot_loss = pd.DataFrame (data = data_loss)\n",
        "\n",
        "  return plot_loss.plot(x = \"Epochs\", y = \"Loss\", color = color, title = title, figsize = (5,5))"
      ],
      "execution_count": 0,
      "outputs": []
    },
    {
      "cell_type": "code",
      "metadata": {
        "id": "L-eOgaghhynO",
        "colab_type": "code",
        "colab": {}
      },
      "source": [
        "#Defining the way of plot accuracy curve\n",
        "\n",
        "def plot_accuracy_curve (accuracy, epochs, color, title):\n",
        "\n",
        "  data_accuracy = {\"Accuracy\": accuracy, \"Epochs\": epochs}\n",
        "  plot_accuracy = pd.DataFrame (data = data_accuracy)\n",
        "\n",
        "  return plot_accuracy.plot(x = \"Epochs\", y = \"Accuracy\", color = color, title = title, figsize = (5,5))"
      ],
      "execution_count": 0,
      "outputs": []
    },
    {
      "cell_type": "markdown",
      "metadata": {
        "id": "Xd96ZRUi7TZk",
        "colab_type": "text"
      },
      "source": [
        "#2. Condition Monitoring of the Pump"
      ]
    },
    {
      "cell_type": "markdown",
      "metadata": {
        "id": "uN22sTm3htHW",
        "colab_type": "text"
      },
      "source": [
        "#2.1 Data exploration and preprocessing"
      ]
    },
    {
      "cell_type": "code",
      "metadata": {
        "id": "P1ayqaJ0KczN",
        "colab_type": "code",
        "colab": {}
      },
      "source": [
        "#Defining the first target of the dataset\n",
        "y_pump = target[\"Pump\"]"
      ],
      "execution_count": 0,
      "outputs": []
    },
    {
      "cell_type": "code",
      "metadata": {
        "id": "tpepzD8fKpsq",
        "colab_type": "code",
        "outputId": "ef65a737-24b4-4800-8b33-7f248215e213",
        "colab": {
          "base_uri": "https://localhost:8080/",
          "height": 119
        }
      },
      "source": [
        "#Showing the first five rows of the first target\n",
        "y_pump.head()"
      ],
      "execution_count": 17,
      "outputs": [
        {
          "output_type": "execute_result",
          "data": {
            "text/plain": [
              "0    0\n",
              "1    0\n",
              "2    0\n",
              "3    0\n",
              "4    0\n",
              "Name: Pump, dtype: int64"
            ]
          },
          "metadata": {
            "tags": []
          },
          "execution_count": 17
        }
      ]
    },
    {
      "cell_type": "code",
      "metadata": {
        "id": "A6rxiaKDKuBJ",
        "colab_type": "code",
        "outputId": "11051bad-1c35-40e8-fe97-1961e4517dfa",
        "colab": {
          "base_uri": "https://localhost:8080/",
          "height": 85
        }
      },
      "source": [
        "#Counting the number of classes\n",
        "y_pump.value_counts()"
      ],
      "execution_count": 18,
      "outputs": [
        {
          "output_type": "execute_result",
          "data": {
            "text/plain": [
              "0    1221\n",
              "1     492\n",
              "2     492\n",
              "Name: Pump, dtype: int64"
            ]
          },
          "metadata": {
            "tags": []
          },
          "execution_count": 18
        }
      ]
    },
    {
      "cell_type": "code",
      "metadata": {
        "id": "DQ5Qbitcwr_1",
        "colab_type": "code",
        "outputId": "47fad177-1e95-4125-8a33-64367fa22def",
        "colab": {
          "base_uri": "https://localhost:8080/",
          "height": 349
        }
      },
      "source": [
        "#Plotting the class distribution of the first target\n",
        "y_pump.value_counts().plot(kind = \"bar\", color = \"blue\", title = \"Condition monitoring of the pump\", figsize = (5,5))"
      ],
      "execution_count": 19,
      "outputs": [
        {
          "output_type": "execute_result",
          "data": {
            "text/plain": [
              "<matplotlib.axes._subplots.AxesSubplot at 0x7fc62b2f2940>"
            ]
          },
          "metadata": {
            "tags": []
          },
          "execution_count": 19
        },
        {
          "output_type": "display_data",
          "data": {
            "image/png": "[encoded data removed]",
            "text/plain": [
              "<Figure size 360x360 with 1 Axes>"
            ]
          },
          "metadata": {
            "tags": [],
            "needs_background": "light"
          }
        }
      ]
    },
    {
      "cell_type": "code",
      "metadata": {
        "id": "Y3KIFdvB7oM1",
        "colab_type": "code",
        "outputId": "273d5608-7e94-4f5c-9ff8-8fe379a4bc0f",
        "colab": {
          "base_uri": "https://localhost:8080/",
          "height": 85
        }
      },
      "source": [
        "#Legends\n",
        "print(\"Legend: \")\n",
        "print(\"0: no leakage\")\n",
        "print(\"1: weak leakage\")\n",
        "print(\"2: severe leakage\")"
      ],
      "execution_count": 20,
      "outputs": [
        {
          "output_type": "stream",
          "text": [
            "Legend: \n",
            "0: no leakage\n",
            "1: weak leakage\n",
            "2: severe leakage\n"
          ],
          "name": "stdout"
        }
      ]
    },
    {
      "cell_type": "code",
      "metadata": {
        "id": "-BV_1rPWKvLp",
        "colab_type": "code",
        "colab": {}
      },
      "source": [
        "#Importing the features associated with the first target\n",
        "url_FS1 = \"https://raw.githubusercontent.com/Dedox-tech/Dataset/master/FS1.txt\""
      ],
      "execution_count": 0,
      "outputs": []
    },
    {
      "cell_type": "code",
      "metadata": {
        "id": "qOKL62aLKyEh",
        "colab_type": "code",
        "colab": {}
      },
      "source": [
        "#Reading the first feature\n",
        "FS1 = pd.read_csv(url_FS1, sep=\"\\t\", header=None)"
      ],
      "execution_count": 0,
      "outputs": []
    },
    {
      "cell_type": "code",
      "metadata": {
        "id": "27As8kPBKzcK",
        "colab_type": "code",
        "outputId": "2bb67e99-12df-43f1-e0e1-7860a45f0998",
        "colab": {
          "base_uri": "https://localhost:8080/",
          "height": 253
        }
      },
      "source": [
        "#Showing the first 5 rows of the first feature\n",
        "FS1.head()"
      ],
      "execution_count": 23,
      "outputs": [
        {
          "output_type": "execute_result",
          "data": {
            "text/html": [
              "<div>\n",
              "<style scoped>\n",
              "    .dataframe tbody tr th:only-of-type {\n",
              "        vertical-align: middle;\n",
              "    }\n",
              "\n",
              "    .dataframe tbody tr th {\n",
              "        vertical-align: top;\n",
              "    }\n",
              "\n",
              "    .dataframe thead th {\n",
              "        text-align: right;\n",
              "    }\n",
              "</style>\n",
              "<table border=\"1\" class=\"dataframe\">\n",
              "  <thead>\n",
              "    <tr style=\"text-align: right;\">\n",
              "      <th></th>\n",
              "      <th>0</th>\n",
              "      <th>1</th>\n",
              "      <th>2</th>\n",
              "      <th>3</th>\n",
              "      <th>4</th>\n",
              "      <th>5</th>\n",
              "      <th>6</th>\n",
              "      <th>7</th>\n",
              "      <th>8</th>\n",
              "      <th>9</th>\n",
              "      <th>10</th>\n",
              "      <th>11</th>\n",
              "      <th>12</th>\n",
              "      <th>13</th>\n",
              "      <th>14</th>\n",
              "      <th>15</th>\n",
              "      <th>16</th>\n",
              "      <th>17</th>\n",
              "      <th>18</th>\n",
              "      <th>19</th>\n",
              "      <th>20</th>\n",
              "      <th>21</th>\n",
              "      <th>22</th>\n",
              "      <th>23</th>\n",
              "      <th>24</th>\n",
              "      <th>25</th>\n",
              "      <th>26</th>\n",
              "      <th>27</th>\n",
              "      <th>28</th>\n",
              "      <th>29</th>\n",
              "      <th>30</th>\n",
              "      <th>31</th>\n",
              "      <th>32</th>\n",
              "      <th>33</th>\n",
              "      <th>34</th>\n",
              "      <th>35</th>\n",
              "      <th>36</th>\n",
              "      <th>37</th>\n",
              "      <th>38</th>\n",
              "      <th>39</th>\n",
              "      <th>...</th>\n",
              "      <th>560</th>\n",
              "      <th>561</th>\n",
              "      <th>562</th>\n",
              "      <th>563</th>\n",
              "      <th>564</th>\n",
              "      <th>565</th>\n",
              "      <th>566</th>\n",
              "      <th>567</th>\n",
              "      <th>568</th>\n",
              "      <th>569</th>\n",
              "      <th>570</th>\n",
              "      <th>571</th>\n",
              "      <th>572</th>\n",
              "      <th>573</th>\n",
              "      <th>574</th>\n",
              "      <th>575</th>\n",
              "      <th>576</th>\n",
              "      <th>577</th>\n",
              "      <th>578</th>\n",
              "      <th>579</th>\n",
              "      <th>580</th>\n",
              "      <th>581</th>\n",
              "      <th>582</th>\n",
              "      <th>583</th>\n",
              "      <th>584</th>\n",
              "      <th>585</th>\n",
              "      <th>586</th>\n",
              "      <th>587</th>\n",
              "      <th>588</th>\n",
              "      <th>589</th>\n",
              "      <th>590</th>\n",
              "      <th>591</th>\n",
              "      <th>592</th>\n",
              "      <th>593</th>\n",
              "      <th>594</th>\n",
              "      <th>595</th>\n",
              "      <th>596</th>\n",
              "      <th>597</th>\n",
              "      <th>598</th>\n",
              "      <th>599</th>\n",
              "    </tr>\n",
              "  </thead>\n",
              "  <tbody>\n",
              "    <tr>\n",
              "      <th>0</th>\n",
              "      <td>8.990</td>\n",
              "      <td>0.770</td>\n",
              "      <td>0.641</td>\n",
              "      <td>0.006</td>\n",
              "      <td>0.000</td>\n",
              "      <td>0.000</td>\n",
              "      <td>0.001</td>\n",
              "      <td>0.003</td>\n",
              "      <td>0.001</td>\n",
              "      <td>0.001</td>\n",
              "      <td>0.001</td>\n",
              "      <td>0.005</td>\n",
              "      <td>0.000</td>\n",
              "      <td>0.000</td>\n",
              "      <td>0.000</td>\n",
              "      <td>0.000</td>\n",
              "      <td>0.001</td>\n",
              "      <td>0.000</td>\n",
              "      <td>0.000</td>\n",
              "      <td>0.000</td>\n",
              "      <td>0.005</td>\n",
              "      <td>0.003</td>\n",
              "      <td>0.000</td>\n",
              "      <td>0.001</td>\n",
              "      <td>0.001</td>\n",
              "      <td>0.003</td>\n",
              "      <td>0.001</td>\n",
              "      <td>0.003</td>\n",
              "      <td>0.003</td>\n",
              "      <td>0.003</td>\n",
              "      <td>0.000</td>\n",
              "      <td>0.000</td>\n",
              "      <td>0.000</td>\n",
              "      <td>0.000</td>\n",
              "      <td>0.000</td>\n",
              "      <td>0.001</td>\n",
              "      <td>0.001</td>\n",
              "      <td>0.003</td>\n",
              "      <td>0.003</td>\n",
              "      <td>0.0</td>\n",
              "      <td>...</td>\n",
              "      <td>7.904</td>\n",
              "      <td>7.703</td>\n",
              "      <td>7.917</td>\n",
              "      <td>7.902</td>\n",
              "      <td>7.846</td>\n",
              "      <td>7.881</td>\n",
              "      <td>7.737</td>\n",
              "      <td>8.046</td>\n",
              "      <td>7.775</td>\n",
              "      <td>7.730</td>\n",
              "      <td>8.006</td>\n",
              "      <td>7.864</td>\n",
              "      <td>7.859</td>\n",
              "      <td>7.911</td>\n",
              "      <td>7.739</td>\n",
              "      <td>8.004</td>\n",
              "      <td>7.857</td>\n",
              "      <td>7.684</td>\n",
              "      <td>7.971</td>\n",
              "      <td>7.829</td>\n",
              "      <td>7.907</td>\n",
              "      <td>7.885</td>\n",
              "      <td>7.680</td>\n",
              "      <td>7.980</td>\n",
              "      <td>7.890</td>\n",
              "      <td>7.744</td>\n",
              "      <td>7.927</td>\n",
              "      <td>7.795</td>\n",
              "      <td>7.908</td>\n",
              "      <td>7.919</td>\n",
              "      <td>7.743</td>\n",
              "      <td>7.992</td>\n",
              "      <td>7.919</td>\n",
              "      <td>7.773</td>\n",
              "      <td>7.955</td>\n",
              "      <td>7.823</td>\n",
              "      <td>7.963</td>\n",
              "      <td>7.876</td>\n",
              "      <td>7.738</td>\n",
              "      <td>8.036</td>\n",
              "    </tr>\n",
              "    <tr>\n",
              "      <th>1</th>\n",
              "      <td>8.919</td>\n",
              "      <td>0.815</td>\n",
              "      <td>0.709</td>\n",
              "      <td>0.009</td>\n",
              "      <td>0.004</td>\n",
              "      <td>0.000</td>\n",
              "      <td>0.001</td>\n",
              "      <td>0.000</td>\n",
              "      <td>0.000</td>\n",
              "      <td>0.001</td>\n",
              "      <td>0.008</td>\n",
              "      <td>0.000</td>\n",
              "      <td>0.001</td>\n",
              "      <td>0.003</td>\n",
              "      <td>0.004</td>\n",
              "      <td>0.000</td>\n",
              "      <td>0.001</td>\n",
              "      <td>0.004</td>\n",
              "      <td>0.003</td>\n",
              "      <td>0.000</td>\n",
              "      <td>0.000</td>\n",
              "      <td>0.000</td>\n",
              "      <td>0.001</td>\n",
              "      <td>0.000</td>\n",
              "      <td>0.000</td>\n",
              "      <td>0.001</td>\n",
              "      <td>0.000</td>\n",
              "      <td>0.001</td>\n",
              "      <td>0.003</td>\n",
              "      <td>0.000</td>\n",
              "      <td>0.000</td>\n",
              "      <td>0.000</td>\n",
              "      <td>0.001</td>\n",
              "      <td>0.001</td>\n",
              "      <td>0.001</td>\n",
              "      <td>0.003</td>\n",
              "      <td>0.001</td>\n",
              "      <td>0.003</td>\n",
              "      <td>0.008</td>\n",
              "      <td>0.0</td>\n",
              "      <td>...</td>\n",
              "      <td>7.933</td>\n",
              "      <td>7.791</td>\n",
              "      <td>7.915</td>\n",
              "      <td>7.928</td>\n",
              "      <td>7.802</td>\n",
              "      <td>7.975</td>\n",
              "      <td>7.776</td>\n",
              "      <td>8.029</td>\n",
              "      <td>7.946</td>\n",
              "      <td>7.875</td>\n",
              "      <td>7.913</td>\n",
              "      <td>7.723</td>\n",
              "      <td>8.009</td>\n",
              "      <td>7.869</td>\n",
              "      <td>7.980</td>\n",
              "      <td>7.939</td>\n",
              "      <td>7.758</td>\n",
              "      <td>7.908</td>\n",
              "      <td>7.772</td>\n",
              "      <td>7.999</td>\n",
              "      <td>7.926</td>\n",
              "      <td>7.862</td>\n",
              "      <td>7.899</td>\n",
              "      <td>7.724</td>\n",
              "      <td>7.946</td>\n",
              "      <td>7.860</td>\n",
              "      <td>7.986</td>\n",
              "      <td>7.888</td>\n",
              "      <td>7.714</td>\n",
              "      <td>7.965</td>\n",
              "      <td>7.831</td>\n",
              "      <td>8.003</td>\n",
              "      <td>7.923</td>\n",
              "      <td>7.745</td>\n",
              "      <td>7.867</td>\n",
              "      <td>7.747</td>\n",
              "      <td>7.969</td>\n",
              "      <td>7.969</td>\n",
              "      <td>7.963</td>\n",
              "      <td>7.890</td>\n",
              "    </tr>\n",
              "    <tr>\n",
              "      <th>2</th>\n",
              "      <td>9.179</td>\n",
              "      <td>0.683</td>\n",
              "      <td>0.528</td>\n",
              "      <td>0.008</td>\n",
              "      <td>0.003</td>\n",
              "      <td>0.001</td>\n",
              "      <td>0.003</td>\n",
              "      <td>0.003</td>\n",
              "      <td>0.004</td>\n",
              "      <td>0.006</td>\n",
              "      <td>0.000</td>\n",
              "      <td>0.001</td>\n",
              "      <td>0.001</td>\n",
              "      <td>0.003</td>\n",
              "      <td>0.001</td>\n",
              "      <td>0.001</td>\n",
              "      <td>0.001</td>\n",
              "      <td>0.004</td>\n",
              "      <td>0.004</td>\n",
              "      <td>0.003</td>\n",
              "      <td>0.000</td>\n",
              "      <td>0.001</td>\n",
              "      <td>0.000</td>\n",
              "      <td>0.000</td>\n",
              "      <td>0.000</td>\n",
              "      <td>0.001</td>\n",
              "      <td>0.000</td>\n",
              "      <td>0.003</td>\n",
              "      <td>0.001</td>\n",
              "      <td>0.000</td>\n",
              "      <td>0.000</td>\n",
              "      <td>0.004</td>\n",
              "      <td>0.001</td>\n",
              "      <td>0.003</td>\n",
              "      <td>0.001</td>\n",
              "      <td>0.000</td>\n",
              "      <td>0.003</td>\n",
              "      <td>0.001</td>\n",
              "      <td>0.000</td>\n",
              "      <td>0.0</td>\n",
              "      <td>...</td>\n",
              "      <td>8.000</td>\n",
              "      <td>7.768</td>\n",
              "      <td>8.058</td>\n",
              "      <td>7.918</td>\n",
              "      <td>7.751</td>\n",
              "      <td>7.902</td>\n",
              "      <td>7.781</td>\n",
              "      <td>7.910</td>\n",
              "      <td>7.759</td>\n",
              "      <td>7.999</td>\n",
              "      <td>7.854</td>\n",
              "      <td>7.959</td>\n",
              "      <td>7.867</td>\n",
              "      <td>7.873</td>\n",
              "      <td>7.857</td>\n",
              "      <td>7.777</td>\n",
              "      <td>7.959</td>\n",
              "      <td>7.778</td>\n",
              "      <td>8.051</td>\n",
              "      <td>7.907</td>\n",
              "      <td>7.994</td>\n",
              "      <td>7.892</td>\n",
              "      <td>7.796</td>\n",
              "      <td>7.888</td>\n",
              "      <td>7.678</td>\n",
              "      <td>7.861</td>\n",
              "      <td>7.835</td>\n",
              "      <td>8.016</td>\n",
              "      <td>7.878</td>\n",
              "      <td>7.994</td>\n",
              "      <td>7.862</td>\n",
              "      <td>7.815</td>\n",
              "      <td>7.894</td>\n",
              "      <td>7.743</td>\n",
              "      <td>7.936</td>\n",
              "      <td>7.770</td>\n",
              "      <td>7.982</td>\n",
              "      <td>7.873</td>\n",
              "      <td>7.898</td>\n",
              "      <td>7.952</td>\n",
              "    </tr>\n",
              "    <tr>\n",
              "      <th>3</th>\n",
              "      <td>9.034</td>\n",
              "      <td>0.728</td>\n",
              "      <td>0.595</td>\n",
              "      <td>0.009</td>\n",
              "      <td>0.001</td>\n",
              "      <td>0.004</td>\n",
              "      <td>0.003</td>\n",
              "      <td>0.003</td>\n",
              "      <td>0.003</td>\n",
              "      <td>0.001</td>\n",
              "      <td>0.000</td>\n",
              "      <td>0.000</td>\n",
              "      <td>0.000</td>\n",
              "      <td>0.000</td>\n",
              "      <td>0.000</td>\n",
              "      <td>0.001</td>\n",
              "      <td>0.000</td>\n",
              "      <td>0.000</td>\n",
              "      <td>0.000</td>\n",
              "      <td>0.000</td>\n",
              "      <td>0.000</td>\n",
              "      <td>0.003</td>\n",
              "      <td>0.001</td>\n",
              "      <td>0.003</td>\n",
              "      <td>0.003</td>\n",
              "      <td>0.001</td>\n",
              "      <td>0.001</td>\n",
              "      <td>0.006</td>\n",
              "      <td>0.000</td>\n",
              "      <td>0.004</td>\n",
              "      <td>0.001</td>\n",
              "      <td>0.001</td>\n",
              "      <td>0.006</td>\n",
              "      <td>0.000</td>\n",
              "      <td>0.001</td>\n",
              "      <td>0.003</td>\n",
              "      <td>0.005</td>\n",
              "      <td>0.000</td>\n",
              "      <td>0.000</td>\n",
              "      <td>0.0</td>\n",
              "      <td>...</td>\n",
              "      <td>7.831</td>\n",
              "      <td>7.943</td>\n",
              "      <td>7.778</td>\n",
              "      <td>7.869</td>\n",
              "      <td>7.762</td>\n",
              "      <td>7.956</td>\n",
              "      <td>7.772</td>\n",
              "      <td>7.966</td>\n",
              "      <td>7.758</td>\n",
              "      <td>7.934</td>\n",
              "      <td>7.936</td>\n",
              "      <td>7.976</td>\n",
              "      <td>7.890</td>\n",
              "      <td>7.909</td>\n",
              "      <td>7.826</td>\n",
              "      <td>7.718</td>\n",
              "      <td>7.917</td>\n",
              "      <td>7.817</td>\n",
              "      <td>7.927</td>\n",
              "      <td>7.791</td>\n",
              "      <td>7.862</td>\n",
              "      <td>7.848</td>\n",
              "      <td>7.990</td>\n",
              "      <td>7.834</td>\n",
              "      <td>7.953</td>\n",
              "      <td>7.941</td>\n",
              "      <td>7.882</td>\n",
              "      <td>7.835</td>\n",
              "      <td>7.779</td>\n",
              "      <td>7.938</td>\n",
              "      <td>7.631</td>\n",
              "      <td>7.949</td>\n",
              "      <td>7.773</td>\n",
              "      <td>8.054</td>\n",
              "      <td>7.827</td>\n",
              "      <td>8.011</td>\n",
              "      <td>7.919</td>\n",
              "      <td>7.938</td>\n",
              "      <td>7.877</td>\n",
              "      <td>7.773</td>\n",
              "    </tr>\n",
              "    <tr>\n",
              "      <th>4</th>\n",
              "      <td>8.729</td>\n",
              "      <td>0.705</td>\n",
              "      <td>0.446</td>\n",
              "      <td>0.014</td>\n",
              "      <td>0.007</td>\n",
              "      <td>0.003</td>\n",
              "      <td>0.001</td>\n",
              "      <td>0.003</td>\n",
              "      <td>0.001</td>\n",
              "      <td>0.000</td>\n",
              "      <td>0.001</td>\n",
              "      <td>0.001</td>\n",
              "      <td>0.000</td>\n",
              "      <td>0.001</td>\n",
              "      <td>0.005</td>\n",
              "      <td>0.000</td>\n",
              "      <td>0.000</td>\n",
              "      <td>0.000</td>\n",
              "      <td>0.001</td>\n",
              "      <td>0.000</td>\n",
              "      <td>0.001</td>\n",
              "      <td>0.003</td>\n",
              "      <td>0.005</td>\n",
              "      <td>0.001</td>\n",
              "      <td>0.001</td>\n",
              "      <td>0.000</td>\n",
              "      <td>0.001</td>\n",
              "      <td>0.001</td>\n",
              "      <td>0.003</td>\n",
              "      <td>0.001</td>\n",
              "      <td>0.000</td>\n",
              "      <td>0.003</td>\n",
              "      <td>0.003</td>\n",
              "      <td>0.001</td>\n",
              "      <td>0.001</td>\n",
              "      <td>0.001</td>\n",
              "      <td>0.000</td>\n",
              "      <td>0.000</td>\n",
              "      <td>0.000</td>\n",
              "      <td>0.0</td>\n",
              "      <td>...</td>\n",
              "      <td>7.808</td>\n",
              "      <td>7.706</td>\n",
              "      <td>7.976</td>\n",
              "      <td>7.688</td>\n",
              "      <td>7.909</td>\n",
              "      <td>7.816</td>\n",
              "      <td>7.777</td>\n",
              "      <td>7.748</td>\n",
              "      <td>7.992</td>\n",
              "      <td>7.786</td>\n",
              "      <td>7.875</td>\n",
              "      <td>7.779</td>\n",
              "      <td>7.951</td>\n",
              "      <td>7.819</td>\n",
              "      <td>8.072</td>\n",
              "      <td>7.806</td>\n",
              "      <td>7.929</td>\n",
              "      <td>7.873</td>\n",
              "      <td>7.875</td>\n",
              "      <td>7.887</td>\n",
              "      <td>7.844</td>\n",
              "      <td>7.884</td>\n",
              "      <td>7.756</td>\n",
              "      <td>7.902</td>\n",
              "      <td>7.673</td>\n",
              "      <td>7.921</td>\n",
              "      <td>7.731</td>\n",
              "      <td>8.001</td>\n",
              "      <td>7.702</td>\n",
              "      <td>8.022</td>\n",
              "      <td>7.771</td>\n",
              "      <td>7.936</td>\n",
              "      <td>7.919</td>\n",
              "      <td>7.946</td>\n",
              "      <td>7.804</td>\n",
              "      <td>7.983</td>\n",
              "      <td>7.838</td>\n",
              "      <td>7.882</td>\n",
              "      <td>7.894</td>\n",
              "      <td>7.825</td>\n",
              "    </tr>\n",
              "  </tbody>\n",
              "</table>\n",
              "<p>5 rows × 600 columns</p>\n",
              "</div>"
            ],
            "text/plain": [
              "     0      1      2      3      4    ...    595    596    597    598    599\n",
              "0  8.990  0.770  0.641  0.006  0.000  ...  7.823  7.963  7.876  7.738  8.036\n",
              "1  8.919  0.815  0.709  0.009  0.004  ...  7.747  7.969  7.969  7.963  7.890\n",
              "2  9.179  0.683  0.528  0.008  0.003  ...  7.770  7.982  7.873  7.898  7.952\n",
              "3  9.034  0.728  0.595  0.009  0.001  ...  8.011  7.919  7.938  7.877  7.773\n",
              "4  8.729  0.705  0.446  0.014  0.007  ...  7.983  7.838  7.882  7.894  7.825\n",
              "\n",
              "[5 rows x 600 columns]"
            ]
          },
          "metadata": {
            "tags": []
          },
          "execution_count": 23
        }
      ]
    },
    {
      "cell_type": "code",
      "metadata": {
        "id": "Honi5ttUzAV_",
        "colab_type": "code",
        "outputId": "d5a606cf-a649-4091-dd5d-8ea273d2d666",
        "colab": {
          "base_uri": "https://localhost:8080/",
          "height": 353
        }
      },
      "source": [
        "#Ploting the first cycle of the first sensor\n",
        "FS1.iloc[0].plot(kind = \"line\", color = \"blue\", title = \"First cycle of the first volume flow sensor\", figsize = (5,5))"
      ],
      "execution_count": 24,
      "outputs": [
        {
          "output_type": "execute_result",
          "data": {
            "text/plain": [
              "<matplotlib.axes._subplots.AxesSubplot at 0x7fc62ad92278>"
            ]
          },
          "metadata": {
            "tags": []
          },
          "execution_count": 24
        },
        {
          "output_type": "display_data",
          "data": {
            "image/png": "[encoded data removed]",
            "text/plain": [
              "<Figure size 360x360 with 1 Axes>"
            ]
          },
          "metadata": {
            "tags": [],
            "needs_background": "light"
          }
        }
      ]
    },
    {
      "cell_type": "code",
      "metadata": {
        "id": "T0W6L5x3K1lG",
        "colab_type": "code",
        "outputId": "058cd8a2-4e5a-48d4-ca86-dc2b8a8c604f",
        "colab": {
          "base_uri": "https://localhost:8080/",
          "height": 102
        }
      },
      "source": [
        "#Showing info about the first sensor\n",
        "FS1.info()"
      ],
      "execution_count": 25,
      "outputs": [
        {
          "output_type": "stream",
          "text": [
            "<class 'pandas.core.frame.DataFrame'>\n",
            "RangeIndex: 2205 entries, 0 to 2204\n",
            "Columns: 600 entries, 0 to 599\n",
            "dtypes: float64(600)\n",
            "memory usage: 10.1 MB\n"
          ],
          "name": "stdout"
        }
      ]
    },
    {
      "cell_type": "code",
      "metadata": {
        "id": "M5KogYolK3oj",
        "colab_type": "code",
        "colab": {}
      },
      "source": [
        "#Importing the features associated with the first target\n",
        "url_FS2 = \"https://raw.githubusercontent.com/Dedox-tech/Dataset/master/FS2.txt\""
      ],
      "execution_count": 0,
      "outputs": []
    },
    {
      "cell_type": "code",
      "metadata": {
        "id": "7RIneWugK5Ii",
        "colab_type": "code",
        "colab": {}
      },
      "source": [
        "#Reading the first feature\n",
        "FS2 = pd.read_csv(url_FS2, sep=\"\\t\", header=None)"
      ],
      "execution_count": 0,
      "outputs": []
    },
    {
      "cell_type": "code",
      "metadata": {
        "id": "Jek472cyK6ZJ",
        "colab_type": "code",
        "outputId": "cdd7ec54-c384-4d84-823c-f629f90d8f80",
        "colab": {
          "base_uri": "https://localhost:8080/",
          "height": 253
        }
      },
      "source": [
        "#Showing the first 5 rows of the second feature\n",
        "FS2.head()"
      ],
      "execution_count": 28,
      "outputs": [
        {
          "output_type": "execute_result",
          "data": {
            "text/html": [
              "<div>\n",
              "<style scoped>\n",
              "    .dataframe tbody tr th:only-of-type {\n",
              "        vertical-align: middle;\n",
              "    }\n",
              "\n",
              "    .dataframe tbody tr th {\n",
              "        vertical-align: top;\n",
              "    }\n",
              "\n",
              "    .dataframe thead th {\n",
              "        text-align: right;\n",
              "    }\n",
              "</style>\n",
              "<table border=\"1\" class=\"dataframe\">\n",
              "  <thead>\n",
              "    <tr style=\"text-align: right;\">\n",
              "      <th></th>\n",
              "      <th>0</th>\n",
              "      <th>1</th>\n",
              "      <th>2</th>\n",
              "      <th>3</th>\n",
              "      <th>4</th>\n",
              "      <th>5</th>\n",
              "      <th>6</th>\n",
              "      <th>7</th>\n",
              "      <th>8</th>\n",
              "      <th>9</th>\n",
              "      <th>10</th>\n",
              "      <th>11</th>\n",
              "      <th>12</th>\n",
              "      <th>13</th>\n",
              "      <th>14</th>\n",
              "      <th>15</th>\n",
              "      <th>16</th>\n",
              "      <th>17</th>\n",
              "      <th>18</th>\n",
              "      <th>19</th>\n",
              "      <th>20</th>\n",
              "      <th>21</th>\n",
              "      <th>22</th>\n",
              "      <th>23</th>\n",
              "      <th>24</th>\n",
              "      <th>25</th>\n",
              "      <th>26</th>\n",
              "      <th>27</th>\n",
              "      <th>28</th>\n",
              "      <th>29</th>\n",
              "      <th>30</th>\n",
              "      <th>31</th>\n",
              "      <th>32</th>\n",
              "      <th>33</th>\n",
              "      <th>34</th>\n",
              "      <th>35</th>\n",
              "      <th>36</th>\n",
              "      <th>37</th>\n",
              "      <th>38</th>\n",
              "      <th>39</th>\n",
              "      <th>...</th>\n",
              "      <th>560</th>\n",
              "      <th>561</th>\n",
              "      <th>562</th>\n",
              "      <th>563</th>\n",
              "      <th>564</th>\n",
              "      <th>565</th>\n",
              "      <th>566</th>\n",
              "      <th>567</th>\n",
              "      <th>568</th>\n",
              "      <th>569</th>\n",
              "      <th>570</th>\n",
              "      <th>571</th>\n",
              "      <th>572</th>\n",
              "      <th>573</th>\n",
              "      <th>574</th>\n",
              "      <th>575</th>\n",
              "      <th>576</th>\n",
              "      <th>577</th>\n",
              "      <th>578</th>\n",
              "      <th>579</th>\n",
              "      <th>580</th>\n",
              "      <th>581</th>\n",
              "      <th>582</th>\n",
              "      <th>583</th>\n",
              "      <th>584</th>\n",
              "      <th>585</th>\n",
              "      <th>586</th>\n",
              "      <th>587</th>\n",
              "      <th>588</th>\n",
              "      <th>589</th>\n",
              "      <th>590</th>\n",
              "      <th>591</th>\n",
              "      <th>592</th>\n",
              "      <th>593</th>\n",
              "      <th>594</th>\n",
              "      <th>595</th>\n",
              "      <th>596</th>\n",
              "      <th>597</th>\n",
              "      <th>598</th>\n",
              "      <th>599</th>\n",
              "    </tr>\n",
              "  </thead>\n",
              "  <tbody>\n",
              "    <tr>\n",
              "      <th>0</th>\n",
              "      <td>10.179</td>\n",
              "      <td>10.174</td>\n",
              "      <td>10.151</td>\n",
              "      <td>10.149</td>\n",
              "      <td>10.172</td>\n",
              "      <td>10.176</td>\n",
              "      <td>10.169</td>\n",
              "      <td>10.176</td>\n",
              "      <td>10.174</td>\n",
              "      <td>10.171</td>\n",
              "      <td>10.176</td>\n",
              "      <td>10.187</td>\n",
              "      <td>10.172</td>\n",
              "      <td>10.165</td>\n",
              "      <td>10.159</td>\n",
              "      <td>10.170</td>\n",
              "      <td>10.159</td>\n",
              "      <td>10.176</td>\n",
              "      <td>10.171</td>\n",
              "      <td>10.169</td>\n",
              "      <td>10.163</td>\n",
              "      <td>10.148</td>\n",
              "      <td>10.163</td>\n",
              "      <td>10.164</td>\n",
              "      <td>10.174</td>\n",
              "      <td>10.162</td>\n",
              "      <td>10.151</td>\n",
              "      <td>10.187</td>\n",
              "      <td>10.156</td>\n",
              "      <td>10.173</td>\n",
              "      <td>10.167</td>\n",
              "      <td>10.174</td>\n",
              "      <td>10.171</td>\n",
              "      <td>10.173</td>\n",
              "      <td>10.174</td>\n",
              "      <td>10.186</td>\n",
              "      <td>10.187</td>\n",
              "      <td>10.182</td>\n",
              "      <td>10.160</td>\n",
              "      <td>10.177</td>\n",
              "      <td>...</td>\n",
              "      <td>10.401</td>\n",
              "      <td>10.392</td>\n",
              "      <td>10.389</td>\n",
              "      <td>10.374</td>\n",
              "      <td>10.396</td>\n",
              "      <td>10.411</td>\n",
              "      <td>10.415</td>\n",
              "      <td>10.428</td>\n",
              "      <td>10.422</td>\n",
              "      <td>10.416</td>\n",
              "      <td>10.394</td>\n",
              "      <td>10.404</td>\n",
              "      <td>10.405</td>\n",
              "      <td>10.415</td>\n",
              "      <td>10.387</td>\n",
              "      <td>10.373</td>\n",
              "      <td>10.352</td>\n",
              "      <td>10.385</td>\n",
              "      <td>10.405</td>\n",
              "      <td>10.408</td>\n",
              "      <td>10.391</td>\n",
              "      <td>10.384</td>\n",
              "      <td>10.414</td>\n",
              "      <td>10.414</td>\n",
              "      <td>10.426</td>\n",
              "      <td>10.414</td>\n",
              "      <td>10.410</td>\n",
              "      <td>10.409</td>\n",
              "      <td>10.408</td>\n",
              "      <td>10.422</td>\n",
              "      <td>10.413</td>\n",
              "      <td>10.399</td>\n",
              "      <td>10.397</td>\n",
              "      <td>10.384</td>\n",
              "      <td>10.401</td>\n",
              "      <td>10.407</td>\n",
              "      <td>10.395</td>\n",
              "      <td>10.374</td>\n",
              "      <td>10.379</td>\n",
              "      <td>10.373</td>\n",
              "    </tr>\n",
              "    <tr>\n",
              "      <th>1</th>\n",
              "      <td>10.408</td>\n",
              "      <td>10.429</td>\n",
              "      <td>10.415</td>\n",
              "      <td>10.418</td>\n",
              "      <td>10.401</td>\n",
              "      <td>10.403</td>\n",
              "      <td>10.408</td>\n",
              "      <td>10.416</td>\n",
              "      <td>10.398</td>\n",
              "      <td>10.417</td>\n",
              "      <td>10.410</td>\n",
              "      <td>10.392</td>\n",
              "      <td>10.414</td>\n",
              "      <td>10.427</td>\n",
              "      <td>10.416</td>\n",
              "      <td>10.403</td>\n",
              "      <td>10.388</td>\n",
              "      <td>10.409</td>\n",
              "      <td>10.405</td>\n",
              "      <td>10.383</td>\n",
              "      <td>10.389</td>\n",
              "      <td>10.403</td>\n",
              "      <td>10.397</td>\n",
              "      <td>10.423</td>\n",
              "      <td>10.419</td>\n",
              "      <td>10.403</td>\n",
              "      <td>10.389</td>\n",
              "      <td>10.377</td>\n",
              "      <td>10.392</td>\n",
              "      <td>10.397</td>\n",
              "      <td>10.405</td>\n",
              "      <td>10.394</td>\n",
              "      <td>10.370</td>\n",
              "      <td>10.392</td>\n",
              "      <td>10.388</td>\n",
              "      <td>10.394</td>\n",
              "      <td>10.386</td>\n",
              "      <td>10.388</td>\n",
              "      <td>10.399</td>\n",
              "      <td>10.376</td>\n",
              "      <td>...</td>\n",
              "      <td>10.364</td>\n",
              "      <td>10.384</td>\n",
              "      <td>10.408</td>\n",
              "      <td>10.404</td>\n",
              "      <td>10.422</td>\n",
              "      <td>10.399</td>\n",
              "      <td>10.401</td>\n",
              "      <td>10.439</td>\n",
              "      <td>10.406</td>\n",
              "      <td>10.387</td>\n",
              "      <td>10.403</td>\n",
              "      <td>10.401</td>\n",
              "      <td>10.423</td>\n",
              "      <td>10.421</td>\n",
              "      <td>10.418</td>\n",
              "      <td>10.411</td>\n",
              "      <td>10.389</td>\n",
              "      <td>10.397</td>\n",
              "      <td>10.408</td>\n",
              "      <td>10.401</td>\n",
              "      <td>10.386</td>\n",
              "      <td>10.399</td>\n",
              "      <td>10.392</td>\n",
              "      <td>10.401</td>\n",
              "      <td>10.439</td>\n",
              "      <td>10.414</td>\n",
              "      <td>10.415</td>\n",
              "      <td>10.387</td>\n",
              "      <td>10.368</td>\n",
              "      <td>10.383</td>\n",
              "      <td>10.438</td>\n",
              "      <td>10.411</td>\n",
              "      <td>10.419</td>\n",
              "      <td>10.414</td>\n",
              "      <td>10.407</td>\n",
              "      <td>10.391</td>\n",
              "      <td>10.427</td>\n",
              "      <td>10.411</td>\n",
              "      <td>10.434</td>\n",
              "      <td>10.391</td>\n",
              "    </tr>\n",
              "    <tr>\n",
              "      <th>2</th>\n",
              "      <td>10.392</td>\n",
              "      <td>10.386</td>\n",
              "      <td>10.404</td>\n",
              "      <td>10.391</td>\n",
              "      <td>10.387</td>\n",
              "      <td>10.422</td>\n",
              "      <td>10.414</td>\n",
              "      <td>10.414</td>\n",
              "      <td>10.441</td>\n",
              "      <td>10.434</td>\n",
              "      <td>10.415</td>\n",
              "      <td>10.403</td>\n",
              "      <td>10.421</td>\n",
              "      <td>10.416</td>\n",
              "      <td>10.443</td>\n",
              "      <td>10.388</td>\n",
              "      <td>10.418</td>\n",
              "      <td>10.394</td>\n",
              "      <td>10.387</td>\n",
              "      <td>10.404</td>\n",
              "      <td>10.381</td>\n",
              "      <td>10.374</td>\n",
              "      <td>10.369</td>\n",
              "      <td>10.396</td>\n",
              "      <td>10.411</td>\n",
              "      <td>10.413</td>\n",
              "      <td>10.372</td>\n",
              "      <td>10.376</td>\n",
              "      <td>10.373</td>\n",
              "      <td>10.387</td>\n",
              "      <td>10.416</td>\n",
              "      <td>10.381</td>\n",
              "      <td>10.366</td>\n",
              "      <td>10.385</td>\n",
              "      <td>10.392</td>\n",
              "      <td>10.431</td>\n",
              "      <td>10.401</td>\n",
              "      <td>10.382</td>\n",
              "      <td>10.387</td>\n",
              "      <td>10.392</td>\n",
              "      <td>...</td>\n",
              "      <td>10.346</td>\n",
              "      <td>10.346</td>\n",
              "      <td>10.337</td>\n",
              "      <td>10.347</td>\n",
              "      <td>10.334</td>\n",
              "      <td>10.352</td>\n",
              "      <td>10.328</td>\n",
              "      <td>10.323</td>\n",
              "      <td>10.333</td>\n",
              "      <td>10.333</td>\n",
              "      <td>10.336</td>\n",
              "      <td>10.341</td>\n",
              "      <td>10.318</td>\n",
              "      <td>10.340</td>\n",
              "      <td>10.337</td>\n",
              "      <td>10.336</td>\n",
              "      <td>10.347</td>\n",
              "      <td>10.363</td>\n",
              "      <td>10.336</td>\n",
              "      <td>10.347</td>\n",
              "      <td>10.356</td>\n",
              "      <td>10.325</td>\n",
              "      <td>10.373</td>\n",
              "      <td>10.351</td>\n",
              "      <td>10.327</td>\n",
              "      <td>10.376</td>\n",
              "      <td>10.363</td>\n",
              "      <td>10.334</td>\n",
              "      <td>10.326</td>\n",
              "      <td>10.323</td>\n",
              "      <td>10.320</td>\n",
              "      <td>10.352</td>\n",
              "      <td>10.356</td>\n",
              "      <td>10.336</td>\n",
              "      <td>10.338</td>\n",
              "      <td>10.327</td>\n",
              "      <td>10.337</td>\n",
              "      <td>10.350</td>\n",
              "      <td>10.356</td>\n",
              "      <td>10.356</td>\n",
              "    </tr>\n",
              "    <tr>\n",
              "      <th>3</th>\n",
              "      <td>10.329</td>\n",
              "      <td>10.328</td>\n",
              "      <td>10.349</td>\n",
              "      <td>10.363</td>\n",
              "      <td>10.359</td>\n",
              "      <td>10.328</td>\n",
              "      <td>10.333</td>\n",
              "      <td>10.341</td>\n",
              "      <td>10.371</td>\n",
              "      <td>10.329</td>\n",
              "      <td>10.336</td>\n",
              "      <td>10.320</td>\n",
              "      <td>10.332</td>\n",
              "      <td>10.376</td>\n",
              "      <td>10.350</td>\n",
              "      <td>10.356</td>\n",
              "      <td>10.321</td>\n",
              "      <td>10.339</td>\n",
              "      <td>10.336</td>\n",
              "      <td>10.340</td>\n",
              "      <td>10.376</td>\n",
              "      <td>10.352</td>\n",
              "      <td>10.326</td>\n",
              "      <td>10.344</td>\n",
              "      <td>10.327</td>\n",
              "      <td>10.336</td>\n",
              "      <td>10.348</td>\n",
              "      <td>10.348</td>\n",
              "      <td>10.345</td>\n",
              "      <td>10.350</td>\n",
              "      <td>10.346</td>\n",
              "      <td>10.356</td>\n",
              "      <td>10.354</td>\n",
              "      <td>10.344</td>\n",
              "      <td>10.334</td>\n",
              "      <td>10.323</td>\n",
              "      <td>10.352</td>\n",
              "      <td>10.348</td>\n",
              "      <td>10.331</td>\n",
              "      <td>10.367</td>\n",
              "      <td>...</td>\n",
              "      <td>10.281</td>\n",
              "      <td>10.284</td>\n",
              "      <td>10.292</td>\n",
              "      <td>10.283</td>\n",
              "      <td>10.257</td>\n",
              "      <td>10.267</td>\n",
              "      <td>10.274</td>\n",
              "      <td>10.292</td>\n",
              "      <td>10.294</td>\n",
              "      <td>10.291</td>\n",
              "      <td>10.265</td>\n",
              "      <td>10.263</td>\n",
              "      <td>10.292</td>\n",
              "      <td>10.286</td>\n",
              "      <td>10.283</td>\n",
              "      <td>10.290</td>\n",
              "      <td>10.286</td>\n",
              "      <td>10.271</td>\n",
              "      <td>10.292</td>\n",
              "      <td>10.280</td>\n",
              "      <td>10.274</td>\n",
              "      <td>10.270</td>\n",
              "      <td>10.288</td>\n",
              "      <td>10.262</td>\n",
              "      <td>10.296</td>\n",
              "      <td>10.292</td>\n",
              "      <td>10.281</td>\n",
              "      <td>10.266</td>\n",
              "      <td>10.288</td>\n",
              "      <td>10.279</td>\n",
              "      <td>10.299</td>\n",
              "      <td>10.296</td>\n",
              "      <td>10.283</td>\n",
              "      <td>10.256</td>\n",
              "      <td>10.270</td>\n",
              "      <td>10.272</td>\n",
              "      <td>10.280</td>\n",
              "      <td>10.285</td>\n",
              "      <td>10.267</td>\n",
              "      <td>10.261</td>\n",
              "    </tr>\n",
              "    <tr>\n",
              "      <th>4</th>\n",
              "      <td>10.276</td>\n",
              "      <td>10.279</td>\n",
              "      <td>10.292</td>\n",
              "      <td>10.288</td>\n",
              "      <td>10.266</td>\n",
              "      <td>10.271</td>\n",
              "      <td>10.284</td>\n",
              "      <td>10.283</td>\n",
              "      <td>10.294</td>\n",
              "      <td>10.267</td>\n",
              "      <td>10.254</td>\n",
              "      <td>10.267</td>\n",
              "      <td>10.284</td>\n",
              "      <td>10.283</td>\n",
              "      <td>10.301</td>\n",
              "      <td>10.291</td>\n",
              "      <td>10.270</td>\n",
              "      <td>10.294</td>\n",
              "      <td>10.284</td>\n",
              "      <td>10.298</td>\n",
              "      <td>10.292</td>\n",
              "      <td>10.281</td>\n",
              "      <td>10.263</td>\n",
              "      <td>10.283</td>\n",
              "      <td>10.287</td>\n",
              "      <td>10.307</td>\n",
              "      <td>10.296</td>\n",
              "      <td>10.273</td>\n",
              "      <td>10.274</td>\n",
              "      <td>10.271</td>\n",
              "      <td>10.292</td>\n",
              "      <td>10.286</td>\n",
              "      <td>10.276</td>\n",
              "      <td>10.281</td>\n",
              "      <td>10.272</td>\n",
              "      <td>10.299</td>\n",
              "      <td>10.298</td>\n",
              "      <td>10.300</td>\n",
              "      <td>10.279</td>\n",
              "      <td>10.283</td>\n",
              "      <td>...</td>\n",
              "      <td>10.211</td>\n",
              "      <td>10.213</td>\n",
              "      <td>10.181</td>\n",
              "      <td>10.205</td>\n",
              "      <td>10.196</td>\n",
              "      <td>10.200</td>\n",
              "      <td>10.193</td>\n",
              "      <td>10.227</td>\n",
              "      <td>10.198</td>\n",
              "      <td>10.211</td>\n",
              "      <td>10.199</td>\n",
              "      <td>10.203</td>\n",
              "      <td>10.179</td>\n",
              "      <td>10.199</td>\n",
              "      <td>10.211</td>\n",
              "      <td>10.206</td>\n",
              "      <td>10.217</td>\n",
              "      <td>10.224</td>\n",
              "      <td>10.209</td>\n",
              "      <td>10.207</td>\n",
              "      <td>10.214</td>\n",
              "      <td>10.216</td>\n",
              "      <td>10.223</td>\n",
              "      <td>10.209</td>\n",
              "      <td>10.236</td>\n",
              "      <td>10.203</td>\n",
              "      <td>10.206</td>\n",
              "      <td>10.227</td>\n",
              "      <td>10.221</td>\n",
              "      <td>10.213</td>\n",
              "      <td>10.199</td>\n",
              "      <td>10.199</td>\n",
              "      <td>10.233</td>\n",
              "      <td>10.245</td>\n",
              "      <td>10.233</td>\n",
              "      <td>10.211</td>\n",
              "      <td>10.205</td>\n",
              "      <td>10.214</td>\n",
              "      <td>10.227</td>\n",
              "      <td>10.216</td>\n",
              "    </tr>\n",
              "  </tbody>\n",
              "</table>\n",
              "<p>5 rows × 600 columns</p>\n",
              "</div>"
            ],
            "text/plain": [
              "      0       1       2       3    ...     596     597     598     599\n",
              "0  10.179  10.174  10.151  10.149  ...  10.395  10.374  10.379  10.373\n",
              "1  10.408  10.429  10.415  10.418  ...  10.427  10.411  10.434  10.391\n",
              "2  10.392  10.386  10.404  10.391  ...  10.337  10.350  10.356  10.356\n",
              "3  10.329  10.328  10.349  10.363  ...  10.280  10.285  10.267  10.261\n",
              "4  10.276  10.279  10.292  10.288  ...  10.205  10.214  10.227  10.216\n",
              "\n",
              "[5 rows x 600 columns]"
            ]
          },
          "metadata": {
            "tags": []
          },
          "execution_count": 28
        }
      ]
    },
    {
      "cell_type": "code",
      "metadata": {
        "id": "5nXt106v1DzI",
        "colab_type": "code",
        "outputId": "7a86284e-acc2-46c4-afe2-79dc5ba91dee",
        "colab": {
          "base_uri": "https://localhost:8080/",
          "height": 353
        }
      },
      "source": [
        "#Ploting the first cycle of the second sensor\n",
        "FS2.iloc[0].plot(kind = \"line\", color = \"blue\", title = \"First cycle of the second volume flow sensor\", figsize = (5,5))"
      ],
      "execution_count": 29,
      "outputs": [
        {
          "output_type": "execute_result",
          "data": {
            "text/plain": [
              "<matplotlib.axes._subplots.AxesSubplot at 0x7fc62ac60b38>"
            ]
          },
          "metadata": {
            "tags": []
          },
          "execution_count": 29
        },
        {
          "output_type": "display_data",
          "data": {
            "image/png": "[encoded data removed]",
            "text/plain": [
              "<Figure size 360x360 with 1 Axes>"
            ]
          },
          "metadata": {
            "tags": [],
            "needs_background": "light"
          }
        }
      ]
    },
    {
      "cell_type": "code",
      "metadata": {
        "id": "aktT4hrkK8Lh",
        "colab_type": "code",
        "outputId": "a943fda4-38f2-4b4c-f6d7-834e81dce0a6",
        "colab": {
          "base_uri": "https://localhost:8080/",
          "height": 102
        }
      },
      "source": [
        "#Showing info about the second sensor\n",
        "FS2.info()"
      ],
      "execution_count": 30,
      "outputs": [
        {
          "output_type": "stream",
          "text": [
            "<class 'pandas.core.frame.DataFrame'>\n",
            "RangeIndex: 2205 entries, 0 to 2204\n",
            "Columns: 600 entries, 0 to 599\n",
            "dtypes: float64(600)\n",
            "memory usage: 10.1 MB\n"
          ],
          "name": "stdout"
        }
      ]
    },
    {
      "cell_type": "code",
      "metadata": {
        "id": "BCJCwv0mK--Z",
        "colab_type": "code",
        "colab": {}
      },
      "source": [
        "#Merge the features\n",
        "X_pump = pd.concat([FS1,FS2])"
      ],
      "execution_count": 0,
      "outputs": []
    },
    {
      "cell_type": "code",
      "metadata": {
        "id": "n87x7IPcLADY",
        "colab_type": "code",
        "outputId": "c73da4c3-b5ec-40fa-8c39-93668bf2f246",
        "colab": {
          "base_uri": "https://localhost:8080/",
          "height": 253
        }
      },
      "source": [
        "#Showing the total features\n",
        "X_pump.head()"
      ],
      "execution_count": 32,
      "outputs": [
        {
          "output_type": "execute_result",
          "data": {
            "text/html": [
              "<div>\n",
              "<style scoped>\n",
              "    .dataframe tbody tr th:only-of-type {\n",
              "        vertical-align: middle;\n",
              "    }\n",
              "\n",
              "    .dataframe tbody tr th {\n",
              "        vertical-align: top;\n",
              "    }\n",
              "\n",
              "    .dataframe thead th {\n",
              "        text-align: right;\n",
              "    }\n",
              "</style>\n",
              "<table border=\"1\" class=\"dataframe\">\n",
              "  <thead>\n",
              "    <tr style=\"text-align: right;\">\n",
              "      <th></th>\n",
              "      <th>0</th>\n",
              "      <th>1</th>\n",
              "      <th>2</th>\n",
              "      <th>3</th>\n",
              "      <th>4</th>\n",
              "      <th>5</th>\n",
              "      <th>6</th>\n",
              "      <th>7</th>\n",
              "      <th>8</th>\n",
              "      <th>9</th>\n",
              "      <th>10</th>\n",
              "      <th>11</th>\n",
              "      <th>12</th>\n",
              "      <th>13</th>\n",
              "      <th>14</th>\n",
              "      <th>15</th>\n",
              "      <th>16</th>\n",
              "      <th>17</th>\n",
              "      <th>18</th>\n",
              "      <th>19</th>\n",
              "      <th>20</th>\n",
              "      <th>21</th>\n",
              "      <th>22</th>\n",
              "      <th>23</th>\n",
              "      <th>24</th>\n",
              "      <th>25</th>\n",
              "      <th>26</th>\n",
              "      <th>27</th>\n",
              "      <th>28</th>\n",
              "      <th>29</th>\n",
              "      <th>30</th>\n",
              "      <th>31</th>\n",
              "      <th>32</th>\n",
              "      <th>33</th>\n",
              "      <th>34</th>\n",
              "      <th>35</th>\n",
              "      <th>36</th>\n",
              "      <th>37</th>\n",
              "      <th>38</th>\n",
              "      <th>39</th>\n",
              "      <th>...</th>\n",
              "      <th>560</th>\n",
              "      <th>561</th>\n",
              "      <th>562</th>\n",
              "      <th>563</th>\n",
              "      <th>564</th>\n",
              "      <th>565</th>\n",
              "      <th>566</th>\n",
              "      <th>567</th>\n",
              "      <th>568</th>\n",
              "      <th>569</th>\n",
              "      <th>570</th>\n",
              "      <th>571</th>\n",
              "      <th>572</th>\n",
              "      <th>573</th>\n",
              "      <th>574</th>\n",
              "      <th>575</th>\n",
              "      <th>576</th>\n",
              "      <th>577</th>\n",
              "      <th>578</th>\n",
              "      <th>579</th>\n",
              "      <th>580</th>\n",
              "      <th>581</th>\n",
              "      <th>582</th>\n",
              "      <th>583</th>\n",
              "      <th>584</th>\n",
              "      <th>585</th>\n",
              "      <th>586</th>\n",
              "      <th>587</th>\n",
              "      <th>588</th>\n",
              "      <th>589</th>\n",
              "      <th>590</th>\n",
              "      <th>591</th>\n",
              "      <th>592</th>\n",
              "      <th>593</th>\n",
              "      <th>594</th>\n",
              "      <th>595</th>\n",
              "      <th>596</th>\n",
              "      <th>597</th>\n",
              "      <th>598</th>\n",
              "      <th>599</th>\n",
              "    </tr>\n",
              "  </thead>\n",
              "  <tbody>\n",
              "    <tr>\n",
              "      <th>0</th>\n",
              "      <td>8.990</td>\n",
              "      <td>0.770</td>\n",
              "      <td>0.641</td>\n",
              "      <td>0.006</td>\n",
              "      <td>0.000</td>\n",
              "      <td>0.000</td>\n",
              "      <td>0.001</td>\n",
              "      <td>0.003</td>\n",
              "      <td>0.001</td>\n",
              "      <td>0.001</td>\n",
              "      <td>0.001</td>\n",
              "      <td>0.005</td>\n",
              "      <td>0.000</td>\n",
              "      <td>0.000</td>\n",
              "      <td>0.000</td>\n",
              "      <td>0.000</td>\n",
              "      <td>0.001</td>\n",
              "      <td>0.000</td>\n",
              "      <td>0.000</td>\n",
              "      <td>0.000</td>\n",
              "      <td>0.005</td>\n",
              "      <td>0.003</td>\n",
              "      <td>0.000</td>\n",
              "      <td>0.001</td>\n",
              "      <td>0.001</td>\n",
              "      <td>0.003</td>\n",
              "      <td>0.001</td>\n",
              "      <td>0.003</td>\n",
              "      <td>0.003</td>\n",
              "      <td>0.003</td>\n",
              "      <td>0.000</td>\n",
              "      <td>0.000</td>\n",
              "      <td>0.000</td>\n",
              "      <td>0.000</td>\n",
              "      <td>0.000</td>\n",
              "      <td>0.001</td>\n",
              "      <td>0.001</td>\n",
              "      <td>0.003</td>\n",
              "      <td>0.003</td>\n",
              "      <td>0.0</td>\n",
              "      <td>...</td>\n",
              "      <td>7.904</td>\n",
              "      <td>7.703</td>\n",
              "      <td>7.917</td>\n",
              "      <td>7.902</td>\n",
              "      <td>7.846</td>\n",
              "      <td>7.881</td>\n",
              "      <td>7.737</td>\n",
              "      <td>8.046</td>\n",
              "      <td>7.775</td>\n",
              "      <td>7.730</td>\n",
              "      <td>8.006</td>\n",
              "      <td>7.864</td>\n",
              "      <td>7.859</td>\n",
              "      <td>7.911</td>\n",
              "      <td>7.739</td>\n",
              "      <td>8.004</td>\n",
              "      <td>7.857</td>\n",
              "      <td>7.684</td>\n",
              "      <td>7.971</td>\n",
              "      <td>7.829</td>\n",
              "      <td>7.907</td>\n",
              "      <td>7.885</td>\n",
              "      <td>7.680</td>\n",
              "      <td>7.980</td>\n",
              "      <td>7.890</td>\n",
              "      <td>7.744</td>\n",
              "      <td>7.927</td>\n",
              "      <td>7.795</td>\n",
              "      <td>7.908</td>\n",
              "      <td>7.919</td>\n",
              "      <td>7.743</td>\n",
              "      <td>7.992</td>\n",
              "      <td>7.919</td>\n",
              "      <td>7.773</td>\n",
              "      <td>7.955</td>\n",
              "      <td>7.823</td>\n",
              "      <td>7.963</td>\n",
              "      <td>7.876</td>\n",
              "      <td>7.738</td>\n",
              "      <td>8.036</td>\n",
              "    </tr>\n",
              "    <tr>\n",
              "      <th>1</th>\n",
              "      <td>8.919</td>\n",
              "      <td>0.815</td>\n",
              "      <td>0.709</td>\n",
              "      <td>0.009</td>\n",
              "      <td>0.004</td>\n",
              "      <td>0.000</td>\n",
              "      <td>0.001</td>\n",
              "      <td>0.000</td>\n",
              "      <td>0.000</td>\n",
              "      <td>0.001</td>\n",
              "      <td>0.008</td>\n",
              "      <td>0.000</td>\n",
              "      <td>0.001</td>\n",
              "      <td>0.003</td>\n",
              "      <td>0.004</td>\n",
              "      <td>0.000</td>\n",
              "      <td>0.001</td>\n",
              "      <td>0.004</td>\n",
              "      <td>0.003</td>\n",
              "      <td>0.000</td>\n",
              "      <td>0.000</td>\n",
              "      <td>0.000</td>\n",
              "      <td>0.001</td>\n",
              "      <td>0.000</td>\n",
              "      <td>0.000</td>\n",
              "      <td>0.001</td>\n",
              "      <td>0.000</td>\n",
              "      <td>0.001</td>\n",
              "      <td>0.003</td>\n",
              "      <td>0.000</td>\n",
              "      <td>0.000</td>\n",
              "      <td>0.000</td>\n",
              "      <td>0.001</td>\n",
              "      <td>0.001</td>\n",
              "      <td>0.001</td>\n",
              "      <td>0.003</td>\n",
              "      <td>0.001</td>\n",
              "      <td>0.003</td>\n",
              "      <td>0.008</td>\n",
              "      <td>0.0</td>\n",
              "      <td>...</td>\n",
              "      <td>7.933</td>\n",
              "      <td>7.791</td>\n",
              "      <td>7.915</td>\n",
              "      <td>7.928</td>\n",
              "      <td>7.802</td>\n",
              "      <td>7.975</td>\n",
              "      <td>7.776</td>\n",
              "      <td>8.029</td>\n",
              "      <td>7.946</td>\n",
              "      <td>7.875</td>\n",
              "      <td>7.913</td>\n",
              "      <td>7.723</td>\n",
              "      <td>8.009</td>\n",
              "      <td>7.869</td>\n",
              "      <td>7.980</td>\n",
              "      <td>7.939</td>\n",
              "      <td>7.758</td>\n",
              "      <td>7.908</td>\n",
              "      <td>7.772</td>\n",
              "      <td>7.999</td>\n",
              "      <td>7.926</td>\n",
              "      <td>7.862</td>\n",
              "      <td>7.899</td>\n",
              "      <td>7.724</td>\n",
              "      <td>7.946</td>\n",
              "      <td>7.860</td>\n",
              "      <td>7.986</td>\n",
              "      <td>7.888</td>\n",
              "      <td>7.714</td>\n",
              "      <td>7.965</td>\n",
              "      <td>7.831</td>\n",
              "      <td>8.003</td>\n",
              "      <td>7.923</td>\n",
              "      <td>7.745</td>\n",
              "      <td>7.867</td>\n",
              "      <td>7.747</td>\n",
              "      <td>7.969</td>\n",
              "      <td>7.969</td>\n",
              "      <td>7.963</td>\n",
              "      <td>7.890</td>\n",
              "    </tr>\n",
              "    <tr>\n",
              "      <th>2</th>\n",
              "      <td>9.179</td>\n",
              "      <td>0.683</td>\n",
              "      <td>0.528</td>\n",
              "      <td>0.008</td>\n",
              "      <td>0.003</td>\n",
              "      <td>0.001</td>\n",
              "      <td>0.003</td>\n",
              "      <td>0.003</td>\n",
              "      <td>0.004</td>\n",
              "      <td>0.006</td>\n",
              "      <td>0.000</td>\n",
              "      <td>0.001</td>\n",
              "      <td>0.001</td>\n",
              "      <td>0.003</td>\n",
              "      <td>0.001</td>\n",
              "      <td>0.001</td>\n",
              "      <td>0.001</td>\n",
              "      <td>0.004</td>\n",
              "      <td>0.004</td>\n",
              "      <td>0.003</td>\n",
              "      <td>0.000</td>\n",
              "      <td>0.001</td>\n",
              "      <td>0.000</td>\n",
              "      <td>0.000</td>\n",
              "      <td>0.000</td>\n",
              "      <td>0.001</td>\n",
              "      <td>0.000</td>\n",
              "      <td>0.003</td>\n",
              "      <td>0.001</td>\n",
              "      <td>0.000</td>\n",
              "      <td>0.000</td>\n",
              "      <td>0.004</td>\n",
              "      <td>0.001</td>\n",
              "      <td>0.003</td>\n",
              "      <td>0.001</td>\n",
              "      <td>0.000</td>\n",
              "      <td>0.003</td>\n",
              "      <td>0.001</td>\n",
              "      <td>0.000</td>\n",
              "      <td>0.0</td>\n",
              "      <td>...</td>\n",
              "      <td>8.000</td>\n",
              "      <td>7.768</td>\n",
              "      <td>8.058</td>\n",
              "      <td>7.918</td>\n",
              "      <td>7.751</td>\n",
              "      <td>7.902</td>\n",
              "      <td>7.781</td>\n",
              "      <td>7.910</td>\n",
              "      <td>7.759</td>\n",
              "      <td>7.999</td>\n",
              "      <td>7.854</td>\n",
              "      <td>7.959</td>\n",
              "      <td>7.867</td>\n",
              "      <td>7.873</td>\n",
              "      <td>7.857</td>\n",
              "      <td>7.777</td>\n",
              "      <td>7.959</td>\n",
              "      <td>7.778</td>\n",
              "      <td>8.051</td>\n",
              "      <td>7.907</td>\n",
              "      <td>7.994</td>\n",
              "      <td>7.892</td>\n",
              "      <td>7.796</td>\n",
              "      <td>7.888</td>\n",
              "      <td>7.678</td>\n",
              "      <td>7.861</td>\n",
              "      <td>7.835</td>\n",
              "      <td>8.016</td>\n",
              "      <td>7.878</td>\n",
              "      <td>7.994</td>\n",
              "      <td>7.862</td>\n",
              "      <td>7.815</td>\n",
              "      <td>7.894</td>\n",
              "      <td>7.743</td>\n",
              "      <td>7.936</td>\n",
              "      <td>7.770</td>\n",
              "      <td>7.982</td>\n",
              "      <td>7.873</td>\n",
              "      <td>7.898</td>\n",
              "      <td>7.952</td>\n",
              "    </tr>\n",
              "    <tr>\n",
              "      <th>3</th>\n",
              "      <td>9.034</td>\n",
              "      <td>0.728</td>\n",
              "      <td>0.595</td>\n",
              "      <td>0.009</td>\n",
              "      <td>0.001</td>\n",
              "      <td>0.004</td>\n",
              "      <td>0.003</td>\n",
              "      <td>0.003</td>\n",
              "      <td>0.003</td>\n",
              "      <td>0.001</td>\n",
              "      <td>0.000</td>\n",
              "      <td>0.000</td>\n",
              "      <td>0.000</td>\n",
              "      <td>0.000</td>\n",
              "      <td>0.000</td>\n",
              "      <td>0.001</td>\n",
              "      <td>0.000</td>\n",
              "      <td>0.000</td>\n",
              "      <td>0.000</td>\n",
              "      <td>0.000</td>\n",
              "      <td>0.000</td>\n",
              "      <td>0.003</td>\n",
              "      <td>0.001</td>\n",
              "      <td>0.003</td>\n",
              "      <td>0.003</td>\n",
              "      <td>0.001</td>\n",
              "      <td>0.001</td>\n",
              "      <td>0.006</td>\n",
              "      <td>0.000</td>\n",
              "      <td>0.004</td>\n",
              "      <td>0.001</td>\n",
              "      <td>0.001</td>\n",
              "      <td>0.006</td>\n",
              "      <td>0.000</td>\n",
              "      <td>0.001</td>\n",
              "      <td>0.003</td>\n",
              "      <td>0.005</td>\n",
              "      <td>0.000</td>\n",
              "      <td>0.000</td>\n",
              "      <td>0.0</td>\n",
              "      <td>...</td>\n",
              "      <td>7.831</td>\n",
              "      <td>7.943</td>\n",
              "      <td>7.778</td>\n",
              "      <td>7.869</td>\n",
              "      <td>7.762</td>\n",
              "      <td>7.956</td>\n",
              "      <td>7.772</td>\n",
              "      <td>7.966</td>\n",
              "      <td>7.758</td>\n",
              "      <td>7.934</td>\n",
              "      <td>7.936</td>\n",
              "      <td>7.976</td>\n",
              "      <td>7.890</td>\n",
              "      <td>7.909</td>\n",
              "      <td>7.826</td>\n",
              "      <td>7.718</td>\n",
              "      <td>7.917</td>\n",
              "      <td>7.817</td>\n",
              "      <td>7.927</td>\n",
              "      <td>7.791</td>\n",
              "      <td>7.862</td>\n",
              "      <td>7.848</td>\n",
              "      <td>7.990</td>\n",
              "      <td>7.834</td>\n",
              "      <td>7.953</td>\n",
              "      <td>7.941</td>\n",
              "      <td>7.882</td>\n",
              "      <td>7.835</td>\n",
              "      <td>7.779</td>\n",
              "      <td>7.938</td>\n",
              "      <td>7.631</td>\n",
              "      <td>7.949</td>\n",
              "      <td>7.773</td>\n",
              "      <td>8.054</td>\n",
              "      <td>7.827</td>\n",
              "      <td>8.011</td>\n",
              "      <td>7.919</td>\n",
              "      <td>7.938</td>\n",
              "      <td>7.877</td>\n",
              "      <td>7.773</td>\n",
              "    </tr>\n",
              "    <tr>\n",
              "      <th>4</th>\n",
              "      <td>8.729</td>\n",
              "      <td>0.705</td>\n",
              "      <td>0.446</td>\n",
              "      <td>0.014</td>\n",
              "      <td>0.007</td>\n",
              "      <td>0.003</td>\n",
              "      <td>0.001</td>\n",
              "      <td>0.003</td>\n",
              "      <td>0.001</td>\n",
              "      <td>0.000</td>\n",
              "      <td>0.001</td>\n",
              "      <td>0.001</td>\n",
              "      <td>0.000</td>\n",
              "      <td>0.001</td>\n",
              "      <td>0.005</td>\n",
              "      <td>0.000</td>\n",
              "      <td>0.000</td>\n",
              "      <td>0.000</td>\n",
              "      <td>0.001</td>\n",
              "      <td>0.000</td>\n",
              "      <td>0.001</td>\n",
              "      <td>0.003</td>\n",
              "      <td>0.005</td>\n",
              "      <td>0.001</td>\n",
              "      <td>0.001</td>\n",
              "      <td>0.000</td>\n",
              "      <td>0.001</td>\n",
              "      <td>0.001</td>\n",
              "      <td>0.003</td>\n",
              "      <td>0.001</td>\n",
              "      <td>0.000</td>\n",
              "      <td>0.003</td>\n",
              "      <td>0.003</td>\n",
              "      <td>0.001</td>\n",
              "      <td>0.001</td>\n",
              "      <td>0.001</td>\n",
              "      <td>0.000</td>\n",
              "      <td>0.000</td>\n",
              "      <td>0.000</td>\n",
              "      <td>0.0</td>\n",
              "      <td>...</td>\n",
              "      <td>7.808</td>\n",
              "      <td>7.706</td>\n",
              "      <td>7.976</td>\n",
              "      <td>7.688</td>\n",
              "      <td>7.909</td>\n",
              "      <td>7.816</td>\n",
              "      <td>7.777</td>\n",
              "      <td>7.748</td>\n",
              "      <td>7.992</td>\n",
              "      <td>7.786</td>\n",
              "      <td>7.875</td>\n",
              "      <td>7.779</td>\n",
              "      <td>7.951</td>\n",
              "      <td>7.819</td>\n",
              "      <td>8.072</td>\n",
              "      <td>7.806</td>\n",
              "      <td>7.929</td>\n",
              "      <td>7.873</td>\n",
              "      <td>7.875</td>\n",
              "      <td>7.887</td>\n",
              "      <td>7.844</td>\n",
              "      <td>7.884</td>\n",
              "      <td>7.756</td>\n",
              "      <td>7.902</td>\n",
              "      <td>7.673</td>\n",
              "      <td>7.921</td>\n",
              "      <td>7.731</td>\n",
              "      <td>8.001</td>\n",
              "      <td>7.702</td>\n",
              "      <td>8.022</td>\n",
              "      <td>7.771</td>\n",
              "      <td>7.936</td>\n",
              "      <td>7.919</td>\n",
              "      <td>7.946</td>\n",
              "      <td>7.804</td>\n",
              "      <td>7.983</td>\n",
              "      <td>7.838</td>\n",
              "      <td>7.882</td>\n",
              "      <td>7.894</td>\n",
              "      <td>7.825</td>\n",
              "    </tr>\n",
              "  </tbody>\n",
              "</table>\n",
              "<p>5 rows × 600 columns</p>\n",
              "</div>"
            ],
            "text/plain": [
              "     0      1      2      3      4    ...    595    596    597    598    599\n",
              "0  8.990  0.770  0.641  0.006  0.000  ...  7.823  7.963  7.876  7.738  8.036\n",
              "1  8.919  0.815  0.709  0.009  0.004  ...  7.747  7.969  7.969  7.963  7.890\n",
              "2  9.179  0.683  0.528  0.008  0.003  ...  7.770  7.982  7.873  7.898  7.952\n",
              "3  9.034  0.728  0.595  0.009  0.001  ...  8.011  7.919  7.938  7.877  7.773\n",
              "4  8.729  0.705  0.446  0.014  0.007  ...  7.983  7.838  7.882  7.894  7.825\n",
              "\n",
              "[5 rows x 600 columns]"
            ]
          },
          "metadata": {
            "tags": []
          },
          "execution_count": 32
        }
      ]
    },
    {
      "cell_type": "code",
      "metadata": {
        "id": "idh_MeNULC0h",
        "colab_type": "code",
        "outputId": "0f5823b4-3f67-4ede-dc69-f6b3895e33bd",
        "colab": {
          "base_uri": "https://localhost:8080/",
          "height": 102
        }
      },
      "source": [
        "#Showing info about the total features\n",
        "X_pump.info()"
      ],
      "execution_count": 33,
      "outputs": [
        {
          "output_type": "stream",
          "text": [
            "<class 'pandas.core.frame.DataFrame'>\n",
            "Int64Index: 4410 entries, 0 to 2204\n",
            "Columns: 600 entries, 0 to 599\n",
            "dtypes: float64(600)\n",
            "memory usage: 20.2 MB\n"
          ],
          "name": "stdout"
        }
      ]
    },
    {
      "cell_type": "code",
      "metadata": {
        "id": "WS8zr_ZaY6wW",
        "colab_type": "code",
        "colab": {}
      },
      "source": [
        "#Doing the preprocessing steps\n",
        "X_train_processed_pump, X_test_processed_pump, y_train_processed_pump, y_test_processed_pump = do_preprocessing(X = X_pump, y = y_pump, features = 2, timesteps= 600)"
      ],
      "execution_count": 0,
      "outputs": []
    },
    {
      "cell_type": "markdown",
      "metadata": {
        "id": "NuugcsqUh6pl",
        "colab_type": "text"
      },
      "source": [
        "#2.2 Modeling: Convolutional Neural Networks (CNN)"
      ]
    },
    {
      "cell_type": "code",
      "metadata": {
        "id": "jP4hTXc6sy_2",
        "colab_type": "code",
        "colab": {}
      },
      "source": [
        "#Calling a CNN\n",
        "model_pump = neural_network(input_shape = (600,2), class_numbers = (3))"
      ],
      "execution_count": 0,
      "outputs": []
    },
    {
      "cell_type": "code",
      "metadata": {
        "id": "mf1PgcKdh-fi",
        "colab_type": "code",
        "outputId": "8c557150-3b47-4b72-cf88-60934b688cc3",
        "colab": {
          "base_uri": "https://localhost:8080/",
          "height": 976
        }
      },
      "source": [
        "#Plotting the CNN architecture\n",
        "plot_neural_network(conv_net = model_pump, name=\"model_pump.png\")"
      ],
      "execution_count": 36,
      "outputs": [
        {
          "output_type": "execute_result",
          "data": {
            "image/png": "[encoded data removed]",
            "text/plain": [
              "<IPython.core.display.Image object>"
            ]
          },
          "metadata": {
            "tags": []
          },
          "execution_count": 36
        }
      ]
    },
    {
      "cell_type": "code",
      "metadata": {
        "id": "rpAMAFHXs-JC",
        "colab_type": "code",
        "outputId": "21d001bd-37ed-431f-8df0-4897214dd746",
        "colab": {
          "base_uri": "https://localhost:8080/",
          "height": 374
        }
      },
      "source": [
        "#Processing the CNN\n",
        "loss_test_pump, loss_train_pump, accuracy_test_pump, accuracy_train_pump = processing_neural_network(conv_net = model_pump, X_train = X_train_processed_pump, y_train = y_train_processed_pump)"
      ],
      "execution_count": 37,
      "outputs": [
        {
          "output_type": "stream",
          "text": [
            "Train on 1411 samples, validate on 353 samples\n",
            "Epoch 1/10\n",
            "1411/1411 [==============================] - 7s 5ms/step - loss: 0.8639 - accuracy: 0.6130 - val_loss: 0.5366 - val_accuracy: 0.7875\n",
            "Epoch 2/10\n",
            "1411/1411 [==============================] - 0s 309us/step - loss: 0.4297 - accuracy: 0.7895 - val_loss: 0.3500 - val_accuracy: 0.8045\n",
            "Epoch 3/10\n",
            "1411/1411 [==============================] - 0s 302us/step - loss: 0.3166 - accuracy: 0.8575 - val_loss: 0.9156 - val_accuracy: 0.7025\n",
            "Epoch 4/10\n",
            "1411/1411 [==============================] - 0s 311us/step - loss: 0.3660 - accuracy: 0.8108 - val_loss: 0.2762 - val_accuracy: 0.9008\n",
            "Epoch 5/10\n",
            "1411/1411 [==============================] - 0s 302us/step - loss: 0.2120 - accuracy: 0.9235 - val_loss: 1.7993 - val_accuracy: 0.6346\n",
            "Epoch 6/10\n",
            "1411/1411 [==============================] - 0s 308us/step - loss: 0.3143 - accuracy: 0.8738 - val_loss: 0.1458 - val_accuracy: 0.9490\n",
            "Epoch 7/10\n",
            "1411/1411 [==============================] - 0s 304us/step - loss: 0.1584 - accuracy: 0.9476 - val_loss: 0.1604 - val_accuracy: 0.9490\n",
            "Epoch 8/10\n",
            "1411/1411 [==============================] - 0s 314us/step - loss: 0.1150 - accuracy: 0.9639 - val_loss: 0.1706 - val_accuracy: 0.9547\n",
            "Epoch 9/10\n",
            "1411/1411 [==============================] - 0s 311us/step - loss: 0.1543 - accuracy: 0.9497 - val_loss: 0.2420 - val_accuracy: 0.8924\n",
            "Epoch 10/10\n",
            "1411/1411 [==============================] - 0s 309us/step - loss: 0.1613 - accuracy: 0.9405 - val_loss: 0.0897 - val_accuracy: 0.9603\n"
          ],
          "name": "stdout"
        }
      ]
    },
    {
      "cell_type": "code",
      "metadata": {
        "id": "EnKcqg4BtvZ7",
        "colab_type": "code",
        "outputId": "7e78fc94-1194-4a1f-fd89-b61d682dd8a4",
        "colab": {
          "base_uri": "https://localhost:8080/",
          "height": 425
        }
      },
      "source": [
        "#Showing the parameters computed\n",
        "model_pump.summary()"
      ],
      "execution_count": 38,
      "outputs": [
        {
          "output_type": "stream",
          "text": [
            "Model: \"sequential_1\"\n",
            "_________________________________________________________________\n",
            "Layer (type)                 Output Shape              Param #   \n",
            "=================================================================\n",
            "conv1d_1 (Conv1D)            (None, 595, 100)          1300      \n",
            "_________________________________________________________________\n",
            "conv1d_2 (Conv1D)            (None, 590, 100)          60100     \n",
            "_________________________________________________________________\n",
            "max_pooling1d_1 (MaxPooling1 (None, 196, 100)          0         \n",
            "_________________________________________________________________\n",
            "conv1d_3 (Conv1D)            (None, 191, 160)          96160     \n",
            "_________________________________________________________________\n",
            "conv1d_4 (Conv1D)            (None, 186, 160)          153760    \n",
            "_________________________________________________________________\n",
            "global_average_pooling1d_1 ( (None, 160)               0         \n",
            "_________________________________________________________________\n",
            "dropout_1 (Dropout)          (None, 160)               0         \n",
            "_________________________________________________________________\n",
            "dense_1 (Dense)              (None, 3)                 483       \n",
            "=================================================================\n",
            "Total params: 311,803\n",
            "Trainable params: 311,803\n",
            "Non-trainable params: 0\n",
            "_________________________________________________________________\n"
          ],
          "name": "stdout"
        }
      ]
    },
    {
      "cell_type": "markdown",
      "metadata": {
        "id": "hTwGhMouiJSY",
        "colab_type": "text"
      },
      "source": [
        "#2.3 Results"
      ]
    },
    {
      "cell_type": "code",
      "metadata": {
        "id": "NZh-4MlVjODP",
        "colab_type": "code",
        "outputId": "fd6f91dd-8dad-46d4-d7b4-941bf1259b3b",
        "colab": {
          "base_uri": "https://localhost:8080/",
          "height": 425
        }
      },
      "source": [
        "#Get the accuracy scores\n",
        "score_pump = model_pump.evaluate(X_test_processed_pump, y_test_processed_pump)\n",
        "print(\"\\n\")\n",
        "print(\"The scores are: \")\n",
        "print(score_pump)\n",
        "print(\"\\n\")\n",
        "\n",
        "#Get the names of the metrics\n",
        "names_pump = model_pump.metrics_names\n",
        "print(\"The name of the previous scores are: \")\n",
        "print(names_pump)\n",
        "print(\"\\n\")\n",
        "\n",
        "#Get the predictions\n",
        "predictions_pump = model_pump.predict_classes(X_test_processed_pump)\n",
        "print(\"The predictions of the model are: \")\n",
        "print(predictions_pump)"
      ],
      "execution_count": 39,
      "outputs": [
        {
          "output_type": "stream",
          "text": [
            "441/441 [==============================] - 0s 159us/step\n",
            "\n",
            "\n",
            "The scores are: \n",
            "[0.08494555654506834, 0.9659863710403442]\n",
            "\n",
            "\n",
            "The name of the previous scores are: \n",
            "['loss', 'accuracy']\n",
            "\n",
            "\n",
            "The predictions of the model are: \n",
            "[1 0 0 0 0 0 0 1 1 0 0 2 2 0 0 2 1 0 2 1 0 2 0 0 0 0 0 0 1 0 0 2 0 0 0 1 2\n",
            " 2 2 2 0 0 0 0 1 0 1 0 1 0 0 0 2 0 1 0 2 1 2 0 0 0 2 2 2 2 0 0 0 2 1 0 0 0\n",
            " 2 0 1 2 0 0 0 1 0 0 2 2 0 0 1 0 1 0 0 0 0 1 0 0 0 0 0 1 0 1 1 0 0 2 2 1 0\n",
            " 0 1 2 1 0 2 0 2 0 2 0 0 0 0 1 2 1 2 0 2 2 2 0 0 1 1 2 0 2 1 0 0 0 1 1 0 0\n",
            " 1 0 1 1 1 1 0 0 0 2 0 1 2 2 2 0 1 0 0 0 1 1 0 0 1 0 2 0 0 0 2 1 0 2 1 0 0\n",
            " 0 0 2 1 0 2 0 0 0 0 0 0 0 0 0 0 0 0 0 2 1 0 0 1 0 2 2 1 0 0 2 1 1 2 0 2 1\n",
            " 0 1 0 0 1 0 0 2 0 0 0 0 0 0 0 0 2 0 1 2 0 0 0 2 1 0 1 1 0 1 2 0 2 1 1 0 2\n",
            " 2 0 0 0 1 1 0 0 0 2 2 1 2 0 0 0 0 2 0 0 0 2 2 2 1 0 2 2 0 2 0 1 2 2 0 0 0\n",
            " 0 0 2 0 0 0 0 0 0 0 2 1 0 0 0 1 0 2 0 2 0 2 2 0 0 1 2 0 0 0 0 2 0 0 0 0 0\n",
            " 1 0 0 0 1 1 1 1 2 0 2 0 0 0 0 0 0 0 2 0 0 1 0 0 0 0 0 0 0 2 2 1 0 0 0 0 2\n",
            " 0 1 1 1 2 1 0 0 0 0 2 1 0 0 0 0 0 0 0 0 1 0 0 2 1 0 0 2 2 0 1 2 1 2 1 2 2\n",
            " 0 2 1 0 1 2 0 0 0 0 0 0 2 1 2 0 0 0 0 2 0 0 0 0 0 0 0 1 0 2 0 2 1 1]\n"
          ],
          "name": "stdout"
        }
      ]
    },
    {
      "cell_type": "code",
      "metadata": {
        "id": "gDc70q-dxy8v",
        "colab_type": "code",
        "outputId": "6ce6b198-3593-412a-a21a-b0622643d31f",
        "colab": {
          "base_uri": "https://localhost:8080/",
          "height": 51
        }
      },
      "source": [
        "#Get the shape\n",
        "print(\"The shape of the target pump is: \", y_test_processed_pump.shape)\n",
        "print(\"The shape of the predictions given for the model is: \", predictions_pump.shape)"
      ],
      "execution_count": 40,
      "outputs": [
        {
          "output_type": "stream",
          "text": [
            "The shape of the target pump is:  (441, 3)\n",
            "The shape of the predictions given for the model is:  (441,)\n"
          ],
          "name": "stdout"
        }
      ]
    },
    {
      "cell_type": "code",
      "metadata": {
        "id": "mcXBCOx9y8xQ",
        "colab_type": "code",
        "colab": {}
      },
      "source": [
        "#Preprocessing trick with numpy\n",
        "y_test_processed_pump_back = y_test_processed_pump.argmax(axis=-1)"
      ],
      "execution_count": 0,
      "outputs": []
    },
    {
      "cell_type": "code",
      "metadata": {
        "id": "WQGoQ-NxzGJh",
        "colab_type": "code",
        "outputId": "334a6da3-5cfc-471d-9026-baa2e152d3e4",
        "colab": {
          "base_uri": "https://localhost:8080/",
          "height": 187
        }
      },
      "source": [
        "#Showing the classification report\n",
        "classification_pump = classification_report(y_test_processed_pump_back, predictions_pump)\n",
        "print(classification_pump)"
      ],
      "execution_count": 42,
      "outputs": [
        {
          "output_type": "stream",
          "text": [
            "              precision    recall  f1-score   support\n",
            "\n",
            "           0       1.00      1.00      1.00       252\n",
            "           1       0.98      0.87      0.92       101\n",
            "           2       0.87      0.99      0.93        88\n",
            "\n",
            "    accuracy                           0.97       441\n",
            "   macro avg       0.95      0.95      0.95       441\n",
            "weighted avg       0.97      0.97      0.97       441\n",
            "\n"
          ],
          "name": "stdout"
        }
      ]
    },
    {
      "cell_type": "code",
      "metadata": {
        "id": "G139AEPXJ8h4",
        "colab_type": "code",
        "outputId": "d2d42277-03ee-4e67-a868-9eb2b74ca6b4",
        "colab": {
          "base_uri": "https://localhost:8080/",
          "height": 367
        }
      },
      "source": [
        "#Plotting the loss curve of the test set\n",
        "plot_loss_curve(loss = loss_test_pump, epochs = get_epochs(10), color = \"blue\", title = \"Loss of the test set\")"
      ],
      "execution_count": 43,
      "outputs": [
        {
          "output_type": "execute_result",
          "data": {
            "text/plain": [
              "<matplotlib.axes._subplots.AxesSubplot at 0x7fc6201a4080>"
            ]
          },
          "metadata": {
            "tags": []
          },
          "execution_count": 43
        },
        {
          "output_type": "display_data",
          "data": {
            "image/png": "[encoded data removed]",
            "text/plain": [
              "<Figure size 360x360 with 1 Axes>"
            ]
          },
          "metadata": {
            "tags": [],
            "needs_background": "light"
          }
        }
      ]
    },
    {
      "cell_type": "code",
      "metadata": {
        "id": "vsidS7O5MLQ4",
        "colab_type": "code",
        "outputId": "78a79cf3-c7f4-4bab-c28c-15ce32ae3cb4",
        "colab": {
          "base_uri": "https://localhost:8080/",
          "height": 367
        }
      },
      "source": [
        "#Plotting the loss curve of the training set\n",
        "plot_loss_curve(loss = loss_train_pump, epochs = get_epochs(10), color = \"blue\", title = \"Loss of the training set\")"
      ],
      "execution_count": 44,
      "outputs": [
        {
          "output_type": "execute_result",
          "data": {
            "text/plain": [
              "<matplotlib.axes._subplots.AxesSubplot at 0x7fc620135cc0>"
            ]
          },
          "metadata": {
            "tags": []
          },
          "execution_count": 44
        },
        {
          "output_type": "display_data",
          "data": {
            "image/png": "[encoded data removed]",
            "text/plain": [
              "<Figure size 360x360 with 1 Axes>"
            ]
          },
          "metadata": {
            "tags": [],
            "needs_background": "light"
          }
        }
      ]
    },
    {
      "cell_type": "code",
      "metadata": {
        "id": "3bk_z8p9L2Bf",
        "colab_type": "code",
        "outputId": "5c295e1e-88af-4cf4-cde0-f172940b1ae1",
        "colab": {
          "base_uri": "https://localhost:8080/",
          "height": 367
        }
      },
      "source": [
        "#Plotting the accuracy curve of the test set\n",
        "plot_accuracy_curve (accuracy = accuracy_test_pump, epochs = get_epochs(10), color = \"blue\", title = \"Accuracy of the test set\")"
      ],
      "execution_count": 45,
      "outputs": [
        {
          "output_type": "execute_result",
          "data": {
            "text/plain": [
              "<matplotlib.axes._subplots.AxesSubplot at 0x7fc6204c2f60>"
            ]
          },
          "metadata": {
            "tags": []
          },
          "execution_count": 45
        },
        {
          "output_type": "display_data",
          "data": {
            "image/png": "[encoded data removed]",
            "text/plain": [
              "<Figure size 360x360 with 1 Axes>"
            ]
          },
          "metadata": {
            "tags": [],
            "needs_background": "light"
          }
        }
      ]
    },
    {
      "cell_type": "code",
      "metadata": {
        "id": "bgNI3FCMRhHF",
        "colab_type": "code",
        "outputId": "3f694b7a-c0d4-42ac-a348-7bc0b7a1eee3",
        "colab": {
          "base_uri": "https://localhost:8080/",
          "height": 367
        }
      },
      "source": [
        "#Plotting the accuracy curve of the training set\n",
        "plot_accuracy_curve (accuracy = accuracy_train_pump, epochs = get_epochs(10), color = \"blue\", title = \"Accuracy of the training set\")"
      ],
      "execution_count": 46,
      "outputs": [
        {
          "output_type": "execute_result",
          "data": {
            "text/plain": [
              "<matplotlib.axes._subplots.AxesSubplot at 0x7fc6204c20f0>"
            ]
          },
          "metadata": {
            "tags": []
          },
          "execution_count": 46
        },
        {
          "output_type": "display_data",
          "data": {
            "image/png": "[encoded data removed]",
            "text/plain": [
              "<Figure size 360x360 with 1 Axes>"
            ]
          },
          "metadata": {
            "tags": [],
            "needs_background": "light"
          }
        }
      ]
    },
    {
      "cell_type": "markdown",
      "metadata": {
        "id": "lpFlB8hP7Tk0",
        "colab_type": "text"
      },
      "source": [
        "#3. Condition Monitoring of the Cooler"
      ]
    },
    {
      "cell_type": "markdown",
      "metadata": {
        "id": "k_urlvibiWtc",
        "colab_type": "text"
      },
      "source": [
        "#3.1 Data exploration and preprocessing"
      ]
    },
    {
      "cell_type": "code",
      "metadata": {
        "id": "KmGq5Rd2nUTM",
        "colab_type": "code",
        "colab": {}
      },
      "source": [
        "#Defining the second target of the dataset\n",
        "y_cooler = target[\"Cooler\"]"
      ],
      "execution_count": 0,
      "outputs": []
    },
    {
      "cell_type": "code",
      "metadata": {
        "id": "XFJAieUann8S",
        "colab_type": "code",
        "outputId": "178ed679-e19d-4363-9a71-f296d0e7e7b7",
        "colab": {
          "base_uri": "https://localhost:8080/",
          "height": 119
        }
      },
      "source": [
        "#Exploring the second target\n",
        "y_cooler.head()"
      ],
      "execution_count": 48,
      "outputs": [
        {
          "output_type": "execute_result",
          "data": {
            "text/plain": [
              "0    3\n",
              "1    3\n",
              "2    3\n",
              "3    3\n",
              "4    3\n",
              "Name: Cooler, dtype: int64"
            ]
          },
          "metadata": {
            "tags": []
          },
          "execution_count": 48
        }
      ]
    },
    {
      "cell_type": "code",
      "metadata": {
        "id": "3PrciWiNnqpz",
        "colab_type": "code",
        "outputId": "878ac14c-63b6-4ab3-816f-1cb2a5c5ce3f",
        "colab": {
          "base_uri": "https://localhost:8080/",
          "height": 85
        }
      },
      "source": [
        "#Showing the distribution of the values\n",
        "y_cooler.value_counts()"
      ],
      "execution_count": 49,
      "outputs": [
        {
          "output_type": "execute_result",
          "data": {
            "text/plain": [
              "100    741\n",
              "3      732\n",
              "20     732\n",
              "Name: Cooler, dtype: int64"
            ]
          },
          "metadata": {
            "tags": []
          },
          "execution_count": 49
        }
      ]
    },
    {
      "cell_type": "code",
      "metadata": {
        "id": "e-h_tD7Cw07B",
        "colab_type": "code",
        "outputId": "4dd00589-0424-429f-9d2c-f608bad84741",
        "colab": {
          "base_uri": "https://localhost:8080/",
          "height": 362
        }
      },
      "source": [
        "#Plotting the second target\n",
        "y_cooler.value_counts().plot(kind = \"bar\", color = \"red\", title = \"Condition monitoring of the cooler\", figsize = (5,5))"
      ],
      "execution_count": 50,
      "outputs": [
        {
          "output_type": "execute_result",
          "data": {
            "text/plain": [
              "<matplotlib.axes._subplots.AxesSubplot at 0x7fc62002d2e8>"
            ]
          },
          "metadata": {
            "tags": []
          },
          "execution_count": 50
        },
        {
          "output_type": "display_data",
          "data": {
            "image/png": "[encoded data removed]",
            "text/plain": [
              "<Figure size 360x360 with 1 Axes>"
            ]
          },
          "metadata": {
            "tags": [],
            "needs_background": "light"
          }
        }
      ]
    },
    {
      "cell_type": "code",
      "metadata": {
        "id": "5qge3VTQ8AVh",
        "colab_type": "code",
        "outputId": "c46feaa2-d9c8-4f74-8f73-97d8427335b5",
        "colab": {
          "base_uri": "https://localhost:8080/",
          "height": 85
        }
      },
      "source": [
        "#Legend\n",
        "print(\"Legend: \")\n",
        "print(\"100: full efficiency \")\n",
        "print(\"3: close to total failure \")\n",
        "print(\"20: reduced effifiency \")"
      ],
      "execution_count": 51,
      "outputs": [
        {
          "output_type": "stream",
          "text": [
            "Legend: \n",
            "100: full efficiency \n",
            "3: close to total failure \n",
            "20: reduced effifiency \n"
          ],
          "name": "stdout"
        }
      ]
    },
    {
      "cell_type": "code",
      "metadata": {
        "id": "FJ58LVhgnu17",
        "colab_type": "code",
        "colab": {}
      },
      "source": [
        "#Importing the features associated with the second target\n",
        "url_TS1 = \"https://raw.githubusercontent.com/Dedox-tech/Dataset/master/TS1.txt\""
      ],
      "execution_count": 0,
      "outputs": []
    },
    {
      "cell_type": "code",
      "metadata": {
        "id": "mPpotOCzprCc",
        "colab_type": "code",
        "colab": {}
      },
      "source": [
        "#Reading the first feature\n",
        "TS1 = pd.read_csv(url_TS1, sep=\"\\t\", header=None)"
      ],
      "execution_count": 0,
      "outputs": []
    },
    {
      "cell_type": "code",
      "metadata": {
        "id": "DgbQXmJRprjs",
        "colab_type": "code",
        "outputId": "1e5d2446-45c8-43e0-d29b-7ff27a91e432",
        "colab": {
          "base_uri": "https://localhost:8080/",
          "height": 224
        }
      },
      "source": [
        "#Showing the first feature\n",
        "TS1.head()"
      ],
      "execution_count": 54,
      "outputs": [
        {
          "output_type": "execute_result",
          "data": {
            "text/html": [
              "<div>\n",
              "<style scoped>\n",
              "    .dataframe tbody tr th:only-of-type {\n",
              "        vertical-align: middle;\n",
              "    }\n",
              "\n",
              "    .dataframe tbody tr th {\n",
              "        vertical-align: top;\n",
              "    }\n",
              "\n",
              "    .dataframe thead th {\n",
              "        text-align: right;\n",
              "    }\n",
              "</style>\n",
              "<table border=\"1\" class=\"dataframe\">\n",
              "  <thead>\n",
              "    <tr style=\"text-align: right;\">\n",
              "      <th></th>\n",
              "      <th>0</th>\n",
              "      <th>1</th>\n",
              "      <th>2</th>\n",
              "      <th>3</th>\n",
              "      <th>4</th>\n",
              "      <th>5</th>\n",
              "      <th>6</th>\n",
              "      <th>7</th>\n",
              "      <th>8</th>\n",
              "      <th>9</th>\n",
              "      <th>10</th>\n",
              "      <th>11</th>\n",
              "      <th>12</th>\n",
              "      <th>13</th>\n",
              "      <th>14</th>\n",
              "      <th>15</th>\n",
              "      <th>16</th>\n",
              "      <th>17</th>\n",
              "      <th>18</th>\n",
              "      <th>19</th>\n",
              "      <th>20</th>\n",
              "      <th>21</th>\n",
              "      <th>22</th>\n",
              "      <th>23</th>\n",
              "      <th>24</th>\n",
              "      <th>25</th>\n",
              "      <th>26</th>\n",
              "      <th>27</th>\n",
              "      <th>28</th>\n",
              "      <th>29</th>\n",
              "      <th>30</th>\n",
              "      <th>31</th>\n",
              "      <th>32</th>\n",
              "      <th>33</th>\n",
              "      <th>34</th>\n",
              "      <th>35</th>\n",
              "      <th>36</th>\n",
              "      <th>37</th>\n",
              "      <th>38</th>\n",
              "      <th>39</th>\n",
              "      <th>40</th>\n",
              "      <th>41</th>\n",
              "      <th>42</th>\n",
              "      <th>43</th>\n",
              "      <th>44</th>\n",
              "      <th>45</th>\n",
              "      <th>46</th>\n",
              "      <th>47</th>\n",
              "      <th>48</th>\n",
              "      <th>49</th>\n",
              "      <th>50</th>\n",
              "      <th>51</th>\n",
              "      <th>52</th>\n",
              "      <th>53</th>\n",
              "      <th>54</th>\n",
              "      <th>55</th>\n",
              "      <th>56</th>\n",
              "      <th>57</th>\n",
              "      <th>58</th>\n",
              "      <th>59</th>\n",
              "    </tr>\n",
              "  </thead>\n",
              "  <tbody>\n",
              "    <tr>\n",
              "      <th>0</th>\n",
              "      <td>35.570</td>\n",
              "      <td>35.492</td>\n",
              "      <td>35.469</td>\n",
              "      <td>35.422</td>\n",
              "      <td>35.414</td>\n",
              "      <td>35.320</td>\n",
              "      <td>35.227</td>\n",
              "      <td>35.242</td>\n",
              "      <td>35.160</td>\n",
              "      <td>35.176</td>\n",
              "      <td>35.172</td>\n",
              "      <td>35.168</td>\n",
              "      <td>35.156</td>\n",
              "      <td>35.187</td>\n",
              "      <td>35.176</td>\n",
              "      <td>35.250</td>\n",
              "      <td>35.234</td>\n",
              "      <td>35.316</td>\n",
              "      <td>35.316</td>\n",
              "      <td>35.402</td>\n",
              "      <td>35.402</td>\n",
              "      <td>35.398</td>\n",
              "      <td>35.441</td>\n",
              "      <td>35.414</td>\n",
              "      <td>35.434</td>\n",
              "      <td>35.480</td>\n",
              "      <td>35.500</td>\n",
              "      <td>35.488</td>\n",
              "      <td>35.559</td>\n",
              "      <td>35.555</td>\n",
              "      <td>35.574</td>\n",
              "      <td>35.652</td>\n",
              "      <td>35.668</td>\n",
              "      <td>35.664</td>\n",
              "      <td>35.660</td>\n",
              "      <td>35.734</td>\n",
              "      <td>35.824</td>\n",
              "      <td>35.824</td>\n",
              "      <td>35.820</td>\n",
              "      <td>35.836</td>\n",
              "      <td>35.836</td>\n",
              "      <td>35.828</td>\n",
              "      <td>35.840</td>\n",
              "      <td>35.859</td>\n",
              "      <td>35.918</td>\n",
              "      <td>35.914</td>\n",
              "      <td>35.895</td>\n",
              "      <td>35.992</td>\n",
              "      <td>35.980</td>\n",
              "      <td>35.980</td>\n",
              "      <td>36.008</td>\n",
              "      <td>35.984</td>\n",
              "      <td>35.996</td>\n",
              "      <td>36.039</td>\n",
              "      <td>36.008</td>\n",
              "      <td>36.008</td>\n",
              "      <td>36.094</td>\n",
              "      <td>36.102</td>\n",
              "      <td>36.090</td>\n",
              "      <td>36.152</td>\n",
              "    </tr>\n",
              "    <tr>\n",
              "      <th>1</th>\n",
              "      <td>36.156</td>\n",
              "      <td>36.094</td>\n",
              "      <td>35.992</td>\n",
              "      <td>36.008</td>\n",
              "      <td>35.992</td>\n",
              "      <td>35.902</td>\n",
              "      <td>35.824</td>\n",
              "      <td>35.820</td>\n",
              "      <td>35.727</td>\n",
              "      <td>35.727</td>\n",
              "      <td>35.648</td>\n",
              "      <td>35.734</td>\n",
              "      <td>35.828</td>\n",
              "      <td>35.848</td>\n",
              "      <td>35.902</td>\n",
              "      <td>36.035</td>\n",
              "      <td>36.078</td>\n",
              "      <td>36.199</td>\n",
              "      <td>36.246</td>\n",
              "      <td>36.301</td>\n",
              "      <td>36.398</td>\n",
              "      <td>36.473</td>\n",
              "      <td>36.500</td>\n",
              "      <td>36.555</td>\n",
              "      <td>36.652</td>\n",
              "      <td>36.645</td>\n",
              "      <td>36.664</td>\n",
              "      <td>36.652</td>\n",
              "      <td>36.738</td>\n",
              "      <td>36.715</td>\n",
              "      <td>36.797</td>\n",
              "      <td>36.797</td>\n",
              "      <td>36.891</td>\n",
              "      <td>36.902</td>\n",
              "      <td>36.898</td>\n",
              "      <td>36.984</td>\n",
              "      <td>36.984</td>\n",
              "      <td>37.062</td>\n",
              "      <td>37.051</td>\n",
              "      <td>37.145</td>\n",
              "      <td>37.141</td>\n",
              "      <td>37.172</td>\n",
              "      <td>37.164</td>\n",
              "      <td>37.164</td>\n",
              "      <td>37.152</td>\n",
              "      <td>37.238</td>\n",
              "      <td>37.234</td>\n",
              "      <td>37.305</td>\n",
              "      <td>37.305</td>\n",
              "      <td>37.324</td>\n",
              "      <td>37.328</td>\n",
              "      <td>37.324</td>\n",
              "      <td>37.340</td>\n",
              "      <td>37.332</td>\n",
              "      <td>37.316</td>\n",
              "      <td>37.410</td>\n",
              "      <td>37.418</td>\n",
              "      <td>37.422</td>\n",
              "      <td>37.488</td>\n",
              "      <td>37.477</td>\n",
              "    </tr>\n",
              "    <tr>\n",
              "      <th>2</th>\n",
              "      <td>37.488</td>\n",
              "      <td>37.391</td>\n",
              "      <td>37.340</td>\n",
              "      <td>37.312</td>\n",
              "      <td>37.223</td>\n",
              "      <td>37.145</td>\n",
              "      <td>37.059</td>\n",
              "      <td>36.973</td>\n",
              "      <td>36.898</td>\n",
              "      <td>36.879</td>\n",
              "      <td>36.887</td>\n",
              "      <td>36.887</td>\n",
              "      <td>36.980</td>\n",
              "      <td>37.059</td>\n",
              "      <td>37.137</td>\n",
              "      <td>37.230</td>\n",
              "      <td>37.316</td>\n",
              "      <td>37.398</td>\n",
              "      <td>37.477</td>\n",
              "      <td>37.582</td>\n",
              "      <td>37.578</td>\n",
              "      <td>37.723</td>\n",
              "      <td>37.730</td>\n",
              "      <td>37.730</td>\n",
              "      <td>37.797</td>\n",
              "      <td>37.898</td>\n",
              "      <td>37.980</td>\n",
              "      <td>37.977</td>\n",
              "      <td>37.984</td>\n",
              "      <td>38.016</td>\n",
              "      <td>38.031</td>\n",
              "      <td>38.047</td>\n",
              "      <td>38.117</td>\n",
              "      <td>38.125</td>\n",
              "      <td>38.195</td>\n",
              "      <td>38.219</td>\n",
              "      <td>38.207</td>\n",
              "      <td>38.289</td>\n",
              "      <td>38.301</td>\n",
              "      <td>38.281</td>\n",
              "      <td>38.367</td>\n",
              "      <td>38.379</td>\n",
              "      <td>38.379</td>\n",
              "      <td>38.379</td>\n",
              "      <td>38.379</td>\n",
              "      <td>38.375</td>\n",
              "      <td>38.367</td>\n",
              "      <td>38.391</td>\n",
              "      <td>38.391</td>\n",
              "      <td>38.469</td>\n",
              "      <td>38.457</td>\n",
              "      <td>38.461</td>\n",
              "      <td>38.457</td>\n",
              "      <td>38.469</td>\n",
              "      <td>38.469</td>\n",
              "      <td>38.555</td>\n",
              "      <td>38.527</td>\n",
              "      <td>38.543</td>\n",
              "      <td>38.527</td>\n",
              "      <td>38.621</td>\n",
              "    </tr>\n",
              "    <tr>\n",
              "      <th>3</th>\n",
              "      <td>38.633</td>\n",
              "      <td>38.535</td>\n",
              "      <td>38.469</td>\n",
              "      <td>38.379</td>\n",
              "      <td>38.297</td>\n",
              "      <td>38.223</td>\n",
              "      <td>38.125</td>\n",
              "      <td>38.062</td>\n",
              "      <td>37.977</td>\n",
              "      <td>37.969</td>\n",
              "      <td>37.887</td>\n",
              "      <td>37.902</td>\n",
              "      <td>37.965</td>\n",
              "      <td>38.047</td>\n",
              "      <td>38.180</td>\n",
              "      <td>38.203</td>\n",
              "      <td>38.367</td>\n",
              "      <td>38.406</td>\n",
              "      <td>38.457</td>\n",
              "      <td>38.629</td>\n",
              "      <td>38.633</td>\n",
              "      <td>38.699</td>\n",
              "      <td>38.801</td>\n",
              "      <td>38.801</td>\n",
              "      <td>38.828</td>\n",
              "      <td>38.902</td>\n",
              "      <td>38.895</td>\n",
              "      <td>38.969</td>\n",
              "      <td>38.988</td>\n",
              "      <td>39.055</td>\n",
              "      <td>39.055</td>\n",
              "      <td>39.055</td>\n",
              "      <td>39.055</td>\n",
              "      <td>39.121</td>\n",
              "      <td>39.215</td>\n",
              "      <td>39.215</td>\n",
              "      <td>39.219</td>\n",
              "      <td>39.227</td>\n",
              "      <td>39.273</td>\n",
              "      <td>39.285</td>\n",
              "      <td>39.293</td>\n",
              "      <td>39.293</td>\n",
              "      <td>39.273</td>\n",
              "      <td>39.285</td>\n",
              "      <td>39.375</td>\n",
              "      <td>39.359</td>\n",
              "      <td>39.375</td>\n",
              "      <td>39.379</td>\n",
              "      <td>39.367</td>\n",
              "      <td>39.363</td>\n",
              "      <td>39.441</td>\n",
              "      <td>39.363</td>\n",
              "      <td>39.367</td>\n",
              "      <td>39.457</td>\n",
              "      <td>39.461</td>\n",
              "      <td>39.461</td>\n",
              "      <td>39.473</td>\n",
              "      <td>39.441</td>\n",
              "      <td>39.453</td>\n",
              "      <td>39.461</td>\n",
              "    </tr>\n",
              "    <tr>\n",
              "      <th>4</th>\n",
              "      <td>39.461</td>\n",
              "      <td>39.461</td>\n",
              "      <td>39.375</td>\n",
              "      <td>39.281</td>\n",
              "      <td>39.203</td>\n",
              "      <td>39.113</td>\n",
              "      <td>39.043</td>\n",
              "      <td>38.969</td>\n",
              "      <td>38.875</td>\n",
              "      <td>38.883</td>\n",
              "      <td>38.809</td>\n",
              "      <td>38.789</td>\n",
              "      <td>38.883</td>\n",
              "      <td>38.965</td>\n",
              "      <td>39.047</td>\n",
              "      <td>39.121</td>\n",
              "      <td>39.234</td>\n",
              "      <td>39.281</td>\n",
              "      <td>39.453</td>\n",
              "      <td>39.461</td>\n",
              "      <td>39.488</td>\n",
              "      <td>39.633</td>\n",
              "      <td>39.723</td>\n",
              "      <td>39.719</td>\n",
              "      <td>39.711</td>\n",
              "      <td>39.801</td>\n",
              "      <td>39.879</td>\n",
              "      <td>39.867</td>\n",
              "      <td>39.883</td>\n",
              "      <td>39.973</td>\n",
              "      <td>39.973</td>\n",
              "      <td>39.961</td>\n",
              "      <td>40.047</td>\n",
              "      <td>40.133</td>\n",
              "      <td>40.047</td>\n",
              "      <td>40.133</td>\n",
              "      <td>40.145</td>\n",
              "      <td>40.230</td>\n",
              "      <td>40.219</td>\n",
              "      <td>40.219</td>\n",
              "      <td>40.305</td>\n",
              "      <td>40.297</td>\n",
              "      <td>40.285</td>\n",
              "      <td>40.309</td>\n",
              "      <td>40.281</td>\n",
              "      <td>40.309</td>\n",
              "      <td>40.391</td>\n",
              "      <td>40.348</td>\n",
              "      <td>40.320</td>\n",
              "      <td>40.336</td>\n",
              "      <td>40.324</td>\n",
              "      <td>40.320</td>\n",
              "      <td>40.312</td>\n",
              "      <td>40.340</td>\n",
              "      <td>40.320</td>\n",
              "      <td>40.387</td>\n",
              "      <td>40.391</td>\n",
              "      <td>40.391</td>\n",
              "      <td>40.387</td>\n",
              "      <td>40.391</td>\n",
              "    </tr>\n",
              "  </tbody>\n",
              "</table>\n",
              "</div>"
            ],
            "text/plain": [
              "       0       1       2       3   ...      56      57      58      59\n",
              "0  35.570  35.492  35.469  35.422  ...  36.094  36.102  36.090  36.152\n",
              "1  36.156  36.094  35.992  36.008  ...  37.418  37.422  37.488  37.477\n",
              "2  37.488  37.391  37.340  37.312  ...  38.527  38.543  38.527  38.621\n",
              "3  38.633  38.535  38.469  38.379  ...  39.473  39.441  39.453  39.461\n",
              "4  39.461  39.461  39.375  39.281  ...  40.391  40.391  40.387  40.391\n",
              "\n",
              "[5 rows x 60 columns]"
            ]
          },
          "metadata": {
            "tags": []
          },
          "execution_count": 54
        }
      ]
    },
    {
      "cell_type": "code",
      "metadata": {
        "id": "zgKpVhS12-Ao",
        "colab_type": "code",
        "outputId": "12eb05d4-fe4b-423c-ec79-7540be61604c",
        "colab": {
          "base_uri": "https://localhost:8080/",
          "height": 353
        }
      },
      "source": [
        "#Plotting the first feature (first cycle)\n",
        "TS1.iloc[0].plot(kind = \"line\", color = \"red\", title = \"First cycle of the first temperature sensor\", figsize = (5,5))"
      ],
      "execution_count": 55,
      "outputs": [
        {
          "output_type": "execute_result",
          "data": {
            "text/plain": [
              "<matplotlib.axes._subplots.AxesSubplot at 0x7fc5ce2438d0>"
            ]
          },
          "metadata": {
            "tags": []
          },
          "execution_count": 55
        },
        {
          "output_type": "display_data",
          "data": {
            "image/png": "[encoded data removed]",
            "text/plain": [
              "<Figure size 360x360 with 1 Axes>"
            ]
          },
          "metadata": {
            "tags": [],
            "needs_background": "light"
          }
        }
      ]
    },
    {
      "cell_type": "code",
      "metadata": {
        "id": "F7IHM8brpsrz",
        "colab_type": "code",
        "colab": {}
      },
      "source": [
        "#Importing the features associated with the second target\n",
        "url_TS2 = \"https://raw.githubusercontent.com/Dedox-tech/Dataset/master/TS2.txt\" "
      ],
      "execution_count": 0,
      "outputs": []
    },
    {
      "cell_type": "code",
      "metadata": {
        "id": "1Ds3QtOBpvSr",
        "colab_type": "code",
        "colab": {}
      },
      "source": [
        "#Reading the second feature\n",
        "TS2 = pd.read_csv(url_TS2, sep=\"\\t\", header=None)"
      ],
      "execution_count": 0,
      "outputs": []
    },
    {
      "cell_type": "code",
      "metadata": {
        "id": "Vbf4MpjspvoP",
        "colab_type": "code",
        "outputId": "95c086ca-b21a-4353-cf2e-5bcd9df7d9ad",
        "colab": {
          "base_uri": "https://localhost:8080/",
          "height": 224
        }
      },
      "source": [
        "#Showing the second feature\n",
        "TS2.head()"
      ],
      "execution_count": 58,
      "outputs": [
        {
          "output_type": "execute_result",
          "data": {
            "text/html": [
              "<div>\n",
              "<style scoped>\n",
              "    .dataframe tbody tr th:only-of-type {\n",
              "        vertical-align: middle;\n",
              "    }\n",
              "\n",
              "    .dataframe tbody tr th {\n",
              "        vertical-align: top;\n",
              "    }\n",
              "\n",
              "    .dataframe thead th {\n",
              "        text-align: right;\n",
              "    }\n",
              "</style>\n",
              "<table border=\"1\" class=\"dataframe\">\n",
              "  <thead>\n",
              "    <tr style=\"text-align: right;\">\n",
              "      <th></th>\n",
              "      <th>0</th>\n",
              "      <th>1</th>\n",
              "      <th>2</th>\n",
              "      <th>3</th>\n",
              "      <th>4</th>\n",
              "      <th>5</th>\n",
              "      <th>6</th>\n",
              "      <th>7</th>\n",
              "      <th>8</th>\n",
              "      <th>9</th>\n",
              "      <th>10</th>\n",
              "      <th>11</th>\n",
              "      <th>12</th>\n",
              "      <th>13</th>\n",
              "      <th>14</th>\n",
              "      <th>15</th>\n",
              "      <th>16</th>\n",
              "      <th>17</th>\n",
              "      <th>18</th>\n",
              "      <th>19</th>\n",
              "      <th>20</th>\n",
              "      <th>21</th>\n",
              "      <th>22</th>\n",
              "      <th>23</th>\n",
              "      <th>24</th>\n",
              "      <th>25</th>\n",
              "      <th>26</th>\n",
              "      <th>27</th>\n",
              "      <th>28</th>\n",
              "      <th>29</th>\n",
              "      <th>30</th>\n",
              "      <th>31</th>\n",
              "      <th>32</th>\n",
              "      <th>33</th>\n",
              "      <th>34</th>\n",
              "      <th>35</th>\n",
              "      <th>36</th>\n",
              "      <th>37</th>\n",
              "      <th>38</th>\n",
              "      <th>39</th>\n",
              "      <th>40</th>\n",
              "      <th>41</th>\n",
              "      <th>42</th>\n",
              "      <th>43</th>\n",
              "      <th>44</th>\n",
              "      <th>45</th>\n",
              "      <th>46</th>\n",
              "      <th>47</th>\n",
              "      <th>48</th>\n",
              "      <th>49</th>\n",
              "      <th>50</th>\n",
              "      <th>51</th>\n",
              "      <th>52</th>\n",
              "      <th>53</th>\n",
              "      <th>54</th>\n",
              "      <th>55</th>\n",
              "      <th>56</th>\n",
              "      <th>57</th>\n",
              "      <th>58</th>\n",
              "      <th>59</th>\n",
              "    </tr>\n",
              "  </thead>\n",
              "  <tbody>\n",
              "    <tr>\n",
              "      <th>0</th>\n",
              "      <td>40.961</td>\n",
              "      <td>40.949</td>\n",
              "      <td>40.965</td>\n",
              "      <td>40.922</td>\n",
              "      <td>40.879</td>\n",
              "      <td>40.879</td>\n",
              "      <td>40.828</td>\n",
              "      <td>40.812</td>\n",
              "      <td>40.809</td>\n",
              "      <td>40.785</td>\n",
              "      <td>40.789</td>\n",
              "      <td>40.785</td>\n",
              "      <td>40.773</td>\n",
              "      <td>40.789</td>\n",
              "      <td>40.785</td>\n",
              "      <td>40.773</td>\n",
              "      <td>40.812</td>\n",
              "      <td>40.785</td>\n",
              "      <td>40.801</td>\n",
              "      <td>40.809</td>\n",
              "      <td>40.797</td>\n",
              "      <td>40.785</td>\n",
              "      <td>40.828</td>\n",
              "      <td>40.863</td>\n",
              "      <td>40.867</td>\n",
              "      <td>40.879</td>\n",
              "      <td>40.809</td>\n",
              "      <td>40.895</td>\n",
              "      <td>40.926</td>\n",
              "      <td>40.949</td>\n",
              "      <td>40.965</td>\n",
              "      <td>40.961</td>\n",
              "      <td>40.984</td>\n",
              "      <td>41.020</td>\n",
              "      <td>41.039</td>\n",
              "      <td>41.043</td>\n",
              "      <td>41.043</td>\n",
              "      <td>41.043</td>\n",
              "      <td>41.043</td>\n",
              "      <td>41.059</td>\n",
              "      <td>41.098</td>\n",
              "      <td>41.109</td>\n",
              "      <td>41.121</td>\n",
              "      <td>41.129</td>\n",
              "      <td>41.125</td>\n",
              "      <td>41.121</td>\n",
              "      <td>41.129</td>\n",
              "      <td>41.148</td>\n",
              "      <td>41.141</td>\n",
              "      <td>41.180</td>\n",
              "      <td>41.211</td>\n",
              "      <td>41.129</td>\n",
              "      <td>41.195</td>\n",
              "      <td>41.211</td>\n",
              "      <td>41.207</td>\n",
              "      <td>41.191</td>\n",
              "      <td>41.207</td>\n",
              "      <td>41.207</td>\n",
              "      <td>41.129</td>\n",
              "      <td>41.250</td>\n",
              "    </tr>\n",
              "    <tr>\n",
              "      <th>1</th>\n",
              "      <td>41.258</td>\n",
              "      <td>41.277</td>\n",
              "      <td>41.262</td>\n",
              "      <td>41.223</td>\n",
              "      <td>41.211</td>\n",
              "      <td>41.176</td>\n",
              "      <td>41.129</td>\n",
              "      <td>41.129</td>\n",
              "      <td>41.070</td>\n",
              "      <td>41.031</td>\n",
              "      <td>41.039</td>\n",
              "      <td>41.031</td>\n",
              "      <td>41.066</td>\n",
              "      <td>41.113</td>\n",
              "      <td>41.113</td>\n",
              "      <td>41.184</td>\n",
              "      <td>41.207</td>\n",
              "      <td>41.223</td>\n",
              "      <td>41.262</td>\n",
              "      <td>41.223</td>\n",
              "      <td>41.277</td>\n",
              "      <td>41.285</td>\n",
              "      <td>41.285</td>\n",
              "      <td>41.297</td>\n",
              "      <td>41.355</td>\n",
              "      <td>41.379</td>\n",
              "      <td>41.437</td>\n",
              "      <td>41.465</td>\n",
              "      <td>41.465</td>\n",
              "      <td>41.516</td>\n",
              "      <td>41.520</td>\n",
              "      <td>41.527</td>\n",
              "      <td>41.531</td>\n",
              "      <td>41.574</td>\n",
              "      <td>41.613</td>\n",
              "      <td>41.625</td>\n",
              "      <td>41.680</td>\n",
              "      <td>41.719</td>\n",
              "      <td>41.766</td>\n",
              "      <td>41.777</td>\n",
              "      <td>41.805</td>\n",
              "      <td>41.781</td>\n",
              "      <td>41.867</td>\n",
              "      <td>41.789</td>\n",
              "      <td>41.867</td>\n",
              "      <td>41.871</td>\n",
              "      <td>41.871</td>\n",
              "      <td>41.883</td>\n",
              "      <td>41.926</td>\n",
              "      <td>41.922</td>\n",
              "      <td>41.949</td>\n",
              "      <td>41.941</td>\n",
              "      <td>41.980</td>\n",
              "      <td>41.957</td>\n",
              "      <td>41.980</td>\n",
              "      <td>42.020</td>\n",
              "      <td>42.023</td>\n",
              "      <td>42.031</td>\n",
              "      <td>42.078</td>\n",
              "      <td>42.105</td>\n",
              "    </tr>\n",
              "    <tr>\n",
              "      <th>2</th>\n",
              "      <td>42.129</td>\n",
              "      <td>42.105</td>\n",
              "      <td>42.117</td>\n",
              "      <td>42.066</td>\n",
              "      <td>42.031</td>\n",
              "      <td>41.969</td>\n",
              "      <td>41.926</td>\n",
              "      <td>41.867</td>\n",
              "      <td>41.867</td>\n",
              "      <td>41.855</td>\n",
              "      <td>41.871</td>\n",
              "      <td>41.832</td>\n",
              "      <td>41.867</td>\n",
              "      <td>41.941</td>\n",
              "      <td>41.984</td>\n",
              "      <td>41.949</td>\n",
              "      <td>42.105</td>\n",
              "      <td>42.113</td>\n",
              "      <td>42.117</td>\n",
              "      <td>42.129</td>\n",
              "      <td>42.141</td>\n",
              "      <td>42.207</td>\n",
              "      <td>42.242</td>\n",
              "      <td>42.277</td>\n",
              "      <td>42.309</td>\n",
              "      <td>42.363</td>\n",
              "      <td>42.371</td>\n",
              "      <td>42.371</td>\n",
              "      <td>42.348</td>\n",
              "      <td>42.402</td>\n",
              "      <td>42.445</td>\n",
              "      <td>42.457</td>\n",
              "      <td>42.539</td>\n",
              "      <td>42.500</td>\n",
              "      <td>42.594</td>\n",
              "      <td>42.633</td>\n",
              "      <td>42.617</td>\n",
              "      <td>42.633</td>\n",
              "      <td>42.676</td>\n",
              "      <td>42.703</td>\n",
              "      <td>42.766</td>\n",
              "      <td>42.777</td>\n",
              "      <td>42.777</td>\n",
              "      <td>42.820</td>\n",
              "      <td>42.875</td>\n",
              "      <td>42.852</td>\n",
              "      <td>42.875</td>\n",
              "      <td>42.867</td>\n",
              "      <td>42.875</td>\n",
              "      <td>42.875</td>\n",
              "      <td>42.887</td>\n",
              "      <td>42.887</td>\n",
              "      <td>42.906</td>\n",
              "      <td>42.941</td>\n",
              "      <td>42.930</td>\n",
              "      <td>42.934</td>\n",
              "      <td>42.973</td>\n",
              "      <td>42.988</td>\n",
              "      <td>43.039</td>\n",
              "      <td>43.035</td>\n",
              "    </tr>\n",
              "    <tr>\n",
              "      <th>3</th>\n",
              "      <td>43.039</td>\n",
              "      <td>43.043</td>\n",
              "      <td>43.039</td>\n",
              "      <td>43.000</td>\n",
              "      <td>42.957</td>\n",
              "      <td>42.887</td>\n",
              "      <td>42.879</td>\n",
              "      <td>42.879</td>\n",
              "      <td>42.875</td>\n",
              "      <td>42.809</td>\n",
              "      <td>42.805</td>\n",
              "      <td>42.852</td>\n",
              "      <td>42.867</td>\n",
              "      <td>42.867</td>\n",
              "      <td>42.934</td>\n",
              "      <td>42.961</td>\n",
              "      <td>43.027</td>\n",
              "      <td>43.027</td>\n",
              "      <td>43.125</td>\n",
              "      <td>43.121</td>\n",
              "      <td>43.121</td>\n",
              "      <td>43.121</td>\n",
              "      <td>43.176</td>\n",
              "      <td>43.207</td>\n",
              "      <td>43.246</td>\n",
              "      <td>43.281</td>\n",
              "      <td>43.293</td>\n",
              "      <td>43.352</td>\n",
              "      <td>43.363</td>\n",
              "      <td>43.363</td>\n",
              "      <td>43.367</td>\n",
              "      <td>43.391</td>\n",
              "      <td>43.422</td>\n",
              "      <td>43.457</td>\n",
              "      <td>43.527</td>\n",
              "      <td>43.551</td>\n",
              "      <td>43.605</td>\n",
              "      <td>43.609</td>\n",
              "      <td>43.641</td>\n",
              "      <td>43.703</td>\n",
              "      <td>43.723</td>\n",
              "      <td>43.777</td>\n",
              "      <td>43.785</td>\n",
              "      <td>43.797</td>\n",
              "      <td>43.828</td>\n",
              "      <td>43.840</td>\n",
              "      <td>43.879</td>\n",
              "      <td>43.867</td>\n",
              "      <td>43.871</td>\n",
              "      <td>43.863</td>\n",
              "      <td>43.879</td>\n",
              "      <td>43.879</td>\n",
              "      <td>43.891</td>\n",
              "      <td>43.883</td>\n",
              "      <td>43.895</td>\n",
              "      <td>43.961</td>\n",
              "      <td>43.934</td>\n",
              "      <td>43.949</td>\n",
              "      <td>43.961</td>\n",
              "      <td>43.988</td>\n",
              "    </tr>\n",
              "    <tr>\n",
              "      <th>4</th>\n",
              "      <td>44.031</td>\n",
              "      <td>44.027</td>\n",
              "      <td>43.988</td>\n",
              "      <td>43.961</td>\n",
              "      <td>43.895</td>\n",
              "      <td>43.879</td>\n",
              "      <td>43.895</td>\n",
              "      <td>43.836</td>\n",
              "      <td>43.805</td>\n",
              "      <td>43.742</td>\n",
              "      <td>43.746</td>\n",
              "      <td>43.789</td>\n",
              "      <td>43.812</td>\n",
              "      <td>43.801</td>\n",
              "      <td>43.895</td>\n",
              "      <td>43.895</td>\n",
              "      <td>43.961</td>\n",
              "      <td>44.016</td>\n",
              "      <td>44.047</td>\n",
              "      <td>44.090</td>\n",
              "      <td>44.113</td>\n",
              "      <td>44.137</td>\n",
              "      <td>44.109</td>\n",
              "      <td>44.125</td>\n",
              "      <td>44.180</td>\n",
              "      <td>44.125</td>\n",
              "      <td>44.238</td>\n",
              "      <td>44.289</td>\n",
              "      <td>44.301</td>\n",
              "      <td>44.312</td>\n",
              "      <td>44.371</td>\n",
              "      <td>44.371</td>\n",
              "      <td>44.359</td>\n",
              "      <td>44.410</td>\n",
              "      <td>44.441</td>\n",
              "      <td>44.477</td>\n",
              "      <td>44.535</td>\n",
              "      <td>44.551</td>\n",
              "      <td>44.617</td>\n",
              "      <td>44.617</td>\n",
              "      <td>44.629</td>\n",
              "      <td>44.629</td>\n",
              "      <td>44.641</td>\n",
              "      <td>44.652</td>\n",
              "      <td>44.656</td>\n",
              "      <td>44.695</td>\n",
              "      <td>44.707</td>\n",
              "      <td>44.707</td>\n",
              "      <td>44.723</td>\n",
              "      <td>44.777</td>\n",
              "      <td>44.766</td>\n",
              "      <td>44.801</td>\n",
              "      <td>44.805</td>\n",
              "      <td>44.789</td>\n",
              "      <td>44.859</td>\n",
              "      <td>44.848</td>\n",
              "      <td>44.863</td>\n",
              "      <td>44.871</td>\n",
              "      <td>44.887</td>\n",
              "      <td>44.871</td>\n",
              "    </tr>\n",
              "  </tbody>\n",
              "</table>\n",
              "</div>"
            ],
            "text/plain": [
              "       0       1       2       3   ...      56      57      58      59\n",
              "0  40.961  40.949  40.965  40.922  ...  41.207  41.207  41.129  41.250\n",
              "1  41.258  41.277  41.262  41.223  ...  42.023  42.031  42.078  42.105\n",
              "2  42.129  42.105  42.117  42.066  ...  42.973  42.988  43.039  43.035\n",
              "3  43.039  43.043  43.039  43.000  ...  43.934  43.949  43.961  43.988\n",
              "4  44.031  44.027  43.988  43.961  ...  44.863  44.871  44.887  44.871\n",
              "\n",
              "[5 rows x 60 columns]"
            ]
          },
          "metadata": {
            "tags": []
          },
          "execution_count": 58
        }
      ]
    },
    {
      "cell_type": "code",
      "metadata": {
        "id": "J6x8ep0D3FuH",
        "colab_type": "code",
        "outputId": "3db69719-aa82-4c78-9a25-e04b5519765e",
        "colab": {
          "base_uri": "https://localhost:8080/",
          "height": 353
        }
      },
      "source": [
        "#Plotting the second feature (first cycle)\n",
        "TS2.iloc[0].plot(kind = \"line\", color = \"red\", title = \"First cycle of the second temperature sensor\", figsize = (5,5))"
      ],
      "execution_count": 59,
      "outputs": [
        {
          "output_type": "execute_result",
          "data": {
            "text/plain": [
              "<matplotlib.axes._subplots.AxesSubplot at 0x7fc5ce215390>"
            ]
          },
          "metadata": {
            "tags": []
          },
          "execution_count": 59
        },
        {
          "output_type": "display_data",
          "data": {
            "image/png": "[encoded data removed]",
            "text/plain": [
              "<Figure size 360x360 with 1 Axes>"
            ]
          },
          "metadata": {
            "tags": [],
            "needs_background": "light"
          }
        }
      ]
    },
    {
      "cell_type": "code",
      "metadata": {
        "id": "o13geGkFpw0M",
        "colab_type": "code",
        "colab": {}
      },
      "source": [
        "#Importing the features associated with the second target\n",
        "url_TS3 = \"https://raw.githubusercontent.com/Dedox-tech/Dataset/master/TS3.txt\""
      ],
      "execution_count": 0,
      "outputs": []
    },
    {
      "cell_type": "code",
      "metadata": {
        "id": "DoyE0PhIp0Y7",
        "colab_type": "code",
        "colab": {}
      },
      "source": [
        "#Reading the third feature\n",
        "TS3 = pd.read_csv(url_TS3, sep=\"\\t\", header=None)"
      ],
      "execution_count": 0,
      "outputs": []
    },
    {
      "cell_type": "code",
      "metadata": {
        "id": "RKp4EowLp1qa",
        "colab_type": "code",
        "outputId": "48bf239a-c5bb-4a35-c0cc-ccce5b0ecd42",
        "colab": {
          "base_uri": "https://localhost:8080/",
          "height": 224
        }
      },
      "source": [
        "#Showing the third feature\n",
        "TS3.head()"
      ],
      "execution_count": 62,
      "outputs": [
        {
          "output_type": "execute_result",
          "data": {
            "text/html": [
              "<div>\n",
              "<style scoped>\n",
              "    .dataframe tbody tr th:only-of-type {\n",
              "        vertical-align: middle;\n",
              "    }\n",
              "\n",
              "    .dataframe tbody tr th {\n",
              "        vertical-align: top;\n",
              "    }\n",
              "\n",
              "    .dataframe thead th {\n",
              "        text-align: right;\n",
              "    }\n",
              "</style>\n",
              "<table border=\"1\" class=\"dataframe\">\n",
              "  <thead>\n",
              "    <tr style=\"text-align: right;\">\n",
              "      <th></th>\n",
              "      <th>0</th>\n",
              "      <th>1</th>\n",
              "      <th>2</th>\n",
              "      <th>3</th>\n",
              "      <th>4</th>\n",
              "      <th>5</th>\n",
              "      <th>6</th>\n",
              "      <th>7</th>\n",
              "      <th>8</th>\n",
              "      <th>9</th>\n",
              "      <th>10</th>\n",
              "      <th>11</th>\n",
              "      <th>12</th>\n",
              "      <th>13</th>\n",
              "      <th>14</th>\n",
              "      <th>15</th>\n",
              "      <th>16</th>\n",
              "      <th>17</th>\n",
              "      <th>18</th>\n",
              "      <th>19</th>\n",
              "      <th>20</th>\n",
              "      <th>21</th>\n",
              "      <th>22</th>\n",
              "      <th>23</th>\n",
              "      <th>24</th>\n",
              "      <th>25</th>\n",
              "      <th>26</th>\n",
              "      <th>27</th>\n",
              "      <th>28</th>\n",
              "      <th>29</th>\n",
              "      <th>30</th>\n",
              "      <th>31</th>\n",
              "      <th>32</th>\n",
              "      <th>33</th>\n",
              "      <th>34</th>\n",
              "      <th>35</th>\n",
              "      <th>36</th>\n",
              "      <th>37</th>\n",
              "      <th>38</th>\n",
              "      <th>39</th>\n",
              "      <th>40</th>\n",
              "      <th>41</th>\n",
              "      <th>42</th>\n",
              "      <th>43</th>\n",
              "      <th>44</th>\n",
              "      <th>45</th>\n",
              "      <th>46</th>\n",
              "      <th>47</th>\n",
              "      <th>48</th>\n",
              "      <th>49</th>\n",
              "      <th>50</th>\n",
              "      <th>51</th>\n",
              "      <th>52</th>\n",
              "      <th>53</th>\n",
              "      <th>54</th>\n",
              "      <th>55</th>\n",
              "      <th>56</th>\n",
              "      <th>57</th>\n",
              "      <th>58</th>\n",
              "      <th>59</th>\n",
              "    </tr>\n",
              "  </thead>\n",
              "  <tbody>\n",
              "    <tr>\n",
              "      <th>0</th>\n",
              "      <td>38.320</td>\n",
              "      <td>38.332</td>\n",
              "      <td>38.320</td>\n",
              "      <td>38.324</td>\n",
              "      <td>38.332</td>\n",
              "      <td>38.324</td>\n",
              "      <td>38.348</td>\n",
              "      <td>38.332</td>\n",
              "      <td>38.336</td>\n",
              "      <td>38.316</td>\n",
              "      <td>38.336</td>\n",
              "      <td>38.336</td>\n",
              "      <td>38.359</td>\n",
              "      <td>38.336</td>\n",
              "      <td>38.410</td>\n",
              "      <td>38.418</td>\n",
              "      <td>38.500</td>\n",
              "      <td>38.492</td>\n",
              "      <td>38.496</td>\n",
              "      <td>38.551</td>\n",
              "      <td>38.559</td>\n",
              "      <td>38.547</td>\n",
              "      <td>38.535</td>\n",
              "      <td>38.535</td>\n",
              "      <td>38.500</td>\n",
              "      <td>38.492</td>\n",
              "      <td>38.500</td>\n",
              "      <td>38.500</td>\n",
              "      <td>38.492</td>\n",
              "      <td>38.496</td>\n",
              "      <td>38.496</td>\n",
              "      <td>38.496</td>\n",
              "      <td>38.508</td>\n",
              "      <td>38.496</td>\n",
              "      <td>38.492</td>\n",
              "      <td>38.500</td>\n",
              "      <td>38.496</td>\n",
              "      <td>38.520</td>\n",
              "      <td>38.496</td>\n",
              "      <td>38.500</td>\n",
              "      <td>38.484</td>\n",
              "      <td>38.496</td>\n",
              "      <td>38.484</td>\n",
              "      <td>38.484</td>\n",
              "      <td>38.492</td>\n",
              "      <td>38.508</td>\n",
              "      <td>38.492</td>\n",
              "      <td>38.508</td>\n",
              "      <td>38.492</td>\n",
              "      <td>38.512</td>\n",
              "      <td>38.523</td>\n",
              "      <td>38.539</td>\n",
              "      <td>38.578</td>\n",
              "      <td>38.531</td>\n",
              "      <td>38.523</td>\n",
              "      <td>38.566</td>\n",
              "      <td>38.613</td>\n",
              "      <td>38.590</td>\n",
              "      <td>38.578</td>\n",
              "      <td>38.594</td>\n",
              "    </tr>\n",
              "    <tr>\n",
              "      <th>1</th>\n",
              "      <td>38.680</td>\n",
              "      <td>38.672</td>\n",
              "      <td>38.668</td>\n",
              "      <td>38.668</td>\n",
              "      <td>38.742</td>\n",
              "      <td>38.742</td>\n",
              "      <td>38.750</td>\n",
              "      <td>38.742</td>\n",
              "      <td>38.742</td>\n",
              "      <td>38.781</td>\n",
              "      <td>38.777</td>\n",
              "      <td>38.750</td>\n",
              "      <td>38.777</td>\n",
              "      <td>38.742</td>\n",
              "      <td>38.832</td>\n",
              "      <td>38.844</td>\n",
              "      <td>38.918</td>\n",
              "      <td>38.918</td>\n",
              "      <td>38.969</td>\n",
              "      <td>38.953</td>\n",
              "      <td>38.992</td>\n",
              "      <td>38.996</td>\n",
              "      <td>39.039</td>\n",
              "      <td>38.992</td>\n",
              "      <td>38.957</td>\n",
              "      <td>38.941</td>\n",
              "      <td>38.969</td>\n",
              "      <td>38.930</td>\n",
              "      <td>38.996</td>\n",
              "      <td>38.941</td>\n",
              "      <td>38.953</td>\n",
              "      <td>38.996</td>\n",
              "      <td>38.941</td>\n",
              "      <td>38.926</td>\n",
              "      <td>38.977</td>\n",
              "      <td>38.949</td>\n",
              "      <td>38.996</td>\n",
              "      <td>38.996</td>\n",
              "      <td>38.992</td>\n",
              "      <td>39.023</td>\n",
              "      <td>39.031</td>\n",
              "      <td>39.074</td>\n",
              "      <td>39.086</td>\n",
              "      <td>39.086</td>\n",
              "      <td>39.086</td>\n",
              "      <td>39.156</td>\n",
              "      <td>39.160</td>\n",
              "      <td>39.168</td>\n",
              "      <td>39.172</td>\n",
              "      <td>39.172</td>\n",
              "      <td>39.168</td>\n",
              "      <td>39.246</td>\n",
              "      <td>39.246</td>\n",
              "      <td>39.254</td>\n",
              "      <td>39.250</td>\n",
              "      <td>39.246</td>\n",
              "      <td>39.246</td>\n",
              "      <td>39.238</td>\n",
              "      <td>39.234</td>\n",
              "      <td>39.250</td>\n",
              "    </tr>\n",
              "    <tr>\n",
              "      <th>2</th>\n",
              "      <td>39.234</td>\n",
              "      <td>39.246</td>\n",
              "      <td>39.246</td>\n",
              "      <td>39.250</td>\n",
              "      <td>39.246</td>\n",
              "      <td>39.250</td>\n",
              "      <td>39.254</td>\n",
              "      <td>39.246</td>\n",
              "      <td>39.332</td>\n",
              "      <td>39.332</td>\n",
              "      <td>39.320</td>\n",
              "      <td>39.320</td>\n",
              "      <td>39.355</td>\n",
              "      <td>39.371</td>\n",
              "      <td>39.402</td>\n",
              "      <td>39.410</td>\n",
              "      <td>39.492</td>\n",
              "      <td>39.492</td>\n",
              "      <td>39.578</td>\n",
              "      <td>39.578</td>\n",
              "      <td>39.562</td>\n",
              "      <td>39.617</td>\n",
              "      <td>39.672</td>\n",
              "      <td>39.617</td>\n",
              "      <td>39.625</td>\n",
              "      <td>39.668</td>\n",
              "      <td>39.629</td>\n",
              "      <td>39.613</td>\n",
              "      <td>39.605</td>\n",
              "      <td>39.625</td>\n",
              "      <td>39.625</td>\n",
              "      <td>39.602</td>\n",
              "      <td>39.613</td>\n",
              "      <td>39.668</td>\n",
              "      <td>39.656</td>\n",
              "      <td>39.656</td>\n",
              "      <td>39.668</td>\n",
              "      <td>39.660</td>\n",
              "      <td>39.656</td>\n",
              "      <td>39.672</td>\n",
              "      <td>39.746</td>\n",
              "      <td>39.762</td>\n",
              "      <td>39.750</td>\n",
              "      <td>39.766</td>\n",
              "      <td>39.801</td>\n",
              "      <td>39.789</td>\n",
              "      <td>39.840</td>\n",
              "      <td>39.855</td>\n",
              "      <td>39.840</td>\n",
              "      <td>39.910</td>\n",
              "      <td>39.914</td>\n",
              "      <td>39.988</td>\n",
              "      <td>39.996</td>\n",
              "      <td>40.016</td>\n",
              "      <td>40.035</td>\n",
              "      <td>40.062</td>\n",
              "      <td>40.047</td>\n",
              "      <td>40.043</td>\n",
              "      <td>40.051</td>\n",
              "      <td>40.043</td>\n",
              "    </tr>\n",
              "    <tr>\n",
              "      <th>3</th>\n",
              "      <td>40.086</td>\n",
              "      <td>40.047</td>\n",
              "      <td>40.102</td>\n",
              "      <td>40.078</td>\n",
              "      <td>40.043</td>\n",
              "      <td>40.078</td>\n",
              "      <td>40.051</td>\n",
              "      <td>40.070</td>\n",
              "      <td>40.023</td>\n",
              "      <td>40.078</td>\n",
              "      <td>40.043</td>\n",
              "      <td>40.043</td>\n",
              "      <td>40.023</td>\n",
              "      <td>40.090</td>\n",
              "      <td>40.062</td>\n",
              "      <td>40.164</td>\n",
              "      <td>40.199</td>\n",
              "      <td>40.199</td>\n",
              "      <td>40.254</td>\n",
              "      <td>40.320</td>\n",
              "      <td>40.344</td>\n",
              "      <td>40.316</td>\n",
              "      <td>40.316</td>\n",
              "      <td>40.410</td>\n",
              "      <td>40.328</td>\n",
              "      <td>40.340</td>\n",
              "      <td>40.312</td>\n",
              "      <td>40.320</td>\n",
              "      <td>40.316</td>\n",
              "      <td>40.316</td>\n",
              "      <td>40.316</td>\n",
              "      <td>40.328</td>\n",
              "      <td>40.398</td>\n",
              "      <td>40.410</td>\n",
              "      <td>40.414</td>\n",
              "      <td>40.410</td>\n",
              "      <td>40.402</td>\n",
              "      <td>40.422</td>\n",
              "      <td>40.410</td>\n",
              "      <td>40.508</td>\n",
              "      <td>40.496</td>\n",
              "      <td>40.441</td>\n",
              "      <td>40.543</td>\n",
              "      <td>40.492</td>\n",
              "      <td>40.582</td>\n",
              "      <td>40.668</td>\n",
              "      <td>40.680</td>\n",
              "      <td>40.656</td>\n",
              "      <td>40.680</td>\n",
              "      <td>40.758</td>\n",
              "      <td>40.828</td>\n",
              "      <td>40.844</td>\n",
              "      <td>40.820</td>\n",
              "      <td>40.852</td>\n",
              "      <td>40.895</td>\n",
              "      <td>40.879</td>\n",
              "      <td>40.934</td>\n",
              "      <td>40.922</td>\n",
              "      <td>40.922</td>\n",
              "      <td>40.922</td>\n",
              "    </tr>\n",
              "    <tr>\n",
              "      <th>4</th>\n",
              "      <td>40.934</td>\n",
              "      <td>40.922</td>\n",
              "      <td>40.922</td>\n",
              "      <td>40.914</td>\n",
              "      <td>40.922</td>\n",
              "      <td>40.922</td>\n",
              "      <td>40.926</td>\n",
              "      <td>40.871</td>\n",
              "      <td>40.871</td>\n",
              "      <td>40.867</td>\n",
              "      <td>40.871</td>\n",
              "      <td>40.859</td>\n",
              "      <td>40.914</td>\n",
              "      <td>40.914</td>\n",
              "      <td>41.000</td>\n",
              "      <td>41.004</td>\n",
              "      <td>41.098</td>\n",
              "      <td>41.129</td>\n",
              "      <td>41.176</td>\n",
              "      <td>41.176</td>\n",
              "      <td>41.266</td>\n",
              "      <td>41.262</td>\n",
              "      <td>41.250</td>\n",
              "      <td>41.352</td>\n",
              "      <td>41.301</td>\n",
              "      <td>41.352</td>\n",
              "      <td>41.297</td>\n",
              "      <td>41.277</td>\n",
              "      <td>41.297</td>\n",
              "      <td>41.273</td>\n",
              "      <td>41.332</td>\n",
              "      <td>41.340</td>\n",
              "      <td>41.340</td>\n",
              "      <td>41.359</td>\n",
              "      <td>41.344</td>\n",
              "      <td>41.340</td>\n",
              "      <td>41.426</td>\n",
              "      <td>41.434</td>\n",
              "      <td>41.414</td>\n",
              "      <td>41.437</td>\n",
              "      <td>41.437</td>\n",
              "      <td>41.508</td>\n",
              "      <td>41.504</td>\n",
              "      <td>41.508</td>\n",
              "      <td>41.520</td>\n",
              "      <td>41.504</td>\n",
              "      <td>41.586</td>\n",
              "      <td>41.586</td>\n",
              "      <td>41.594</td>\n",
              "      <td>41.664</td>\n",
              "      <td>41.668</td>\n",
              "      <td>41.668</td>\n",
              "      <td>41.719</td>\n",
              "      <td>41.750</td>\n",
              "      <td>41.695</td>\n",
              "      <td>41.777</td>\n",
              "      <td>41.762</td>\n",
              "      <td>41.762</td>\n",
              "      <td>41.758</td>\n",
              "      <td>41.758</td>\n",
              "    </tr>\n",
              "  </tbody>\n",
              "</table>\n",
              "</div>"
            ],
            "text/plain": [
              "       0       1       2       3   ...      56      57      58      59\n",
              "0  38.320  38.332  38.320  38.324  ...  38.613  38.590  38.578  38.594\n",
              "1  38.680  38.672  38.668  38.668  ...  39.246  39.238  39.234  39.250\n",
              "2  39.234  39.246  39.246  39.250  ...  40.047  40.043  40.051  40.043\n",
              "3  40.086  40.047  40.102  40.078  ...  40.934  40.922  40.922  40.922\n",
              "4  40.934  40.922  40.922  40.914  ...  41.762  41.762  41.758  41.758\n",
              "\n",
              "[5 rows x 60 columns]"
            ]
          },
          "metadata": {
            "tags": []
          },
          "execution_count": 62
        }
      ]
    },
    {
      "cell_type": "code",
      "metadata": {
        "id": "NPXbG3Ez3IHv",
        "colab_type": "code",
        "outputId": "4e484bb5-4099-43f9-fda7-1607028200fc",
        "colab": {
          "base_uri": "https://localhost:8080/",
          "height": 353
        }
      },
      "source": [
        "#Plotting the third feature (first cycle)\n",
        "TS3.iloc[0].plot(kind = \"line\", color = \"red\", title = \"First cycle of the third temperature sensor\", figsize = (5,5))"
      ],
      "execution_count": 63,
      "outputs": [
        {
          "output_type": "execute_result",
          "data": {
            "text/plain": [
              "<matplotlib.axes._subplots.AxesSubplot at 0x7fc5ce19d080>"
            ]
          },
          "metadata": {
            "tags": []
          },
          "execution_count": 63
        },
        {
          "output_type": "display_data",
          "data": {
            "image/png": "[encoded data removed]",
            "text/plain": [
              "<Figure size 360x360 with 1 Axes>"
            ]
          },
          "metadata": {
            "tags": [],
            "needs_background": "light"
          }
        }
      ]
    },
    {
      "cell_type": "code",
      "metadata": {
        "id": "Qe2YgjIDp2Bb",
        "colab_type": "code",
        "colab": {}
      },
      "source": [
        "#Importing the features associated with the second target\n",
        "url_TS4 = \"https://raw.githubusercontent.com/Dedox-tech/Dataset/master/TS4.txt\""
      ],
      "execution_count": 0,
      "outputs": []
    },
    {
      "cell_type": "code",
      "metadata": {
        "id": "7QlnmAN2p3Wb",
        "colab_type": "code",
        "colab": {}
      },
      "source": [
        "#Reading the fourth feature\n",
        "TS4 = pd.read_csv(url_TS4, sep=\"\\t\", header=None)"
      ],
      "execution_count": 0,
      "outputs": []
    },
    {
      "cell_type": "code",
      "metadata": {
        "id": "HLBsIX24p4lj",
        "colab_type": "code",
        "outputId": "646ee2a5-5a3e-45ad-c746-dc274e67acdc",
        "colab": {
          "base_uri": "https://localhost:8080/",
          "height": 224
        }
      },
      "source": [
        "#Showing the fourth feature\n",
        "TS4.head()"
      ],
      "execution_count": 66,
      "outputs": [
        {
          "output_type": "execute_result",
          "data": {
            "text/html": [
              "<div>\n",
              "<style scoped>\n",
              "    .dataframe tbody tr th:only-of-type {\n",
              "        vertical-align: middle;\n",
              "    }\n",
              "\n",
              "    .dataframe tbody tr th {\n",
              "        vertical-align: top;\n",
              "    }\n",
              "\n",
              "    .dataframe thead th {\n",
              "        text-align: right;\n",
              "    }\n",
              "</style>\n",
              "<table border=\"1\" class=\"dataframe\">\n",
              "  <thead>\n",
              "    <tr style=\"text-align: right;\">\n",
              "      <th></th>\n",
              "      <th>0</th>\n",
              "      <th>1</th>\n",
              "      <th>2</th>\n",
              "      <th>3</th>\n",
              "      <th>4</th>\n",
              "      <th>5</th>\n",
              "      <th>6</th>\n",
              "      <th>7</th>\n",
              "      <th>8</th>\n",
              "      <th>9</th>\n",
              "      <th>10</th>\n",
              "      <th>11</th>\n",
              "      <th>12</th>\n",
              "      <th>13</th>\n",
              "      <th>14</th>\n",
              "      <th>15</th>\n",
              "      <th>16</th>\n",
              "      <th>17</th>\n",
              "      <th>18</th>\n",
              "      <th>19</th>\n",
              "      <th>20</th>\n",
              "      <th>21</th>\n",
              "      <th>22</th>\n",
              "      <th>23</th>\n",
              "      <th>24</th>\n",
              "      <th>25</th>\n",
              "      <th>26</th>\n",
              "      <th>27</th>\n",
              "      <th>28</th>\n",
              "      <th>29</th>\n",
              "      <th>30</th>\n",
              "      <th>31</th>\n",
              "      <th>32</th>\n",
              "      <th>33</th>\n",
              "      <th>34</th>\n",
              "      <th>35</th>\n",
              "      <th>36</th>\n",
              "      <th>37</th>\n",
              "      <th>38</th>\n",
              "      <th>39</th>\n",
              "      <th>40</th>\n",
              "      <th>41</th>\n",
              "      <th>42</th>\n",
              "      <th>43</th>\n",
              "      <th>44</th>\n",
              "      <th>45</th>\n",
              "      <th>46</th>\n",
              "      <th>47</th>\n",
              "      <th>48</th>\n",
              "      <th>49</th>\n",
              "      <th>50</th>\n",
              "      <th>51</th>\n",
              "      <th>52</th>\n",
              "      <th>53</th>\n",
              "      <th>54</th>\n",
              "      <th>55</th>\n",
              "      <th>56</th>\n",
              "      <th>57</th>\n",
              "      <th>58</th>\n",
              "      <th>59</th>\n",
              "    </tr>\n",
              "  </thead>\n",
              "  <tbody>\n",
              "    <tr>\n",
              "      <th>0</th>\n",
              "      <td>30.363</td>\n",
              "      <td>30.375</td>\n",
              "      <td>30.367</td>\n",
              "      <td>30.367</td>\n",
              "      <td>30.379</td>\n",
              "      <td>30.379</td>\n",
              "      <td>30.367</td>\n",
              "      <td>30.367</td>\n",
              "      <td>30.375</td>\n",
              "      <td>30.473</td>\n",
              "      <td>30.496</td>\n",
              "      <td>30.484</td>\n",
              "      <td>30.555</td>\n",
              "      <td>30.566</td>\n",
              "      <td>30.668</td>\n",
              "      <td>30.656</td>\n",
              "      <td>30.727</td>\n",
              "      <td>30.816</td>\n",
              "      <td>30.898</td>\n",
              "      <td>30.898</td>\n",
              "      <td>30.996</td>\n",
              "      <td>31.070</td>\n",
              "      <td>31.078</td>\n",
              "      <td>31.145</td>\n",
              "      <td>31.145</td>\n",
              "      <td>31.215</td>\n",
              "      <td>31.293</td>\n",
              "      <td>31.375</td>\n",
              "      <td>31.465</td>\n",
              "      <td>31.543</td>\n",
              "      <td>31.609</td>\n",
              "      <td>31.711</td>\n",
              "      <td>31.793</td>\n",
              "      <td>31.770</td>\n",
              "      <td>31.953</td>\n",
              "      <td>32.043</td>\n",
              "      <td>32.121</td>\n",
              "      <td>32.207</td>\n",
              "      <td>32.281</td>\n",
              "      <td>32.348</td>\n",
              "      <td>32.430</td>\n",
              "      <td>32.523</td>\n",
              "      <td>32.609</td>\n",
              "      <td>32.680</td>\n",
              "      <td>32.758</td>\n",
              "      <td>32.840</td>\n",
              "      <td>32.922</td>\n",
              "      <td>33.008</td>\n",
              "      <td>33.094</td>\n",
              "      <td>33.090</td>\n",
              "      <td>33.180</td>\n",
              "      <td>33.172</td>\n",
              "      <td>33.363</td>\n",
              "      <td>33.340</td>\n",
              "      <td>33.324</td>\n",
              "      <td>33.410</td>\n",
              "      <td>33.504</td>\n",
              "      <td>33.582</td>\n",
              "      <td>33.594</td>\n",
              "      <td>33.555</td>\n",
              "    </tr>\n",
              "    <tr>\n",
              "      <th>1</th>\n",
              "      <td>33.648</td>\n",
              "      <td>33.723</td>\n",
              "      <td>33.723</td>\n",
              "      <td>33.734</td>\n",
              "      <td>33.754</td>\n",
              "      <td>33.805</td>\n",
              "      <td>33.879</td>\n",
              "      <td>33.898</td>\n",
              "      <td>33.973</td>\n",
              "      <td>34.004</td>\n",
              "      <td>33.988</td>\n",
              "      <td>34.016</td>\n",
              "      <td>34.078</td>\n",
              "      <td>34.078</td>\n",
              "      <td>34.145</td>\n",
              "      <td>34.148</td>\n",
              "      <td>34.230</td>\n",
              "      <td>34.223</td>\n",
              "      <td>34.230</td>\n",
              "      <td>34.230</td>\n",
              "      <td>34.316</td>\n",
              "      <td>34.309</td>\n",
              "      <td>34.332</td>\n",
              "      <td>34.398</td>\n",
              "      <td>34.402</td>\n",
              "      <td>34.480</td>\n",
              "      <td>34.477</td>\n",
              "      <td>34.488</td>\n",
              "      <td>34.500</td>\n",
              "      <td>34.559</td>\n",
              "      <td>34.570</td>\n",
              "      <td>34.547</td>\n",
              "      <td>34.652</td>\n",
              "      <td>34.652</td>\n",
              "      <td>34.641</td>\n",
              "      <td>34.648</td>\n",
              "      <td>34.660</td>\n",
              "      <td>34.727</td>\n",
              "      <td>34.742</td>\n",
              "      <td>34.738</td>\n",
              "      <td>34.809</td>\n",
              "      <td>34.832</td>\n",
              "      <td>34.820</td>\n",
              "      <td>34.898</td>\n",
              "      <td>34.898</td>\n",
              "      <td>34.898</td>\n",
              "      <td>34.887</td>\n",
              "      <td>34.898</td>\n",
              "      <td>34.887</td>\n",
              "      <td>34.898</td>\n",
              "      <td>34.980</td>\n",
              "      <td>34.980</td>\n",
              "      <td>34.977</td>\n",
              "      <td>34.977</td>\n",
              "      <td>35.062</td>\n",
              "      <td>35.047</td>\n",
              "      <td>35.129</td>\n",
              "      <td>35.148</td>\n",
              "      <td>35.141</td>\n",
              "      <td>35.121</td>\n",
              "    </tr>\n",
              "    <tr>\n",
              "      <th>2</th>\n",
              "      <td>35.113</td>\n",
              "      <td>35.121</td>\n",
              "      <td>35.098</td>\n",
              "      <td>35.187</td>\n",
              "      <td>35.191</td>\n",
              "      <td>35.180</td>\n",
              "      <td>35.273</td>\n",
              "      <td>35.270</td>\n",
              "      <td>35.281</td>\n",
              "      <td>35.402</td>\n",
              "      <td>35.391</td>\n",
              "      <td>35.387</td>\n",
              "      <td>35.395</td>\n",
              "      <td>35.395</td>\n",
              "      <td>35.402</td>\n",
              "      <td>35.391</td>\n",
              "      <td>35.387</td>\n",
              "      <td>35.465</td>\n",
              "      <td>35.480</td>\n",
              "      <td>35.473</td>\n",
              "      <td>35.480</td>\n",
              "      <td>35.547</td>\n",
              "      <td>35.539</td>\n",
              "      <td>35.539</td>\n",
              "      <td>35.551</td>\n",
              "      <td>35.547</td>\n",
              "      <td>35.559</td>\n",
              "      <td>35.559</td>\n",
              "      <td>35.625</td>\n",
              "      <td>35.641</td>\n",
              "      <td>35.629</td>\n",
              "      <td>35.641</td>\n",
              "      <td>35.723</td>\n",
              "      <td>35.707</td>\n",
              "      <td>35.719</td>\n",
              "      <td>35.801</td>\n",
              "      <td>35.801</td>\n",
              "      <td>35.797</td>\n",
              "      <td>35.801</td>\n",
              "      <td>35.812</td>\n",
              "      <td>35.812</td>\n",
              "      <td>35.809</td>\n",
              "      <td>35.797</td>\n",
              "      <td>35.891</td>\n",
              "      <td>35.883</td>\n",
              "      <td>35.875</td>\n",
              "      <td>35.879</td>\n",
              "      <td>35.969</td>\n",
              "      <td>35.973</td>\n",
              "      <td>35.980</td>\n",
              "      <td>35.980</td>\n",
              "      <td>36.039</td>\n",
              "      <td>36.051</td>\n",
              "      <td>36.062</td>\n",
              "      <td>36.039</td>\n",
              "      <td>36.047</td>\n",
              "      <td>36.066</td>\n",
              "      <td>36.055</td>\n",
              "      <td>36.141</td>\n",
              "      <td>36.121</td>\n",
              "    </tr>\n",
              "    <tr>\n",
              "      <th>3</th>\n",
              "      <td>36.133</td>\n",
              "      <td>36.105</td>\n",
              "      <td>36.113</td>\n",
              "      <td>36.199</td>\n",
              "      <td>36.199</td>\n",
              "      <td>36.199</td>\n",
              "      <td>36.199</td>\n",
              "      <td>36.207</td>\n",
              "      <td>36.199</td>\n",
              "      <td>36.227</td>\n",
              "      <td>36.301</td>\n",
              "      <td>36.324</td>\n",
              "      <td>36.301</td>\n",
              "      <td>36.301</td>\n",
              "      <td>36.379</td>\n",
              "      <td>36.379</td>\n",
              "      <td>36.391</td>\n",
              "      <td>36.379</td>\n",
              "      <td>36.477</td>\n",
              "      <td>36.465</td>\n",
              "      <td>36.461</td>\n",
              "      <td>36.473</td>\n",
              "      <td>36.461</td>\n",
              "      <td>36.461</td>\n",
              "      <td>36.461</td>\n",
              "      <td>36.555</td>\n",
              "      <td>36.562</td>\n",
              "      <td>36.543</td>\n",
              "      <td>36.551</td>\n",
              "      <td>36.633</td>\n",
              "      <td>36.645</td>\n",
              "      <td>36.645</td>\n",
              "      <td>36.637</td>\n",
              "      <td>36.645</td>\n",
              "      <td>36.715</td>\n",
              "      <td>36.715</td>\n",
              "      <td>36.711</td>\n",
              "      <td>36.715</td>\n",
              "      <td>36.711</td>\n",
              "      <td>36.711</td>\n",
              "      <td>36.711</td>\n",
              "      <td>36.727</td>\n",
              "      <td>36.711</td>\n",
              "      <td>36.801</td>\n",
              "      <td>36.805</td>\n",
              "      <td>36.805</td>\n",
              "      <td>36.781</td>\n",
              "      <td>36.875</td>\n",
              "      <td>36.887</td>\n",
              "      <td>36.867</td>\n",
              "      <td>36.875</td>\n",
              "      <td>36.867</td>\n",
              "      <td>36.941</td>\n",
              "      <td>36.941</td>\n",
              "      <td>36.937</td>\n",
              "      <td>36.934</td>\n",
              "      <td>36.941</td>\n",
              "      <td>36.937</td>\n",
              "      <td>36.949</td>\n",
              "      <td>36.988</td>\n",
              "    </tr>\n",
              "    <tr>\n",
              "      <th>4</th>\n",
              "      <td>36.992</td>\n",
              "      <td>37.004</td>\n",
              "      <td>37.008</td>\n",
              "      <td>37.078</td>\n",
              "      <td>37.086</td>\n",
              "      <td>37.105</td>\n",
              "      <td>37.082</td>\n",
              "      <td>37.078</td>\n",
              "      <td>37.078</td>\n",
              "      <td>37.109</td>\n",
              "      <td>37.191</td>\n",
              "      <td>37.187</td>\n",
              "      <td>37.180</td>\n",
              "      <td>37.191</td>\n",
              "      <td>37.187</td>\n",
              "      <td>37.277</td>\n",
              "      <td>37.270</td>\n",
              "      <td>37.258</td>\n",
              "      <td>37.270</td>\n",
              "      <td>37.352</td>\n",
              "      <td>37.348</td>\n",
              "      <td>37.344</td>\n",
              "      <td>37.359</td>\n",
              "      <td>37.348</td>\n",
              "      <td>37.352</td>\n",
              "      <td>37.359</td>\n",
              "      <td>37.359</td>\n",
              "      <td>37.348</td>\n",
              "      <td>37.437</td>\n",
              "      <td>37.441</td>\n",
              "      <td>37.430</td>\n",
              "      <td>37.453</td>\n",
              "      <td>37.453</td>\n",
              "      <td>37.531</td>\n",
              "      <td>37.523</td>\n",
              "      <td>37.523</td>\n",
              "      <td>37.531</td>\n",
              "      <td>37.602</td>\n",
              "      <td>37.586</td>\n",
              "      <td>37.602</td>\n",
              "      <td>37.586</td>\n",
              "      <td>37.598</td>\n",
              "      <td>37.598</td>\n",
              "      <td>37.586</td>\n",
              "      <td>37.609</td>\n",
              "      <td>37.609</td>\n",
              "      <td>37.609</td>\n",
              "      <td>37.680</td>\n",
              "      <td>37.680</td>\n",
              "      <td>37.687</td>\n",
              "      <td>37.687</td>\n",
              "      <td>37.695</td>\n",
              "      <td>37.770</td>\n",
              "      <td>37.758</td>\n",
              "      <td>37.766</td>\n",
              "      <td>37.766</td>\n",
              "      <td>37.773</td>\n",
              "      <td>37.781</td>\n",
              "      <td>37.770</td>\n",
              "      <td>37.754</td>\n",
              "    </tr>\n",
              "  </tbody>\n",
              "</table>\n",
              "</div>"
            ],
            "text/plain": [
              "       0       1       2       3   ...      56      57      58      59\n",
              "0  30.363  30.375  30.367  30.367  ...  33.504  33.582  33.594  33.555\n",
              "1  33.648  33.723  33.723  33.734  ...  35.129  35.148  35.141  35.121\n",
              "2  35.113  35.121  35.098  35.187  ...  36.066  36.055  36.141  36.121\n",
              "3  36.133  36.105  36.113  36.199  ...  36.941  36.937  36.949  36.988\n",
              "4  36.992  37.004  37.008  37.078  ...  37.773  37.781  37.770  37.754\n",
              "\n",
              "[5 rows x 60 columns]"
            ]
          },
          "metadata": {
            "tags": []
          },
          "execution_count": 66
        }
      ]
    },
    {
      "cell_type": "code",
      "metadata": {
        "id": "5JgF4F8t3J2T",
        "colab_type": "code",
        "outputId": "1563a01a-d6f3-47b8-9281-2129de9cded5",
        "colab": {
          "base_uri": "https://localhost:8080/",
          "height": 353
        }
      },
      "source": [
        "#Plotting the fourth feature(first cycle)\n",
        "TS4.iloc[0].plot(kind = \"line\", color = \"red\", title = \"First cycle of the fourth temperature sensor\", figsize = (5,5))"
      ],
      "execution_count": 67,
      "outputs": [
        {
          "output_type": "execute_result",
          "data": {
            "text/plain": [
              "<matplotlib.axes._subplots.AxesSubplot at 0x7fc5ce10bd68>"
            ]
          },
          "metadata": {
            "tags": []
          },
          "execution_count": 67
        },
        {
          "output_type": "display_data",
          "data": {
            "image/png": "[encoded data removed]",
            "text/plain": [
              "<Figure size 360x360 with 1 Axes>"
            ]
          },
          "metadata": {
            "tags": [],
            "needs_background": "light"
          }
        }
      ]
    },
    {
      "cell_type": "code",
      "metadata": {
        "id": "AvfIdrrpp568",
        "colab_type": "code",
        "colab": {}
      },
      "source": [
        "#Merge the features\n",
        "X_cooler = pd.concat([TS1,TS2,TS3,TS4])"
      ],
      "execution_count": 0,
      "outputs": []
    },
    {
      "cell_type": "code",
      "metadata": {
        "id": "GeTObosZp7Fb",
        "colab_type": "code",
        "outputId": "19efe5a7-77cd-40b5-b44c-addf53226da6",
        "colab": {
          "base_uri": "https://localhost:8080/",
          "height": 224
        }
      },
      "source": [
        "#Showing the total features\n",
        "X_cooler.head()"
      ],
      "execution_count": 69,
      "outputs": [
        {
          "output_type": "execute_result",
          "data": {
            "text/html": [
              "<div>\n",
              "<style scoped>\n",
              "    .dataframe tbody tr th:only-of-type {\n",
              "        vertical-align: middle;\n",
              "    }\n",
              "\n",
              "    .dataframe tbody tr th {\n",
              "        vertical-align: top;\n",
              "    }\n",
              "\n",
              "    .dataframe thead th {\n",
              "        text-align: right;\n",
              "    }\n",
              "</style>\n",
              "<table border=\"1\" class=\"dataframe\">\n",
              "  <thead>\n",
              "    <tr style=\"text-align: right;\">\n",
              "      <th></th>\n",
              "      <th>0</th>\n",
              "      <th>1</th>\n",
              "      <th>2</th>\n",
              "      <th>3</th>\n",
              "      <th>4</th>\n",
              "      <th>5</th>\n",
              "      <th>6</th>\n",
              "      <th>7</th>\n",
              "      <th>8</th>\n",
              "      <th>9</th>\n",
              "      <th>10</th>\n",
              "      <th>11</th>\n",
              "      <th>12</th>\n",
              "      <th>13</th>\n",
              "      <th>14</th>\n",
              "      <th>15</th>\n",
              "      <th>16</th>\n",
              "      <th>17</th>\n",
              "      <th>18</th>\n",
              "      <th>19</th>\n",
              "      <th>20</th>\n",
              "      <th>21</th>\n",
              "      <th>22</th>\n",
              "      <th>23</th>\n",
              "      <th>24</th>\n",
              "      <th>25</th>\n",
              "      <th>26</th>\n",
              "      <th>27</th>\n",
              "      <th>28</th>\n",
              "      <th>29</th>\n",
              "      <th>30</th>\n",
              "      <th>31</th>\n",
              "      <th>32</th>\n",
              "      <th>33</th>\n",
              "      <th>34</th>\n",
              "      <th>35</th>\n",
              "      <th>36</th>\n",
              "      <th>37</th>\n",
              "      <th>38</th>\n",
              "      <th>39</th>\n",
              "      <th>40</th>\n",
              "      <th>41</th>\n",
              "      <th>42</th>\n",
              "      <th>43</th>\n",
              "      <th>44</th>\n",
              "      <th>45</th>\n",
              "      <th>46</th>\n",
              "      <th>47</th>\n",
              "      <th>48</th>\n",
              "      <th>49</th>\n",
              "      <th>50</th>\n",
              "      <th>51</th>\n",
              "      <th>52</th>\n",
              "      <th>53</th>\n",
              "      <th>54</th>\n",
              "      <th>55</th>\n",
              "      <th>56</th>\n",
              "      <th>57</th>\n",
              "      <th>58</th>\n",
              "      <th>59</th>\n",
              "    </tr>\n",
              "  </thead>\n",
              "  <tbody>\n",
              "    <tr>\n",
              "      <th>0</th>\n",
              "      <td>35.570</td>\n",
              "      <td>35.492</td>\n",
              "      <td>35.469</td>\n",
              "      <td>35.422</td>\n",
              "      <td>35.414</td>\n",
              "      <td>35.320</td>\n",
              "      <td>35.227</td>\n",
              "      <td>35.242</td>\n",
              "      <td>35.160</td>\n",
              "      <td>35.176</td>\n",
              "      <td>35.172</td>\n",
              "      <td>35.168</td>\n",
              "      <td>35.156</td>\n",
              "      <td>35.187</td>\n",
              "      <td>35.176</td>\n",
              "      <td>35.250</td>\n",
              "      <td>35.234</td>\n",
              "      <td>35.316</td>\n",
              "      <td>35.316</td>\n",
              "      <td>35.402</td>\n",
              "      <td>35.402</td>\n",
              "      <td>35.398</td>\n",
              "      <td>35.441</td>\n",
              "      <td>35.414</td>\n",
              "      <td>35.434</td>\n",
              "      <td>35.480</td>\n",
              "      <td>35.500</td>\n",
              "      <td>35.488</td>\n",
              "      <td>35.559</td>\n",
              "      <td>35.555</td>\n",
              "      <td>35.574</td>\n",
              "      <td>35.652</td>\n",
              "      <td>35.668</td>\n",
              "      <td>35.664</td>\n",
              "      <td>35.660</td>\n",
              "      <td>35.734</td>\n",
              "      <td>35.824</td>\n",
              "      <td>35.824</td>\n",
              "      <td>35.820</td>\n",
              "      <td>35.836</td>\n",
              "      <td>35.836</td>\n",
              "      <td>35.828</td>\n",
              "      <td>35.840</td>\n",
              "      <td>35.859</td>\n",
              "      <td>35.918</td>\n",
              "      <td>35.914</td>\n",
              "      <td>35.895</td>\n",
              "      <td>35.992</td>\n",
              "      <td>35.980</td>\n",
              "      <td>35.980</td>\n",
              "      <td>36.008</td>\n",
              "      <td>35.984</td>\n",
              "      <td>35.996</td>\n",
              "      <td>36.039</td>\n",
              "      <td>36.008</td>\n",
              "      <td>36.008</td>\n",
              "      <td>36.094</td>\n",
              "      <td>36.102</td>\n",
              "      <td>36.090</td>\n",
              "      <td>36.152</td>\n",
              "    </tr>\n",
              "    <tr>\n",
              "      <th>1</th>\n",
              "      <td>36.156</td>\n",
              "      <td>36.094</td>\n",
              "      <td>35.992</td>\n",
              "      <td>36.008</td>\n",
              "      <td>35.992</td>\n",
              "      <td>35.902</td>\n",
              "      <td>35.824</td>\n",
              "      <td>35.820</td>\n",
              "      <td>35.727</td>\n",
              "      <td>35.727</td>\n",
              "      <td>35.648</td>\n",
              "      <td>35.734</td>\n",
              "      <td>35.828</td>\n",
              "      <td>35.848</td>\n",
              "      <td>35.902</td>\n",
              "      <td>36.035</td>\n",
              "      <td>36.078</td>\n",
              "      <td>36.199</td>\n",
              "      <td>36.246</td>\n",
              "      <td>36.301</td>\n",
              "      <td>36.398</td>\n",
              "      <td>36.473</td>\n",
              "      <td>36.500</td>\n",
              "      <td>36.555</td>\n",
              "      <td>36.652</td>\n",
              "      <td>36.645</td>\n",
              "      <td>36.664</td>\n",
              "      <td>36.652</td>\n",
              "      <td>36.738</td>\n",
              "      <td>36.715</td>\n",
              "      <td>36.797</td>\n",
              "      <td>36.797</td>\n",
              "      <td>36.891</td>\n",
              "      <td>36.902</td>\n",
              "      <td>36.898</td>\n",
              "      <td>36.984</td>\n",
              "      <td>36.984</td>\n",
              "      <td>37.062</td>\n",
              "      <td>37.051</td>\n",
              "      <td>37.145</td>\n",
              "      <td>37.141</td>\n",
              "      <td>37.172</td>\n",
              "      <td>37.164</td>\n",
              "      <td>37.164</td>\n",
              "      <td>37.152</td>\n",
              "      <td>37.238</td>\n",
              "      <td>37.234</td>\n",
              "      <td>37.305</td>\n",
              "      <td>37.305</td>\n",
              "      <td>37.324</td>\n",
              "      <td>37.328</td>\n",
              "      <td>37.324</td>\n",
              "      <td>37.340</td>\n",
              "      <td>37.332</td>\n",
              "      <td>37.316</td>\n",
              "      <td>37.410</td>\n",
              "      <td>37.418</td>\n",
              "      <td>37.422</td>\n",
              "      <td>37.488</td>\n",
              "      <td>37.477</td>\n",
              "    </tr>\n",
              "    <tr>\n",
              "      <th>2</th>\n",
              "      <td>37.488</td>\n",
              "      <td>37.391</td>\n",
              "      <td>37.340</td>\n",
              "      <td>37.312</td>\n",
              "      <td>37.223</td>\n",
              "      <td>37.145</td>\n",
              "      <td>37.059</td>\n",
              "      <td>36.973</td>\n",
              "      <td>36.898</td>\n",
              "      <td>36.879</td>\n",
              "      <td>36.887</td>\n",
              "      <td>36.887</td>\n",
              "      <td>36.980</td>\n",
              "      <td>37.059</td>\n",
              "      <td>37.137</td>\n",
              "      <td>37.230</td>\n",
              "      <td>37.316</td>\n",
              "      <td>37.398</td>\n",
              "      <td>37.477</td>\n",
              "      <td>37.582</td>\n",
              "      <td>37.578</td>\n",
              "      <td>37.723</td>\n",
              "      <td>37.730</td>\n",
              "      <td>37.730</td>\n",
              "      <td>37.797</td>\n",
              "      <td>37.898</td>\n",
              "      <td>37.980</td>\n",
              "      <td>37.977</td>\n",
              "      <td>37.984</td>\n",
              "      <td>38.016</td>\n",
              "      <td>38.031</td>\n",
              "      <td>38.047</td>\n",
              "      <td>38.117</td>\n",
              "      <td>38.125</td>\n",
              "      <td>38.195</td>\n",
              "      <td>38.219</td>\n",
              "      <td>38.207</td>\n",
              "      <td>38.289</td>\n",
              "      <td>38.301</td>\n",
              "      <td>38.281</td>\n",
              "      <td>38.367</td>\n",
              "      <td>38.379</td>\n",
              "      <td>38.379</td>\n",
              "      <td>38.379</td>\n",
              "      <td>38.379</td>\n",
              "      <td>38.375</td>\n",
              "      <td>38.367</td>\n",
              "      <td>38.391</td>\n",
              "      <td>38.391</td>\n",
              "      <td>38.469</td>\n",
              "      <td>38.457</td>\n",
              "      <td>38.461</td>\n",
              "      <td>38.457</td>\n",
              "      <td>38.469</td>\n",
              "      <td>38.469</td>\n",
              "      <td>38.555</td>\n",
              "      <td>38.527</td>\n",
              "      <td>38.543</td>\n",
              "      <td>38.527</td>\n",
              "      <td>38.621</td>\n",
              "    </tr>\n",
              "    <tr>\n",
              "      <th>3</th>\n",
              "      <td>38.633</td>\n",
              "      <td>38.535</td>\n",
              "      <td>38.469</td>\n",
              "      <td>38.379</td>\n",
              "      <td>38.297</td>\n",
              "      <td>38.223</td>\n",
              "      <td>38.125</td>\n",
              "      <td>38.062</td>\n",
              "      <td>37.977</td>\n",
              "      <td>37.969</td>\n",
              "      <td>37.887</td>\n",
              "      <td>37.902</td>\n",
              "      <td>37.965</td>\n",
              "      <td>38.047</td>\n",
              "      <td>38.180</td>\n",
              "      <td>38.203</td>\n",
              "      <td>38.367</td>\n",
              "      <td>38.406</td>\n",
              "      <td>38.457</td>\n",
              "      <td>38.629</td>\n",
              "      <td>38.633</td>\n",
              "      <td>38.699</td>\n",
              "      <td>38.801</td>\n",
              "      <td>38.801</td>\n",
              "      <td>38.828</td>\n",
              "      <td>38.902</td>\n",
              "      <td>38.895</td>\n",
              "      <td>38.969</td>\n",
              "      <td>38.988</td>\n",
              "      <td>39.055</td>\n",
              "      <td>39.055</td>\n",
              "      <td>39.055</td>\n",
              "      <td>39.055</td>\n",
              "      <td>39.121</td>\n",
              "      <td>39.215</td>\n",
              "      <td>39.215</td>\n",
              "      <td>39.219</td>\n",
              "      <td>39.227</td>\n",
              "      <td>39.273</td>\n",
              "      <td>39.285</td>\n",
              "      <td>39.293</td>\n",
              "      <td>39.293</td>\n",
              "      <td>39.273</td>\n",
              "      <td>39.285</td>\n",
              "      <td>39.375</td>\n",
              "      <td>39.359</td>\n",
              "      <td>39.375</td>\n",
              "      <td>39.379</td>\n",
              "      <td>39.367</td>\n",
              "      <td>39.363</td>\n",
              "      <td>39.441</td>\n",
              "      <td>39.363</td>\n",
              "      <td>39.367</td>\n",
              "      <td>39.457</td>\n",
              "      <td>39.461</td>\n",
              "      <td>39.461</td>\n",
              "      <td>39.473</td>\n",
              "      <td>39.441</td>\n",
              "      <td>39.453</td>\n",
              "      <td>39.461</td>\n",
              "    </tr>\n",
              "    <tr>\n",
              "      <th>4</th>\n",
              "      <td>39.461</td>\n",
              "      <td>39.461</td>\n",
              "      <td>39.375</td>\n",
              "      <td>39.281</td>\n",
              "      <td>39.203</td>\n",
              "      <td>39.113</td>\n",
              "      <td>39.043</td>\n",
              "      <td>38.969</td>\n",
              "      <td>38.875</td>\n",
              "      <td>38.883</td>\n",
              "      <td>38.809</td>\n",
              "      <td>38.789</td>\n",
              "      <td>38.883</td>\n",
              "      <td>38.965</td>\n",
              "      <td>39.047</td>\n",
              "      <td>39.121</td>\n",
              "      <td>39.234</td>\n",
              "      <td>39.281</td>\n",
              "      <td>39.453</td>\n",
              "      <td>39.461</td>\n",
              "      <td>39.488</td>\n",
              "      <td>39.633</td>\n",
              "      <td>39.723</td>\n",
              "      <td>39.719</td>\n",
              "      <td>39.711</td>\n",
              "      <td>39.801</td>\n",
              "      <td>39.879</td>\n",
              "      <td>39.867</td>\n",
              "      <td>39.883</td>\n",
              "      <td>39.973</td>\n",
              "      <td>39.973</td>\n",
              "      <td>39.961</td>\n",
              "      <td>40.047</td>\n",
              "      <td>40.133</td>\n",
              "      <td>40.047</td>\n",
              "      <td>40.133</td>\n",
              "      <td>40.145</td>\n",
              "      <td>40.230</td>\n",
              "      <td>40.219</td>\n",
              "      <td>40.219</td>\n",
              "      <td>40.305</td>\n",
              "      <td>40.297</td>\n",
              "      <td>40.285</td>\n",
              "      <td>40.309</td>\n",
              "      <td>40.281</td>\n",
              "      <td>40.309</td>\n",
              "      <td>40.391</td>\n",
              "      <td>40.348</td>\n",
              "      <td>40.320</td>\n",
              "      <td>40.336</td>\n",
              "      <td>40.324</td>\n",
              "      <td>40.320</td>\n",
              "      <td>40.312</td>\n",
              "      <td>40.340</td>\n",
              "      <td>40.320</td>\n",
              "      <td>40.387</td>\n",
              "      <td>40.391</td>\n",
              "      <td>40.391</td>\n",
              "      <td>40.387</td>\n",
              "      <td>40.391</td>\n",
              "    </tr>\n",
              "  </tbody>\n",
              "</table>\n",
              "</div>"
            ],
            "text/plain": [
              "       0       1       2       3   ...      56      57      58      59\n",
              "0  35.570  35.492  35.469  35.422  ...  36.094  36.102  36.090  36.152\n",
              "1  36.156  36.094  35.992  36.008  ...  37.418  37.422  37.488  37.477\n",
              "2  37.488  37.391  37.340  37.312  ...  38.527  38.543  38.527  38.621\n",
              "3  38.633  38.535  38.469  38.379  ...  39.473  39.441  39.453  39.461\n",
              "4  39.461  39.461  39.375  39.281  ...  40.391  40.391  40.387  40.391\n",
              "\n",
              "[5 rows x 60 columns]"
            ]
          },
          "metadata": {
            "tags": []
          },
          "execution_count": 69
        }
      ]
    },
    {
      "cell_type": "code",
      "metadata": {
        "id": "YdPh6hmZp_Gc",
        "colab_type": "code",
        "outputId": "e48f4614-1055-4613-c43e-1d56adcb6692",
        "colab": {
          "base_uri": "https://localhost:8080/",
          "height": 1000
        }
      },
      "source": [
        "#Showing info about the total features\n",
        "X_cooler.info()"
      ],
      "execution_count": 70,
      "outputs": [
        {
          "output_type": "stream",
          "text": [
            "<class 'pandas.core.frame.DataFrame'>\n",
            "Int64Index: 8820 entries, 0 to 2204\n",
            "Data columns (total 60 columns):\n",
            " #   Column  Non-Null Count  Dtype  \n",
            "---  ------  --------------  -----  \n",
            " 0   0       8820 non-null   float64\n",
            " 1   1       8820 non-null   float64\n",
            " 2   2       8820 non-null   float64\n",
            " 3   3       8820 non-null   float64\n",
            " 4   4       8820 non-null   float64\n",
            " 5   5       8820 non-null   float64\n",
            " 6   6       8820 non-null   float64\n",
            " 7   7       8820 non-null   float64\n",
            " 8   8       8820 non-null   float64\n",
            " 9   9       8820 non-null   float64\n",
            " 10  10      8820 non-null   float64\n",
            " 11  11      8820 non-null   float64\n",
            " 12  12      8820 non-null   float64\n",
            " 13  13      8820 non-null   float64\n",
            " 14  14      8820 non-null   float64\n",
            " 15  15      8820 non-null   float64\n",
            " 16  16      8820 non-null   float64\n",
            " 17  17      8820 non-null   float64\n",
            " 18  18      8820 non-null   float64\n",
            " 19  19      8820 non-null   float64\n",
            " 20  20      8820 non-null   float64\n",
            " 21  21      8820 non-null   float64\n",
            " 22  22      8820 non-null   float64\n",
            " 23  23      8820 non-null   float64\n",
            " 24  24      8820 non-null   float64\n",
            " 25  25      8820 non-null   float64\n",
            " 26  26      8820 non-null   float64\n",
            " 27  27      8820 non-null   float64\n",
            " 28  28      8820 non-null   float64\n",
            " 29  29      8820 non-null   float64\n",
            " 30  30      8820 non-null   float64\n",
            " 31  31      8820 non-null   float64\n",
            " 32  32      8820 non-null   float64\n",
            " 33  33      8820 non-null   float64\n",
            " 34  34      8820 non-null   float64\n",
            " 35  35      8820 non-null   float64\n",
            " 36  36      8820 non-null   float64\n",
            " 37  37      8820 non-null   float64\n",
            " 38  38      8820 non-null   float64\n",
            " 39  39      8820 non-null   float64\n",
            " 40  40      8820 non-null   float64\n",
            " 41  41      8820 non-null   float64\n",
            " 42  42      8820 non-null   float64\n",
            " 43  43      8820 non-null   float64\n",
            " 44  44      8820 non-null   float64\n",
            " 45  45      8820 non-null   float64\n",
            " 46  46      8820 non-null   float64\n",
            " 47  47      8820 non-null   float64\n",
            " 48  48      8820 non-null   float64\n",
            " 49  49      8820 non-null   float64\n",
            " 50  50      8820 non-null   float64\n",
            " 51  51      8820 non-null   float64\n",
            " 52  52      8820 non-null   float64\n",
            " 53  53      8820 non-null   float64\n",
            " 54  54      8820 non-null   float64\n",
            " 55  55      8820 non-null   float64\n",
            " 56  56      8820 non-null   float64\n",
            " 57  57      8820 non-null   float64\n",
            " 58  58      8820 non-null   float64\n",
            " 59  59      8820 non-null   float64\n",
            "dtypes: float64(60)\n",
            "memory usage: 4.1 MB\n"
          ],
          "name": "stdout"
        }
      ]
    },
    {
      "cell_type": "code",
      "metadata": {
        "id": "CZ4sMkbcqECb",
        "colab_type": "code",
        "colab": {}
      },
      "source": [
        "#Doing the preprocessing steps\n",
        "X_train_processed_cooler, X_test_processed_cooler, y_train_processed_cooler, y_test_processed_cooler = do_preprocessing(X = X_cooler, y = y_cooler, features = 4, timesteps= 60)"
      ],
      "execution_count": 0,
      "outputs": []
    },
    {
      "cell_type": "markdown",
      "metadata": {
        "id": "IOxyKUkmibUz",
        "colab_type": "text"
      },
      "source": [
        "#3.2 Modeling: Convolutional Neural Networks (CNN)"
      ]
    },
    {
      "cell_type": "code",
      "metadata": {
        "id": "cnKEOWouqddS",
        "colab_type": "code",
        "colab": {}
      },
      "source": [
        "#Calling the CNN\n",
        "model_cooler = neural_network(input_shape = (60,4), class_numbers = (3))"
      ],
      "execution_count": 0,
      "outputs": []
    },
    {
      "cell_type": "code",
      "metadata": {
        "id": "PElQ4MCK87MI",
        "colab_type": "code",
        "outputId": "63bc527a-10d2-4a14-b120-4d19559087c1",
        "colab": {
          "base_uri": "https://localhost:8080/",
          "height": 976
        }
      },
      "source": [
        "#Plotting the CNN\n",
        "plot_neural_network(conv_net = model_cooler, name=\"model_cooler.png\")"
      ],
      "execution_count": 73,
      "outputs": [
        {
          "output_type": "execute_result",
          "data": {
            "image/png": "[encoded data removed]",
            "text/plain": [
              "<IPython.core.display.Image object>"
            ]
          },
          "metadata": {
            "tags": []
          },
          "execution_count": 73
        }
      ]
    },
    {
      "cell_type": "code",
      "metadata": {
        "id": "Evy-LiHX9K0j",
        "colab_type": "code",
        "outputId": "d38e3247-2f55-4009-afa9-09be5cc39163",
        "colab": {
          "base_uri": "https://localhost:8080/",
          "height": 374
        }
      },
      "source": [
        "#Processing the CNN\n",
        "loss_test_cooler, loss_train_cooler, accuracy_test_cooler, accuracy_train_cooler = processing_neural_network(conv_net = model_cooler, X_train = X_train_processed_cooler, y_train = y_train_processed_cooler)"
      ],
      "execution_count": 74,
      "outputs": [
        {
          "output_type": "stream",
          "text": [
            "Train on 1411 samples, validate on 353 samples\n",
            "Epoch 1/10\n",
            "1411/1411 [==============================] - 1s 419us/step - loss: 0.2282 - accuracy: 0.9291 - val_loss: 0.0772 - val_accuracy: 0.9858\n",
            "Epoch 2/10\n",
            "1411/1411 [==============================] - 0s 179us/step - loss: 0.1152 - accuracy: 0.9752 - val_loss: 0.0554 - val_accuracy: 0.9887\n",
            "Epoch 3/10\n",
            "1411/1411 [==============================] - 0s 190us/step - loss: 0.0802 - accuracy: 0.9816 - val_loss: 0.0485 - val_accuracy: 0.9887\n",
            "Epoch 4/10\n",
            "1411/1411 [==============================] - 0s 180us/step - loss: 0.0817 - accuracy: 0.9766 - val_loss: 0.1892 - val_accuracy: 0.9405\n",
            "Epoch 5/10\n",
            "1411/1411 [==============================] - 0s 175us/step - loss: 0.0926 - accuracy: 0.9773 - val_loss: 0.0618 - val_accuracy: 0.9858\n",
            "Epoch 6/10\n",
            "1411/1411 [==============================] - 0s 176us/step - loss: 0.0782 - accuracy: 0.9837 - val_loss: 0.0566 - val_accuracy: 0.9802\n",
            "Epoch 7/10\n",
            "1411/1411 [==============================] - 0s 172us/step - loss: 0.0656 - accuracy: 0.9837 - val_loss: 0.0883 - val_accuracy: 0.9830\n",
            "Epoch 8/10\n",
            "1411/1411 [==============================] - 0s 183us/step - loss: 0.0946 - accuracy: 0.9787 - val_loss: 0.0741 - val_accuracy: 0.9858\n",
            "Epoch 9/10\n",
            "1411/1411 [==============================] - 0s 178us/step - loss: 0.0754 - accuracy: 0.9823 - val_loss: 0.0735 - val_accuracy: 0.9830\n",
            "Epoch 10/10\n",
            "1411/1411 [==============================] - 0s 168us/step - loss: 0.0620 - accuracy: 0.9858 - val_loss: 0.0653 - val_accuracy: 0.9858\n"
          ],
          "name": "stdout"
        }
      ]
    },
    {
      "cell_type": "code",
      "metadata": {
        "id": "adb0OZv59Vnw",
        "colab_type": "code",
        "outputId": "5060300a-d2be-4426-bfc8-0c895884c47c",
        "colab": {
          "base_uri": "https://localhost:8080/",
          "height": 425
        }
      },
      "source": [
        "#Showing the parameters computed\n",
        "model_cooler.summary()"
      ],
      "execution_count": 75,
      "outputs": [
        {
          "output_type": "stream",
          "text": [
            "Model: \"sequential_2\"\n",
            "_________________________________________________________________\n",
            "Layer (type)                 Output Shape              Param #   \n",
            "=================================================================\n",
            "conv1d_5 (Conv1D)            (None, 55, 100)           2500      \n",
            "_________________________________________________________________\n",
            "conv1d_6 (Conv1D)            (None, 50, 100)           60100     \n",
            "_________________________________________________________________\n",
            "max_pooling1d_2 (MaxPooling1 (None, 16, 100)           0         \n",
            "_________________________________________________________________\n",
            "conv1d_7 (Conv1D)            (None, 11, 160)           96160     \n",
            "_________________________________________________________________\n",
            "conv1d_8 (Conv1D)            (None, 6, 160)            153760    \n",
            "_________________________________________________________________\n",
            "global_average_pooling1d_2 ( (None, 160)               0         \n",
            "_________________________________________________________________\n",
            "dropout_2 (Dropout)          (None, 160)               0         \n",
            "_________________________________________________________________\n",
            "dense_2 (Dense)              (None, 3)                 483       \n",
            "=================================================================\n",
            "Total params: 313,003\n",
            "Trainable params: 313,003\n",
            "Non-trainable params: 0\n",
            "_________________________________________________________________\n"
          ],
          "name": "stdout"
        }
      ]
    },
    {
      "cell_type": "markdown",
      "metadata": {
        "id": "MwEx5G0kilVp",
        "colab_type": "text"
      },
      "source": [
        "#3.3 Results"
      ]
    },
    {
      "cell_type": "code",
      "metadata": {
        "id": "vAffIib_9dSE",
        "colab_type": "code",
        "outputId": "54aff3bd-2f45-44b1-fc28-fec9bdb639d4",
        "colab": {
          "base_uri": "https://localhost:8080/",
          "height": 425
        }
      },
      "source": [
        "#Get the accuracy scores\n",
        "score_cooler = model_cooler.evaluate(X_test_processed_cooler, y_test_processed_cooler)\n",
        "print(\"\\n\")\n",
        "print(\"The scores are: \")\n",
        "print(score_cooler)\n",
        "print(\"\\n\")\n",
        "\n",
        "#Get the name of the metrics\n",
        "names_cooler = model_cooler.metrics_names\n",
        "print(\"The name of the previous scores are: \")\n",
        "print(names_cooler)\n",
        "print(\"\\n\")\n",
        "\n",
        "#Get the predictions\n",
        "predictions_cooler = model_cooler.predict_classes(X_test_processed_cooler)\n",
        "print(\"The predictions of the model are: \")\n",
        "print(predictions_cooler)"
      ],
      "execution_count": 76,
      "outputs": [
        {
          "output_type": "stream",
          "text": [
            "441/441 [==============================] - 0s 120us/step\n",
            "\n",
            "\n",
            "The scores are: \n",
            "[0.15269774720579588, 0.9682539701461792]\n",
            "\n",
            "\n",
            "The name of the previous scores are: \n",
            "['loss', 'accuracy']\n",
            "\n",
            "\n",
            "The predictions of the model are: \n",
            "[2 0 0 2 0 2 1 1 1 0 2 1 2 2 2 0 2 1 0 0 1 2 1 2 2 0 0 0 1 0 2 2 1 0 0 1 0\n",
            " 1 0 0 2 2 0 2 2 2 1 0 2 0 2 2 1 0 0 2 1 1 0 0 2 0 2 1 0 1 0 2 0 1 0 0 0 0\n",
            " 2 1 2 2 1 2 2 2 0 2 0 0 1 0 0 1 0 0 1 2 0 1 0 2 1 1 1 0 0 1 0 0 1 1 2 1 0\n",
            " 0 0 2 0 1 0 1 1 0 1 1 2 2 0 2 1 1 0 2 2 1 0 2 2 2 2 1 2 0 0 2 1 2 0 1 1 1\n",
            " 2 1 2 0 0 2 1 1 0 1 1 0 2 1 0 0 2 2 1 1 2 2 1 0 0 1 1 1 1 1 1 0 2 0 0 1 0\n",
            " 1 1 2 2 2 1 2 1 0 2 0 2 0 1 0 0 1 2 0 0 1 1 2 0 0 1 2 1 0 0 0 1 1 0 1 0 1\n",
            " 2 1 2 1 0 0 0 0 0 2 0 0 2 2 1 2 2 1 1 0 2 0 0 0 1 0 2 0 2 2 2 0 1 0 2 0 0\n",
            " 0 1 0 2 0 1 0 1 2 0 2 2 2 0 1 2 2 1 2 0 0 0 0 2 1 1 2 1 2 2 2 1 0 1 0 1 1\n",
            " 0 2 2 0 1 2 2 2 2 0 0 2 0 1 0 0 2 1 1 1 0 0 0 1 0 2 1 1 2 2 1 0 2 1 2 1 0\n",
            " 1 2 0 0 1 1 2 2 0 2 1 1 2 0 2 2 0 1 2 0 2 1 2 1 2 2 2 0 2 1 1 1 1 0 0 0 0\n",
            " 2 2 1 2 2 2 1 2 1 1 1 1 2 1 1 0 1 1 1 2 0 2 0 1 0 0 1 0 0 1 2 0 0 1 0 1 1\n",
            " 2 1 2 1 1 0 1 2 0 1 2 2 0 2 2 1 2 0 0 1 1 1 0 2 1 2 2 1 2 0 1 0 2 1]\n"
          ],
          "name": "stdout"
        }
      ]
    },
    {
      "cell_type": "code",
      "metadata": {
        "id": "elVc3x1J-AJG",
        "colab_type": "code",
        "outputId": "1a0183ca-199c-44da-9dd7-7101efd5c4db",
        "colab": {
          "base_uri": "https://localhost:8080/",
          "height": 51
        }
      },
      "source": [
        "#Get the shape \n",
        "print(\"The shape of the target cooler is: \", y_test_processed_cooler.shape)\n",
        "print(\"The shape of the predictions given for the model is: \", predictions_cooler.shape)"
      ],
      "execution_count": 77,
      "outputs": [
        {
          "output_type": "stream",
          "text": [
            "The shape of the target cooler is:  (441, 3)\n",
            "The shape of the predictions given for the model is:  (441,)\n"
          ],
          "name": "stdout"
        }
      ]
    },
    {
      "cell_type": "code",
      "metadata": {
        "id": "MYlsXrpX-IwP",
        "colab_type": "code",
        "colab": {}
      },
      "source": [
        "#Preprocessing trick with numpy\n",
        "y_test_processed_cooler_back = y_test_processed_cooler.argmax(axis=-1)"
      ],
      "execution_count": 0,
      "outputs": []
    },
    {
      "cell_type": "code",
      "metadata": {
        "id": "UAUWh_4B-LH4",
        "colab_type": "code",
        "outputId": "cfa22ba2-b4ea-44fb-f65c-501a83b8fe5d",
        "colab": {
          "base_uri": "https://localhost:8080/",
          "height": 187
        }
      },
      "source": [
        "#Showing the classification report\n",
        "classification_cooler = classification_report(y_test_processed_cooler_back, predictions_cooler)\n",
        "print(classification_cooler)"
      ],
      "execution_count": 79,
      "outputs": [
        {
          "output_type": "stream",
          "text": [
            "              precision    recall  f1-score   support\n",
            "\n",
            "           0       0.97      0.95      0.96       156\n",
            "           1       0.96      0.97      0.96       145\n",
            "           2       0.98      0.99      0.99       140\n",
            "\n",
            "    accuracy                           0.97       441\n",
            "   macro avg       0.97      0.97      0.97       441\n",
            "weighted avg       0.97      0.97      0.97       441\n",
            "\n"
          ],
          "name": "stdout"
        }
      ]
    },
    {
      "cell_type": "code",
      "metadata": {
        "id": "H-ICX4W8-XKo",
        "colab_type": "code",
        "outputId": "63a38c7e-61ee-4675-d191-33d3a13caf73",
        "colab": {
          "base_uri": "https://localhost:8080/",
          "height": 367
        }
      },
      "source": [
        "#Plotting the loss curve of the test set\n",
        "plot_loss_curve(loss = loss_test_cooler, epochs = get_epochs(10), color = \"red\", title = \"Loss of the test set\")"
      ],
      "execution_count": 80,
      "outputs": [
        {
          "output_type": "execute_result",
          "data": {
            "text/plain": [
              "<matplotlib.axes._subplots.AxesSubplot at 0x7fc5b6da4b70>"
            ]
          },
          "metadata": {
            "tags": []
          },
          "execution_count": 80
        },
        {
          "output_type": "display_data",
          "data": {
            "image/png": "[encoded data removed]",
            "text/plain": [
              "<Figure size 360x360 with 1 Axes>"
            ]
          },
          "metadata": {
            "tags": [],
            "needs_background": "light"
          }
        }
      ]
    },
    {
      "cell_type": "code",
      "metadata": {
        "id": "9W0y12rE_ZDg",
        "colab_type": "code",
        "outputId": "733d8b58-a046-4020-c2f8-988459085213",
        "colab": {
          "base_uri": "https://localhost:8080/",
          "height": 367
        }
      },
      "source": [
        "#Plotting the loss curve of the training set\n",
        "plot_loss_curve(loss = loss_train_cooler, epochs = get_epochs(10), color = \"red\", title = \"Loss of the training set\")"
      ],
      "execution_count": 81,
      "outputs": [
        {
          "output_type": "execute_result",
          "data": {
            "text/plain": [
              "<matplotlib.axes._subplots.AxesSubplot at 0x7fc5b6cbc668>"
            ]
          },
          "metadata": {
            "tags": []
          },
          "execution_count": 81
        },
        {
          "output_type": "display_data",
          "data": {
            "image/png": "[encoded data removed]",
            "text/plain": [
              "<Figure size 360x360 with 1 Axes>"
            ]
          },
          "metadata": {
            "tags": [],
            "needs_background": "light"
          }
        }
      ]
    },
    {
      "cell_type": "code",
      "metadata": {
        "id": "t8NNJ4Tl_ZfF",
        "colab_type": "code",
        "outputId": "2d380030-a694-4c81-9f48-4476d18e6daa",
        "colab": {
          "base_uri": "https://localhost:8080/",
          "height": 367
        }
      },
      "source": [
        "#Plotting the accuracy curve of the test set\n",
        "plot_accuracy_curve (accuracy = accuracy_test_cooler, epochs = get_epochs(10), color = \"red\", title = \"Accuracy of the test set\")"
      ],
      "execution_count": 82,
      "outputs": [
        {
          "output_type": "execute_result",
          "data": {
            "text/plain": [
              "<matplotlib.axes._subplots.AxesSubplot at 0x7fc5b6c9ffd0>"
            ]
          },
          "metadata": {
            "tags": []
          },
          "execution_count": 82
        },
        {
          "output_type": "display_data",
          "data": {
            "image/png": "[encoded data removed]",
            "text/plain": [
              "<Figure size 360x360 with 1 Axes>"
            ]
          },
          "metadata": {
            "tags": [],
            "needs_background": "light"
          }
        }
      ]
    },
    {
      "cell_type": "code",
      "metadata": {
        "id": "-h1CKNom_Zme",
        "colab_type": "code",
        "outputId": "bbe0fa02-c66f-4c1a-c62a-97652a500ba0",
        "colab": {
          "base_uri": "https://localhost:8080/",
          "height": 367
        }
      },
      "source": [
        "#Plotting the accuracy curve of the training set\n",
        "plot_accuracy_curve (accuracy = accuracy_train_cooler, epochs = get_epochs(10), color = \"red\", title = \"Accuracy of the training set\")"
      ],
      "execution_count": 83,
      "outputs": [
        {
          "output_type": "execute_result",
          "data": {
            "text/plain": [
              "<matplotlib.axes._subplots.AxesSubplot at 0x7fc5b6c5ac18>"
            ]
          },
          "metadata": {
            "tags": []
          },
          "execution_count": 83
        },
        {
          "output_type": "display_data",
          "data": {
            "image/png": "[encoded data removed]",
            "text/plain": [
              "<Figure size 360x360 with 1 Axes>"
            ]
          },
          "metadata": {
            "tags": [],
            "needs_background": "light"
          }
        }
      ]
    },
    {
      "cell_type": "markdown",
      "metadata": {
        "id": "d3J4F2C47Wel",
        "colab_type": "text"
      },
      "source": [
        "#4. Condition Monitoring of the Flag"
      ]
    },
    {
      "cell_type": "markdown",
      "metadata": {
        "id": "bq5KmDWyixlA",
        "colab_type": "text"
      },
      "source": [
        "#4.1 Data exploration and preprocessing"
      ]
    },
    {
      "cell_type": "code",
      "metadata": {
        "id": "kVLwyM_rD1f4",
        "colab_type": "code",
        "colab": {}
      },
      "source": [
        "#Defining the third target of the dataset\n",
        "y_flag = target[\"Flag\"]"
      ],
      "execution_count": 0,
      "outputs": []
    },
    {
      "cell_type": "code",
      "metadata": {
        "colab_type": "code",
        "outputId": "2d237c88-096c-4ece-d746-e303182369f0",
        "id": "12EsN_VjFzgk",
        "colab": {
          "base_uri": "https://localhost:8080/",
          "height": 119
        }
      },
      "source": [
        "#Showing the third target\n",
        "y_flag.head()"
      ],
      "execution_count": 85,
      "outputs": [
        {
          "output_type": "execute_result",
          "data": {
            "text/plain": [
              "0    1\n",
              "1    1\n",
              "2    1\n",
              "3    1\n",
              "4    1\n",
              "Name: Flag, dtype: int64"
            ]
          },
          "metadata": {
            "tags": []
          },
          "execution_count": 85
        }
      ]
    },
    {
      "cell_type": "code",
      "metadata": {
        "colab_type": "code",
        "outputId": "717345c5-6c90-4b1d-8649-d9e391aa14dd",
        "id": "A4ps9wzbFzgv",
        "colab": {
          "base_uri": "https://localhost:8080/",
          "height": 68
        }
      },
      "source": [
        "#Showing the distribution of the values\n",
        "y_flag.value_counts()"
      ],
      "execution_count": 86,
      "outputs": [
        {
          "output_type": "execute_result",
          "data": {
            "text/plain": [
              "0    1449\n",
              "1     756\n",
              "Name: Flag, dtype: int64"
            ]
          },
          "metadata": {
            "tags": []
          },
          "execution_count": 86
        }
      ]
    },
    {
      "cell_type": "code",
      "metadata": {
        "id": "aaLcgvXFxBm4",
        "colab_type": "code",
        "outputId": "a0c5d2b8-f100-40ec-bc1c-c79b996b2a5b",
        "colab": {
          "base_uri": "https://localhost:8080/",
          "height": 349
        }
      },
      "source": [
        "#Plotting the target\n",
        "y_flag.value_counts().plot(kind = \"bar\", color = \"green\", title = \"Condition monitoring of the whole system\", figsize = (5,5))"
      ],
      "execution_count": 87,
      "outputs": [
        {
          "output_type": "execute_result",
          "data": {
            "text/plain": [
              "<matplotlib.axes._subplots.AxesSubplot at 0x7fc5b6c986a0>"
            ]
          },
          "metadata": {
            "tags": []
          },
          "execution_count": 87
        },
        {
          "output_type": "display_data",
          "data": {
            "image/png": "[encoded data removed]",
            "text/plain": [
              "<Figure size 360x360 with 1 Axes>"
            ]
          },
          "metadata": {
            "tags": [],
            "needs_background": "light"
          }
        }
      ]
    },
    {
      "cell_type": "code",
      "metadata": {
        "id": "SVLwc8y78Efp",
        "colab_type": "code",
        "outputId": "9ff84db1-68d7-4932-f509-f4cbda200e9b",
        "colab": {
          "base_uri": "https://localhost:8080/",
          "height": 68
        }
      },
      "source": [
        "#Legend\n",
        "print(\"Legend: \")\n",
        "print(\"0: Conditions were stable\")\n",
        "print(\"1: Static conditions might not have been reached yet\")"
      ],
      "execution_count": 88,
      "outputs": [
        {
          "output_type": "stream",
          "text": [
            "Legend: \n",
            "0: Conditions were stable\n",
            "1: Static conditions might not have been reached yet\n"
          ],
          "name": "stdout"
        }
      ]
    },
    {
      "cell_type": "code",
      "metadata": {
        "id": "7sPQtobE0PUt",
        "colab_type": "code",
        "colab": {}
      },
      "source": [
        "#Importing the features associated with the third target\n",
        "url_SE = \"https://raw.githubusercontent.com/Dedox-tech/Dataset/master/SE.txt\""
      ],
      "execution_count": 0,
      "outputs": []
    },
    {
      "cell_type": "code",
      "metadata": {
        "id": "_uwGfdiI0PkW",
        "colab_type": "code",
        "colab": {}
      },
      "source": [
        "#Reading the first feature\n",
        "SE = pd.read_csv(url_SE, sep=\"\\t\", header=None)"
      ],
      "execution_count": 0,
      "outputs": []
    },
    {
      "cell_type": "code",
      "metadata": {
        "id": "XyvDe75iGDXk",
        "colab_type": "code",
        "outputId": "724b5dea-55f2-4d5b-fe70-9311a69284b7",
        "colab": {
          "base_uri": "https://localhost:8080/",
          "height": 224
        }
      },
      "source": [
        "#Showing the first feature\n",
        "SE.head()"
      ],
      "execution_count": 91,
      "outputs": [
        {
          "output_type": "execute_result",
          "data": {
            "text/html": [
              "<div>\n",
              "<style scoped>\n",
              "    .dataframe tbody tr th:only-of-type {\n",
              "        vertical-align: middle;\n",
              "    }\n",
              "\n",
              "    .dataframe tbody tr th {\n",
              "        vertical-align: top;\n",
              "    }\n",
              "\n",
              "    .dataframe thead th {\n",
              "        text-align: right;\n",
              "    }\n",
              "</style>\n",
              "<table border=\"1\" class=\"dataframe\">\n",
              "  <thead>\n",
              "    <tr style=\"text-align: right;\">\n",
              "      <th></th>\n",
              "      <th>0</th>\n",
              "      <th>1</th>\n",
              "      <th>2</th>\n",
              "      <th>3</th>\n",
              "      <th>4</th>\n",
              "      <th>5</th>\n",
              "      <th>6</th>\n",
              "      <th>7</th>\n",
              "      <th>8</th>\n",
              "      <th>9</th>\n",
              "      <th>10</th>\n",
              "      <th>11</th>\n",
              "      <th>12</th>\n",
              "      <th>13</th>\n",
              "      <th>14</th>\n",
              "      <th>15</th>\n",
              "      <th>16</th>\n",
              "      <th>17</th>\n",
              "      <th>18</th>\n",
              "      <th>19</th>\n",
              "      <th>20</th>\n",
              "      <th>21</th>\n",
              "      <th>22</th>\n",
              "      <th>23</th>\n",
              "      <th>24</th>\n",
              "      <th>25</th>\n",
              "      <th>26</th>\n",
              "      <th>27</th>\n",
              "      <th>28</th>\n",
              "      <th>29</th>\n",
              "      <th>30</th>\n",
              "      <th>31</th>\n",
              "      <th>32</th>\n",
              "      <th>33</th>\n",
              "      <th>34</th>\n",
              "      <th>35</th>\n",
              "      <th>36</th>\n",
              "      <th>37</th>\n",
              "      <th>38</th>\n",
              "      <th>39</th>\n",
              "      <th>40</th>\n",
              "      <th>41</th>\n",
              "      <th>42</th>\n",
              "      <th>43</th>\n",
              "      <th>44</th>\n",
              "      <th>45</th>\n",
              "      <th>46</th>\n",
              "      <th>47</th>\n",
              "      <th>48</th>\n",
              "      <th>49</th>\n",
              "      <th>50</th>\n",
              "      <th>51</th>\n",
              "      <th>52</th>\n",
              "      <th>53</th>\n",
              "      <th>54</th>\n",
              "      <th>55</th>\n",
              "      <th>56</th>\n",
              "      <th>57</th>\n",
              "      <th>58</th>\n",
              "      <th>59</th>\n",
              "    </tr>\n",
              "  </thead>\n",
              "  <tbody>\n",
              "    <tr>\n",
              "      <th>0</th>\n",
              "      <td>68.039</td>\n",
              "      <td>0</td>\n",
              "      <td>0</td>\n",
              "      <td>0</td>\n",
              "      <td>0</td>\n",
              "      <td>0</td>\n",
              "      <td>0</td>\n",
              "      <td>0</td>\n",
              "      <td>0</td>\n",
              "      <td>69.141</td>\n",
              "      <td>69.141</td>\n",
              "      <td>68.144</td>\n",
              "      <td>68.144</td>\n",
              "      <td>67.791</td>\n",
              "      <td>67.791</td>\n",
              "      <td>67.504</td>\n",
              "      <td>67.504</td>\n",
              "      <td>67.657</td>\n",
              "      <td>67.657</td>\n",
              "      <td>54.079</td>\n",
              "      <td>54.079</td>\n",
              "      <td>68.728</td>\n",
              "      <td>68.728</td>\n",
              "      <td>68.700</td>\n",
              "      <td>68.700</td>\n",
              "      <td>68.740</td>\n",
              "      <td>68.740</td>\n",
              "      <td>68.609</td>\n",
              "      <td>68.609</td>\n",
              "      <td>56.919</td>\n",
              "      <td>56.919</td>\n",
              "      <td>69.443</td>\n",
              "      <td>69.443</td>\n",
              "      <td>69.812</td>\n",
              "      <td>69.812</td>\n",
              "      <td>69.521</td>\n",
              "      <td>69.521</td>\n",
              "      <td>69.940</td>\n",
              "      <td>69.940</td>\n",
              "      <td>79.568</td>\n",
              "      <td>79.568</td>\n",
              "      <td>68.664</td>\n",
              "      <td>68.664</td>\n",
              "      <td>68.889</td>\n",
              "      <td>68.889</td>\n",
              "      <td>68.677</td>\n",
              "      <td>68.677</td>\n",
              "      <td>68.708</td>\n",
              "      <td>68.708</td>\n",
              "      <td>74.427</td>\n",
              "      <td>74.427</td>\n",
              "      <td>68.101</td>\n",
              "      <td>68.101</td>\n",
              "      <td>68.420</td>\n",
              "      <td>68.420</td>\n",
              "      <td>68.223</td>\n",
              "      <td>68.223</td>\n",
              "      <td>68.159</td>\n",
              "      <td>68.159</td>\n",
              "      <td>68.264</td>\n",
              "    </tr>\n",
              "    <tr>\n",
              "      <th>1</th>\n",
              "      <td>68.264</td>\n",
              "      <td>0</td>\n",
              "      <td>0</td>\n",
              "      <td>0</td>\n",
              "      <td>0</td>\n",
              "      <td>0</td>\n",
              "      <td>0</td>\n",
              "      <td>0</td>\n",
              "      <td>0</td>\n",
              "      <td>65.715</td>\n",
              "      <td>65.715</td>\n",
              "      <td>67.964</td>\n",
              "      <td>67.964</td>\n",
              "      <td>68.045</td>\n",
              "      <td>68.045</td>\n",
              "      <td>68.206</td>\n",
              "      <td>68.206</td>\n",
              "      <td>67.825</td>\n",
              "      <td>67.825</td>\n",
              "      <td>54.092</td>\n",
              "      <td>54.092</td>\n",
              "      <td>69.240</td>\n",
              "      <td>69.240</td>\n",
              "      <td>68.715</td>\n",
              "      <td>68.715</td>\n",
              "      <td>68.839</td>\n",
              "      <td>68.839</td>\n",
              "      <td>68.961</td>\n",
              "      <td>68.961</td>\n",
              "      <td>57.016</td>\n",
              "      <td>57.016</td>\n",
              "      <td>69.922</td>\n",
              "      <td>69.922</td>\n",
              "      <td>70.201</td>\n",
              "      <td>70.201</td>\n",
              "      <td>70.253</td>\n",
              "      <td>70.253</td>\n",
              "      <td>70.365</td>\n",
              "      <td>70.365</td>\n",
              "      <td>80.441</td>\n",
              "      <td>80.441</td>\n",
              "      <td>69.220</td>\n",
              "      <td>69.220</td>\n",
              "      <td>69.486</td>\n",
              "      <td>69.486</td>\n",
              "      <td>69.321</td>\n",
              "      <td>69.321</td>\n",
              "      <td>69.300</td>\n",
              "      <td>69.300</td>\n",
              "      <td>74.492</td>\n",
              "      <td>74.492</td>\n",
              "      <td>68.536</td>\n",
              "      <td>68.536</td>\n",
              "      <td>68.465</td>\n",
              "      <td>68.465</td>\n",
              "      <td>68.491</td>\n",
              "      <td>68.491</td>\n",
              "      <td>68.528</td>\n",
              "      <td>68.528</td>\n",
              "      <td>68.595</td>\n",
              "    </tr>\n",
              "    <tr>\n",
              "      <th>2</th>\n",
              "      <td>68.595</td>\n",
              "      <td>0</td>\n",
              "      <td>0</td>\n",
              "      <td>0</td>\n",
              "      <td>0</td>\n",
              "      <td>0</td>\n",
              "      <td>0</td>\n",
              "      <td>0</td>\n",
              "      <td>0</td>\n",
              "      <td>67.320</td>\n",
              "      <td>67.320</td>\n",
              "      <td>68.246</td>\n",
              "      <td>68.246</td>\n",
              "      <td>68.100</td>\n",
              "      <td>68.100</td>\n",
              "      <td>68.209</td>\n",
              "      <td>68.209</td>\n",
              "      <td>68.005</td>\n",
              "      <td>68.005</td>\n",
              "      <td>54.786</td>\n",
              "      <td>54.786</td>\n",
              "      <td>68.905</td>\n",
              "      <td>68.905</td>\n",
              "      <td>69.065</td>\n",
              "      <td>69.065</td>\n",
              "      <td>69.350</td>\n",
              "      <td>69.350</td>\n",
              "      <td>69.296</td>\n",
              "      <td>69.296</td>\n",
              "      <td>57.479</td>\n",
              "      <td>57.479</td>\n",
              "      <td>70.092</td>\n",
              "      <td>70.092</td>\n",
              "      <td>69.947</td>\n",
              "      <td>69.947</td>\n",
              "      <td>69.979</td>\n",
              "      <td>69.979</td>\n",
              "      <td>70.287</td>\n",
              "      <td>70.287</td>\n",
              "      <td>80.824</td>\n",
              "      <td>80.824</td>\n",
              "      <td>69.437</td>\n",
              "      <td>69.437</td>\n",
              "      <td>69.561</td>\n",
              "      <td>69.561</td>\n",
              "      <td>69.570</td>\n",
              "      <td>69.570</td>\n",
              "      <td>69.319</td>\n",
              "      <td>69.319</td>\n",
              "      <td>74.986</td>\n",
              "      <td>74.986</td>\n",
              "      <td>68.901</td>\n",
              "      <td>68.901</td>\n",
              "      <td>68.805</td>\n",
              "      <td>68.805</td>\n",
              "      <td>68.456</td>\n",
              "      <td>68.456</td>\n",
              "      <td>68.758</td>\n",
              "      <td>68.758</td>\n",
              "      <td>68.628</td>\n",
              "    </tr>\n",
              "    <tr>\n",
              "      <th>3</th>\n",
              "      <td>68.628</td>\n",
              "      <td>0</td>\n",
              "      <td>0</td>\n",
              "      <td>0</td>\n",
              "      <td>0</td>\n",
              "      <td>0</td>\n",
              "      <td>0</td>\n",
              "      <td>0</td>\n",
              "      <td>0</td>\n",
              "      <td>68.991</td>\n",
              "      <td>68.991</td>\n",
              "      <td>68.798</td>\n",
              "      <td>68.798</td>\n",
              "      <td>69.593</td>\n",
              "      <td>69.593</td>\n",
              "      <td>68.152</td>\n",
              "      <td>68.152</td>\n",
              "      <td>68.317</td>\n",
              "      <td>68.317</td>\n",
              "      <td>54.780</td>\n",
              "      <td>54.780</td>\n",
              "      <td>68.870</td>\n",
              "      <td>68.870</td>\n",
              "      <td>69.315</td>\n",
              "      <td>69.315</td>\n",
              "      <td>69.257</td>\n",
              "      <td>69.257</td>\n",
              "      <td>69.600</td>\n",
              "      <td>69.600</td>\n",
              "      <td>57.705</td>\n",
              "      <td>57.705</td>\n",
              "      <td>70.099</td>\n",
              "      <td>70.099</td>\n",
              "      <td>70.984</td>\n",
              "      <td>70.984</td>\n",
              "      <td>70.588</td>\n",
              "      <td>70.588</td>\n",
              "      <td>70.294</td>\n",
              "      <td>70.294</td>\n",
              "      <td>80.930</td>\n",
              "      <td>80.930</td>\n",
              "      <td>69.437</td>\n",
              "      <td>69.437</td>\n",
              "      <td>69.618</td>\n",
              "      <td>69.618</td>\n",
              "      <td>69.585</td>\n",
              "      <td>69.585</td>\n",
              "      <td>69.354</td>\n",
              "      <td>69.354</td>\n",
              "      <td>75.154</td>\n",
              "      <td>75.154</td>\n",
              "      <td>68.860</td>\n",
              "      <td>68.860</td>\n",
              "      <td>68.946</td>\n",
              "      <td>68.946</td>\n",
              "      <td>69.021</td>\n",
              "      <td>69.021</td>\n",
              "      <td>68.851</td>\n",
              "      <td>68.851</td>\n",
              "      <td>68.868</td>\n",
              "    </tr>\n",
              "    <tr>\n",
              "      <th>4</th>\n",
              "      <td>68.868</td>\n",
              "      <td>0</td>\n",
              "      <td>0</td>\n",
              "      <td>0</td>\n",
              "      <td>0</td>\n",
              "      <td>0</td>\n",
              "      <td>0</td>\n",
              "      <td>0</td>\n",
              "      <td>0</td>\n",
              "      <td>59.523</td>\n",
              "      <td>59.523</td>\n",
              "      <td>68.166</td>\n",
              "      <td>68.166</td>\n",
              "      <td>68.990</td>\n",
              "      <td>68.990</td>\n",
              "      <td>69.038</td>\n",
              "      <td>69.038</td>\n",
              "      <td>68.780</td>\n",
              "      <td>68.780</td>\n",
              "      <td>54.451</td>\n",
              "      <td>54.451</td>\n",
              "      <td>69.247</td>\n",
              "      <td>69.247</td>\n",
              "      <td>69.643</td>\n",
              "      <td>69.643</td>\n",
              "      <td>69.366</td>\n",
              "      <td>69.366</td>\n",
              "      <td>69.325</td>\n",
              "      <td>69.325</td>\n",
              "      <td>57.104</td>\n",
              "      <td>57.104</td>\n",
              "      <td>70.694</td>\n",
              "      <td>70.694</td>\n",
              "      <td>70.614</td>\n",
              "      <td>70.614</td>\n",
              "      <td>70.231</td>\n",
              "      <td>70.231</td>\n",
              "      <td>70.724</td>\n",
              "      <td>70.724</td>\n",
              "      <td>81.100</td>\n",
              "      <td>81.100</td>\n",
              "      <td>69.821</td>\n",
              "      <td>69.821</td>\n",
              "      <td>69.403</td>\n",
              "      <td>69.403</td>\n",
              "      <td>68.829</td>\n",
              "      <td>68.829</td>\n",
              "      <td>69.185</td>\n",
              "      <td>69.185</td>\n",
              "      <td>75.304</td>\n",
              "      <td>75.304</td>\n",
              "      <td>68.483</td>\n",
              "      <td>68.483</td>\n",
              "      <td>68.819</td>\n",
              "      <td>68.819</td>\n",
              "      <td>68.862</td>\n",
              "      <td>68.862</td>\n",
              "      <td>69.036</td>\n",
              "      <td>69.036</td>\n",
              "      <td>68.972</td>\n",
              "    </tr>\n",
              "  </tbody>\n",
              "</table>\n",
              "</div>"
            ],
            "text/plain": [
              "       0   1   2   3   4   5   ...      54      55      56      57      58      59\n",
              "0  68.039   0   0   0   0   0  ...  68.420  68.223  68.223  68.159  68.159  68.264\n",
              "1  68.264   0   0   0   0   0  ...  68.465  68.491  68.491  68.528  68.528  68.595\n",
              "2  68.595   0   0   0   0   0  ...  68.805  68.456  68.456  68.758  68.758  68.628\n",
              "3  68.628   0   0   0   0   0  ...  68.946  69.021  69.021  68.851  68.851  68.868\n",
              "4  68.868   0   0   0   0   0  ...  68.819  68.862  68.862  69.036  69.036  68.972\n",
              "\n",
              "[5 rows x 60 columns]"
            ]
          },
          "metadata": {
            "tags": []
          },
          "execution_count": 91
        }
      ]
    },
    {
      "cell_type": "code",
      "metadata": {
        "id": "LVMV01Iz3Rpt",
        "colab_type": "code",
        "outputId": "7a946830-03de-47f7-9a9f-3390b7d06cf8",
        "colab": {
          "base_uri": "https://localhost:8080/",
          "height": 353
        }
      },
      "source": [
        "#Plotting the first feature (first cycle)\n",
        "SE.iloc[0].plot(kind = \"line\", color = \"green\", title = \"First cycle of the efficience factor\", figsize = (5,5))"
      ],
      "execution_count": 92,
      "outputs": [
        {
          "output_type": "execute_result",
          "data": {
            "text/plain": [
              "<matplotlib.axes._subplots.AxesSubplot at 0x7fc5b6b437f0>"
            ]
          },
          "metadata": {
            "tags": []
          },
          "execution_count": 92
        },
        {
          "output_type": "display_data",
          "data": {
            "image/png": "[encoded data removed]",
            "text/plain": [
              "<Figure size 360x360 with 1 Axes>"
            ]
          },
          "metadata": {
            "tags": [],
            "needs_background": "light"
          }
        }
      ]
    },
    {
      "cell_type": "code",
      "metadata": {
        "id": "tIGPghUNGDwj",
        "colab_type": "code",
        "colab": {}
      },
      "source": [
        "#Storing the feature\n",
        "X_flag = SE"
      ],
      "execution_count": 0,
      "outputs": []
    },
    {
      "cell_type": "code",
      "metadata": {
        "colab_type": "code",
        "id": "kLZQnHTbGQTq",
        "colab": {}
      },
      "source": [
        "#Doing the preprocessing steps\n",
        "X_train_processed_flag, X_test_processed_flag, y_train_processed_flag, y_test_processed_flag = do_preprocessing(X = X_flag, y = y_flag, features = 1, timesteps= 60)"
      ],
      "execution_count": 0,
      "outputs": []
    },
    {
      "cell_type": "markdown",
      "metadata": {
        "id": "PpFCD455i4j4",
        "colab_type": "text"
      },
      "source": [
        "#4.2 Modeling: Convolutional Neural Networks (CNN)"
      ]
    },
    {
      "cell_type": "code",
      "metadata": {
        "id": "tp6oRgQJGY4u",
        "colab_type": "code",
        "colab": {}
      },
      "source": [
        "#Calling a CNN\n",
        "model_flag = neural_network(input_shape = (60,1), class_numbers = (2))"
      ],
      "execution_count": 0,
      "outputs": []
    },
    {
      "cell_type": "code",
      "metadata": {
        "id": "khheJOPDGHl3",
        "colab_type": "code",
        "outputId": "e607f768-1a30-4670-e5c7-9cbf2bd51868",
        "colab": {
          "base_uri": "https://localhost:8080/",
          "height": 976
        }
      },
      "source": [
        "#Plotting the CNN\n",
        "plot_neural_network(conv_net = model_flag, name=\"model_flag.png\")"
      ],
      "execution_count": 96,
      "outputs": [
        {
          "output_type": "execute_result",
          "data": {
            "image/png": "[encoded data removed]",
            "text/plain": [
              "<IPython.core.display.Image object>"
            ]
          },
          "metadata": {
            "tags": []
          },
          "execution_count": 96
        }
      ]
    },
    {
      "cell_type": "code",
      "metadata": {
        "id": "U301A-8UG2y0",
        "colab_type": "code",
        "outputId": "23b7eb6e-b062-43df-fe9c-bfa5198badd7",
        "colab": {
          "base_uri": "https://localhost:8080/",
          "height": 374
        }
      },
      "source": [
        "#Processing the CNN\n",
        "loss_test_flag, loss_train_flag, accuracy_test_flag, accuracy_train_flag = processing_neural_network(conv_net = model_flag, X_train = X_train_processed_flag, y_train = y_train_processed_flag)"
      ],
      "execution_count": 97,
      "outputs": [
        {
          "output_type": "stream",
          "text": [
            "Train on 1411 samples, validate on 353 samples\n",
            "Epoch 1/10\n",
            "1411/1411 [==============================] - 0s 331us/step - loss: 0.6036 - accuracy: 0.6598 - val_loss: 0.5290 - val_accuracy: 0.6289\n",
            "Epoch 2/10\n",
            "1411/1411 [==============================] - 0s 169us/step - loss: 0.4334 - accuracy: 0.7973 - val_loss: 0.4221 - val_accuracy: 0.7054\n",
            "Epoch 3/10\n",
            "1411/1411 [==============================] - 0s 186us/step - loss: 0.3759 - accuracy: 0.8412 - val_loss: 0.3646 - val_accuracy: 0.8272\n",
            "Epoch 4/10\n",
            "1411/1411 [==============================] - 0s 167us/step - loss: 0.3331 - accuracy: 0.8604 - val_loss: 0.3750 - val_accuracy: 0.8272\n",
            "Epoch 5/10\n",
            "1411/1411 [==============================] - 0s 168us/step - loss: 0.3473 - accuracy: 0.8583 - val_loss: 0.3507 - val_accuracy: 0.8527\n",
            "Epoch 6/10\n",
            "1411/1411 [==============================] - 0s 179us/step - loss: 0.3140 - accuracy: 0.8710 - val_loss: 0.2951 - val_accuracy: 0.8839\n",
            "Epoch 7/10\n",
            "1411/1411 [==============================] - 0s 175us/step - loss: 0.3164 - accuracy: 0.8639 - val_loss: 0.3060 - val_accuracy: 0.8839\n",
            "Epoch 8/10\n",
            "1411/1411 [==============================] - 0s 160us/step - loss: 0.2990 - accuracy: 0.8753 - val_loss: 0.2991 - val_accuracy: 0.8810\n",
            "Epoch 9/10\n",
            "1411/1411 [==============================] - 0s 164us/step - loss: 0.2997 - accuracy: 0.8795 - val_loss: 0.2962 - val_accuracy: 0.8839\n",
            "Epoch 10/10\n",
            "1411/1411 [==============================] - 0s 161us/step - loss: 0.2915 - accuracy: 0.8802 - val_loss: 0.3117 - val_accuracy: 0.8725\n"
          ],
          "name": "stdout"
        }
      ]
    },
    {
      "cell_type": "code",
      "metadata": {
        "id": "-x_0m_wzHEII",
        "colab_type": "code",
        "outputId": "dfa589ba-829b-4705-ddab-a17efd45675d",
        "colab": {
          "base_uri": "https://localhost:8080/",
          "height": 425
        }
      },
      "source": [
        "#Showing the parameters computed\n",
        "model_flag.summary()"
      ],
      "execution_count": 98,
      "outputs": [
        {
          "output_type": "stream",
          "text": [
            "Model: \"sequential_3\"\n",
            "_________________________________________________________________\n",
            "Layer (type)                 Output Shape              Param #   \n",
            "=================================================================\n",
            "conv1d_9 (Conv1D)            (None, 55, 100)           700       \n",
            "_________________________________________________________________\n",
            "conv1d_10 (Conv1D)           (None, 50, 100)           60100     \n",
            "_________________________________________________________________\n",
            "max_pooling1d_3 (MaxPooling1 (None, 16, 100)           0         \n",
            "_________________________________________________________________\n",
            "conv1d_11 (Conv1D)           (None, 11, 160)           96160     \n",
            "_________________________________________________________________\n",
            "conv1d_12 (Conv1D)           (None, 6, 160)            153760    \n",
            "_________________________________________________________________\n",
            "global_average_pooling1d_3 ( (None, 160)               0         \n",
            "_________________________________________________________________\n",
            "dropout_3 (Dropout)          (None, 160)               0         \n",
            "_________________________________________________________________\n",
            "dense_3 (Dense)              (None, 2)                 322       \n",
            "=================================================================\n",
            "Total params: 311,042\n",
            "Trainable params: 311,042\n",
            "Non-trainable params: 0\n",
            "_________________________________________________________________\n"
          ],
          "name": "stdout"
        }
      ]
    },
    {
      "cell_type": "markdown",
      "metadata": {
        "id": "0elkc6lPjq66",
        "colab_type": "text"
      },
      "source": [
        "#4.3 Results"
      ]
    },
    {
      "cell_type": "code",
      "metadata": {
        "id": "U055yvF8HN2j",
        "colab_type": "code",
        "outputId": "d249042b-f7d2-4383-fbf7-778afb1a8f5e",
        "colab": {
          "base_uri": "https://localhost:8080/",
          "height": 425
        }
      },
      "source": [
        "#Get the accuracy scores\n",
        "score_flag = model_flag.evaluate(X_test_processed_flag, y_test_processed_flag)\n",
        "print(\"\\n\")\n",
        "print(\"The scores are: \")\n",
        "print(score_flag)\n",
        "print(\"\\n\")\n",
        "\n",
        "#Get the name of the metrics\n",
        "names_flag = model_flag.metrics_names\n",
        "print(\"The name of the previous scores are: \")\n",
        "print(names_flag)\n",
        "print(\"\\n\")\n",
        "\n",
        "#Get the predictions\n",
        "predictions_flag = model_flag.predict_classes(X_test_processed_flag)\n",
        "print(\"The predictions of the model are: \")\n",
        "print(predictions_flag)"
      ],
      "execution_count": 99,
      "outputs": [
        {
          "output_type": "stream",
          "text": [
            "441/441 [==============================] - 0s 76us/step\n",
            "\n",
            "\n",
            "The scores are: \n",
            "[0.36349554045670696, 0.8435373902320862]\n",
            "\n",
            "\n",
            "The name of the previous scores are: \n",
            "['loss', 'accuracy']\n",
            "\n",
            "\n",
            "The predictions of the model are: \n",
            "[0 1 1 1 1 0 0 0 0 1 0 0 0 1 1 0 0 1 0 0 0 0 1 1 1 1 1 1 0 1 0 0 0 1 0 0 0\n",
            " 0 0 0 0 1 0 1 0 0 0 1 0 0 1 1 0 1 0 0 0 0 0 0 1 1 0 0 0 0 1 1 1 0 0 1 1 1\n",
            " 0 0 0 0 1 1 1 0 0 0 0 0 1 1 0 1 0 0 1 1 1 0 1 0 1 1 1 0 1 0 0 1 1 0 0 0 0\n",
            " 1 0 0 0 0 0 1 0 1 0 1 0 1 1 0 0 0 0 1 0 0 0 0 1 0 0 0 1 0 0 0 1 1 0 0 1 0\n",
            " 0 1 0 0 0 0 1 1 0 0 1 0 0 0 0 0 0 1 1 0 0 0 0 1 0 1 0 1 1 1 0 0 1 0 0 1 1\n",
            " 1 1 0 0 1 0 1 1 1 1 1 1 1 0 1 1 0 1 0 0 0 1 1 0 1 0 0 0 1 1 0 0 0 0 0 0 0\n",
            " 1 0 1 1 0 1 1 0 0 1 0 1 1 1 1 1 0 1 0 0 0 0 0 0 0 1 0 0 1 0 0 1 0 0 0 1 0\n",
            " 0 1 0 1 0 0 1 1 0 0 0 0 0 0 1 0 1 0 1 1 1 0 0 0 0 1 0 0 1 0 1 0 0 0 1 1 1\n",
            " 0 1 0 0 1 0 1 1 1 1 0 0 1 1 1 0 1 0 1 0 0 0 0 1 0 0 0 1 1 1 1 0 1 1 1 1 1\n",
            " 0 1 1 1 0 0 0 0 0 1 0 1 1 1 1 1 0 1 0 1 0 0 1 1 0 0 1 1 1 0 0 0 1 0 0 1 0\n",
            " 0 0 0 0 0 0 0 0 1 1 0 0 1 1 0 1 1 1 1 1 0 0 1 0 0 1 1 0 0 1 0 0 0 0 0 0 0\n",
            " 1 0 0 1 0 0 0 0 0 1 1 1 0 0 0 1 1 1 1 0 0 1 1 0 1 1 0 0 1 0 0 0 0 0]\n"
          ],
          "name": "stdout"
        }
      ]
    },
    {
      "cell_type": "code",
      "metadata": {
        "id": "QeBSB80GHetK",
        "colab_type": "code",
        "outputId": "563793d2-128d-47a7-a67b-7d8073961a9e",
        "colab": {
          "base_uri": "https://localhost:8080/",
          "height": 51
        }
      },
      "source": [
        "#Get the shape\n",
        "print(\"The shape of the target flag is: \",y_test_processed_flag.shape)\n",
        "print(\"The shape of the predictions given for the model is: \",predictions_flag.shape)"
      ],
      "execution_count": 100,
      "outputs": [
        {
          "output_type": "stream",
          "text": [
            "The shape of the target flag is:  (441, 2)\n",
            "The shape of the predictions given for the model is:  (441,)\n"
          ],
          "name": "stdout"
        }
      ]
    },
    {
      "cell_type": "code",
      "metadata": {
        "id": "EmufpKvTHnFH",
        "colab_type": "code",
        "colab": {}
      },
      "source": [
        "#Preprocessing trick with numpy\n",
        "y_test_processed_flag_back = y_test_processed_flag.argmax(axis=-1)"
      ],
      "execution_count": 0,
      "outputs": []
    },
    {
      "cell_type": "code",
      "metadata": {
        "id": "Vx_MW-pLHqsP",
        "colab_type": "code",
        "outputId": "ca63adc8-7071-46af-c510-425189feb0ff",
        "colab": {
          "base_uri": "https://localhost:8080/",
          "height": 170
        }
      },
      "source": [
        "#Showing the classification report\n",
        "classification_flag = classification_report(y_test_processed_flag_back, predictions_flag)\n",
        "print(classification_flag)"
      ],
      "execution_count": 102,
      "outputs": [
        {
          "output_type": "stream",
          "text": [
            "              precision    recall  f1-score   support\n",
            "\n",
            "           0       0.95      0.81      0.88       299\n",
            "           1       0.70      0.92      0.79       142\n",
            "\n",
            "    accuracy                           0.84       441\n",
            "   macro avg       0.82      0.86      0.83       441\n",
            "weighted avg       0.87      0.84      0.85       441\n",
            "\n"
          ],
          "name": "stdout"
        }
      ]
    },
    {
      "cell_type": "code",
      "metadata": {
        "id": "90hJ3mT2H0-k",
        "colab_type": "code",
        "outputId": "3d731f45-0831-43c9-92d8-ce3b82ae4c32",
        "colab": {
          "base_uri": "https://localhost:8080/",
          "height": 367
        }
      },
      "source": [
        "#Plotting the loss curve of the test set\n",
        "plot_loss_curve(loss = loss_test_flag, epochs = get_epochs(10), color = \"green\", title = \"Loss of the test set\")"
      ],
      "execution_count": 103,
      "outputs": [
        {
          "output_type": "execute_result",
          "data": {
            "text/plain": [
              "<matplotlib.axes._subplots.AxesSubplot at 0x7fc5b67be9e8>"
            ]
          },
          "metadata": {
            "tags": []
          },
          "execution_count": 103
        },
        {
          "output_type": "display_data",
          "data": {
            "image/png": "[encoded data removed]",
            "text/plain": [
              "<Figure size 360x360 with 1 Axes>"
            ]
          },
          "metadata": {
            "tags": [],
            "needs_background": "light"
          }
        }
      ]
    },
    {
      "cell_type": "code",
      "metadata": {
        "id": "X1ntQt7zH6WC",
        "colab_type": "code",
        "outputId": "a7d25d2d-55c1-4296-c48e-d1ced25c5ed8",
        "colab": {
          "base_uri": "https://localhost:8080/",
          "height": 367
        }
      },
      "source": [
        "#Plotting the loss curve of the training set\n",
        "plot_loss_curve(loss = loss_train_flag, epochs = get_epochs(10), color = \"green\", title = \"Loss of the training set\")"
      ],
      "execution_count": 104,
      "outputs": [
        {
          "output_type": "execute_result",
          "data": {
            "text/plain": [
              "<matplotlib.axes._subplots.AxesSubplot at 0x7fc5b6749240>"
            ]
          },
          "metadata": {
            "tags": []
          },
          "execution_count": 104
        },
        {
          "output_type": "display_data",
          "data": {
            "image/png": "[encoded data removed]",
            "text/plain": [
              "<Figure size 360x360 with 1 Axes>"
            ]
          },
          "metadata": {
            "tags": [],
            "needs_background": "light"
          }
        }
      ]
    },
    {
      "cell_type": "code",
      "metadata": {
        "id": "FA9cmnpNH65-",
        "colab_type": "code",
        "outputId": "989613a3-6e60-45fd-e0d6-ff523323f1d3",
        "colab": {
          "base_uri": "https://localhost:8080/",
          "height": 367
        }
      },
      "source": [
        "#Plotting the accuracy curve of the test set\n",
        "plot_accuracy_curve (accuracy = accuracy_test_flag, epochs = get_epochs(10), color = \"green\", title = \"Accuracy of the test set\")"
      ],
      "execution_count": 105,
      "outputs": [
        {
          "output_type": "execute_result",
          "data": {
            "text/plain": [
              "<matplotlib.axes._subplots.AxesSubplot at 0x7fc5b6734668>"
            ]
          },
          "metadata": {
            "tags": []
          },
          "execution_count": 105
        },
        {
          "output_type": "display_data",
          "data": {
            "image/png": "[encoded data removed]",
            "text/plain": [
              "<Figure size 360x360 with 1 Axes>"
            ]
          },
          "metadata": {
            "tags": [],
            "needs_background": "light"
          }
        }
      ]
    },
    {
      "cell_type": "code",
      "metadata": {
        "id": "t-BTPHNIH7Ae",
        "colab_type": "code",
        "outputId": "e0a41282-8ad7-4d06-a3e8-45dea58d6585",
        "colab": {
          "base_uri": "https://localhost:8080/",
          "height": 367
        }
      },
      "source": [
        "#Plotting the accuracy curve of the training set\n",
        "plot_accuracy_curve (accuracy = accuracy_train_flag, epochs = get_epochs(10), color = \"green\", title = \"Accuracy of the training set\")"
      ],
      "execution_count": 106,
      "outputs": [
        {
          "output_type": "execute_result",
          "data": {
            "text/plain": [
              "<matplotlib.axes._subplots.AxesSubplot at 0x7fc5b672f0b8>"
            ]
          },
          "metadata": {
            "tags": []
          },
          "execution_count": 106
        },
        {
          "output_type": "display_data",
          "data": {
            "image/png": "[encoded data removed]",
            "text/plain": [
              "<Figure size 360x360 with 1 Axes>"
            ]
          },
          "metadata": {
            "tags": [],
            "needs_background": "light"
          }
        }
      ]
    }
  ]
}