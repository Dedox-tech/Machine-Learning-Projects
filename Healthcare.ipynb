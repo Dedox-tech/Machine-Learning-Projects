{
  "nbformat": 4,
  "nbformat_minor": 0,
  "metadata": {
    "colab": {
      "name": "Healthcare",
      "provenance": [],
      "collapsed_sections": [],
      "machine_shape": "hm"
    },
    "kernelspec": {
      "name": "python3",
      "display_name": "Python 3"
    }
  },
  "cells": [
    {
      "cell_type": "markdown",
      "metadata": {
        "id": "d4e75IHXBPu5",
        "colab_type": "text"
      },
      "source": [
        "# Prediction of Hospital Readmission of U.S Diabetic Patients "
      ]
    },
    {
      "cell_type": "markdown",
      "metadata": {
        "id": "jbKRUXkYNBTP",
        "colab_type": "text"
      },
      "source": [
        "This project aims to predict the readmission of diabetic patients at U.S Hospitals. Given features as a patient information (age, gender, race, weight), medical information (number of medication, number of lab procedures, time in hospital) and other technical features (related with the medical diagnostic), the objective is to predict if the patient will be readmitted or will not in the next 30 days."
      ]
    },
    {
      "cell_type": "markdown",
      "metadata": {
        "id": "wliilTv0NBbc",
        "colab_type": "text"
      },
      "source": [
        "For the Machine Learning part, we choice a mix of models. First, for the preprocessing phase, we used Principal Components Analysis (PCA) for dimensionality reduction. Next, we tried with two variants of Naïve Bayes classifier (Bernoulli and Gaussian based). After that, we tried traditional models as K-Nearest Neighbors and Logistic Regression. Finally, we applied Artificial Neural Networks (ANN) in this task."
      ]
    },
    {
      "cell_type": "markdown",
      "metadata": {
        "id": "UaDV6qFcNBhT",
        "colab_type": "text"
      },
      "source": [
        "Readmission is a measurement that is correlated with quality in hospitals. The more readmission rate, the less score in quality (at least in U.S). Moreover, low quality equals serious penalizations to hospitals. Therefore, if we could identify the patients with high probability of being readmitted, we could create interventions to provide additional assistance in order to avoid future readmission. In this way, we improve quality and save cost for penalties.  "
      ]
    },
    {
      "cell_type": "markdown",
      "metadata": {
        "id": "mnvWwyAwo4Pv",
        "colab_type": "text"
      },
      "source": [
        "###Content:\n",
        "###1. Getting started\n",
        "###2. Data exploration\n",
        "###3. Preprocessing\n",
        "###4. Data analysis\n",
        "###5. Modeling\n",
        "###6. Results"
      ]
    },
    {
      "cell_type": "markdown",
      "metadata": {
        "id": "xFe03ADRCPFD",
        "colab_type": "text"
      },
      "source": [
        "# 1. Getting started"
      ]
    },
    {
      "cell_type": "code",
      "metadata": {
        "id": "C8EPU1Cp36Z9",
        "colab_type": "code",
        "colab": {}
      },
      "source": [
        "#Libraries\n",
        "\n",
        "#Data Wrangling\n",
        "import pandas as pd\n",
        "import numpy as np\n",
        "\n",
        "#Metrics\n",
        "from sklearn.model_selection import train_test_split\n",
        "from sklearn.metrics import plot_confusion_matrix\n",
        "from sklearn.metrics import classification_report\n",
        "from sklearn.metrics import plot_precision_recall_curve\n",
        "\n",
        "#Models\n",
        "from sklearn.naive_bayes import BernoulliNB\n",
        "from sklearn.naive_bayes import GaussianNB\n",
        "from sklearn.neighbors import KNeighborsClassifier\n",
        "from sklearn.linear_model import LogisticRegression\n",
        "from sklearn.linear_model import Perceptron\n",
        "from sklearn.neural_network import MLPClassifier\n",
        "\n",
        "#Graphs\n",
        "import matplotlib.pyplot as plt\n",
        "\n",
        "#Dimensionality Reduction\n",
        "from sklearn.decomposition import PCA"
      ],
      "execution_count": 0,
      "outputs": []
    },
    {
      "cell_type": "code",
      "metadata": {
        "id": "yfwPiZN53cBe",
        "colab_type": "code",
        "colab": {}
      },
      "source": [
        "#Importing the dataset\n",
        "url = \"https://raw.githubusercontent.com/Dedox-tech/Dataset/master/diabetic_data.csv\"\n",
        "\n",
        "#Reading the dataset\n",
        "dataset = pd.read_csv(url)"
      ],
      "execution_count": 0,
      "outputs": []
    },
    {
      "cell_type": "markdown",
      "metadata": {
        "id": "JJ7lRaMZC7ME",
        "colab_type": "text"
      },
      "source": [
        "# 2. Data Exploration"
      ]
    },
    {
      "cell_type": "code",
      "metadata": {
        "id": "LMWCKeK0C1g8",
        "colab_type": "code",
        "outputId": "7a473cca-e97e-4904-aa41-ec5d6bfeec76",
        "colab": {
          "base_uri": "https://localhost:8080/",
          "height": 326
        }
      },
      "source": [
        "#Displaying the dataset\n",
        "dataset.head()"
      ],
      "execution_count": 3,
      "outputs": [
        {
          "output_type": "execute_result",
          "data": {
            "text/html": [
              "<div>\n",
              "<style scoped>\n",
              "    .dataframe tbody tr th:only-of-type {\n",
              "        vertical-align: middle;\n",
              "    }\n",
              "\n",
              "    .dataframe tbody tr th {\n",
              "        vertical-align: top;\n",
              "    }\n",
              "\n",
              "    .dataframe thead th {\n",
              "        text-align: right;\n",
              "    }\n",
              "</style>\n",
              "<table border=\"1\" class=\"dataframe\">\n",
              "  <thead>\n",
              "    <tr style=\"text-align: right;\">\n",
              "      <th></th>\n",
              "      <th>encounter_id</th>\n",
              "      <th>patient_nbr</th>\n",
              "      <th>race</th>\n",
              "      <th>gender</th>\n",
              "      <th>age</th>\n",
              "      <th>weight</th>\n",
              "      <th>admission_type_id</th>\n",
              "      <th>discharge_disposition_id</th>\n",
              "      <th>admission_source_id</th>\n",
              "      <th>time_in_hospital</th>\n",
              "      <th>payer_code</th>\n",
              "      <th>medical_specialty</th>\n",
              "      <th>num_lab_procedures</th>\n",
              "      <th>num_procedures</th>\n",
              "      <th>num_medications</th>\n",
              "      <th>number_outpatient</th>\n",
              "      <th>number_emergency</th>\n",
              "      <th>number_inpatient</th>\n",
              "      <th>diag_1</th>\n",
              "      <th>diag_2</th>\n",
              "      <th>diag_3</th>\n",
              "      <th>number_diagnoses</th>\n",
              "      <th>max_glu_serum</th>\n",
              "      <th>A1Cresult</th>\n",
              "      <th>metformin</th>\n",
              "      <th>repaglinide</th>\n",
              "      <th>nateglinide</th>\n",
              "      <th>chlorpropamide</th>\n",
              "      <th>glimepiride</th>\n",
              "      <th>acetohexamide</th>\n",
              "      <th>glipizide</th>\n",
              "      <th>glyburide</th>\n",
              "      <th>tolbutamide</th>\n",
              "      <th>pioglitazone</th>\n",
              "      <th>rosiglitazone</th>\n",
              "      <th>acarbose</th>\n",
              "      <th>miglitol</th>\n",
              "      <th>troglitazone</th>\n",
              "      <th>tolazamide</th>\n",
              "      <th>examide</th>\n",
              "      <th>citoglipton</th>\n",
              "      <th>insulin</th>\n",
              "      <th>glyburide-metformin</th>\n",
              "      <th>glipizide-metformin</th>\n",
              "      <th>glimepiride-pioglitazone</th>\n",
              "      <th>metformin-rosiglitazone</th>\n",
              "      <th>metformin-pioglitazone</th>\n",
              "      <th>change</th>\n",
              "      <th>diabetesMed</th>\n",
              "      <th>readmitted</th>\n",
              "    </tr>\n",
              "  </thead>\n",
              "  <tbody>\n",
              "    <tr>\n",
              "      <th>0</th>\n",
              "      <td>2278392</td>\n",
              "      <td>8222157</td>\n",
              "      <td>Caucasian</td>\n",
              "      <td>Female</td>\n",
              "      <td>[0-10)</td>\n",
              "      <td>?</td>\n",
              "      <td>6</td>\n",
              "      <td>25</td>\n",
              "      <td>1</td>\n",
              "      <td>1</td>\n",
              "      <td>?</td>\n",
              "      <td>Pediatrics-Endocrinology</td>\n",
              "      <td>41</td>\n",
              "      <td>0</td>\n",
              "      <td>1</td>\n",
              "      <td>0</td>\n",
              "      <td>0</td>\n",
              "      <td>0</td>\n",
              "      <td>250.83</td>\n",
              "      <td>?</td>\n",
              "      <td>?</td>\n",
              "      <td>1</td>\n",
              "      <td>None</td>\n",
              "      <td>None</td>\n",
              "      <td>No</td>\n",
              "      <td>No</td>\n",
              "      <td>No</td>\n",
              "      <td>No</td>\n",
              "      <td>No</td>\n",
              "      <td>No</td>\n",
              "      <td>No</td>\n",
              "      <td>No</td>\n",
              "      <td>No</td>\n",
              "      <td>No</td>\n",
              "      <td>No</td>\n",
              "      <td>No</td>\n",
              "      <td>No</td>\n",
              "      <td>No</td>\n",
              "      <td>No</td>\n",
              "      <td>No</td>\n",
              "      <td>No</td>\n",
              "      <td>No</td>\n",
              "      <td>No</td>\n",
              "      <td>No</td>\n",
              "      <td>No</td>\n",
              "      <td>No</td>\n",
              "      <td>No</td>\n",
              "      <td>No</td>\n",
              "      <td>No</td>\n",
              "      <td>NO</td>\n",
              "    </tr>\n",
              "    <tr>\n",
              "      <th>1</th>\n",
              "      <td>149190</td>\n",
              "      <td>55629189</td>\n",
              "      <td>Caucasian</td>\n",
              "      <td>Female</td>\n",
              "      <td>[10-20)</td>\n",
              "      <td>?</td>\n",
              "      <td>1</td>\n",
              "      <td>1</td>\n",
              "      <td>7</td>\n",
              "      <td>3</td>\n",
              "      <td>?</td>\n",
              "      <td>?</td>\n",
              "      <td>59</td>\n",
              "      <td>0</td>\n",
              "      <td>18</td>\n",
              "      <td>0</td>\n",
              "      <td>0</td>\n",
              "      <td>0</td>\n",
              "      <td>276</td>\n",
              "      <td>250.01</td>\n",
              "      <td>255</td>\n",
              "      <td>9</td>\n",
              "      <td>None</td>\n",
              "      <td>None</td>\n",
              "      <td>No</td>\n",
              "      <td>No</td>\n",
              "      <td>No</td>\n",
              "      <td>No</td>\n",
              "      <td>No</td>\n",
              "      <td>No</td>\n",
              "      <td>No</td>\n",
              "      <td>No</td>\n",
              "      <td>No</td>\n",
              "      <td>No</td>\n",
              "      <td>No</td>\n",
              "      <td>No</td>\n",
              "      <td>No</td>\n",
              "      <td>No</td>\n",
              "      <td>No</td>\n",
              "      <td>No</td>\n",
              "      <td>No</td>\n",
              "      <td>Up</td>\n",
              "      <td>No</td>\n",
              "      <td>No</td>\n",
              "      <td>No</td>\n",
              "      <td>No</td>\n",
              "      <td>No</td>\n",
              "      <td>Ch</td>\n",
              "      <td>Yes</td>\n",
              "      <td>&gt;30</td>\n",
              "    </tr>\n",
              "    <tr>\n",
              "      <th>2</th>\n",
              "      <td>64410</td>\n",
              "      <td>86047875</td>\n",
              "      <td>AfricanAmerican</td>\n",
              "      <td>Female</td>\n",
              "      <td>[20-30)</td>\n",
              "      <td>?</td>\n",
              "      <td>1</td>\n",
              "      <td>1</td>\n",
              "      <td>7</td>\n",
              "      <td>2</td>\n",
              "      <td>?</td>\n",
              "      <td>?</td>\n",
              "      <td>11</td>\n",
              "      <td>5</td>\n",
              "      <td>13</td>\n",
              "      <td>2</td>\n",
              "      <td>0</td>\n",
              "      <td>1</td>\n",
              "      <td>648</td>\n",
              "      <td>250</td>\n",
              "      <td>V27</td>\n",
              "      <td>6</td>\n",
              "      <td>None</td>\n",
              "      <td>None</td>\n",
              "      <td>No</td>\n",
              "      <td>No</td>\n",
              "      <td>No</td>\n",
              "      <td>No</td>\n",
              "      <td>No</td>\n",
              "      <td>No</td>\n",
              "      <td>Steady</td>\n",
              "      <td>No</td>\n",
              "      <td>No</td>\n",
              "      <td>No</td>\n",
              "      <td>No</td>\n",
              "      <td>No</td>\n",
              "      <td>No</td>\n",
              "      <td>No</td>\n",
              "      <td>No</td>\n",
              "      <td>No</td>\n",
              "      <td>No</td>\n",
              "      <td>No</td>\n",
              "      <td>No</td>\n",
              "      <td>No</td>\n",
              "      <td>No</td>\n",
              "      <td>No</td>\n",
              "      <td>No</td>\n",
              "      <td>No</td>\n",
              "      <td>Yes</td>\n",
              "      <td>NO</td>\n",
              "    </tr>\n",
              "    <tr>\n",
              "      <th>3</th>\n",
              "      <td>500364</td>\n",
              "      <td>82442376</td>\n",
              "      <td>Caucasian</td>\n",
              "      <td>Male</td>\n",
              "      <td>[30-40)</td>\n",
              "      <td>?</td>\n",
              "      <td>1</td>\n",
              "      <td>1</td>\n",
              "      <td>7</td>\n",
              "      <td>2</td>\n",
              "      <td>?</td>\n",
              "      <td>?</td>\n",
              "      <td>44</td>\n",
              "      <td>1</td>\n",
              "      <td>16</td>\n",
              "      <td>0</td>\n",
              "      <td>0</td>\n",
              "      <td>0</td>\n",
              "      <td>8</td>\n",
              "      <td>250.43</td>\n",
              "      <td>403</td>\n",
              "      <td>7</td>\n",
              "      <td>None</td>\n",
              "      <td>None</td>\n",
              "      <td>No</td>\n",
              "      <td>No</td>\n",
              "      <td>No</td>\n",
              "      <td>No</td>\n",
              "      <td>No</td>\n",
              "      <td>No</td>\n",
              "      <td>No</td>\n",
              "      <td>No</td>\n",
              "      <td>No</td>\n",
              "      <td>No</td>\n",
              "      <td>No</td>\n",
              "      <td>No</td>\n",
              "      <td>No</td>\n",
              "      <td>No</td>\n",
              "      <td>No</td>\n",
              "      <td>No</td>\n",
              "      <td>No</td>\n",
              "      <td>Up</td>\n",
              "      <td>No</td>\n",
              "      <td>No</td>\n",
              "      <td>No</td>\n",
              "      <td>No</td>\n",
              "      <td>No</td>\n",
              "      <td>Ch</td>\n",
              "      <td>Yes</td>\n",
              "      <td>NO</td>\n",
              "    </tr>\n",
              "    <tr>\n",
              "      <th>4</th>\n",
              "      <td>16680</td>\n",
              "      <td>42519267</td>\n",
              "      <td>Caucasian</td>\n",
              "      <td>Male</td>\n",
              "      <td>[40-50)</td>\n",
              "      <td>?</td>\n",
              "      <td>1</td>\n",
              "      <td>1</td>\n",
              "      <td>7</td>\n",
              "      <td>1</td>\n",
              "      <td>?</td>\n",
              "      <td>?</td>\n",
              "      <td>51</td>\n",
              "      <td>0</td>\n",
              "      <td>8</td>\n",
              "      <td>0</td>\n",
              "      <td>0</td>\n",
              "      <td>0</td>\n",
              "      <td>197</td>\n",
              "      <td>157</td>\n",
              "      <td>250</td>\n",
              "      <td>5</td>\n",
              "      <td>None</td>\n",
              "      <td>None</td>\n",
              "      <td>No</td>\n",
              "      <td>No</td>\n",
              "      <td>No</td>\n",
              "      <td>No</td>\n",
              "      <td>No</td>\n",
              "      <td>No</td>\n",
              "      <td>Steady</td>\n",
              "      <td>No</td>\n",
              "      <td>No</td>\n",
              "      <td>No</td>\n",
              "      <td>No</td>\n",
              "      <td>No</td>\n",
              "      <td>No</td>\n",
              "      <td>No</td>\n",
              "      <td>No</td>\n",
              "      <td>No</td>\n",
              "      <td>No</td>\n",
              "      <td>Steady</td>\n",
              "      <td>No</td>\n",
              "      <td>No</td>\n",
              "      <td>No</td>\n",
              "      <td>No</td>\n",
              "      <td>No</td>\n",
              "      <td>Ch</td>\n",
              "      <td>Yes</td>\n",
              "      <td>NO</td>\n",
              "    </tr>\n",
              "  </tbody>\n",
              "</table>\n",
              "</div>"
            ],
            "text/plain": [
              "   encounter_id  patient_nbr             race  ... change diabetesMed readmitted\n",
              "0       2278392      8222157        Caucasian  ...     No          No         NO\n",
              "1        149190     55629189        Caucasian  ...     Ch         Yes        >30\n",
              "2         64410     86047875  AfricanAmerican  ...     No         Yes         NO\n",
              "3        500364     82442376        Caucasian  ...     Ch         Yes         NO\n",
              "4         16680     42519267        Caucasian  ...     Ch         Yes         NO\n",
              "\n",
              "[5 rows x 50 columns]"
            ]
          },
          "metadata": {
            "tags": []
          },
          "execution_count": 3
        }
      ]
    },
    {
      "cell_type": "code",
      "metadata": {
        "id": "jP1r4ZHaGx4W",
        "colab_type": "code",
        "outputId": "64490cb1-24ab-4dfd-bc2b-f7f71683b97c",
        "colab": {
          "base_uri": "https://localhost:8080/",
          "height": 986
        }
      },
      "source": [
        "#Displaying the info about the dataset\n",
        "dataset.info()"
      ],
      "execution_count": 4,
      "outputs": [
        {
          "output_type": "stream",
          "text": [
            "<class 'pandas.core.frame.DataFrame'>\n",
            "RangeIndex: 101766 entries, 0 to 101765\n",
            "Data columns (total 50 columns):\n",
            " #   Column                    Non-Null Count   Dtype \n",
            "---  ------                    --------------   ----- \n",
            " 0   encounter_id              101766 non-null  int64 \n",
            " 1   patient_nbr               101766 non-null  int64 \n",
            " 2   race                      101766 non-null  object\n",
            " 3   gender                    101766 non-null  object\n",
            " 4   age                       101766 non-null  object\n",
            " 5   weight                    101766 non-null  object\n",
            " 6   admission_type_id         101766 non-null  int64 \n",
            " 7   discharge_disposition_id  101766 non-null  int64 \n",
            " 8   admission_source_id       101766 non-null  int64 \n",
            " 9   time_in_hospital          101766 non-null  int64 \n",
            " 10  payer_code                101766 non-null  object\n",
            " 11  medical_specialty         101766 non-null  object\n",
            " 12  num_lab_procedures        101766 non-null  int64 \n",
            " 13  num_procedures            101766 non-null  int64 \n",
            " 14  num_medications           101766 non-null  int64 \n",
            " 15  number_outpatient         101766 non-null  int64 \n",
            " 16  number_emergency          101766 non-null  int64 \n",
            " 17  number_inpatient          101766 non-null  int64 \n",
            " 18  diag_1                    101766 non-null  object\n",
            " 19  diag_2                    101766 non-null  object\n",
            " 20  diag_3                    101766 non-null  object\n",
            " 21  number_diagnoses          101766 non-null  int64 \n",
            " 22  max_glu_serum             101766 non-null  object\n",
            " 23  A1Cresult                 101766 non-null  object\n",
            " 24  metformin                 101766 non-null  object\n",
            " 25  repaglinide               101766 non-null  object\n",
            " 26  nateglinide               101766 non-null  object\n",
            " 27  chlorpropamide            101766 non-null  object\n",
            " 28  glimepiride               101766 non-null  object\n",
            " 29  acetohexamide             101766 non-null  object\n",
            " 30  glipizide                 101766 non-null  object\n",
            " 31  glyburide                 101766 non-null  object\n",
            " 32  tolbutamide               101766 non-null  object\n",
            " 33  pioglitazone              101766 non-null  object\n",
            " 34  rosiglitazone             101766 non-null  object\n",
            " 35  acarbose                  101766 non-null  object\n",
            " 36  miglitol                  101766 non-null  object\n",
            " 37  troglitazone              101766 non-null  object\n",
            " 38  tolazamide                101766 non-null  object\n",
            " 39  examide                   101766 non-null  object\n",
            " 40  citoglipton               101766 non-null  object\n",
            " 41  insulin                   101766 non-null  object\n",
            " 42  glyburide-metformin       101766 non-null  object\n",
            " 43  glipizide-metformin       101766 non-null  object\n",
            " 44  glimepiride-pioglitazone  101766 non-null  object\n",
            " 45  metformin-rosiglitazone   101766 non-null  object\n",
            " 46  metformin-pioglitazone    101766 non-null  object\n",
            " 47  change                    101766 non-null  object\n",
            " 48  diabetesMed               101766 non-null  object\n",
            " 49  readmitted                101766 non-null  object\n",
            "dtypes: int64(13), object(37)\n",
            "memory usage: 38.8+ MB\n"
          ],
          "name": "stdout"
        }
      ]
    },
    {
      "cell_type": "markdown",
      "metadata": {
        "id": "qc_ZTlX6DR-e",
        "colab_type": "text"
      },
      "source": [
        "# 3. Preprocessing"
      ]
    },
    {
      "cell_type": "code",
      "metadata": {
        "id": "P8XhjFNr3ctQ",
        "colab_type": "code",
        "colab": {}
      },
      "source": [
        "#Selecting target values\n",
        "y = dataset[\"readmitted\"]"
      ],
      "execution_count": 0,
      "outputs": []
    },
    {
      "cell_type": "code",
      "metadata": {
        "id": "9JPHEUPK-VJV",
        "colab_type": "code",
        "outputId": "91b702cc-76e6-4d68-9989-11c22acf7b6a",
        "colab": {
          "base_uri": "https://localhost:8080/",
          "height": 289
        }
      },
      "source": [
        "#Printing the target values\n",
        "y.head(n=15)"
      ],
      "execution_count": 6,
      "outputs": [
        {
          "output_type": "execute_result",
          "data": {
            "text/plain": [
              "0      NO\n",
              "1     >30\n",
              "2      NO\n",
              "3      NO\n",
              "4      NO\n",
              "5     >30\n",
              "6      NO\n",
              "7     >30\n",
              "8      NO\n",
              "9      NO\n",
              "10    >30\n",
              "11    <30\n",
              "12    <30\n",
              "13     NO\n",
              "14    >30\n",
              "Name: readmitted, dtype: object"
            ]
          },
          "metadata": {
            "tags": []
          },
          "execution_count": 6
        }
      ]
    },
    {
      "cell_type": "code",
      "metadata": {
        "id": "mXZSTPfOYQ3D",
        "colab_type": "code",
        "colab": {}
      },
      "source": [
        "#Performing label encoding \n",
        "y.replace(\"NO\",0,inplace=True)"
      ],
      "execution_count": 0,
      "outputs": []
    },
    {
      "cell_type": "code",
      "metadata": {
        "id": "PpKJbgqTYoQx",
        "colab_type": "code",
        "outputId": "5edff9d1-f4bc-42bb-d9be-d445f88fe542",
        "colab": {
          "base_uri": "https://localhost:8080/",
          "height": 289
        }
      },
      "source": [
        "#Showing the results of label encoding\n",
        "y.head(n=15)"
      ],
      "execution_count": 8,
      "outputs": [
        {
          "output_type": "execute_result",
          "data": {
            "text/plain": [
              "0       0\n",
              "1     >30\n",
              "2       0\n",
              "3       0\n",
              "4       0\n",
              "5     >30\n",
              "6       0\n",
              "7     >30\n",
              "8       0\n",
              "9       0\n",
              "10    >30\n",
              "11    <30\n",
              "12    <30\n",
              "13      0\n",
              "14    >30\n",
              "Name: readmitted, dtype: object"
            ]
          },
          "metadata": {
            "tags": []
          },
          "execution_count": 8
        }
      ]
    },
    {
      "cell_type": "code",
      "metadata": {
        "id": "4orbLOYEbheQ",
        "colab_type": "code",
        "colab": {}
      },
      "source": [
        "#Performing label encoding\n",
        "y.replace([\"<30\",\">30\"],1,inplace=True)"
      ],
      "execution_count": 0,
      "outputs": []
    },
    {
      "cell_type": "code",
      "metadata": {
        "id": "jygVzMb8bhtc",
        "colab_type": "code",
        "outputId": "e458d561-810a-46c1-90f1-ec61ac73c1aa",
        "colab": {
          "base_uri": "https://localhost:8080/",
          "height": 289
        }
      },
      "source": [
        "#Showing the results of label encoding\n",
        "y.head(n=15)"
      ],
      "execution_count": 10,
      "outputs": [
        {
          "output_type": "execute_result",
          "data": {
            "text/plain": [
              "0     0\n",
              "1     1\n",
              "2     0\n",
              "3     0\n",
              "4     0\n",
              "5     1\n",
              "6     0\n",
              "7     1\n",
              "8     0\n",
              "9     0\n",
              "10    1\n",
              "11    1\n",
              "12    1\n",
              "13    0\n",
              "14    1\n",
              "Name: readmitted, dtype: int64"
            ]
          },
          "metadata": {
            "tags": []
          },
          "execution_count": 10
        }
      ]
    },
    {
      "cell_type": "markdown",
      "metadata": {
        "id": "lS6LiKBIMUzd",
        "colab_type": "text"
      },
      "source": [
        "# 4. Data Analysis"
      ]
    },
    {
      "cell_type": "code",
      "metadata": {
        "id": "2B2zUdmkqQ0V",
        "colab_type": "code",
        "outputId": "b21fd948-be3c-490e-b5c4-a5745e667228",
        "colab": {
          "base_uri": "https://localhost:8080/",
          "height": 398
        }
      },
      "source": [
        "#Plotting the target feature\n",
        "dataset[\"readmitted\"].replace(to_replace = {0:\"No readmitted\", 1:\"Readmitted\"}, value = None, inplace = True)\n",
        "dataset[\"readmitted\"].value_counts().plot(kind = \"bar\", color = \"green\", title = \"Readmitted vs No readmitted\", figsize = (5,5))\n",
        "dataset[\"readmitted\"].replace(to_replace = {\"No readmitted\":0, \"Readmitted\":1}, value = None, inplace = True)"
      ],
      "execution_count": 11,
      "outputs": [
        {
          "output_type": "display_data",
          "data": {
            "image/png": "[encoded data removed]",
            "text/plain": [
              "<Figure size 360x360 with 1 Axes>"
            ]
          },
          "metadata": {
            "tags": [],
            "needs_background": "light"
          }
        }
      ]
    },
    {
      "cell_type": "code",
      "metadata": {
        "id": "qi5FarybolJz",
        "colab_type": "code",
        "outputId": "aa61d1a0-dc58-40b3-cc41-2402db36572a",
        "colab": {
          "base_uri": "https://localhost:8080/",
          "height": 729
        }
      },
      "source": [
        "#Creating a figure\n",
        "fig, axes = plt.subplots(nrows = 2, ncols = 2, figsize = (10,10))\n",
        "\n",
        "#Plotting the race, gender, age and weight of the patients\n",
        "dataset[\"race\"].value_counts().plot(kind = \"bar\", color = \"brown\", title = \"Race of the patients\", ax = axes[0,0])\n",
        "dataset[\"gender\"].value_counts().plot(kind = \"bar\", color = \"brown\", title = \"Gender of the patients\", ax = axes[0,1])\n",
        "dataset[\"age\"].value_counts().plot(kind = \"bar\", color = \"brown\", title = \"Age of the patients\", ax = axes[1,0])\n",
        "dataset[\"weight\"].value_counts().plot(kind = \"bar\", color = \"brown\", title = \"Weight of the patients\", ax = axes[1,1])\n",
        "\n",
        "#Managing the aestethic layout\n",
        "fig.tight_layout()"
      ],
      "execution_count": 12,
      "outputs": [
        {
          "output_type": "display_data",
          "data": {
            "image/png": "[encoded data removed]",
            "text/plain": [
              "<Figure size 720x720 with 4 Axes>"
            ]
          },
          "metadata": {
            "tags": [],
            "needs_background": "light"
          }
        }
      ]
    },
    {
      "cell_type": "code",
      "metadata": {
        "id": "DuKCE-A59vef",
        "colab_type": "code",
        "outputId": "bb186f6c-2ae0-4256-ef13-19517c89eceb",
        "colab": {
          "base_uri": "https://localhost:8080/",
          "height": 729
        }
      },
      "source": [
        "#Creating a figure\n",
        "fig, axes = plt.subplots(nrows = 2, ncols = 2, figsize = (10,10))\n",
        "\n",
        "#Plotting the number of medications, the number of laboratory procedures, the number of internal procedures and the time in hospital of the patients\n",
        "dataset[\"num_medications\"].plot(kind = \"hist\", color = \"yellow\", title = \"Number of medications\", ax = axes[0,0])\n",
        "dataset[\"num_lab_procedures\"].plot(kind = \"hist\", color = \"yellow\", title = \"Number of lab procedures\", ax = axes[0,1])\n",
        "dataset[\"num_procedures\"].value_counts().plot(kind = \"bar\", color = \"yellow\", title = \"Number of procedures in patients\", ax = axes[1,0])\n",
        "dataset[\"time_in_hospital\"].plot(kind = \"hist\", color = \"yellow\", title = \"Time in hospital (in days)\", ax = axes[1,1])\n",
        "\n",
        "#Managing the aestethic layout\n",
        "fig.tight_layout()"
      ],
      "execution_count": 13,
      "outputs": [
        {
          "output_type": "display_data",
          "data": {
            "image/png": "[encoded data removed]",
            "text/plain": [
              "<Figure size 720x720 with 4 Axes>"
            ]
          },
          "metadata": {
            "tags": [],
            "needs_background": "light"
          }
        }
      ]
    },
    {
      "cell_type": "markdown",
      "metadata": {
        "id": "wiWYTJZIDc5D",
        "colab_type": "text"
      },
      "source": [
        "# 5. Modeling"
      ]
    },
    {
      "cell_type": "markdown",
      "metadata": {
        "id": "jm-GwXRzpe-E",
        "colab_type": "text"
      },
      "source": [
        "#5.0 One-Hot Encoding"
      ]
    },
    {
      "cell_type": "code",
      "metadata": {
        "id": "uYmd8XRZ5z1W",
        "colab_type": "code",
        "colab": {}
      },
      "source": [
        "#Storing the dataset in a local variable\n",
        "X = dataset[[\"encounter_id\", \"patient_nbr\", \"race\", \"gender\", \"age\", \"weight\", \"admission_type_id\", \"discharge_disposition_id\", \"admission_source_id\", \"time_in_hospital\",            \n",
        "\"payer_code\", \"medical_specialty\", \"num_lab_procedures\", \"num_procedures\", \"num_medications\", \"number_outpatient\", \"number_emergency\", \"number_inpatient\",            \n",
        "\"diag_1\", \"diag_2\", \"diag_3\", \"number_diagnoses\", \"max_glu_serum\", \"A1Cresult\", \"metformin\", \"repaglinide\", \"nateglinide\", \"chlorpropamide\", \"glimepiride\",                 \n",
        "\"acetohexamide\", \"glipizide\", \"glyburide\", \"tolbutamide\", \"pioglitazone\", \"rosiglitazone\", \"acarbose\", \"miglitol\", \"troglitazone\", \"tolazamide\", \"examide\",                     \n",
        "\"citoglipton\", \"insulin\", \"glyburide-metformin\", \"glipizide-metformin\", \"glimepiride-pioglitazone\", \"metformin-rosiglitazone\", \"metformin-pioglitazone\",      \n",
        "\"change\", \"diabetesMed\"]] "
      ],
      "execution_count": 0,
      "outputs": []
    },
    {
      "cell_type": "code",
      "metadata": {
        "id": "KOj8X1pTJPj2",
        "colab_type": "code",
        "colab": {}
      },
      "source": [
        "#Performing One-Hot-Encoding\n",
        "X = pd.get_dummies(X[[\"encounter_id\", \"patient_nbr\", \"race\", \"gender\", \"age\", \"weight\", \"admission_type_id\", \"discharge_disposition_id\", \"admission_source_id\", \"time_in_hospital\",            \n",
        "\"payer_code\", \"medical_specialty\", \"num_lab_procedures\", \"num_procedures\", \"num_medications\", \"number_outpatient\", \"number_emergency\", \"number_inpatient\",            \n",
        "\"diag_1\", \"diag_2\", \"diag_3\", \"number_diagnoses\", \"max_glu_serum\", \"A1Cresult\", \"metformin\", \"repaglinide\", \"nateglinide\", \"chlorpropamide\", \"glimepiride\",                 \n",
        "\"acetohexamide\", \"glipizide\", \"glyburide\", \"tolbutamide\", \"pioglitazone\", \"rosiglitazone\", \"acarbose\", \"miglitol\", \"troglitazone\", \"tolazamide\", \"examide\",                     \n",
        "\"citoglipton\", \"insulin\", \"glyburide-metformin\", \"glipizide-metformin\", \"glimepiride-pioglitazone\", \"metformin-rosiglitazone\", \"metformin-pioglitazone\",      \n",
        "\"change\", \"diabetesMed\"]])"
      ],
      "execution_count": 0,
      "outputs": []
    },
    {
      "cell_type": "code",
      "metadata": {
        "id": "eFjMna7Y2jYt",
        "colab_type": "code",
        "outputId": "0ece858c-1bfc-4359-80d2-6e77725d950b",
        "colab": {
          "base_uri": "https://localhost:8080/",
          "height": 270
        }
      },
      "source": [
        "#Showing the results of One-Hot-Encoding\n",
        "X.head()"
      ],
      "execution_count": 16,
      "outputs": [
        {
          "output_type": "execute_result",
          "data": {
            "text/html": [
              "<div>\n",
              "<style scoped>\n",
              "    .dataframe tbody tr th:only-of-type {\n",
              "        vertical-align: middle;\n",
              "    }\n",
              "\n",
              "    .dataframe tbody tr th {\n",
              "        vertical-align: top;\n",
              "    }\n",
              "\n",
              "    .dataframe thead th {\n",
              "        text-align: right;\n",
              "    }\n",
              "</style>\n",
              "<table border=\"1\" class=\"dataframe\">\n",
              "  <thead>\n",
              "    <tr style=\"text-align: right;\">\n",
              "      <th></th>\n",
              "      <th>encounter_id</th>\n",
              "      <th>patient_nbr</th>\n",
              "      <th>admission_type_id</th>\n",
              "      <th>discharge_disposition_id</th>\n",
              "      <th>admission_source_id</th>\n",
              "      <th>time_in_hospital</th>\n",
              "      <th>num_lab_procedures</th>\n",
              "      <th>num_procedures</th>\n",
              "      <th>num_medications</th>\n",
              "      <th>number_outpatient</th>\n",
              "      <th>number_emergency</th>\n",
              "      <th>number_inpatient</th>\n",
              "      <th>number_diagnoses</th>\n",
              "      <th>race_?</th>\n",
              "      <th>race_AfricanAmerican</th>\n",
              "      <th>race_Asian</th>\n",
              "      <th>race_Caucasian</th>\n",
              "      <th>race_Hispanic</th>\n",
              "      <th>race_Other</th>\n",
              "      <th>gender_Female</th>\n",
              "      <th>gender_Male</th>\n",
              "      <th>gender_Unknown/Invalid</th>\n",
              "      <th>age_[0-10)</th>\n",
              "      <th>age_[10-20)</th>\n",
              "      <th>age_[20-30)</th>\n",
              "      <th>age_[30-40)</th>\n",
              "      <th>age_[40-50)</th>\n",
              "      <th>age_[50-60)</th>\n",
              "      <th>age_[60-70)</th>\n",
              "      <th>age_[70-80)</th>\n",
              "      <th>age_[80-90)</th>\n",
              "      <th>age_[90-100)</th>\n",
              "      <th>weight_&gt;200</th>\n",
              "      <th>weight_?</th>\n",
              "      <th>weight_[0-25)</th>\n",
              "      <th>weight_[100-125)</th>\n",
              "      <th>weight_[125-150)</th>\n",
              "      <th>weight_[150-175)</th>\n",
              "      <th>weight_[175-200)</th>\n",
              "      <th>weight_[25-50)</th>\n",
              "      <th>...</th>\n",
              "      <th>pioglitazone_Up</th>\n",
              "      <th>rosiglitazone_Down</th>\n",
              "      <th>rosiglitazone_No</th>\n",
              "      <th>rosiglitazone_Steady</th>\n",
              "      <th>rosiglitazone_Up</th>\n",
              "      <th>acarbose_Down</th>\n",
              "      <th>acarbose_No</th>\n",
              "      <th>acarbose_Steady</th>\n",
              "      <th>acarbose_Up</th>\n",
              "      <th>miglitol_Down</th>\n",
              "      <th>miglitol_No</th>\n",
              "      <th>miglitol_Steady</th>\n",
              "      <th>miglitol_Up</th>\n",
              "      <th>troglitazone_No</th>\n",
              "      <th>troglitazone_Steady</th>\n",
              "      <th>tolazamide_No</th>\n",
              "      <th>tolazamide_Steady</th>\n",
              "      <th>tolazamide_Up</th>\n",
              "      <th>examide_No</th>\n",
              "      <th>citoglipton_No</th>\n",
              "      <th>insulin_Down</th>\n",
              "      <th>insulin_No</th>\n",
              "      <th>insulin_Steady</th>\n",
              "      <th>insulin_Up</th>\n",
              "      <th>glyburide-metformin_Down</th>\n",
              "      <th>glyburide-metformin_No</th>\n",
              "      <th>glyburide-metformin_Steady</th>\n",
              "      <th>glyburide-metformin_Up</th>\n",
              "      <th>glipizide-metformin_No</th>\n",
              "      <th>glipizide-metformin_Steady</th>\n",
              "      <th>glimepiride-pioglitazone_No</th>\n",
              "      <th>glimepiride-pioglitazone_Steady</th>\n",
              "      <th>metformin-rosiglitazone_No</th>\n",
              "      <th>metformin-rosiglitazone_Steady</th>\n",
              "      <th>metformin-pioglitazone_No</th>\n",
              "      <th>metformin-pioglitazone_Steady</th>\n",
              "      <th>change_Ch</th>\n",
              "      <th>change_No</th>\n",
              "      <th>diabetesMed_No</th>\n",
              "      <th>diabetesMed_Yes</th>\n",
              "    </tr>\n",
              "  </thead>\n",
              "  <tbody>\n",
              "    <tr>\n",
              "      <th>0</th>\n",
              "      <td>2278392</td>\n",
              "      <td>8222157</td>\n",
              "      <td>6</td>\n",
              "      <td>25</td>\n",
              "      <td>1</td>\n",
              "      <td>1</td>\n",
              "      <td>41</td>\n",
              "      <td>0</td>\n",
              "      <td>1</td>\n",
              "      <td>0</td>\n",
              "      <td>0</td>\n",
              "      <td>0</td>\n",
              "      <td>1</td>\n",
              "      <td>0</td>\n",
              "      <td>0</td>\n",
              "      <td>0</td>\n",
              "      <td>1</td>\n",
              "      <td>0</td>\n",
              "      <td>0</td>\n",
              "      <td>1</td>\n",
              "      <td>0</td>\n",
              "      <td>0</td>\n",
              "      <td>1</td>\n",
              "      <td>0</td>\n",
              "      <td>0</td>\n",
              "      <td>0</td>\n",
              "      <td>0</td>\n",
              "      <td>0</td>\n",
              "      <td>0</td>\n",
              "      <td>0</td>\n",
              "      <td>0</td>\n",
              "      <td>0</td>\n",
              "      <td>0</td>\n",
              "      <td>1</td>\n",
              "      <td>0</td>\n",
              "      <td>0</td>\n",
              "      <td>0</td>\n",
              "      <td>0</td>\n",
              "      <td>0</td>\n",
              "      <td>0</td>\n",
              "      <td>...</td>\n",
              "      <td>0</td>\n",
              "      <td>0</td>\n",
              "      <td>1</td>\n",
              "      <td>0</td>\n",
              "      <td>0</td>\n",
              "      <td>0</td>\n",
              "      <td>1</td>\n",
              "      <td>0</td>\n",
              "      <td>0</td>\n",
              "      <td>0</td>\n",
              "      <td>1</td>\n",
              "      <td>0</td>\n",
              "      <td>0</td>\n",
              "      <td>1</td>\n",
              "      <td>0</td>\n",
              "      <td>1</td>\n",
              "      <td>0</td>\n",
              "      <td>0</td>\n",
              "      <td>1</td>\n",
              "      <td>1</td>\n",
              "      <td>0</td>\n",
              "      <td>1</td>\n",
              "      <td>0</td>\n",
              "      <td>0</td>\n",
              "      <td>0</td>\n",
              "      <td>1</td>\n",
              "      <td>0</td>\n",
              "      <td>0</td>\n",
              "      <td>1</td>\n",
              "      <td>0</td>\n",
              "      <td>1</td>\n",
              "      <td>0</td>\n",
              "      <td>1</td>\n",
              "      <td>0</td>\n",
              "      <td>1</td>\n",
              "      <td>0</td>\n",
              "      <td>0</td>\n",
              "      <td>1</td>\n",
              "      <td>1</td>\n",
              "      <td>0</td>\n",
              "    </tr>\n",
              "    <tr>\n",
              "      <th>1</th>\n",
              "      <td>149190</td>\n",
              "      <td>55629189</td>\n",
              "      <td>1</td>\n",
              "      <td>1</td>\n",
              "      <td>7</td>\n",
              "      <td>3</td>\n",
              "      <td>59</td>\n",
              "      <td>0</td>\n",
              "      <td>18</td>\n",
              "      <td>0</td>\n",
              "      <td>0</td>\n",
              "      <td>0</td>\n",
              "      <td>9</td>\n",
              "      <td>0</td>\n",
              "      <td>0</td>\n",
              "      <td>0</td>\n",
              "      <td>1</td>\n",
              "      <td>0</td>\n",
              "      <td>0</td>\n",
              "      <td>1</td>\n",
              "      <td>0</td>\n",
              "      <td>0</td>\n",
              "      <td>0</td>\n",
              "      <td>1</td>\n",
              "      <td>0</td>\n",
              "      <td>0</td>\n",
              "      <td>0</td>\n",
              "      <td>0</td>\n",
              "      <td>0</td>\n",
              "      <td>0</td>\n",
              "      <td>0</td>\n",
              "      <td>0</td>\n",
              "      <td>0</td>\n",
              "      <td>1</td>\n",
              "      <td>0</td>\n",
              "      <td>0</td>\n",
              "      <td>0</td>\n",
              "      <td>0</td>\n",
              "      <td>0</td>\n",
              "      <td>0</td>\n",
              "      <td>...</td>\n",
              "      <td>0</td>\n",
              "      <td>0</td>\n",
              "      <td>1</td>\n",
              "      <td>0</td>\n",
              "      <td>0</td>\n",
              "      <td>0</td>\n",
              "      <td>1</td>\n",
              "      <td>0</td>\n",
              "      <td>0</td>\n",
              "      <td>0</td>\n",
              "      <td>1</td>\n",
              "      <td>0</td>\n",
              "      <td>0</td>\n",
              "      <td>1</td>\n",
              "      <td>0</td>\n",
              "      <td>1</td>\n",
              "      <td>0</td>\n",
              "      <td>0</td>\n",
              "      <td>1</td>\n",
              "      <td>1</td>\n",
              "      <td>0</td>\n",
              "      <td>0</td>\n",
              "      <td>0</td>\n",
              "      <td>1</td>\n",
              "      <td>0</td>\n",
              "      <td>1</td>\n",
              "      <td>0</td>\n",
              "      <td>0</td>\n",
              "      <td>1</td>\n",
              "      <td>0</td>\n",
              "      <td>1</td>\n",
              "      <td>0</td>\n",
              "      <td>1</td>\n",
              "      <td>0</td>\n",
              "      <td>1</td>\n",
              "      <td>0</td>\n",
              "      <td>1</td>\n",
              "      <td>0</td>\n",
              "      <td>0</td>\n",
              "      <td>1</td>\n",
              "    </tr>\n",
              "    <tr>\n",
              "      <th>2</th>\n",
              "      <td>64410</td>\n",
              "      <td>86047875</td>\n",
              "      <td>1</td>\n",
              "      <td>1</td>\n",
              "      <td>7</td>\n",
              "      <td>2</td>\n",
              "      <td>11</td>\n",
              "      <td>5</td>\n",
              "      <td>13</td>\n",
              "      <td>2</td>\n",
              "      <td>0</td>\n",
              "      <td>1</td>\n",
              "      <td>6</td>\n",
              "      <td>0</td>\n",
              "      <td>1</td>\n",
              "      <td>0</td>\n",
              "      <td>0</td>\n",
              "      <td>0</td>\n",
              "      <td>0</td>\n",
              "      <td>1</td>\n",
              "      <td>0</td>\n",
              "      <td>0</td>\n",
              "      <td>0</td>\n",
              "      <td>0</td>\n",
              "      <td>1</td>\n",
              "      <td>0</td>\n",
              "      <td>0</td>\n",
              "      <td>0</td>\n",
              "      <td>0</td>\n",
              "      <td>0</td>\n",
              "      <td>0</td>\n",
              "      <td>0</td>\n",
              "      <td>0</td>\n",
              "      <td>1</td>\n",
              "      <td>0</td>\n",
              "      <td>0</td>\n",
              "      <td>0</td>\n",
              "      <td>0</td>\n",
              "      <td>0</td>\n",
              "      <td>0</td>\n",
              "      <td>...</td>\n",
              "      <td>0</td>\n",
              "      <td>0</td>\n",
              "      <td>1</td>\n",
              "      <td>0</td>\n",
              "      <td>0</td>\n",
              "      <td>0</td>\n",
              "      <td>1</td>\n",
              "      <td>0</td>\n",
              "      <td>0</td>\n",
              "      <td>0</td>\n",
              "      <td>1</td>\n",
              "      <td>0</td>\n",
              "      <td>0</td>\n",
              "      <td>1</td>\n",
              "      <td>0</td>\n",
              "      <td>1</td>\n",
              "      <td>0</td>\n",
              "      <td>0</td>\n",
              "      <td>1</td>\n",
              "      <td>1</td>\n",
              "      <td>0</td>\n",
              "      <td>1</td>\n",
              "      <td>0</td>\n",
              "      <td>0</td>\n",
              "      <td>0</td>\n",
              "      <td>1</td>\n",
              "      <td>0</td>\n",
              "      <td>0</td>\n",
              "      <td>1</td>\n",
              "      <td>0</td>\n",
              "      <td>1</td>\n",
              "      <td>0</td>\n",
              "      <td>1</td>\n",
              "      <td>0</td>\n",
              "      <td>1</td>\n",
              "      <td>0</td>\n",
              "      <td>0</td>\n",
              "      <td>1</td>\n",
              "      <td>0</td>\n",
              "      <td>1</td>\n",
              "    </tr>\n",
              "    <tr>\n",
              "      <th>3</th>\n",
              "      <td>500364</td>\n",
              "      <td>82442376</td>\n",
              "      <td>1</td>\n",
              "      <td>1</td>\n",
              "      <td>7</td>\n",
              "      <td>2</td>\n",
              "      <td>44</td>\n",
              "      <td>1</td>\n",
              "      <td>16</td>\n",
              "      <td>0</td>\n",
              "      <td>0</td>\n",
              "      <td>0</td>\n",
              "      <td>7</td>\n",
              "      <td>0</td>\n",
              "      <td>0</td>\n",
              "      <td>0</td>\n",
              "      <td>1</td>\n",
              "      <td>0</td>\n",
              "      <td>0</td>\n",
              "      <td>0</td>\n",
              "      <td>1</td>\n",
              "      <td>0</td>\n",
              "      <td>0</td>\n",
              "      <td>0</td>\n",
              "      <td>0</td>\n",
              "      <td>1</td>\n",
              "      <td>0</td>\n",
              "      <td>0</td>\n",
              "      <td>0</td>\n",
              "      <td>0</td>\n",
              "      <td>0</td>\n",
              "      <td>0</td>\n",
              "      <td>0</td>\n",
              "      <td>1</td>\n",
              "      <td>0</td>\n",
              "      <td>0</td>\n",
              "      <td>0</td>\n",
              "      <td>0</td>\n",
              "      <td>0</td>\n",
              "      <td>0</td>\n",
              "      <td>...</td>\n",
              "      <td>0</td>\n",
              "      <td>0</td>\n",
              "      <td>1</td>\n",
              "      <td>0</td>\n",
              "      <td>0</td>\n",
              "      <td>0</td>\n",
              "      <td>1</td>\n",
              "      <td>0</td>\n",
              "      <td>0</td>\n",
              "      <td>0</td>\n",
              "      <td>1</td>\n",
              "      <td>0</td>\n",
              "      <td>0</td>\n",
              "      <td>1</td>\n",
              "      <td>0</td>\n",
              "      <td>1</td>\n",
              "      <td>0</td>\n",
              "      <td>0</td>\n",
              "      <td>1</td>\n",
              "      <td>1</td>\n",
              "      <td>0</td>\n",
              "      <td>0</td>\n",
              "      <td>0</td>\n",
              "      <td>1</td>\n",
              "      <td>0</td>\n",
              "      <td>1</td>\n",
              "      <td>0</td>\n",
              "      <td>0</td>\n",
              "      <td>1</td>\n",
              "      <td>0</td>\n",
              "      <td>1</td>\n",
              "      <td>0</td>\n",
              "      <td>1</td>\n",
              "      <td>0</td>\n",
              "      <td>1</td>\n",
              "      <td>0</td>\n",
              "      <td>1</td>\n",
              "      <td>0</td>\n",
              "      <td>0</td>\n",
              "      <td>1</td>\n",
              "    </tr>\n",
              "    <tr>\n",
              "      <th>4</th>\n",
              "      <td>16680</td>\n",
              "      <td>42519267</td>\n",
              "      <td>1</td>\n",
              "      <td>1</td>\n",
              "      <td>7</td>\n",
              "      <td>1</td>\n",
              "      <td>51</td>\n",
              "      <td>0</td>\n",
              "      <td>8</td>\n",
              "      <td>0</td>\n",
              "      <td>0</td>\n",
              "      <td>0</td>\n",
              "      <td>5</td>\n",
              "      <td>0</td>\n",
              "      <td>0</td>\n",
              "      <td>0</td>\n",
              "      <td>1</td>\n",
              "      <td>0</td>\n",
              "      <td>0</td>\n",
              "      <td>0</td>\n",
              "      <td>1</td>\n",
              "      <td>0</td>\n",
              "      <td>0</td>\n",
              "      <td>0</td>\n",
              "      <td>0</td>\n",
              "      <td>0</td>\n",
              "      <td>1</td>\n",
              "      <td>0</td>\n",
              "      <td>0</td>\n",
              "      <td>0</td>\n",
              "      <td>0</td>\n",
              "      <td>0</td>\n",
              "      <td>0</td>\n",
              "      <td>1</td>\n",
              "      <td>0</td>\n",
              "      <td>0</td>\n",
              "      <td>0</td>\n",
              "      <td>0</td>\n",
              "      <td>0</td>\n",
              "      <td>0</td>\n",
              "      <td>...</td>\n",
              "      <td>0</td>\n",
              "      <td>0</td>\n",
              "      <td>1</td>\n",
              "      <td>0</td>\n",
              "      <td>0</td>\n",
              "      <td>0</td>\n",
              "      <td>1</td>\n",
              "      <td>0</td>\n",
              "      <td>0</td>\n",
              "      <td>0</td>\n",
              "      <td>1</td>\n",
              "      <td>0</td>\n",
              "      <td>0</td>\n",
              "      <td>1</td>\n",
              "      <td>0</td>\n",
              "      <td>1</td>\n",
              "      <td>0</td>\n",
              "      <td>0</td>\n",
              "      <td>1</td>\n",
              "      <td>1</td>\n",
              "      <td>0</td>\n",
              "      <td>0</td>\n",
              "      <td>1</td>\n",
              "      <td>0</td>\n",
              "      <td>0</td>\n",
              "      <td>1</td>\n",
              "      <td>0</td>\n",
              "      <td>0</td>\n",
              "      <td>1</td>\n",
              "      <td>0</td>\n",
              "      <td>1</td>\n",
              "      <td>0</td>\n",
              "      <td>1</td>\n",
              "      <td>0</td>\n",
              "      <td>1</td>\n",
              "      <td>0</td>\n",
              "      <td>1</td>\n",
              "      <td>0</td>\n",
              "      <td>0</td>\n",
              "      <td>1</td>\n",
              "    </tr>\n",
              "  </tbody>\n",
              "</table>\n",
              "<p>5 rows × 2472 columns</p>\n",
              "</div>"
            ],
            "text/plain": [
              "   encounter_id  patient_nbr  ...  diabetesMed_No  diabetesMed_Yes\n",
              "0       2278392      8222157  ...               1                0\n",
              "1        149190     55629189  ...               0                1\n",
              "2         64410     86047875  ...               0                1\n",
              "3        500364     82442376  ...               0                1\n",
              "4         16680     42519267  ...               0                1\n",
              "\n",
              "[5 rows x 2472 columns]"
            ]
          },
          "metadata": {
            "tags": []
          },
          "execution_count": 16
        }
      ]
    },
    {
      "cell_type": "code",
      "metadata": {
        "id": "7WmLPbU4Pjh4",
        "colab_type": "code",
        "colab": {}
      },
      "source": [
        "#Splitting the dasatet\n",
        "X_train, X_test, y_train, y_test = train_test_split(X, y, test_size=0.25, stratify=y , random_state = 0)"
      ],
      "execution_count": 0,
      "outputs": []
    },
    {
      "cell_type": "markdown",
      "metadata": {
        "id": "ZdmK9e4ypqyM",
        "colab_type": "text"
      },
      "source": [
        "#5.1 Principal Component Analysis as preprocessing step"
      ]
    },
    {
      "cell_type": "code",
      "metadata": {
        "id": "Mo5v8CtAWSfM",
        "colab_type": "code",
        "colab": {}
      },
      "source": [
        "#Calling a PCA object\n",
        "pca = PCA(n_components = 2)"
      ],
      "execution_count": 0,
      "outputs": []
    },
    {
      "cell_type": "code",
      "metadata": {
        "id": "Su4GR7jhWWQ1",
        "colab_type": "code",
        "colab": {}
      },
      "source": [
        "#Transforming the training set according to the PCA dimensionality reduction\n",
        "X_train_pca = pca.fit_transform(X_train)\n",
        "\n",
        "#Transforming the test set according to the PCA dimensionality reduction\n",
        "X_test_pca = pca.fit_transform(X_test)\n"
      ],
      "execution_count": 0,
      "outputs": []
    },
    {
      "cell_type": "markdown",
      "metadata": {
        "id": "CuuA9uDnjnwW",
        "colab_type": "text"
      },
      "source": [
        "#5.2 K-Nearest Neighbors"
      ]
    },
    {
      "cell_type": "code",
      "metadata": {
        "id": "7ym81yQVxlcr",
        "colab_type": "code",
        "outputId": "14ffb492-a299-4075-fdf6-dc9db743fc30",
        "colab": {
          "base_uri": "https://localhost:8080/",
          "height": 68
        }
      },
      "source": [
        "#Using a K-Nearest model\n",
        "k_nearest = KNeighborsClassifier(n_neighbors = 10)\n",
        "\n",
        "#Fitting the model in the training data\n",
        "k_nearest.fit(X_train_pca, y_train)"
      ],
      "execution_count": 20,
      "outputs": [
        {
          "output_type": "execute_result",
          "data": {
            "text/plain": [
              "KNeighborsClassifier(algorithm='auto', leaf_size=30, metric='minkowski',\n",
              "                     metric_params=None, n_jobs=None, n_neighbors=10, p=2,\n",
              "                     weights='uniform')"
            ]
          },
          "metadata": {
            "tags": []
          },
          "execution_count": 20
        }
      ]
    },
    {
      "cell_type": "markdown",
      "metadata": {
        "id": "-3dBrUTzjtny",
        "colab_type": "text"
      },
      "source": [
        "#5.3 Bernoulli Naive Bayes"
      ]
    },
    {
      "cell_type": "code",
      "metadata": {
        "id": "CXJrOktSxfhM",
        "colab_type": "code",
        "outputId": "0bac5eb9-1d11-4ad6-a71e-828e26981081",
        "colab": {
          "base_uri": "https://localhost:8080/",
          "height": 34
        }
      },
      "source": [
        "#Using a Bernoulli Naive Bayes model\n",
        "naive_bayes_bernoulli = BernoulliNB(fit_prior = True)\n",
        "\n",
        "#Fitting the model in the training data\n",
        "naive_bayes_bernoulli.fit(X_train_pca, y_train)"
      ],
      "execution_count": 21,
      "outputs": [
        {
          "output_type": "execute_result",
          "data": {
            "text/plain": [
              "BernoulliNB(alpha=1.0, binarize=0.0, class_prior=None, fit_prior=True)"
            ]
          },
          "metadata": {
            "tags": []
          },
          "execution_count": 21
        }
      ]
    },
    {
      "cell_type": "markdown",
      "metadata": {
        "id": "cEJfP5UWjw1F",
        "colab_type": "text"
      },
      "source": [
        "#5.4 Gaussian Naive Bayes"
      ]
    },
    {
      "cell_type": "code",
      "metadata": {
        "id": "YOXRk4juYWow",
        "colab_type": "code",
        "outputId": "27bea3c5-6382-43db-a37d-c010f93bec9b",
        "colab": {
          "base_uri": "https://localhost:8080/",
          "height": 34
        }
      },
      "source": [
        "#Using a Gaussian Naive Bayes model\n",
        "naive_bayes_gaussian = GaussianNB()\n",
        "\n",
        "#Fitting the model in the training data\n",
        "naive_bayes_gaussian.fit(X_train_pca, y_train)"
      ],
      "execution_count": 22,
      "outputs": [
        {
          "output_type": "execute_result",
          "data": {
            "text/plain": [
              "GaussianNB(priors=None, var_smoothing=1e-09)"
            ]
          },
          "metadata": {
            "tags": []
          },
          "execution_count": 22
        }
      ]
    },
    {
      "cell_type": "markdown",
      "metadata": {
        "id": "woL745ZIjzQ8",
        "colab_type": "text"
      },
      "source": [
        "#5.5 Logistic Regression"
      ]
    },
    {
      "cell_type": "code",
      "metadata": {
        "id": "152fhoPxr13_",
        "colab_type": "code",
        "outputId": "4400a44b-cfd3-49b8-e819-669df9e6d8f9",
        "colab": {
          "base_uri": "https://localhost:8080/",
          "height": 102
        }
      },
      "source": [
        "#Using a Logistic Regression model\n",
        "logit = LogisticRegression(class_weight =\"balanced\")\n",
        "\n",
        "#Fitting the model in the training data\n",
        "logit.fit(X_train_pca, y_train)"
      ],
      "execution_count": 23,
      "outputs": [
        {
          "output_type": "execute_result",
          "data": {
            "text/plain": [
              "LogisticRegression(C=1.0, class_weight='balanced', dual=False,\n",
              "                   fit_intercept=True, intercept_scaling=1, l1_ratio=None,\n",
              "                   max_iter=100, multi_class='auto', n_jobs=None, penalty='l2',\n",
              "                   random_state=None, solver='lbfgs', tol=0.0001, verbose=0,\n",
              "                   warm_start=False)"
            ]
          },
          "metadata": {
            "tags": []
          },
          "execution_count": 23
        }
      ]
    },
    {
      "cell_type": "markdown",
      "metadata": {
        "id": "-_ByRLZ0j2jM",
        "colab_type": "text"
      },
      "source": [
        "#5.6 Neural Networks: Simple Perceptron"
      ]
    },
    {
      "cell_type": "code",
      "metadata": {
        "id": "TyWVWGzNZROG",
        "colab_type": "code",
        "outputId": "ca4f778a-a60e-4fe8-e133-3ead4d95b2da",
        "colab": {
          "base_uri": "https://localhost:8080/",
          "height": 85
        }
      },
      "source": [
        "#Using a simple perceptron model\n",
        "perceptron = Perceptron(random_state = 0)\n",
        "\n",
        "#Fitting the model in the training data\n",
        "perceptron.fit(X_train_pca, y_train)"
      ],
      "execution_count": 24,
      "outputs": [
        {
          "output_type": "execute_result",
          "data": {
            "text/plain": [
              "Perceptron(alpha=0.0001, class_weight=None, early_stopping=False, eta0=1.0,\n",
              "           fit_intercept=True, max_iter=1000, n_iter_no_change=5, n_jobs=None,\n",
              "           penalty=None, random_state=0, shuffle=True, tol=0.001,\n",
              "           validation_fraction=0.1, verbose=0, warm_start=False)"
            ]
          },
          "metadata": {
            "tags": []
          },
          "execution_count": 24
        }
      ]
    },
    {
      "cell_type": "markdown",
      "metadata": {
        "id": "XXvwTwl-j72G",
        "colab_type": "text"
      },
      "source": [
        "#5.7 Neural Networks: Multi-Layer Perceptron"
      ]
    },
    {
      "cell_type": "code",
      "metadata": {
        "id": "EVzgApSmxjfM",
        "colab_type": "code",
        "outputId": "ef985688-5bd8-4b80-bc86-950edc118031",
        "colab": {
          "base_uri": "https://localhost:8080/",
          "height": 153
        }
      },
      "source": [
        "#Using a multi-layer perceptron\n",
        "MLP_perceptron = MLPClassifier(solver = \"adam\", activation = \"logistic\", random_state = 0)\n",
        "\n",
        "#Fitting the model in the training data\n",
        "MLP_perceptron.fit(X_train_pca, y_train)"
      ],
      "execution_count": 25,
      "outputs": [
        {
          "output_type": "execute_result",
          "data": {
            "text/plain": [
              "MLPClassifier(activation='logistic', alpha=0.0001, batch_size='auto',\n",
              "              beta_1=0.9, beta_2=0.999, early_stopping=False, epsilon=1e-08,\n",
              "              hidden_layer_sizes=(100,), learning_rate='constant',\n",
              "              learning_rate_init=0.001, max_fun=15000, max_iter=200,\n",
              "              momentum=0.9, n_iter_no_change=10, nesterovs_momentum=True,\n",
              "              power_t=0.5, random_state=0, shuffle=True, solver='adam',\n",
              "              tol=0.0001, validation_fraction=0.1, verbose=False,\n",
              "              warm_start=False)"
            ]
          },
          "metadata": {
            "tags": []
          },
          "execution_count": 25
        }
      ]
    },
    {
      "cell_type": "markdown",
      "metadata": {
        "id": "2HuwhzCjDmPp",
        "colab_type": "text"
      },
      "source": [
        "# 6. Results\n"
      ]
    },
    {
      "cell_type": "markdown",
      "metadata": {
        "id": "D_RD4jj3kNX6",
        "colab_type": "text"
      },
      "source": [
        "#6.1 K-Nearest Neighbors"
      ]
    },
    {
      "cell_type": "code",
      "metadata": {
        "id": "hvHQARESyP0k",
        "colab_type": "code",
        "outputId": "2b9f7219-75f4-47fc-bca6-a8f9dfa6ee65",
        "colab": {
          "base_uri": "https://localhost:8080/",
          "height": 323
        }
      },
      "source": [
        "#Get the predictions\n",
        "predictions_k_nearest = k_nearest.predict(X_test_pca)\n",
        "print(\"Predictions: \")\n",
        "print(predictions_k_nearest)\n",
        "print(\"\\n\")\n",
        "\n",
        "#Showing the scores\n",
        "score_k_nearest = k_nearest.score(X_test_pca, y_test)\n",
        "print(\"Accuracy: \")\n",
        "print(score_k_nearest)\n",
        "print(\"\\n\")\n",
        "\n",
        "#Showing the classification report\n",
        "report_k_nearest = classification_report(y_test, predictions_k_nearest)\n",
        "print(\"Classification report: \")\n",
        "print(report_k_nearest)"
      ],
      "execution_count": 26,
      "outputs": [
        {
          "output_type": "stream",
          "text": [
            "Predictions: \n",
            "[0 1 0 ... 0 0 0]\n",
            "\n",
            "\n",
            "Accuracy: \n",
            "0.5698844430469303\n",
            "\n",
            "\n",
            "Classification report: \n",
            "              precision    recall  f1-score   support\n",
            "\n",
            "           0       0.58      0.72      0.64     13716\n",
            "           1       0.55      0.39      0.46     11726\n",
            "\n",
            "    accuracy                           0.57     25442\n",
            "   macro avg       0.56      0.56      0.55     25442\n",
            "weighted avg       0.57      0.57      0.56     25442\n",
            "\n"
          ],
          "name": "stdout"
        }
      ]
    },
    {
      "cell_type": "markdown",
      "metadata": {
        "id": "pimP2gNFoeH_",
        "colab_type": "text"
      },
      "source": [
        "#6.2 Bernoulli Naive Bayes"
      ]
    },
    {
      "cell_type": "code",
      "metadata": {
        "id": "OIZTHRBUv8l-",
        "colab_type": "code",
        "outputId": "1b9d1ba2-9870-4a51-8153-6761fa3774f5",
        "colab": {
          "base_uri": "https://localhost:8080/",
          "height": 323
        }
      },
      "source": [
        "#Get the predictions\n",
        "predictions_naive_bayes_bernoulli = naive_bayes_bernoulli.predict(X_test_pca)\n",
        "print(\"Predictions: \")\n",
        "print(predictions_naive_bayes_bernoulli)\n",
        "print(\"\\n\")\n",
        "\n",
        "#Showing the scores\n",
        "score_naive_bayes_bernoulli = naive_bayes_bernoulli.score(X_test_pca, y_test)\n",
        "print(\"Accuracy\")\n",
        "print(score_naive_bayes_bernoulli)\n",
        "print(\"\\n\")\n",
        "\n",
        "#Showing the classification report\n",
        "report_naive_bayes_bernoulli = classification_report(y_test, predictions_naive_bayes_bernoulli)\n",
        "print(\"Classification report: \")\n",
        "print(report_naive_bayes_bernoulli)"
      ],
      "execution_count": 27,
      "outputs": [
        {
          "output_type": "stream",
          "text": [
            "Predictions: \n",
            "[0 0 0 ... 0 1 0]\n",
            "\n",
            "\n",
            "Accuracy\n",
            "0.5627702224667872\n",
            "\n",
            "\n",
            "Classification report: \n",
            "              precision    recall  f1-score   support\n",
            "\n",
            "           0       0.59      0.63      0.61     13716\n",
            "           1       0.53      0.48      0.50     11726\n",
            "\n",
            "    accuracy                           0.56     25442\n",
            "   macro avg       0.56      0.56      0.56     25442\n",
            "weighted avg       0.56      0.56      0.56     25442\n",
            "\n"
          ],
          "name": "stdout"
        }
      ]
    },
    {
      "cell_type": "markdown",
      "metadata": {
        "id": "JZbPxyHpolfX",
        "colab_type": "text"
      },
      "source": [
        "#6.3 Gaussian Naive Bayes"
      ]
    },
    {
      "cell_type": "code",
      "metadata": {
        "id": "YjdqAOn-ZZsV",
        "colab_type": "code",
        "outputId": "27aebeee-45ca-42c5-ab2c-59edd0a5d043",
        "colab": {
          "base_uri": "https://localhost:8080/",
          "height": 323
        }
      },
      "source": [
        "#Get the predictions\n",
        "predictions_naive_bayes_gaussian = naive_bayes_gaussian.predict(X_test_pca)\n",
        "print(\"Predictions: \")\n",
        "print(predictions_naive_bayes_gaussian)\n",
        "print(\"\\n\")\n",
        "\n",
        "#Showing the scores\n",
        "score_naive_bayes_gaussian = naive_bayes_gaussian.score(X_test_pca, y_test)\n",
        "print(\"Accuracy\")\n",
        "print(score_naive_bayes_gaussian)\n",
        "print(\"\\n\")\n",
        "\n",
        "#Showing the classification report\n",
        "report_naive_bayes_gaussian = classification_report(y_test, predictions_naive_bayes_gaussian)\n",
        "print(\"Classification report: \")\n",
        "print(report_naive_bayes_gaussian)"
      ],
      "execution_count": 28,
      "outputs": [
        {
          "output_type": "stream",
          "text": [
            "Predictions: \n",
            "[0 0 0 ... 0 0 0]\n",
            "\n",
            "\n",
            "Accuracy\n",
            "0.5790032230170584\n",
            "\n",
            "\n",
            "Classification report: \n",
            "              precision    recall  f1-score   support\n",
            "\n",
            "           0       0.58      0.78      0.67     13716\n",
            "           1       0.57      0.34      0.43     11726\n",
            "\n",
            "    accuracy                           0.58     25442\n",
            "   macro avg       0.58      0.56      0.55     25442\n",
            "weighted avg       0.58      0.58      0.56     25442\n",
            "\n"
          ],
          "name": "stdout"
        }
      ]
    },
    {
      "cell_type": "markdown",
      "metadata": {
        "id": "t1pFFUseooPO",
        "colab_type": "text"
      },
      "source": [
        "#6.4 Logistic Regression"
      ]
    },
    {
      "cell_type": "code",
      "metadata": {
        "id": "ky7SwPNCt-fo",
        "colab_type": "code",
        "outputId": "c45fb421-9d0f-42d1-e5db-92da29be6fb3",
        "colab": {
          "base_uri": "https://localhost:8080/",
          "height": 323
        }
      },
      "source": [
        "#Get the predictions\n",
        "predictions_logit = logit.predict(X_test_pca)\n",
        "print(\"Predictions: \")\n",
        "print(predictions_logit)\n",
        "print(\"\\n\")\n",
        "\n",
        "#Showing the scores\n",
        "score_logit = logit.score(X_test_pca, y_test)\n",
        "print(\"Accuracy: \")\n",
        "print(score_logit)\n",
        "print(\"\\n\")\n",
        "\n",
        "#Showing the classification report\n",
        "report_logit = classification_report(y_test, predictions_logit)\n",
        "print(\"Classification report: \")\n",
        "print(report_logit)"
      ],
      "execution_count": 29,
      "outputs": [
        {
          "output_type": "stream",
          "text": [
            "Predictions: \n",
            "[0 0 0 ... 0 0 0]\n",
            "\n",
            "\n",
            "Accuracy: \n",
            "0.5622592563477714\n",
            "\n",
            "\n",
            "Classification report: \n",
            "              precision    recall  f1-score   support\n",
            "\n",
            "           0       0.59      0.62      0.60     13716\n",
            "           1       0.53      0.50      0.51     11726\n",
            "\n",
            "    accuracy                           0.56     25442\n",
            "   macro avg       0.56      0.56      0.56     25442\n",
            "weighted avg       0.56      0.56      0.56     25442\n",
            "\n"
          ],
          "name": "stdout"
        }
      ]
    },
    {
      "cell_type": "markdown",
      "metadata": {
        "id": "lS8IVx8Soqww",
        "colab_type": "text"
      },
      "source": [
        "#6.5 Neural Networks: Simple Perceptron"
      ]
    },
    {
      "cell_type": "code",
      "metadata": {
        "id": "9fF-UVOk1mXJ",
        "colab_type": "code",
        "outputId": "24001909-f31d-4926-fab6-2df38e99a62c",
        "colab": {
          "base_uri": "https://localhost:8080/",
          "height": 323
        }
      },
      "source": [
        "#Get the predictions\n",
        "predictions_perceptron = perceptron.predict(X_test_pca)\n",
        "print(\"Predictions: \")\n",
        "print(predictions_perceptron)\n",
        "print(\"\\n\")\n",
        "\n",
        "#Showing the scores\n",
        "score_perceptron = perceptron.score(X_test_pca, y_test)\n",
        "print(\"Accuracy: \")\n",
        "print(score_perceptron)\n",
        "print(\"\\n\")\n",
        "\n",
        "#Showing the classification report\n",
        "report_perceptron = classification_report(y_test, predictions_perceptron)\n",
        "print(\"Classification report: \")\n",
        "print(report_perceptron)"
      ],
      "execution_count": 30,
      "outputs": [
        {
          "output_type": "stream",
          "text": [
            "Predictions: \n",
            "[1 0 0 ... 0 1 0]\n",
            "\n",
            "\n",
            "Accuracy: \n",
            "0.5257448313811808\n",
            "\n",
            "\n",
            "Classification report: \n",
            "              precision    recall  f1-score   support\n",
            "\n",
            "           0       0.57      0.51      0.54     13716\n",
            "           1       0.49      0.55      0.51     11726\n",
            "\n",
            "    accuracy                           0.53     25442\n",
            "   macro avg       0.53      0.53      0.53     25442\n",
            "weighted avg       0.53      0.53      0.53     25442\n",
            "\n"
          ],
          "name": "stdout"
        }
      ]
    },
    {
      "cell_type": "markdown",
      "metadata": {
        "id": "4xsaAeSHovGP",
        "colab_type": "text"
      },
      "source": [
        "#6.6 Neural Networks: Multi-Layer Perceptron"
      ]
    },
    {
      "cell_type": "code",
      "metadata": {
        "id": "r2JkAPa4fHAF",
        "colab_type": "code",
        "outputId": "fb6f1433-a5d0-4290-ba99-12054718c6c8",
        "colab": {
          "base_uri": "https://localhost:8080/",
          "height": 323
        }
      },
      "source": [
        "#Get the predictions\n",
        "predictions_MLP_perceptron = MLP_perceptron.predict(X_test_pca)\n",
        "print(\"Predictions: \")\n",
        "print(predictions_MLP_perceptron)\n",
        "print(\"\\n\")\n",
        "\n",
        "#Showing the scores\n",
        "score_MLP_perceptron = MLP_perceptron.score(X_test_pca, y_test)\n",
        "print(\"Accuracy: \")\n",
        "print(score_MLP_perceptron)\n",
        "print(\"\\n\")\n",
        "\n",
        "#Showing the classification report\n",
        "report_MLP_perceptron = classification_report(y_test, predictions_MLP_perceptron)\n",
        "print(\"Classification report: \")\n",
        "print(report_MLP_perceptron)"
      ],
      "execution_count": 31,
      "outputs": [
        {
          "output_type": "stream",
          "text": [
            "Predictions: \n",
            "[0 0 0 ... 0 1 0]\n",
            "\n",
            "\n",
            "Accuracy: \n",
            "0.5600974766134738\n",
            "\n",
            "\n",
            "Classification report: \n",
            "              precision    recall  f1-score   support\n",
            "\n",
            "           0       0.57      0.76      0.65     13716\n",
            "           1       0.54      0.33      0.41     11726\n",
            "\n",
            "    accuracy                           0.56     25442\n",
            "   macro avg       0.55      0.54      0.53     25442\n",
            "weighted avg       0.55      0.56      0.54     25442\n",
            "\n"
          ],
          "name": "stdout"
        }
      ]
    }
  ]
}